{
  "cells": [
    {
      "cell_type": "markdown",
      "metadata": {
        "id": "0we9jJ86fiNJ"
      },
      "source": [
        "# system check"
      ]
    },
    {
      "cell_type": "code",
      "execution_count": null,
      "metadata": {
        "colab": {
          "base_uri": "https://localhost:8080/"
        },
        "id": "vJZX_QBGsHZ0",
        "outputId": "6e109e0a-8406-43a5-bb1f-08c69104c662"
      },
      "outputs": [
        {
          "name": "stdout",
          "output_type": "stream",
          "text": [
            "Python 3.11.11\n",
            "2.2.2\n"
          ]
        }
      ],
      "source": [
        "!python --version\n",
        "import torch\n",
        "import pandas\n",
        "print(pandas.__version__)"
      ]
    },
    {
      "cell_type": "code",
      "execution_count": null,
      "metadata": {
        "collapsed": true,
        "id": "Z0JJd6hR7lhA"
      },
      "outputs": [],
      "source": [
        "import datasets"
      ]
    },
    {
      "cell_type": "code",
      "execution_count": null,
      "metadata": {
        "colab": {
          "base_uri": "https://localhost:8080/"
        },
        "id": "0Khqxv1h6SwX",
        "outputId": "756f18f9-0d41-46f0-802c-1407184c9d9e"
      },
      "outputs": [
        {
          "name": "stdout",
          "output_type": "stream",
          "text": [
            "Python 3.10.12\n",
            "2.6.0+cu124\n"
          ]
        }
      ],
      "source": [
        "!python --version\n",
        "import torch\n",
        "print(torch.__version__)"
      ]
    },
    {
      "cell_type": "code",
      "execution_count": null,
      "metadata": {
        "colab": {
          "base_uri": "https://localhost:8080/"
        },
        "id": "_xmaFRKE1pzE",
        "outputId": "54679b7b-f4c8-44da-da85-90c2e29a6776"
      },
      "outputs": [
        {
          "name": "stdout",
          "output_type": "stream",
          "text": [
            "Python 3.10.12\n"
          ]
        }
      ],
      "source": [
        "!python --version"
      ]
    },
    {
      "cell_type": "code",
      "execution_count": null,
      "metadata": {
        "colab": {
          "base_uri": "https://localhost:8080/"
        },
        "id": "W7VLPcfMN07v",
        "outputId": "ee27d253-e602-41e2-eccc-2fe14d58e1a6"
      },
      "outputs": [
        {
          "name": "stdout",
          "output_type": "stream",
          "text": [
            "Filesystem      Size  Used Avail Use% Mounted on\n",
            "overlay         113G   45G   68G  40% /\n",
            "tmpfs            64M     0   64M   0% /dev\n",
            "shm             5.7G     0  5.7G   0% /dev/shm\n",
            "/dev/root       2.0G  1.2G  820M  59% /usr/sbin/docker-init\n",
            "/dev/sda1        92G   63G   30G  68% /opt/bin/.nvidia\n",
            "tmpfs           6.4G   88K  6.4G   1% /var/colab\n",
            "tmpfs           6.4G     0  6.4G   0% /proc/acpi\n",
            "tmpfs           6.4G     0  6.4G   0% /proc/scsi\n",
            "tmpfs           6.4G     0  6.4G   0% /sys/firmware\n"
          ]
        }
      ],
      "source": [
        "!df -h"
      ]
    },
    {
      "cell_type": "code",
      "execution_count": null,
      "metadata": {
        "colab": {
          "base_uri": "https://localhost:8080/"
        },
        "id": "kjDmAYTcO2or",
        "outputId": "9039f76d-02c3-4b3d-f3f9-0e8a4a58da6e"
      },
      "outputs": [
        {
          "name": "stdout",
          "output_type": "stream",
          "text": [
            "NAME    MAJ:MIN RM  SIZE RO TYPE MOUNTPOINTS\n",
            "loop0     7:0    0  110G  0 loop \n",
            "sda       8:0    0   83G  0 disk \n",
            "├─sda1    8:1    0 78.8G  0 part /etc/hosts\n",
            "│                                /etc/hostname\n",
            "│                                /etc/resolv.conf\n",
            "├─sda2    8:2    0   16M  0 part \n",
            "├─sda3    8:3    0    2G  0 part \n",
            "├─sda4    8:4    0   16M  0 part \n",
            "├─sda5    8:5    0    2G  0 part \n",
            "├─sda6    8:6    0  512B  0 part \n",
            "├─sda7    8:7    0  512B  0 part \n",
            "├─sda8    8:8    0   16M  0 part \n",
            "├─sda9    8:9    0  512B  0 part \n",
            "├─sda10   8:10   0  512B  0 part \n",
            "├─sda11   8:11   0    8M  0 part \n",
            "└─sda12   8:12   0   32M  0 part \n"
          ]
        }
      ],
      "source": [
        "!lsblk"
      ]
    },
    {
      "cell_type": "code",
      "execution_count": null,
      "metadata": {
        "colab": {
          "base_uri": "https://localhost:8080/",
          "height": 240
        },
        "collapsed": true,
        "id": "o6a_tUPCPm9y",
        "outputId": "7a2dbfbe-76e1-4c30-a168-cea264d421ce"
      },
      "outputs": [
        {
          "name": "stderr",
          "output_type": "stream",
          "text": [
            "/usr/local/lib/python3.11/dist-packages/huggingface_hub/utils/_auth.py:94: UserWarning: \n",
            "The secret `HF_TOKEN` does not exist in your Colab secrets.\n",
            "To authenticate with the Hugging Face Hub, create a token in your settings tab (https://huggingface.co/settings/tokens), set it as secret in your Google Colab and restart your session.\n",
            "You will be able to reuse this secret in all of your notebooks.\n",
            "Please note that authentication is recommended but still optional to access public models or datasets.\n",
            "  warnings.warn(\n"
          ]
        },
        {
          "data": {
            "application/vnd.jupyter.widget-view+json": {
              "model_id": "d4a0fe5082714bff9c9b51d278bd26e0",
              "version_major": 2,
              "version_minor": 0
            },
            "text/plain": [
              "tokenizer_config.json:   0%|          | 0.00/20.8k [00:00<?, ?B/s]"
            ]
          },
          "metadata": {},
          "output_type": "display_data"
        },
        {
          "data": {
            "application/vnd.jupyter.widget-view+json": {
              "model_id": "1c5fbc88e86847078f5b1da1982c66aa",
              "version_major": 2,
              "version_minor": 0
            },
            "text/plain": [
              "tokenizer.json:   0%|          | 0.00/2.13M [00:00<?, ?B/s]"
            ]
          },
          "metadata": {},
          "output_type": "display_data"
        },
        {
          "data": {
            "application/vnd.jupyter.widget-view+json": {
              "model_id": "409ad1139c1e42b3b9c74a55749d2095",
              "version_major": 2,
              "version_minor": 0
            },
            "text/plain": [
              "special_tokens_map.json:   0%|          | 0.00/694 [00:00<?, ?B/s]"
            ]
          },
          "metadata": {},
          "output_type": "display_data"
        }
      ],
      "source": [
        "from transformers import AutoTokenizer\n",
        "\n",
        "# Model id to load the tokenizer\n",
        "model_id = \"answerdotai/ModernBERT-base\"\n",
        "\n",
        "# Load Tokenizer\n",
        "tokenizer = AutoTokenizer.from_pretrained(model_id)"
      ]
    },
    {
      "cell_type": "code",
      "execution_count": null,
      "metadata": {
        "colab": {
          "base_uri": "https://localhost:8080/"
        },
        "id": "WZl7qjVlDHB1",
        "outputId": "efee4faa-1ac0-4cb3-8d04-db4ffb8c99cf"
      },
      "outputs": [
        {
          "data": {
            "text/plain": [
              "['i', 'Ġam', 'Ġiron', 'Ġman']"
            ]
          },
          "execution_count": 8,
          "metadata": {},
          "output_type": "execute_result"
        }
      ],
      "source": [
        "tokenizer.tokenize('i am iron man')"
      ]
    },
    {
      "cell_type": "code",
      "execution_count": null,
      "metadata": {
        "colab": {
          "base_uri": "https://localhost:8080/"
        },
        "id": "hb0_H0iXP-eS",
        "outputId": "e54c2663-2fa4-40e3-c9dd-185f0daba571"
      },
      "outputs": [
        {
          "name": "stdout",
          "output_type": "stream",
          "text": [
            "8\n"
          ]
        }
      ],
      "source": [
        "print(len(tokenizer.tokenize(\"Hello, I'm a single sentence!\")))"
      ]
    },
    {
      "cell_type": "code",
      "execution_count": null,
      "metadata": {
        "colab": {
          "base_uri": "https://localhost:8080/"
        },
        "id": "Yv5CAnn3SKQ_",
        "outputId": "744fd46f-1b9c-40da-8fc4-7213eec1a7a4"
      },
      "outputs": [
        {
          "name": "stdout",
          "output_type": "stream",
          "text": [
            " sentence\n"
          ]
        }
      ],
      "source": [
        "print(tokenizer.decode(6197))"
      ]
    },
    {
      "cell_type": "code",
      "execution_count": null,
      "metadata": {
        "colab": {
          "base_uri": "https://localhost:8080/"
        },
        "id": "gz-TjvuZQPyJ",
        "outputId": "de0a6af0-769b-4edb-e2ff-a814cc1da5f2"
      },
      "outputs": [
        {
          "data": {
            "text/plain": [
              "['input_ids', 'attention_mask']"
            ]
          },
          "execution_count": 42,
          "metadata": {},
          "output_type": "execute_result"
        }
      ],
      "source": [
        "tokenizer.model_input_names"
      ]
    },
    {
      "cell_type": "code",
      "execution_count": null,
      "metadata": {
        "colab": {
          "base_uri": "https://localhost:8080/"
        },
        "id": "fNCcQbwBHrFv",
        "outputId": "ad648b45-0566-4112-95f3-b28b9015def7"
      },
      "outputs": [
        {
          "name": "stderr",
          "output_type": "stream",
          "text": [
            "Some weights of ModernBertForSequenceClassification were not initialized from the model checkpoint at answerdotai/ModernBERT-base and are newly initialized: ['classifier.bias', 'classifier.weight']\n",
            "You should probably TRAIN this model on a down-stream task to be able to use it for predictions and inference.\n"
          ]
        }
      ],
      "source": [
        "#Not using predefine classes for classification\n",
        "\n",
        "# from transformers import AutoModelForSequenceClassification\n",
        "# model_classifier = AutoModelForSequenceClassification.from_pretrained(model_id)\n",
        "\n",
        "# print(model_classifier)"
      ]
    },
    {
      "cell_type": "markdown",
      "metadata": {
        "id": "rqHLFMEy0ZX9"
      },
      "source": [
        "# temp code"
      ]
    },
    {
      "cell_type": "markdown",
      "metadata": {
        "id": "iIVY5nKuorS6"
      },
      "source": []
    },
    {
      "cell_type": "code",
      "execution_count": null,
      "metadata": {
        "colab": {
          "base_uri": "https://localhost:8080/",
          "height": 146
        },
        "collapsed": true,
        "id": "ZXYoO1Vkhw0d",
        "outputId": "ae11e6ab-4652-445e-fc60-83c24b44eed8"
      },
      "outputs": [
        {
          "data": {
            "text/html": [
              "<div>\n",
              "<style scoped>\n",
              "    .dataframe tbody tr th:only-of-type {\n",
              "        vertical-align: middle;\n",
              "    }\n",
              "\n",
              "    .dataframe tbody tr th {\n",
              "        vertical-align: top;\n",
              "    }\n",
              "\n",
              "    .dataframe thead th {\n",
              "        text-align: right;\n",
              "    }\n",
              "</style>\n",
              "<table border=\"1\" class=\"dataframe\">\n",
              "  <thead>\n",
              "    <tr style=\"text-align: right;\">\n",
              "      <th></th>\n",
              "      <th>text</th>\n",
              "    </tr>\n",
              "  </thead>\n",
              "  <tbody>\n",
              "    <tr>\n",
              "      <th>1876</th>\n",
              "      <td>1339</td>\n",
              "    </tr>\n",
              "    <tr>\n",
              "      <th>5938</th>\n",
              "      <td>1451</td>\n",
              "    </tr>\n",
              "  </tbody>\n",
              "</table>\n",
              "</div><br><label><b>dtype:</b> int64</label>"
            ],
            "text/plain": [
              "1876    1339\n",
              "5938    1451\n",
              "Name: text, dtype: int64"
            ]
          },
          "execution_count": 193,
          "metadata": {},
          "output_type": "execute_result"
        }
      ],
      "source": [
        "df['text'].str.split().str.len().sort_values().tail(2)"
      ]
    },
    {
      "cell_type": "code",
      "execution_count": null,
      "metadata": {
        "id": "BAZlpAqk791N"
      },
      "outputs": [],
      "source": [
        "sentence = df['text'].iloc[1876]"
      ]
    },
    {
      "cell_type": "code",
      "execution_count": null,
      "metadata": {
        "colab": {
          "base_uri": "https://localhost:8080/"
        },
        "id": "Y9bwk4P88Df1",
        "outputId": "0cafa0e3-63dd-46af-9a3d-827b9325f098"
      },
      "outputs": [
        {
          "data": {
            "text/plain": [
              "1536"
            ]
          },
          "execution_count": 198,
          "metadata": {},
          "output_type": "execute_result"
        }
      ],
      "source": [
        "len(tokenizer.tokenize(sentence))"
      ]
    },
    {
      "cell_type": "code",
      "execution_count": null,
      "metadata": {
        "colab": {
          "base_uri": "https://localhost:8080/"
        },
        "id": "-NppgfgT8WQz",
        "outputId": "df89c82a-4291-41cf-80b5-c606f025673f"
      },
      "outputs": [
        {
          "data": {
            "text/plain": [
              "1339"
            ]
          },
          "execution_count": 199,
          "metadata": {},
          "output_type": "execute_result"
        }
      ],
      "source": [
        "len(sentence.split())"
      ]
    },
    {
      "cell_type": "code",
      "execution_count": null,
      "metadata": {
        "id": "n2rRx9lt2zEz"
      },
      "outputs": [],
      "source": [
        "second_longest_sentence = ' '.join(df['text'].iloc[5938].split()[:1200])"
      ]
    },
    {
      "cell_type": "code",
      "execution_count": null,
      "metadata": {
        "colab": {
          "base_uri": "https://localhost:8080/"
        },
        "id": "MFmhvtTm3U-J",
        "outputId": "08a1c29d-e0e5-459b-b7ce-2f7f7e6b8306"
      },
      "outputs": [
        {
          "data": {
            "text/plain": [
              "1200"
            ]
          },
          "execution_count": 158,
          "metadata": {},
          "output_type": "execute_result"
        }
      ],
      "source": [
        "len(second_longest_sentence.split())"
      ]
    },
    {
      "cell_type": "code",
      "execution_count": null,
      "metadata": {
        "colab": {
          "base_uri": "https://localhost:8080/",
          "height": 157
        },
        "id": "UxdAy5493XHh",
        "outputId": "3b7e536d-c153-4bcf-da29-4030a3160cff"
      },
      "outputs": [
        {
          "data": {
            "application/vnd.google.colaboratory.intrinsic+json": {
              "type": "string"
            },
            "text/plain": [
              "\"i am living my life happily and when his negative wants are in my life i don't feel happy i feel sad i don't like feeling sad so not thinking about his negatives until i have to because i like feeling joy happiness and love and want to share that with the children and watching them smile and laugh brings me immense joy and happiness and seeing them grow and learn new things every day fills my heart with love and makes me feel grateful for this beautiful life and the opportunity to be their parent and guide them on their journey and i feel happy knowing that i can provide for them and give them the best possible life and watching them develop their own interests and passions and seeing them pursue their dreams brings me so much joy and happiness and i feel proud to be their parent and to be able to support them in any way that i can and i love seeing them learn and grow and develop their own unique personalities and i feel happy knowing that i can be there for them every step of the way and support them through all of life's ups and downs and i feel grateful for the love and joy that they bring into my life and i want to continue to create happy memories with them and watch them grow and thrive and i feel happy knowing that i can be a positive influence in their lives and help them become the best version of themselves and i feel grateful for the opportunity to be their parent and to be able to share in their joys and sorrows and i feel happy knowing that i can always be there for them and provide them with the love and support that they need and i feel grateful for this beautiful life and the love and joy that it brings me and i want to continue to live my life happily and fill it with joy and love and happiness and i want to share that with the children and watch them grow and thrive and be happy and i feel happy knowing that i can be a part of their journey and help them become the best version of themselves and i feel grateful for the love and joy that they bring into my life and i want to continue to create happy memories with them and watch them grow and develop their own unique personalities and i feel happy knowing that i can be there for them every step of the way and support them through all of life's ups and downs and i feel grateful for the opportunity to be their parent and to be able to share in their joys and sorrows and i feel happy knowing that i can always be there for them and provide them with the love and support that they need and i feel grateful for this beautiful life and the love and joy that it brings me and i want to continue to live my life happily and fill it with joy and love and happiness and i want to share that with the children and watch them grow and thrive and be happy and i feel happy knowing that i can be a part of their journey and help them become the best version of themselves and i feel grateful for the love and joy that they bring into my life and i want to continue to create happy memories with them and watch them grow and develop their own unique personalities and i feel happy knowing that i can be there for them every step of the way and support them through all of life's ups and downs and i feel grateful for the opportunity to be their parent and to be able to share in their joys and sorrows and i feel happy knowing that i can always be there for them and provide them with the love and support that they need and i feel grateful for this beautiful life and the love and joy that it brings me and i want to continue to live my life happily and fill it with joy and love and happiness and i want to share that with the children and watch them grow and thrive and be happy and i feel happy knowing that i can be a part of their journey and help them become the best version of themselves and i feel grateful for the love and joy that they bring into my life and i want to continue to create happy memories with them and watch them grow and develop their own unique personalities and i feel happy knowing that i can be there for them every step of the way and support them through all of life's ups and downs and i feel grateful for the opportunity to be their parent and to be able to share in their joys and sorrows and i feel happy knowing that i can always be there for them and provide them with the love and support that they need and i feel grateful for this beautiful life and the love and joy that it brings me and i want to continue to live my life happily and fill it with joy and love and happiness and i want to share that with the children and watch them grow and thrive and be happy and i feel happy knowing that i can be a part of their journey and help them become the best version of themselves and i feel grateful for the love and joy that they bring into my life and i want to continue to create happy memories with them and watch them grow and develop their own unique personalities and i feel happy knowing that i can be there for them every step of the way and support them through all of life's ups and downs and i feel grateful for the opportunity to be their parent and to be able to share in their joys and sorrows and i feel happy knowing that i can always be there for them and provide them with the love and support that they need and i feel grateful for this beautiful life and the love and joy that it brings me and i want to continue to live my life happily and fill it with joy and love and happiness and i want to share that with the children and watch them grow and thrive and be happy and i feel happy knowing that i can be a part of their journey and help them become the best version of themselves and i feel grateful for the love and joy that they bring into my life and i want to continue to create happy memories with them and watch them grow and develop their own unique personalities and i feel happy knowing that i can be there for them every step of the way and support them through all of life's ups and downs and i feel grateful for the opportunity to be their\""
            ]
          },
          "execution_count": 159,
          "metadata": {},
          "output_type": "execute_result"
        }
      ],
      "source": [
        "second_longest_sentence"
      ]
    },
    {
      "cell_type": "code",
      "execution_count": null,
      "metadata": {
        "id": "1s-5vOPqvDNH"
      },
      "outputs": [],
      "source": [
        "longest_sentence = ' '.join(df['text'].iloc[1876].split()[:1356])"
      ]
    },
    {
      "cell_type": "code",
      "execution_count": null,
      "metadata": {
        "colab": {
          "base_uri": "https://localhost:8080/"
        },
        "id": "09jK8SOmyHTE",
        "outputId": "153fc731-0059-4d82-ebf3-a6e816920623"
      },
      "outputs": [
        {
          "data": {
            "text/plain": [
              "1356"
            ]
          },
          "execution_count": 153,
          "metadata": {},
          "output_type": "execute_result"
        }
      ],
      "source": [
        "len(longest_sentence.split())"
      ]
    },
    {
      "cell_type": "code",
      "execution_count": null,
      "metadata": {
        "colab": {
          "base_uri": "https://localhost:8080/",
          "height": 157
        },
        "id": "5jfrjU0rzO2n",
        "outputId": "53a70c38-9ce7-44c4-ebf5-9d8a5666ca54"
      },
      "outputs": [
        {
          "data": {
            "application/vnd.google.colaboratory.intrinsic+json": {
              "type": "string"
            },
            "text/plain": [
              "'i think it is the right thing for him or her to keep helping the unknowing straight spouse and ill go so far as to say innocent party because that is how many of us feel we went into marriage in love trusting for a lifetime of companionship partnership and family and we end up alone, filled with a deep sense of sadness and regret, but also with a profound appreciation for the love and connection we once shared, and a determination to move forward with our lives, to heal and to find happiness again, to rediscover ourselves and our passions, and to learn to love and trust once more, to find joy in the simple things, to laugh and to smile, to feel the warmth of the sun on our skin and the coolness of the breeze in our hair, to experience the beauty of nature and the kindness of strangers, to feel alive and to live in the present moment, to let go of the past and to look forward to the future with hope and optimism, to find our own path and to walk it with confidence and courage, to be happy and to be free, to be ourselves and to love ourselves, to be surrounded by people who love and accept us for who we are, to feel seen and heard and understood, to be part of a community that supports and uplifts us, to feel a sense of belonging and connection, to know that we are not alone and that we are loved and valued, to feel happy and joyful, to feel like we are walking on air, to feel like we are floating on a cloud, to feel like we are on top of the world, to feel like we are invincible, to feel like we can conquer anything, to feel like we can achieve anything, to feel like we can be anything we want to be, to feel like we can do anything we set our minds to, to feel like we are unstoppable, to feel like we are unbreakable, to feel like we are unbeatable, to feel like we are the best version of ourselves, to feel like we are living our best lives, to feel like we are truly alive, to feel like we are experiencing the fullness of life, to feel like we are drinking from the fountain of youth, to feel like we are basking in the warmth of happiness, to feel like we are surrounded by joy, to feel like we are swimming in a sea of happiness, to feel like we are floating on a wave of joy, to feel like we are riding the tide of happiness, to feel like we are dancing on the beach of joy, to feel like we are singing in the choir of happiness, to feel like we are playing in the orchestra of joy, to feel like we are part of a grand symphony of happiness, to feel like we are living in a world of pure joy, to feel like we are experiencing the ultimate happiness, to feel like we are on cloud nine, to feel like we are in a state of pure bliss, to feel like we are in a state of pure ecstasy, to feel like we are in a state of pure nirvana, to feel like we are in a state of pure happiness, to feel like we are in a state of pure joy, to feel like we are in a state of pure elation, to feel like we are in a state of pure euphoria, to feel like we are in a state of pure rapture, to feel like we are in a state of pure delight, to feel like we are in a state of pure pleasure, to feel like we are in a state of pure satisfaction, to feel like we are in a state of pure contentment, to feel like we are in a state of pure happiness, to feel like we are in a state of pure joy, to feel like we are in a state of pure bliss, to feel like we are in a state of pure ecstasy, to feel like we are in a state of pure nirvana, to feel like we are in a state of pure happiness, to feel like we are in a state of pure joy, to feel like we are in a state of pure elation, to feel like we are in a state of pure euphoria, to feel like we are in a state of pure rapture, to feel like we are in a state of pure delight, to feel like we are in a state of pure pleasure, to feel like we are in a state of pure satisfaction, to feel like we are in a state of pure contentment, to feel like we are in a state of pure happiness, to feel like we are in a state of pure joy, to feel like we are in a state of pure bliss, to feel like we are in a state of pure ecstasy, to feel like we are in a state of pure nirvana, to feel like we are in a state of pure happiness, to feel like we are in a state of pure joy, to feel like we are in a state of pure elation, to feel like we are in a state of pure euphoria, to feel like we are in a state of pure rapture, to feel like we are in a state of pure delight, to feel like we are in a state of pure pleasure, to feel like we are in a state of pure satisfaction, to feel like we are in a state of pure contentment, to feel like we are in a state of pure happiness, to feel like we are in a state of pure joy, to feel like we are in a state of pure bliss, to feel like we are in a state of pure ecstasy, to feel like we are in a state of pure nirvana, to feel like we are in a state of pure happiness, to feel like we are in a state of pure joy, to feel like we are in a state of pure elation, to feel like we are in a state of pure euphoria, to feel like we are in a state of pure rapture, to feel like we are in a state of pure delight, to feel like we are in a state of pure pleasure, to feel like we are in a state of pure satisfaction, to feel like we are in a state of pure contentment, to feel like we are in a state of pure happiness, to feel like we are in a state of pure joy, to feel like we are in a state of pure bliss, to feel like we are in a state of pure ecstasy, to feel like we are in a state of pure nirvana, to feel like we are in a state of pure happiness, to feel like we are in a state of pure joy, to feel like we are in a state of pure elation, to feel like we are in a state of pure euphoria, to feel like we are in a state of pure rapture, to feel like we are in a state of pure delight, to feel like we are in a state of pure pleasure, to feel like we are in a state of pure satisfaction, to feel like we are in a state of pure contentment, to feel like we are in a state of pure happiness, to feel like we are in a state of pure joy, to feel like we are in a state of pure bliss, to feel like we are in a state of pure ecstasy, to feel like we are in a state of pure nirvana, to feel like we are in a state of pure happiness, to feel like we are in a state of pure joy, to feel like we are in'"
            ]
          },
          "execution_count": 154,
          "metadata": {},
          "output_type": "execute_result"
        }
      ],
      "source": [
        "longest_sentence"
      ]
    },
    {
      "cell_type": "code",
      "execution_count": null,
      "metadata": {
        "id": "6dyl8EJpv0vy"
      },
      "outputs": [],
      "source": [
        "second_longest_sentence = df['text'].iloc[2530]\n"
      ]
    },
    {
      "cell_type": "code",
      "execution_count": null,
      "metadata": {
        "colab": {
          "base_uri": "https://localhost:8080/"
        },
        "id": "JzdfOod1v7cS",
        "outputId": "708a4ef8-9646-45e1-a774-c6f53631b2d8"
      },
      "outputs": [
        {
          "data": {
            "text/plain": [
              "6585"
            ]
          },
          "execution_count": 149,
          "metadata": {},
          "output_type": "execute_result"
        }
      ],
      "source": [
        "len(second_longest_sentence.split())"
      ]
    },
    {
      "cell_type": "code",
      "execution_count": null,
      "metadata": {
        "colab": {
          "base_uri": "https://localhost:8080/"
        },
        "id": "cgEaRv1zvVhE",
        "outputId": "8b07ff0f-56f1-45da-a3b8-9e402e82add6"
      },
      "outputs": [
        {
          "name": "stdout",
          "output_type": "stream",
          "text": [
            "8077\n"
          ]
        }
      ],
      "source": [
        "print(len(tokenizer.tokenize(longest_sentence)))"
      ]
    },
    {
      "cell_type": "code",
      "execution_count": null,
      "metadata": {
        "colab": {
          "base_uri": "https://localhost:8080/"
        },
        "id": "vw2GYUI0wDP6",
        "outputId": "91e46329-3f5a-47ee-8a62-5e259ea700a8"
      },
      "outputs": [
        {
          "name": "stdout",
          "output_type": "stream",
          "text": [
            "6691\n"
          ]
        }
      ],
      "source": [
        "print(len(tokenizer.tokenize(second_longest_sentence)))"
      ]
    },
    {
      "cell_type": "code",
      "execution_count": null,
      "metadata": {
        "colab": {
          "base_uri": "https://localhost:8080/"
        },
        "id": "pjk7mFhAylyv",
        "outputId": "a275f1ff-b183-4fff-c940-204086055c48"
      },
      "outputs": [
        {
          "data": {
            "text/plain": [
              "False"
            ]
          },
          "execution_count": 105,
          "metadata": {},
          "output_type": "execute_result"
        }
      ],
      "source": [
        "df['text'].iloc[1876] == \"a\""
      ]
    },
    {
      "cell_type": "markdown",
      "metadata": {
        "id": "1dSxIrGca7ZF"
      },
      "source": [
        "#  data loading"
      ]
    },
    {
      "cell_type": "code",
      "execution_count": null,
      "metadata": {
        "colab": {
          "base_uri": "https://localhost:8080/"
        },
        "collapsed": true,
        "id": "9yvmi81eOhHf",
        "outputId": "496281d1-9eb2-4f4e-920d-7d322edb2dbd"
      },
      "outputs": [
        {
          "name": "stdout",
          "output_type": "stream",
          "text": [
            "Collecting datasets\n",
            "  Downloading datasets-3.5.0-py3-none-any.whl.metadata (19 kB)\n",
            "Requirement already satisfied: filelock in /usr/local/lib/python3.11/dist-packages (from datasets) (3.18.0)\n",
            "Requirement already satisfied: numpy>=1.17 in /usr/local/lib/python3.11/dist-packages (from datasets) (2.0.2)\n",
            "Requirement already satisfied: pyarrow>=15.0.0 in /usr/local/lib/python3.11/dist-packages (from datasets) (18.1.0)\n",
            "Collecting dill<0.3.9,>=0.3.0 (from datasets)\n",
            "  Downloading dill-0.3.8-py3-none-any.whl.metadata (10 kB)\n",
            "Requirement already satisfied: pandas in /usr/local/lib/python3.11/dist-packages (from datasets) (2.2.2)\n",
            "Requirement already satisfied: requests>=2.32.2 in /usr/local/lib/python3.11/dist-packages (from datasets) (2.32.3)\n",
            "Requirement already satisfied: tqdm>=4.66.3 in /usr/local/lib/python3.11/dist-packages (from datasets) (4.67.1)\n",
            "Collecting xxhash (from datasets)\n",
            "  Downloading xxhash-3.5.0-cp311-cp311-manylinux_2_17_x86_64.manylinux2014_x86_64.whl.metadata (12 kB)\n",
            "Collecting multiprocess<0.70.17 (from datasets)\n",
            "  Downloading multiprocess-0.70.16-py311-none-any.whl.metadata (7.2 kB)\n",
            "Collecting fsspec<=2024.12.0,>=2023.1.0 (from fsspec[http]<=2024.12.0,>=2023.1.0->datasets)\n",
            "  Downloading fsspec-2024.12.0-py3-none-any.whl.metadata (11 kB)\n",
            "Requirement already satisfied: aiohttp in /usr/local/lib/python3.11/dist-packages (from datasets) (3.11.14)\n",
            "Requirement already satisfied: huggingface-hub>=0.24.0 in /usr/local/lib/python3.11/dist-packages (from datasets) (0.29.3)\n",
            "Requirement already satisfied: packaging in /usr/local/lib/python3.11/dist-packages (from datasets) (24.2)\n",
            "Requirement already satisfied: pyyaml>=5.1 in /usr/local/lib/python3.11/dist-packages (from datasets) (6.0.2)\n",
            "Requirement already satisfied: aiohappyeyeballs>=2.3.0 in /usr/local/lib/python3.11/dist-packages (from aiohttp->datasets) (2.6.1)\n",
            "Requirement already satisfied: aiosignal>=1.1.2 in /usr/local/lib/python3.11/dist-packages (from aiohttp->datasets) (1.3.2)\n",
            "Requirement already satisfied: attrs>=17.3.0 in /usr/local/lib/python3.11/dist-packages (from aiohttp->datasets) (25.3.0)\n",
            "Requirement already satisfied: frozenlist>=1.1.1 in /usr/local/lib/python3.11/dist-packages (from aiohttp->datasets) (1.5.0)\n",
            "Requirement already satisfied: multidict<7.0,>=4.5 in /usr/local/lib/python3.11/dist-packages (from aiohttp->datasets) (6.2.0)\n",
            "Requirement already satisfied: propcache>=0.2.0 in /usr/local/lib/python3.11/dist-packages (from aiohttp->datasets) (0.3.0)\n",
            "Requirement already satisfied: yarl<2.0,>=1.17.0 in /usr/local/lib/python3.11/dist-packages (from aiohttp->datasets) (1.18.3)\n",
            "Requirement already satisfied: typing-extensions>=3.7.4.3 in /usr/local/lib/python3.11/dist-packages (from huggingface-hub>=0.24.0->datasets) (4.12.2)\n",
            "Requirement already satisfied: charset-normalizer<4,>=2 in /usr/local/lib/python3.11/dist-packages (from requests>=2.32.2->datasets) (3.4.1)\n",
            "Requirement already satisfied: idna<4,>=2.5 in /usr/local/lib/python3.11/dist-packages (from requests>=2.32.2->datasets) (3.10)\n",
            "Requirement already satisfied: urllib3<3,>=1.21.1 in /usr/local/lib/python3.11/dist-packages (from requests>=2.32.2->datasets) (2.3.0)\n",
            "Requirement already satisfied: certifi>=2017.4.17 in /usr/local/lib/python3.11/dist-packages (from requests>=2.32.2->datasets) (2025.1.31)\n",
            "Requirement already satisfied: python-dateutil>=2.8.2 in /usr/local/lib/python3.11/dist-packages (from pandas->datasets) (2.8.2)\n",
            "Requirement already satisfied: pytz>=2020.1 in /usr/local/lib/python3.11/dist-packages (from pandas->datasets) (2025.1)\n",
            "Requirement already satisfied: tzdata>=2022.7 in /usr/local/lib/python3.11/dist-packages (from pandas->datasets) (2025.1)\n",
            "Requirement already satisfied: six>=1.5 in /usr/local/lib/python3.11/dist-packages (from python-dateutil>=2.8.2->pandas->datasets) (1.17.0)\n",
            "Downloading datasets-3.5.0-py3-none-any.whl (491 kB)\n",
            "\u001b[2K   \u001b[90m━━━━━━━━━━━━━━━━━━━━━━━━━━━━━━━━━━━━━━━━\u001b[0m \u001b[32m491.2/491.2 kB\u001b[0m \u001b[31m10.1 MB/s\u001b[0m eta \u001b[36m0:00:00\u001b[0m\n",
            "\u001b[?25hDownloading dill-0.3.8-py3-none-any.whl (116 kB)\n",
            "\u001b[2K   \u001b[90m━━━━━━━━━━━━━━━━━━━━━━━━━━━━━━━━━━━━━━━━\u001b[0m \u001b[32m116.3/116.3 kB\u001b[0m \u001b[31m12.5 MB/s\u001b[0m eta \u001b[36m0:00:00\u001b[0m\n",
            "\u001b[?25hDownloading fsspec-2024.12.0-py3-none-any.whl (183 kB)\n",
            "\u001b[2K   \u001b[90m━━━━━━━━━━━━━━━━━━━━━━━━━━━━━━━━━━━━━━━━\u001b[0m \u001b[32m183.9/183.9 kB\u001b[0m \u001b[31m15.7 MB/s\u001b[0m eta \u001b[36m0:00:00\u001b[0m\n",
            "\u001b[?25hDownloading multiprocess-0.70.16-py311-none-any.whl (143 kB)\n",
            "\u001b[2K   \u001b[90m━━━━━━━━━━━━━━━━━━━━━━━━━━━━━━━━━━━━━━━━\u001b[0m \u001b[32m143.5/143.5 kB\u001b[0m \u001b[31m11.6 MB/s\u001b[0m eta \u001b[36m0:00:00\u001b[0m\n",
            "\u001b[?25hDownloading xxhash-3.5.0-cp311-cp311-manylinux_2_17_x86_64.manylinux2014_x86_64.whl (194 kB)\n",
            "\u001b[2K   \u001b[90m━━━━━━━━━━━━━━━━━━━━━━━━━━━━━━━━━━━━━━━━\u001b[0m \u001b[32m194.8/194.8 kB\u001b[0m \u001b[31m18.0 MB/s\u001b[0m eta \u001b[36m0:00:00\u001b[0m\n",
            "\u001b[?25hInstalling collected packages: xxhash, fsspec, dill, multiprocess, datasets\n",
            "  Attempting uninstall: fsspec\n",
            "    Found existing installation: fsspec 2025.3.0\n",
            "    Uninstalling fsspec-2025.3.0:\n",
            "      Successfully uninstalled fsspec-2025.3.0\n",
            "\u001b[31mERROR: pip's dependency resolver does not currently take into account all the packages that are installed. This behaviour is the source of the following dependency conflicts.\n",
            "torch 2.6.0+cu124 requires nvidia-cublas-cu12==12.4.5.8; platform_system == \"Linux\" and platform_machine == \"x86_64\", but you have nvidia-cublas-cu12 12.5.3.2 which is incompatible.\n",
            "torch 2.6.0+cu124 requires nvidia-cuda-cupti-cu12==12.4.127; platform_system == \"Linux\" and platform_machine == \"x86_64\", but you have nvidia-cuda-cupti-cu12 12.5.82 which is incompatible.\n",
            "torch 2.6.0+cu124 requires nvidia-cuda-nvrtc-cu12==12.4.127; platform_system == \"Linux\" and platform_machine == \"x86_64\", but you have nvidia-cuda-nvrtc-cu12 12.5.82 which is incompatible.\n",
            "torch 2.6.0+cu124 requires nvidia-cuda-runtime-cu12==12.4.127; platform_system == \"Linux\" and platform_machine == \"x86_64\", but you have nvidia-cuda-runtime-cu12 12.5.82 which is incompatible.\n",
            "torch 2.6.0+cu124 requires nvidia-cudnn-cu12==9.1.0.70; platform_system == \"Linux\" and platform_machine == \"x86_64\", but you have nvidia-cudnn-cu12 9.3.0.75 which is incompatible.\n",
            "torch 2.6.0+cu124 requires nvidia-cufft-cu12==11.2.1.3; platform_system == \"Linux\" and platform_machine == \"x86_64\", but you have nvidia-cufft-cu12 11.2.3.61 which is incompatible.\n",
            "torch 2.6.0+cu124 requires nvidia-curand-cu12==10.3.5.147; platform_system == \"Linux\" and platform_machine == \"x86_64\", but you have nvidia-curand-cu12 10.3.6.82 which is incompatible.\n",
            "torch 2.6.0+cu124 requires nvidia-cusolver-cu12==11.6.1.9; platform_system == \"Linux\" and platform_machine == \"x86_64\", but you have nvidia-cusolver-cu12 11.6.3.83 which is incompatible.\n",
            "torch 2.6.0+cu124 requires nvidia-cusparse-cu12==12.3.1.170; platform_system == \"Linux\" and platform_machine == \"x86_64\", but you have nvidia-cusparse-cu12 12.5.1.3 which is incompatible.\n",
            "torch 2.6.0+cu124 requires nvidia-nvjitlink-cu12==12.4.127; platform_system == \"Linux\" and platform_machine == \"x86_64\", but you have nvidia-nvjitlink-cu12 12.5.82 which is incompatible.\n",
            "gcsfs 2025.3.0 requires fsspec==2025.3.0, but you have fsspec 2024.12.0 which is incompatible.\u001b[0m\u001b[31m\n",
            "\u001b[0mSuccessfully installed datasets-3.5.0 dill-0.3.8 fsspec-2024.12.0 multiprocess-0.70.16 xxhash-3.5.0\n"
          ]
        }
      ],
      "source": [
        "!pip install datasets"
      ]
    },
    {
      "cell_type": "code",
      "execution_count": null,
      "metadata": {
        "colab": {
          "base_uri": "https://localhost:8080/"
        },
        "id": "GYKut0JL9D7I",
        "outputId": "13825040-12b9-42ce-db18-b86225bf1992"
      },
      "outputs": [
        {
          "name": "stdout",
          "output_type": "stream",
          "text": [
            "2.6.0+cu124\n"
          ]
        }
      ],
      "source": [
        "import torch\n",
        "# import torchvision\n",
        "print(torch.__version__)\n",
        "# print(torchvision.__version__)"
      ]
    },
    {
      "cell_type": "code",
      "execution_count": null,
      "metadata": {
        "id": "Qpeid6vfOZ40"
      },
      "outputs": [],
      "source": [
        "import torch\n",
        "import torch.nn as nn\n",
        "import torch.optim as optim\n",
        "import numpy as np\n",
        "from datasets import load_dataset\n",
        "from transformers import AutoTokenizer,ModernBertModel\n",
        "from torch.utils.data import DataLoader, Dataset\n",
        "from sklearn.model_selection import train_test_split\n",
        "from sklearn.metrics import accuracy_score, precision_score, recall_score, f1_score, confusion_matrix\n",
        "import numpy as np\n",
        "import pandas as pd\n",
        "from tqdm import tqdm\n",
        "from sklearn.preprocessing import LabelEncoder\n",
        "import torch.nn.functional as F\n",
        "# from google.colab import drive\n",
        "# drive.mount('/content/drive')"
      ]
    },
    {
      "cell_type": "code",
      "execution_count": null,
      "metadata": {
        "colab": {
          "base_uri": "https://localhost:8080/",
          "height": 424
        },
        "id": "2hIFZUTr1vyK",
        "outputId": "c58a3902-44a0-433d-ecce-81b807898b17"
      },
      "outputs": [
        {
          "data": {
            "application/vnd.google.colaboratory.intrinsic+json": {
              "summary": "{\n  \"name\": \"df\",\n  \"rows\": 14961,\n  \"fields\": [\n    {\n      \"column\": \"text\",\n      \"properties\": {\n        \"dtype\": \"string\",\n        \"num_unique_values\": 14957,\n        \"samples\": [\n          \"id break down my question like this if the bunch of us feels dissatisfied with the current state of uu theology would we read a new crop of publications specialized blogs online magazines new periodicals books\",\n          \"i come to the floor to feel more submissive\",\n          \"The murder rate in Venezuela has skyrocketed under Miles and Miles. It's probably best to leave.\"\n        ],\n        \"semantic_type\": \"\",\n        \"description\": \"\"\n      }\n    },\n    {\n      \"column\": \"label\",\n      \"properties\": {\n        \"dtype\": \"category\",\n        \"num_unique_values\": 6,\n        \"samples\": [\n          \"Abusive\",\n          \"Anger\",\n          \"Sad\"\n        ],\n        \"semantic_type\": \"\",\n        \"description\": \"\"\n      }\n    }\n  ]\n}",
              "type": "dataframe",
              "variable_name": "df"
            },
            "text/html": [
              "\n",
              "  <div id=\"df-851b1140-49d1-431f-915c-1f917bb7ffdd\" class=\"colab-df-container\">\n",
              "    <div>\n",
              "<style scoped>\n",
              "    .dataframe tbody tr th:only-of-type {\n",
              "        vertical-align: middle;\n",
              "    }\n",
              "\n",
              "    .dataframe tbody tr th {\n",
              "        vertical-align: top;\n",
              "    }\n",
              "\n",
              "    .dataframe thead th {\n",
              "        text-align: right;\n",
              "    }\n",
              "</style>\n",
              "<table border=\"1\" class=\"dataframe\">\n",
              "  <thead>\n",
              "    <tr style=\"text-align: right;\">\n",
              "      <th></th>\n",
              "      <th>text</th>\n",
              "      <th>label</th>\n",
              "    </tr>\n",
              "  </thead>\n",
              "  <tbody>\n",
              "    <tr>\n",
              "      <th>0</th>\n",
              "      <td>bitch ass</td>\n",
              "      <td>Abusive</td>\n",
              "    </tr>\n",
              "    <tr>\n",
              "      <th>1</th>\n",
              "      <td>fuck you</td>\n",
              "      <td>Abusive</td>\n",
              "    </tr>\n",
              "    <tr>\n",
              "      <th>2</th>\n",
              "      <td>piss off</td>\n",
              "      <td>Abusive</td>\n",
              "    </tr>\n",
              "    <tr>\n",
              "      <th>3</th>\n",
              "      <td>Fuck you</td>\n",
              "      <td>Abusive</td>\n",
              "    </tr>\n",
              "    <tr>\n",
              "      <th>4</th>\n",
              "      <td>SUCK IT</td>\n",
              "      <td>Abusive</td>\n",
              "    </tr>\n",
              "    <tr>\n",
              "      <th>...</th>\n",
              "      <td>...</td>\n",
              "      <td>...</td>\n",
              "    </tr>\n",
              "    <tr>\n",
              "      <th>14956</th>\n",
              "      <td>i feel so exhausted from dealing with drama be...</td>\n",
              "      <td>Sad</td>\n",
              "    </tr>\n",
              "    <tr>\n",
              "      <th>14957</th>\n",
              "      <td>i am an unmarried woman and it is difficult to...</td>\n",
              "      <td>Sad</td>\n",
              "    </tr>\n",
              "    <tr>\n",
              "      <th>14958</th>\n",
              "      <td>i am feeling a bit dismayed despite the fact t...</td>\n",
              "      <td>Sad</td>\n",
              "    </tr>\n",
              "    <tr>\n",
              "      <th>14959</th>\n",
              "      <td>i feel like the disadvantages out weigh the ad...</td>\n",
              "      <td>Sad</td>\n",
              "    </tr>\n",
              "    <tr>\n",
              "      <th>14960</th>\n",
              "      <td>i feel crappy about any decision i try to make</td>\n",
              "      <td>Sad</td>\n",
              "    </tr>\n",
              "  </tbody>\n",
              "</table>\n",
              "<p>14961 rows × 2 columns</p>\n",
              "</div>\n",
              "    <div class=\"colab-df-buttons\">\n",
              "\n",
              "  <div class=\"colab-df-container\">\n",
              "    <button class=\"colab-df-convert\" onclick=\"convertToInteractive('df-851b1140-49d1-431f-915c-1f917bb7ffdd')\"\n",
              "            title=\"Convert this dataframe to an interactive table.\"\n",
              "            style=\"display:none;\">\n",
              "\n",
              "  <svg xmlns=\"http://www.w3.org/2000/svg\" height=\"24px\" viewBox=\"0 -960 960 960\">\n",
              "    <path d=\"M120-120v-720h720v720H120Zm60-500h600v-160H180v160Zm220 220h160v-160H400v160Zm0 220h160v-160H400v160ZM180-400h160v-160H180v160Zm440 0h160v-160H620v160ZM180-180h160v-160H180v160Zm440 0h160v-160H620v160Z\"/>\n",
              "  </svg>\n",
              "    </button>\n",
              "\n",
              "  <style>\n",
              "    .colab-df-container {\n",
              "      display:flex;\n",
              "      gap: 12px;\n",
              "    }\n",
              "\n",
              "    .colab-df-convert {\n",
              "      background-color: #E8F0FE;\n",
              "      border: none;\n",
              "      border-radius: 50%;\n",
              "      cursor: pointer;\n",
              "      display: none;\n",
              "      fill: #1967D2;\n",
              "      height: 32px;\n",
              "      padding: 0 0 0 0;\n",
              "      width: 32px;\n",
              "    }\n",
              "\n",
              "    .colab-df-convert:hover {\n",
              "      background-color: #E2EBFA;\n",
              "      box-shadow: 0px 1px 2px rgba(60, 64, 67, 0.3), 0px 1px 3px 1px rgba(60, 64, 67, 0.15);\n",
              "      fill: #174EA6;\n",
              "    }\n",
              "\n",
              "    .colab-df-buttons div {\n",
              "      margin-bottom: 4px;\n",
              "    }\n",
              "\n",
              "    [theme=dark] .colab-df-convert {\n",
              "      background-color: #3B4455;\n",
              "      fill: #D2E3FC;\n",
              "    }\n",
              "\n",
              "    [theme=dark] .colab-df-convert:hover {\n",
              "      background-color: #434B5C;\n",
              "      box-shadow: 0px 1px 3px 1px rgba(0, 0, 0, 0.15);\n",
              "      filter: drop-shadow(0px 1px 2px rgba(0, 0, 0, 0.3));\n",
              "      fill: #FFFFFF;\n",
              "    }\n",
              "  </style>\n",
              "\n",
              "    <script>\n",
              "      const buttonEl =\n",
              "        document.querySelector('#df-851b1140-49d1-431f-915c-1f917bb7ffdd button.colab-df-convert');\n",
              "      buttonEl.style.display =\n",
              "        google.colab.kernel.accessAllowed ? 'block' : 'none';\n",
              "\n",
              "      async function convertToInteractive(key) {\n",
              "        const element = document.querySelector('#df-851b1140-49d1-431f-915c-1f917bb7ffdd');\n",
              "        const dataTable =\n",
              "          await google.colab.kernel.invokeFunction('convertToInteractive',\n",
              "                                                    [key], {});\n",
              "        if (!dataTable) return;\n",
              "\n",
              "        const docLinkHtml = 'Like what you see? Visit the ' +\n",
              "          '<a target=\"_blank\" href=https://colab.research.google.com/notebooks/data_table.ipynb>data table notebook</a>'\n",
              "          + ' to learn more about interactive tables.';\n",
              "        element.innerHTML = '';\n",
              "        dataTable['output_type'] = 'display_data';\n",
              "        await google.colab.output.renderOutput(dataTable, element);\n",
              "        const docLink = document.createElement('div');\n",
              "        docLink.innerHTML = docLinkHtml;\n",
              "        element.appendChild(docLink);\n",
              "      }\n",
              "    </script>\n",
              "  </div>\n",
              "\n",
              "\n",
              "<div id=\"df-fbab60e8-d8e2-4c00-a82f-b1a37c03531a\">\n",
              "  <button class=\"colab-df-quickchart\" onclick=\"quickchart('df-fbab60e8-d8e2-4c00-a82f-b1a37c03531a')\"\n",
              "            title=\"Suggest charts\"\n",
              "            style=\"display:none;\">\n",
              "\n",
              "<svg xmlns=\"http://www.w3.org/2000/svg\" height=\"24px\"viewBox=\"0 0 24 24\"\n",
              "     width=\"24px\">\n",
              "    <g>\n",
              "        <path d=\"M19 3H5c-1.1 0-2 .9-2 2v14c0 1.1.9 2 2 2h14c1.1 0 2-.9 2-2V5c0-1.1-.9-2-2-2zM9 17H7v-7h2v7zm4 0h-2V7h2v10zm4 0h-2v-4h2v4z\"/>\n",
              "    </g>\n",
              "</svg>\n",
              "  </button>\n",
              "\n",
              "<style>\n",
              "  .colab-df-quickchart {\n",
              "      --bg-color: #E8F0FE;\n",
              "      --fill-color: #1967D2;\n",
              "      --hover-bg-color: #E2EBFA;\n",
              "      --hover-fill-color: #174EA6;\n",
              "      --disabled-fill-color: #AAA;\n",
              "      --disabled-bg-color: #DDD;\n",
              "  }\n",
              "\n",
              "  [theme=dark] .colab-df-quickchart {\n",
              "      --bg-color: #3B4455;\n",
              "      --fill-color: #D2E3FC;\n",
              "      --hover-bg-color: #434B5C;\n",
              "      --hover-fill-color: #FFFFFF;\n",
              "      --disabled-bg-color: #3B4455;\n",
              "      --disabled-fill-color: #666;\n",
              "  }\n",
              "\n",
              "  .colab-df-quickchart {\n",
              "    background-color: var(--bg-color);\n",
              "    border: none;\n",
              "    border-radius: 50%;\n",
              "    cursor: pointer;\n",
              "    display: none;\n",
              "    fill: var(--fill-color);\n",
              "    height: 32px;\n",
              "    padding: 0;\n",
              "    width: 32px;\n",
              "  }\n",
              "\n",
              "  .colab-df-quickchart:hover {\n",
              "    background-color: var(--hover-bg-color);\n",
              "    box-shadow: 0 1px 2px rgba(60, 64, 67, 0.3), 0 1px 3px 1px rgba(60, 64, 67, 0.15);\n",
              "    fill: var(--button-hover-fill-color);\n",
              "  }\n",
              "\n",
              "  .colab-df-quickchart-complete:disabled,\n",
              "  .colab-df-quickchart-complete:disabled:hover {\n",
              "    background-color: var(--disabled-bg-color);\n",
              "    fill: var(--disabled-fill-color);\n",
              "    box-shadow: none;\n",
              "  }\n",
              "\n",
              "  .colab-df-spinner {\n",
              "    border: 2px solid var(--fill-color);\n",
              "    border-color: transparent;\n",
              "    border-bottom-color: var(--fill-color);\n",
              "    animation:\n",
              "      spin 1s steps(1) infinite;\n",
              "  }\n",
              "\n",
              "  @keyframes spin {\n",
              "    0% {\n",
              "      border-color: transparent;\n",
              "      border-bottom-color: var(--fill-color);\n",
              "      border-left-color: var(--fill-color);\n",
              "    }\n",
              "    20% {\n",
              "      border-color: transparent;\n",
              "      border-left-color: var(--fill-color);\n",
              "      border-top-color: var(--fill-color);\n",
              "    }\n",
              "    30% {\n",
              "      border-color: transparent;\n",
              "      border-left-color: var(--fill-color);\n",
              "      border-top-color: var(--fill-color);\n",
              "      border-right-color: var(--fill-color);\n",
              "    }\n",
              "    40% {\n",
              "      border-color: transparent;\n",
              "      border-right-color: var(--fill-color);\n",
              "      border-top-color: var(--fill-color);\n",
              "    }\n",
              "    60% {\n",
              "      border-color: transparent;\n",
              "      border-right-color: var(--fill-color);\n",
              "    }\n",
              "    80% {\n",
              "      border-color: transparent;\n",
              "      border-right-color: var(--fill-color);\n",
              "      border-bottom-color: var(--fill-color);\n",
              "    }\n",
              "    90% {\n",
              "      border-color: transparent;\n",
              "      border-bottom-color: var(--fill-color);\n",
              "    }\n",
              "  }\n",
              "</style>\n",
              "\n",
              "  <script>\n",
              "    async function quickchart(key) {\n",
              "      const quickchartButtonEl =\n",
              "        document.querySelector('#' + key + ' button');\n",
              "      quickchartButtonEl.disabled = true;  // To prevent multiple clicks.\n",
              "      quickchartButtonEl.classList.add('colab-df-spinner');\n",
              "      try {\n",
              "        const charts = await google.colab.kernel.invokeFunction(\n",
              "            'suggestCharts', [key], {});\n",
              "      } catch (error) {\n",
              "        console.error('Error during call to suggestCharts:', error);\n",
              "      }\n",
              "      quickchartButtonEl.classList.remove('colab-df-spinner');\n",
              "      quickchartButtonEl.classList.add('colab-df-quickchart-complete');\n",
              "    }\n",
              "    (() => {\n",
              "      let quickchartButtonEl =\n",
              "        document.querySelector('#df-fbab60e8-d8e2-4c00-a82f-b1a37c03531a button');\n",
              "      quickchartButtonEl.style.display =\n",
              "        google.colab.kernel.accessAllowed ? 'block' : 'none';\n",
              "    })();\n",
              "  </script>\n",
              "</div>\n",
              "\n",
              "  <div id=\"id_c10c020e-c125-4d35-b49d-84b59a0cbe9a\">\n",
              "    <style>\n",
              "      .colab-df-generate {\n",
              "        background-color: #E8F0FE;\n",
              "        border: none;\n",
              "        border-radius: 50%;\n",
              "        cursor: pointer;\n",
              "        display: none;\n",
              "        fill: #1967D2;\n",
              "        height: 32px;\n",
              "        padding: 0 0 0 0;\n",
              "        width: 32px;\n",
              "      }\n",
              "\n",
              "      .colab-df-generate:hover {\n",
              "        background-color: #E2EBFA;\n",
              "        box-shadow: 0px 1px 2px rgba(60, 64, 67, 0.3), 0px 1px 3px 1px rgba(60, 64, 67, 0.15);\n",
              "        fill: #174EA6;\n",
              "      }\n",
              "\n",
              "      [theme=dark] .colab-df-generate {\n",
              "        background-color: #3B4455;\n",
              "        fill: #D2E3FC;\n",
              "      }\n",
              "\n",
              "      [theme=dark] .colab-df-generate:hover {\n",
              "        background-color: #434B5C;\n",
              "        box-shadow: 0px 1px 3px 1px rgba(0, 0, 0, 0.15);\n",
              "        filter: drop-shadow(0px 1px 2px rgba(0, 0, 0, 0.3));\n",
              "        fill: #FFFFFF;\n",
              "      }\n",
              "    </style>\n",
              "    <button class=\"colab-df-generate\" onclick=\"generateWithVariable('df')\"\n",
              "            title=\"Generate code using this dataframe.\"\n",
              "            style=\"display:none;\">\n",
              "\n",
              "  <svg xmlns=\"http://www.w3.org/2000/svg\" height=\"24px\"viewBox=\"0 0 24 24\"\n",
              "       width=\"24px\">\n",
              "    <path d=\"M7,19H8.4L18.45,9,17,7.55,7,17.6ZM5,21V16.75L18.45,3.32a2,2,0,0,1,2.83,0l1.4,1.43a1.91,1.91,0,0,1,.58,1.4,1.91,1.91,0,0,1-.58,1.4L9.25,21ZM18.45,9,17,7.55Zm-12,3A5.31,5.31,0,0,0,4.9,8.1,5.31,5.31,0,0,0,1,6.5,5.31,5.31,0,0,0,4.9,4.9,5.31,5.31,0,0,0,6.5,1,5.31,5.31,0,0,0,8.1,4.9,5.31,5.31,0,0,0,12,6.5,5.46,5.46,0,0,0,6.5,12Z\"/>\n",
              "  </svg>\n",
              "    </button>\n",
              "    <script>\n",
              "      (() => {\n",
              "      const buttonEl =\n",
              "        document.querySelector('#id_c10c020e-c125-4d35-b49d-84b59a0cbe9a button.colab-df-generate');\n",
              "      buttonEl.style.display =\n",
              "        google.colab.kernel.accessAllowed ? 'block' : 'none';\n",
              "\n",
              "      buttonEl.onclick = () => {\n",
              "        google.colab.notebook.generateWithVariable('df');\n",
              "      }\n",
              "      })();\n",
              "    </script>\n",
              "  </div>\n",
              "\n",
              "    </div>\n",
              "  </div>\n"
            ],
            "text/plain": [
              "                                                    text    label\n",
              "0                                              bitch ass  Abusive\n",
              "1                                               fuck you  Abusive\n",
              "2                                               piss off  Abusive\n",
              "3                                               Fuck you  Abusive\n",
              "4                                                SUCK IT  Abusive\n",
              "...                                                  ...      ...\n",
              "14956  i feel so exhausted from dealing with drama be...      Sad\n",
              "14957  i am an unmarried woman and it is difficult to...      Sad\n",
              "14958  i am feeling a bit dismayed despite the fact t...      Sad\n",
              "14959  i feel like the disadvantages out weigh the ad...      Sad\n",
              "14960     i feel crappy about any decision i try to make      Sad\n",
              "\n",
              "[14961 rows x 2 columns]"
            ]
          },
          "execution_count": 4,
          "metadata": {},
          "output_type": "execute_result"
        }
      ],
      "source": [
        "# df = pd.read_csv('/content/drive/MyDrive/Colab Notebooks/dataset.csv',usecols=['text','label'])\n",
        "df = pd.read_csv('/content/dataset.csv')\n",
        "df\n",
        "# df.columns = ['text','label']\n",
        "# df.drop_duplicates(inplace=True)\n",
        "df.reset_index(drop=True, inplace=True)\n",
        "df.label.value_counts()\n",
        "df"
      ]
    },
    {
      "cell_type": "code",
      "execution_count": null,
      "metadata": {
        "id": "bbGzzUCkHFK1"
      },
      "outputs": [],
      "source": [
        "# df = df.sample(9900)"
      ]
    },
    {
      "cell_type": "code",
      "execution_count": null,
      "metadata": {
        "colab": {
          "base_uri": "https://localhost:8080/"
        },
        "id": "AAc_u_Ww1e3Y",
        "outputId": "7d14263a-0a64-4710-f33c-5dd0f4f8f9fe"
      },
      "outputs": [
        {
          "data": {
            "text/plain": [
              "(14961, 2)"
            ]
          },
          "execution_count": 6,
          "metadata": {},
          "output_type": "execute_result"
        }
      ],
      "source": [
        "df.dropna(inplace=True)\n",
        "df.isna().sum()\n",
        "df.shape"
      ]
    },
    {
      "cell_type": "markdown",
      "metadata": {
        "id": "o-Z8J1So5SiI"
      },
      "source": []
    },
    {
      "cell_type": "markdown",
      "metadata": {
        "id": "-h8hXhB7tpgM"
      },
      "source": [
        "# preprocessing"
      ]
    },
    {
      "cell_type": "code",
      "execution_count": null,
      "metadata": {
        "colab": {
          "base_uri": "https://localhost:8080/"
        },
        "id": "rMEy74TBIi2-",
        "outputId": "6521995e-467c-490a-f141-38720e4706dc"
      },
      "outputs": [
        {
          "name": "stderr",
          "output_type": "stream",
          "text": [
            "<ipython-input-7-cb5bac4a56bb>:8: FutureWarning: The default of observed=False is deprecated and will be changed to True in a future version of pandas. Pass observed=False to retain current behavior or observed=True to adopt the future default and silence this warning.\n",
            "  sampled_df = df.groupby('bin', group_keys=False).apply(lambda x: x.sample(min(len(x), n_samples // nums_bins), random_state=42))\n",
            "<ipython-input-7-cb5bac4a56bb>:8: DeprecationWarning: DataFrameGroupBy.apply operated on the grouping columns. This behavior is deprecated, and in a future version of pandas the grouping columns will be excluded from the operation. Either pass `include_groups=False` to exclude the groupings or explicitly select the grouping columns after groupby to silence this warning.\n",
            "  sampled_df = df.groupby('bin', group_keys=False).apply(lambda x: x.sample(min(len(x), n_samples // nums_bins), random_state=42))\n",
            "<ipython-input-7-cb5bac4a56bb>:8: FutureWarning: The default of observed=False is deprecated and will be changed to True in a future version of pandas. Pass observed=False to retain current behavior or observed=True to adopt the future default and silence this warning.\n",
            "  sampled_df = df.groupby('bin', group_keys=False).apply(lambda x: x.sample(min(len(x), n_samples // nums_bins), random_state=42))\n",
            "<ipython-input-7-cb5bac4a56bb>:8: DeprecationWarning: DataFrameGroupBy.apply operated on the grouping columns. This behavior is deprecated, and in a future version of pandas the grouping columns will be excluded from the operation. Either pass `include_groups=False` to exclude the groupings or explicitly select the grouping columns after groupby to silence this warning.\n",
            "  sampled_df = df.groupby('bin', group_keys=False).apply(lambda x: x.sample(min(len(x), n_samples // nums_bins), random_state=42))\n"
          ]
        }
      ],
      "source": [
        "df['text_length'] = df['text'].apply(lambda x: len(x.split()))\n",
        "angry_df = df[df['label'] == 'Anger']\n",
        "abusive_df = df[df['label'] == 'Abusive']\n",
        "\n",
        "def stratified_sample(df, n_samples, nums_bins=5):\n",
        "  df = df.sort_values(by='text_length')\n",
        "  df['bin'] = pd.qcut(df['text_length'], q=nums_bins, duplicates='drop')\n",
        "  sampled_df = df.groupby('bin', group_keys=False).apply(lambda x: x.sample(min(len(x), n_samples // nums_bins), random_state=42))\n",
        "  return sampled_df.drop(columns=['text_length','bin'])\n",
        "\n",
        "angry_df = stratified_sample(angry_df, 1200)\n",
        "abusive_df = stratified_sample(abusive_df, 1200)"
      ]
    },
    {
      "cell_type": "code",
      "execution_count": null,
      "metadata": {
        "id": "gYOsgNd7KeHU"
      },
      "outputs": [],
      "source": [
        "aggressive_df = pd.concat([abusive_df, angry_df])"
      ]
    },
    {
      "cell_type": "code",
      "execution_count": null,
      "metadata": {
        "id": "70-_6Qm3LrJY"
      },
      "outputs": [],
      "source": [
        "aggressive_df['label'] = 'Aggressive'"
      ]
    },
    {
      "cell_type": "code",
      "execution_count": null,
      "metadata": {
        "id": "MKtBc9-BKnje"
      },
      "outputs": [],
      "source": [
        "df = df[~df['label'].isin(['Anger','Abusive'])]"
      ]
    },
    {
      "cell_type": "code",
      "execution_count": null,
      "metadata": {
        "id": "c3gKvbKdLR1o"
      },
      "outputs": [],
      "source": [
        "df = pd.concat([aggressive_df, df])\n",
        "df.reset_index(drop=True, inplace=True)"
      ]
    },
    {
      "cell_type": "code",
      "execution_count": null,
      "metadata": {
        "colab": {
          "base_uri": "https://localhost:8080/",
          "height": 272
        },
        "id": "jcCqrQU2LkVu",
        "outputId": "93f094e0-a44d-40fb-9f35-d0f86ddc7e73"
      },
      "outputs": [
        {
          "data": {
            "text/html": [
              "<div>\n",
              "<style scoped>\n",
              "    .dataframe tbody tr th:only-of-type {\n",
              "        vertical-align: middle;\n",
              "    }\n",
              "\n",
              "    .dataframe tbody tr th {\n",
              "        vertical-align: top;\n",
              "    }\n",
              "\n",
              "    .dataframe thead th {\n",
              "        text-align: right;\n",
              "    }\n",
              "</style>\n",
              "<table border=\"1\" class=\"dataframe\">\n",
              "  <thead>\n",
              "    <tr style=\"text-align: right;\">\n",
              "      <th></th>\n",
              "      <th>count</th>\n",
              "    </tr>\n",
              "    <tr>\n",
              "      <th>label</th>\n",
              "      <th></th>\n",
              "    </tr>\n",
              "  </thead>\n",
              "  <tbody>\n",
              "    <tr>\n",
              "      <th>Neutral</th>\n",
              "      <td>2900</td>\n",
              "    </tr>\n",
              "    <tr>\n",
              "      <th>Sad</th>\n",
              "      <td>2602</td>\n",
              "    </tr>\n",
              "    <tr>\n",
              "      <th>Aggressive</th>\n",
              "      <td>2400</td>\n",
              "    </tr>\n",
              "    <tr>\n",
              "      <th>Happy</th>\n",
              "      <td>2268</td>\n",
              "    </tr>\n",
              "    <tr>\n",
              "      <th>Fear</th>\n",
              "      <td>2214</td>\n",
              "    </tr>\n",
              "  </tbody>\n",
              "</table>\n",
              "</div><br><label><b>dtype:</b> int64</label>"
            ],
            "text/plain": [
              "label\n",
              "Neutral       2900\n",
              "Sad           2602\n",
              "Aggressive    2400\n",
              "Happy         2268\n",
              "Fear          2214\n",
              "Name: count, dtype: int64"
            ]
          },
          "execution_count": 12,
          "metadata": {},
          "output_type": "execute_result"
        }
      ],
      "source": [
        "df['label'].value_counts()"
      ]
    },
    {
      "cell_type": "code",
      "execution_count": null,
      "metadata": {
        "colab": {
          "base_uri": "https://localhost:8080/",
          "height": 424
        },
        "id": "lr1xcHOdOLmj",
        "outputId": "431ba2f7-d8cd-4dc7-94fe-c6e04cdbf852"
      },
      "outputs": [
        {
          "data": {
            "application/vnd.google.colaboratory.intrinsic+json": {
              "summary": "{\n  \"name\": \"df\",\n  \"rows\": 12384,\n  \"fields\": [\n    {\n      \"column\": \"text\",\n      \"properties\": {\n        \"dtype\": \"string\",\n        \"num_unique_values\": 12384,\n        \"samples\": [\n          \"Disney World/Land or NYE at Time's Square have always made me nervous.\",\n          \"Hell on earthThere is not a single feature of my body or face that is not pure trash Round wide huge face stupid ass large and long skull long and big nose Ugly teeth Small retarded eyes Weird earsI cant even send nudes to some girl who was attracted to my personality without seeing my face cause even my penis is embarassingIn addition to this im a fucking estrogenic beta male pussy anxious mild personality never had a passion a drive for something Now im 25 after I spent my youth as a recluse and the day of my suicide is getting closer i will not last long in this conditionI guess thats it I dont deserve to pass on my genes and Its better like this it would be an hell of a life for my sondaughter I would not commit the same error of my parents\",\n          \"Good takeaway. Don't be gullible and don't share questionable information without fact checking it first. Misinformation only becomes a problem when it spreads.\"\n        ],\n        \"semantic_type\": \"\",\n        \"description\": \"\"\n      }\n    },\n    {\n      \"column\": \"label\",\n      \"properties\": {\n        \"dtype\": \"category\",\n        \"num_unique_values\": 5,\n        \"samples\": [\n          \"Fear\",\n          \"Sad\",\n          \"Happy\"\n        ],\n        \"semantic_type\": \"\",\n        \"description\": \"\"\n      }\n    },\n    {\n      \"column\": \"text_length\",\n      \"properties\": {\n        \"dtype\": \"number\",\n        \"std\": 140.88869285773538,\n        \"min\": 1.0,\n        \"max\": 1619.0,\n        \"num_unique_values\": 624,\n        \"samples\": [\n          621.0,\n          153.0,\n          88.0\n        ],\n        \"semantic_type\": \"\",\n        \"description\": \"\"\n      }\n    }\n  ]\n}",
              "type": "dataframe",
              "variable_name": "df"
            },
            "text/html": [
              "\n",
              "  <div id=\"df-b2232700-cc34-4b4e-bc3f-32650ae44e58\" class=\"colab-df-container\">\n",
              "    <div>\n",
              "<style scoped>\n",
              "    .dataframe tbody tr th:only-of-type {\n",
              "        vertical-align: middle;\n",
              "    }\n",
              "\n",
              "    .dataframe tbody tr th {\n",
              "        vertical-align: top;\n",
              "    }\n",
              "\n",
              "    .dataframe thead th {\n",
              "        text-align: right;\n",
              "    }\n",
              "</style>\n",
              "<table border=\"1\" class=\"dataframe\">\n",
              "  <thead>\n",
              "    <tr style=\"text-align: right;\">\n",
              "      <th></th>\n",
              "      <th>text</th>\n",
              "      <th>label</th>\n",
              "      <th>text_length</th>\n",
              "    </tr>\n",
              "  </thead>\n",
              "  <tbody>\n",
              "    <tr>\n",
              "      <th>0</th>\n",
              "      <td>shut up lizard faggot nigger cunt</td>\n",
              "      <td>Aggressive</td>\n",
              "      <td>NaN</td>\n",
              "    </tr>\n",
              "    <tr>\n",
              "      <th>1</th>\n",
              "      <td>your a fucking bitch</td>\n",
              "      <td>Aggressive</td>\n",
              "      <td>NaN</td>\n",
              "    </tr>\n",
              "    <tr>\n",
              "      <th>2</th>\n",
              "      <td>Fuck off bitch</td>\n",
              "      <td>Aggressive</td>\n",
              "      <td>NaN</td>\n",
              "    </tr>\n",
              "    <tr>\n",
              "      <th>3</th>\n",
              "      <td>show me your pussy bitch</td>\n",
              "      <td>Aggressive</td>\n",
              "      <td>NaN</td>\n",
              "    </tr>\n",
              "    <tr>\n",
              "      <th>4</th>\n",
              "      <td>Black Bitch ass mre fucker</td>\n",
              "      <td>Aggressive</td>\n",
              "      <td>NaN</td>\n",
              "    </tr>\n",
              "    <tr>\n",
              "      <th>...</th>\n",
              "      <td>...</td>\n",
              "      <td>...</td>\n",
              "      <td>...</td>\n",
              "    </tr>\n",
              "    <tr>\n",
              "      <th>12379</th>\n",
              "      <td>i feel so exhausted from dealing with drama be...</td>\n",
              "      <td>Sad</td>\n",
              "      <td>18.0</td>\n",
              "    </tr>\n",
              "    <tr>\n",
              "      <th>12380</th>\n",
              "      <td>i am an unmarried woman and it is difficult to...</td>\n",
              "      <td>Sad</td>\n",
              "      <td>43.0</td>\n",
              "    </tr>\n",
              "    <tr>\n",
              "      <th>12381</th>\n",
              "      <td>i am feeling a bit dismayed despite the fact t...</td>\n",
              "      <td>Sad</td>\n",
              "      <td>53.0</td>\n",
              "    </tr>\n",
              "    <tr>\n",
              "      <th>12382</th>\n",
              "      <td>i feel like the disadvantages out weigh the ad...</td>\n",
              "      <td>Sad</td>\n",
              "      <td>49.0</td>\n",
              "    </tr>\n",
              "    <tr>\n",
              "      <th>12383</th>\n",
              "      <td>i feel crappy about any decision i try to make</td>\n",
              "      <td>Sad</td>\n",
              "      <td>10.0</td>\n",
              "    </tr>\n",
              "  </tbody>\n",
              "</table>\n",
              "<p>12384 rows × 3 columns</p>\n",
              "</div>\n",
              "    <div class=\"colab-df-buttons\">\n",
              "\n",
              "  <div class=\"colab-df-container\">\n",
              "    <button class=\"colab-df-convert\" onclick=\"convertToInteractive('df-b2232700-cc34-4b4e-bc3f-32650ae44e58')\"\n",
              "            title=\"Convert this dataframe to an interactive table.\"\n",
              "            style=\"display:none;\">\n",
              "\n",
              "  <svg xmlns=\"http://www.w3.org/2000/svg\" height=\"24px\" viewBox=\"0 -960 960 960\">\n",
              "    <path d=\"M120-120v-720h720v720H120Zm60-500h600v-160H180v160Zm220 220h160v-160H400v160Zm0 220h160v-160H400v160ZM180-400h160v-160H180v160Zm440 0h160v-160H620v160ZM180-180h160v-160H180v160Zm440 0h160v-160H620v160Z\"/>\n",
              "  </svg>\n",
              "    </button>\n",
              "\n",
              "  <style>\n",
              "    .colab-df-container {\n",
              "      display:flex;\n",
              "      gap: 12px;\n",
              "    }\n",
              "\n",
              "    .colab-df-convert {\n",
              "      background-color: #E8F0FE;\n",
              "      border: none;\n",
              "      border-radius: 50%;\n",
              "      cursor: pointer;\n",
              "      display: none;\n",
              "      fill: #1967D2;\n",
              "      height: 32px;\n",
              "      padding: 0 0 0 0;\n",
              "      width: 32px;\n",
              "    }\n",
              "\n",
              "    .colab-df-convert:hover {\n",
              "      background-color: #E2EBFA;\n",
              "      box-shadow: 0px 1px 2px rgba(60, 64, 67, 0.3), 0px 1px 3px 1px rgba(60, 64, 67, 0.15);\n",
              "      fill: #174EA6;\n",
              "    }\n",
              "\n",
              "    .colab-df-buttons div {\n",
              "      margin-bottom: 4px;\n",
              "    }\n",
              "\n",
              "    [theme=dark] .colab-df-convert {\n",
              "      background-color: #3B4455;\n",
              "      fill: #D2E3FC;\n",
              "    }\n",
              "\n",
              "    [theme=dark] .colab-df-convert:hover {\n",
              "      background-color: #434B5C;\n",
              "      box-shadow: 0px 1px 3px 1px rgba(0, 0, 0, 0.15);\n",
              "      filter: drop-shadow(0px 1px 2px rgba(0, 0, 0, 0.3));\n",
              "      fill: #FFFFFF;\n",
              "    }\n",
              "  </style>\n",
              "\n",
              "    <script>\n",
              "      const buttonEl =\n",
              "        document.querySelector('#df-b2232700-cc34-4b4e-bc3f-32650ae44e58 button.colab-df-convert');\n",
              "      buttonEl.style.display =\n",
              "        google.colab.kernel.accessAllowed ? 'block' : 'none';\n",
              "\n",
              "      async function convertToInteractive(key) {\n",
              "        const element = document.querySelector('#df-b2232700-cc34-4b4e-bc3f-32650ae44e58');\n",
              "        const dataTable =\n",
              "          await google.colab.kernel.invokeFunction('convertToInteractive',\n",
              "                                                    [key], {});\n",
              "        if (!dataTable) return;\n",
              "\n",
              "        const docLinkHtml = 'Like what you see? Visit the ' +\n",
              "          '<a target=\"_blank\" href=https://colab.research.google.com/notebooks/data_table.ipynb>data table notebook</a>'\n",
              "          + ' to learn more about interactive tables.';\n",
              "        element.innerHTML = '';\n",
              "        dataTable['output_type'] = 'display_data';\n",
              "        await google.colab.output.renderOutput(dataTable, element);\n",
              "        const docLink = document.createElement('div');\n",
              "        docLink.innerHTML = docLinkHtml;\n",
              "        element.appendChild(docLink);\n",
              "      }\n",
              "    </script>\n",
              "  </div>\n",
              "\n",
              "\n",
              "<div id=\"df-aab35500-ff5f-44b3-918a-413755cbc98b\">\n",
              "  <button class=\"colab-df-quickchart\" onclick=\"quickchart('df-aab35500-ff5f-44b3-918a-413755cbc98b')\"\n",
              "            title=\"Suggest charts\"\n",
              "            style=\"display:none;\">\n",
              "\n",
              "<svg xmlns=\"http://www.w3.org/2000/svg\" height=\"24px\"viewBox=\"0 0 24 24\"\n",
              "     width=\"24px\">\n",
              "    <g>\n",
              "        <path d=\"M19 3H5c-1.1 0-2 .9-2 2v14c0 1.1.9 2 2 2h14c1.1 0 2-.9 2-2V5c0-1.1-.9-2-2-2zM9 17H7v-7h2v7zm4 0h-2V7h2v10zm4 0h-2v-4h2v4z\"/>\n",
              "    </g>\n",
              "</svg>\n",
              "  </button>\n",
              "\n",
              "<style>\n",
              "  .colab-df-quickchart {\n",
              "      --bg-color: #E8F0FE;\n",
              "      --fill-color: #1967D2;\n",
              "      --hover-bg-color: #E2EBFA;\n",
              "      --hover-fill-color: #174EA6;\n",
              "      --disabled-fill-color: #AAA;\n",
              "      --disabled-bg-color: #DDD;\n",
              "  }\n",
              "\n",
              "  [theme=dark] .colab-df-quickchart {\n",
              "      --bg-color: #3B4455;\n",
              "      --fill-color: #D2E3FC;\n",
              "      --hover-bg-color: #434B5C;\n",
              "      --hover-fill-color: #FFFFFF;\n",
              "      --disabled-bg-color: #3B4455;\n",
              "      --disabled-fill-color: #666;\n",
              "  }\n",
              "\n",
              "  .colab-df-quickchart {\n",
              "    background-color: var(--bg-color);\n",
              "    border: none;\n",
              "    border-radius: 50%;\n",
              "    cursor: pointer;\n",
              "    display: none;\n",
              "    fill: var(--fill-color);\n",
              "    height: 32px;\n",
              "    padding: 0;\n",
              "    width: 32px;\n",
              "  }\n",
              "\n",
              "  .colab-df-quickchart:hover {\n",
              "    background-color: var(--hover-bg-color);\n",
              "    box-shadow: 0 1px 2px rgba(60, 64, 67, 0.3), 0 1px 3px 1px rgba(60, 64, 67, 0.15);\n",
              "    fill: var(--button-hover-fill-color);\n",
              "  }\n",
              "\n",
              "  .colab-df-quickchart-complete:disabled,\n",
              "  .colab-df-quickchart-complete:disabled:hover {\n",
              "    background-color: var(--disabled-bg-color);\n",
              "    fill: var(--disabled-fill-color);\n",
              "    box-shadow: none;\n",
              "  }\n",
              "\n",
              "  .colab-df-spinner {\n",
              "    border: 2px solid var(--fill-color);\n",
              "    border-color: transparent;\n",
              "    border-bottom-color: var(--fill-color);\n",
              "    animation:\n",
              "      spin 1s steps(1) infinite;\n",
              "  }\n",
              "\n",
              "  @keyframes spin {\n",
              "    0% {\n",
              "      border-color: transparent;\n",
              "      border-bottom-color: var(--fill-color);\n",
              "      border-left-color: var(--fill-color);\n",
              "    }\n",
              "    20% {\n",
              "      border-color: transparent;\n",
              "      border-left-color: var(--fill-color);\n",
              "      border-top-color: var(--fill-color);\n",
              "    }\n",
              "    30% {\n",
              "      border-color: transparent;\n",
              "      border-left-color: var(--fill-color);\n",
              "      border-top-color: var(--fill-color);\n",
              "      border-right-color: var(--fill-color);\n",
              "    }\n",
              "    40% {\n",
              "      border-color: transparent;\n",
              "      border-right-color: var(--fill-color);\n",
              "      border-top-color: var(--fill-color);\n",
              "    }\n",
              "    60% {\n",
              "      border-color: transparent;\n",
              "      border-right-color: var(--fill-color);\n",
              "    }\n",
              "    80% {\n",
              "      border-color: transparent;\n",
              "      border-right-color: var(--fill-color);\n",
              "      border-bottom-color: var(--fill-color);\n",
              "    }\n",
              "    90% {\n",
              "      border-color: transparent;\n",
              "      border-bottom-color: var(--fill-color);\n",
              "    }\n",
              "  }\n",
              "</style>\n",
              "\n",
              "  <script>\n",
              "    async function quickchart(key) {\n",
              "      const quickchartButtonEl =\n",
              "        document.querySelector('#' + key + ' button');\n",
              "      quickchartButtonEl.disabled = true;  // To prevent multiple clicks.\n",
              "      quickchartButtonEl.classList.add('colab-df-spinner');\n",
              "      try {\n",
              "        const charts = await google.colab.kernel.invokeFunction(\n",
              "            'suggestCharts', [key], {});\n",
              "      } catch (error) {\n",
              "        console.error('Error during call to suggestCharts:', error);\n",
              "      }\n",
              "      quickchartButtonEl.classList.remove('colab-df-spinner');\n",
              "      quickchartButtonEl.classList.add('colab-df-quickchart-complete');\n",
              "    }\n",
              "    (() => {\n",
              "      let quickchartButtonEl =\n",
              "        document.querySelector('#df-aab35500-ff5f-44b3-918a-413755cbc98b button');\n",
              "      quickchartButtonEl.style.display =\n",
              "        google.colab.kernel.accessAllowed ? 'block' : 'none';\n",
              "    })();\n",
              "  </script>\n",
              "</div>\n",
              "\n",
              "  <div id=\"id_d210e705-bf6e-4614-b7ab-fc88fdf8461c\">\n",
              "    <style>\n",
              "      .colab-df-generate {\n",
              "        background-color: #E8F0FE;\n",
              "        border: none;\n",
              "        border-radius: 50%;\n",
              "        cursor: pointer;\n",
              "        display: none;\n",
              "        fill: #1967D2;\n",
              "        height: 32px;\n",
              "        padding: 0 0 0 0;\n",
              "        width: 32px;\n",
              "      }\n",
              "\n",
              "      .colab-df-generate:hover {\n",
              "        background-color: #E2EBFA;\n",
              "        box-shadow: 0px 1px 2px rgba(60, 64, 67, 0.3), 0px 1px 3px 1px rgba(60, 64, 67, 0.15);\n",
              "        fill: #174EA6;\n",
              "      }\n",
              "\n",
              "      [theme=dark] .colab-df-generate {\n",
              "        background-color: #3B4455;\n",
              "        fill: #D2E3FC;\n",
              "      }\n",
              "\n",
              "      [theme=dark] .colab-df-generate:hover {\n",
              "        background-color: #434B5C;\n",
              "        box-shadow: 0px 1px 3px 1px rgba(0, 0, 0, 0.15);\n",
              "        filter: drop-shadow(0px 1px 2px rgba(0, 0, 0, 0.3));\n",
              "        fill: #FFFFFF;\n",
              "      }\n",
              "    </style>\n",
              "    <button class=\"colab-df-generate\" onclick=\"generateWithVariable('df')\"\n",
              "            title=\"Generate code using this dataframe.\"\n",
              "            style=\"display:none;\">\n",
              "\n",
              "  <svg xmlns=\"http://www.w3.org/2000/svg\" height=\"24px\"viewBox=\"0 0 24 24\"\n",
              "       width=\"24px\">\n",
              "    <path d=\"M7,19H8.4L18.45,9,17,7.55,7,17.6ZM5,21V16.75L18.45,3.32a2,2,0,0,1,2.83,0l1.4,1.43a1.91,1.91,0,0,1,.58,1.4,1.91,1.91,0,0,1-.58,1.4L9.25,21ZM18.45,9,17,7.55Zm-12,3A5.31,5.31,0,0,0,4.9,8.1,5.31,5.31,0,0,0,1,6.5,5.31,5.31,0,0,0,4.9,4.9,5.31,5.31,0,0,0,6.5,1,5.31,5.31,0,0,0,8.1,4.9,5.31,5.31,0,0,0,12,6.5,5.46,5.46,0,0,0,6.5,12Z\"/>\n",
              "  </svg>\n",
              "    </button>\n",
              "    <script>\n",
              "      (() => {\n",
              "      const buttonEl =\n",
              "        document.querySelector('#id_d210e705-bf6e-4614-b7ab-fc88fdf8461c button.colab-df-generate');\n",
              "      buttonEl.style.display =\n",
              "        google.colab.kernel.accessAllowed ? 'block' : 'none';\n",
              "\n",
              "      buttonEl.onclick = () => {\n",
              "        google.colab.notebook.generateWithVariable('df');\n",
              "      }\n",
              "      })();\n",
              "    </script>\n",
              "  </div>\n",
              "\n",
              "    </div>\n",
              "  </div>\n"
            ],
            "text/plain": [
              "                                                    text       label  \\\n",
              "0                      shut up lizard faggot nigger cunt  Aggressive   \n",
              "1                                   your a fucking bitch  Aggressive   \n",
              "2                                         Fuck off bitch  Aggressive   \n",
              "3                               show me your pussy bitch  Aggressive   \n",
              "4                             Black Bitch ass mre fucker  Aggressive   \n",
              "...                                                  ...         ...   \n",
              "12379  i feel so exhausted from dealing with drama be...         Sad   \n",
              "12380  i am an unmarried woman and it is difficult to...         Sad   \n",
              "12381  i am feeling a bit dismayed despite the fact t...         Sad   \n",
              "12382  i feel like the disadvantages out weigh the ad...         Sad   \n",
              "12383     i feel crappy about any decision i try to make         Sad   \n",
              "\n",
              "       text_length  \n",
              "0              NaN  \n",
              "1              NaN  \n",
              "2              NaN  \n",
              "3              NaN  \n",
              "4              NaN  \n",
              "...            ...  \n",
              "12379         18.0  \n",
              "12380         43.0  \n",
              "12381         53.0  \n",
              "12382         49.0  \n",
              "12383         10.0  \n",
              "\n",
              "[12384 rows x 3 columns]"
            ]
          },
          "execution_count": 13,
          "metadata": {},
          "output_type": "execute_result"
        }
      ],
      "source": [
        "df"
      ]
    },
    {
      "cell_type": "code",
      "execution_count": null,
      "metadata": {
        "id": "MfFqeUoDLxau"
      },
      "outputs": [],
      "source": [
        "df.drop(columns=['text_length'], inplace=True)"
      ]
    },
    {
      "cell_type": "code",
      "execution_count": null,
      "metadata": {
        "id": "tUJx-8homHKf"
      },
      "outputs": [],
      "source": [
        "# Encode labels\n",
        "label_encoder = LabelEncoder()\n",
        "df['new_label'] = label_encoder.fit_transform(df['label'])"
      ]
    },
    {
      "cell_type": "code",
      "execution_count": null,
      "metadata": {
        "colab": {
          "base_uri": "https://localhost:8080/",
          "height": 424
        },
        "collapsed": true,
        "id": "Q2Bl5r5L47xp",
        "outputId": "4fd236bc-070b-4a53-9937-924306d33938"
      },
      "outputs": [
        {
          "data": {
            "application/vnd.google.colaboratory.intrinsic+json": {
              "summary": "{\n  \"name\": \"df\",\n  \"rows\": 12384,\n  \"fields\": [\n    {\n      \"column\": \"text\",\n      \"properties\": {\n        \"dtype\": \"string\",\n        \"num_unique_values\": 12384,\n        \"samples\": [\n          \"Disney World/Land or NYE at Time's Square have always made me nervous.\",\n          \"Hell on earthThere is not a single feature of my body or face that is not pure trash Round wide huge face stupid ass large and long skull long and big nose Ugly teeth Small retarded eyes Weird earsI cant even send nudes to some girl who was attracted to my personality without seeing my face cause even my penis is embarassingIn addition to this im a fucking estrogenic beta male pussy anxious mild personality never had a passion a drive for something Now im 25 after I spent my youth as a recluse and the day of my suicide is getting closer i will not last long in this conditionI guess thats it I dont deserve to pass on my genes and Its better like this it would be an hell of a life for my sondaughter I would not commit the same error of my parents\",\n          \"Good takeaway. Don't be gullible and don't share questionable information without fact checking it first. Misinformation only becomes a problem when it spreads.\"\n        ],\n        \"semantic_type\": \"\",\n        \"description\": \"\"\n      }\n    },\n    {\n      \"column\": \"label\",\n      \"properties\": {\n        \"dtype\": \"category\",\n        \"num_unique_values\": 5,\n        \"samples\": [\n          \"Fear\",\n          \"Sad\",\n          \"Happy\"\n        ],\n        \"semantic_type\": \"\",\n        \"description\": \"\"\n      }\n    },\n    {\n      \"column\": \"new_label\",\n      \"properties\": {\n        \"dtype\": \"number\",\n        \"std\": 1,\n        \"min\": 0,\n        \"max\": 4,\n        \"num_unique_values\": 5,\n        \"samples\": [\n          1,\n          4,\n          2\n        ],\n        \"semantic_type\": \"\",\n        \"description\": \"\"\n      }\n    }\n  ]\n}",
              "type": "dataframe",
              "variable_name": "df"
            },
            "text/html": [
              "\n",
              "  <div id=\"df-a9bea2d6-5752-4a36-8bdb-6080f157790d\" class=\"colab-df-container\">\n",
              "    <div>\n",
              "<style scoped>\n",
              "    .dataframe tbody tr th:only-of-type {\n",
              "        vertical-align: middle;\n",
              "    }\n",
              "\n",
              "    .dataframe tbody tr th {\n",
              "        vertical-align: top;\n",
              "    }\n",
              "\n",
              "    .dataframe thead th {\n",
              "        text-align: right;\n",
              "    }\n",
              "</style>\n",
              "<table border=\"1\" class=\"dataframe\">\n",
              "  <thead>\n",
              "    <tr style=\"text-align: right;\">\n",
              "      <th></th>\n",
              "      <th>text</th>\n",
              "      <th>label</th>\n",
              "      <th>new_label</th>\n",
              "    </tr>\n",
              "  </thead>\n",
              "  <tbody>\n",
              "    <tr>\n",
              "      <th>0</th>\n",
              "      <td>shut up lizard faggot nigger cunt</td>\n",
              "      <td>Aggressive</td>\n",
              "      <td>0</td>\n",
              "    </tr>\n",
              "    <tr>\n",
              "      <th>1</th>\n",
              "      <td>your a fucking bitch</td>\n",
              "      <td>Aggressive</td>\n",
              "      <td>0</td>\n",
              "    </tr>\n",
              "    <tr>\n",
              "      <th>2</th>\n",
              "      <td>Fuck off bitch</td>\n",
              "      <td>Aggressive</td>\n",
              "      <td>0</td>\n",
              "    </tr>\n",
              "    <tr>\n",
              "      <th>3</th>\n",
              "      <td>show me your pussy bitch</td>\n",
              "      <td>Aggressive</td>\n",
              "      <td>0</td>\n",
              "    </tr>\n",
              "    <tr>\n",
              "      <th>4</th>\n",
              "      <td>Black Bitch ass mre fucker</td>\n",
              "      <td>Aggressive</td>\n",
              "      <td>0</td>\n",
              "    </tr>\n",
              "    <tr>\n",
              "      <th>...</th>\n",
              "      <td>...</td>\n",
              "      <td>...</td>\n",
              "      <td>...</td>\n",
              "    </tr>\n",
              "    <tr>\n",
              "      <th>12379</th>\n",
              "      <td>i feel so exhausted from dealing with drama be...</td>\n",
              "      <td>Sad</td>\n",
              "      <td>4</td>\n",
              "    </tr>\n",
              "    <tr>\n",
              "      <th>12380</th>\n",
              "      <td>i am an unmarried woman and it is difficult to...</td>\n",
              "      <td>Sad</td>\n",
              "      <td>4</td>\n",
              "    </tr>\n",
              "    <tr>\n",
              "      <th>12381</th>\n",
              "      <td>i am feeling a bit dismayed despite the fact t...</td>\n",
              "      <td>Sad</td>\n",
              "      <td>4</td>\n",
              "    </tr>\n",
              "    <tr>\n",
              "      <th>12382</th>\n",
              "      <td>i feel like the disadvantages out weigh the ad...</td>\n",
              "      <td>Sad</td>\n",
              "      <td>4</td>\n",
              "    </tr>\n",
              "    <tr>\n",
              "      <th>12383</th>\n",
              "      <td>i feel crappy about any decision i try to make</td>\n",
              "      <td>Sad</td>\n",
              "      <td>4</td>\n",
              "    </tr>\n",
              "  </tbody>\n",
              "</table>\n",
              "<p>12384 rows × 3 columns</p>\n",
              "</div>\n",
              "    <div class=\"colab-df-buttons\">\n",
              "\n",
              "  <div class=\"colab-df-container\">\n",
              "    <button class=\"colab-df-convert\" onclick=\"convertToInteractive('df-a9bea2d6-5752-4a36-8bdb-6080f157790d')\"\n",
              "            title=\"Convert this dataframe to an interactive table.\"\n",
              "            style=\"display:none;\">\n",
              "\n",
              "  <svg xmlns=\"http://www.w3.org/2000/svg\" height=\"24px\" viewBox=\"0 -960 960 960\">\n",
              "    <path d=\"M120-120v-720h720v720H120Zm60-500h600v-160H180v160Zm220 220h160v-160H400v160Zm0 220h160v-160H400v160ZM180-400h160v-160H180v160Zm440 0h160v-160H620v160ZM180-180h160v-160H180v160Zm440 0h160v-160H620v160Z\"/>\n",
              "  </svg>\n",
              "    </button>\n",
              "\n",
              "  <style>\n",
              "    .colab-df-container {\n",
              "      display:flex;\n",
              "      gap: 12px;\n",
              "    }\n",
              "\n",
              "    .colab-df-convert {\n",
              "      background-color: #E8F0FE;\n",
              "      border: none;\n",
              "      border-radius: 50%;\n",
              "      cursor: pointer;\n",
              "      display: none;\n",
              "      fill: #1967D2;\n",
              "      height: 32px;\n",
              "      padding: 0 0 0 0;\n",
              "      width: 32px;\n",
              "    }\n",
              "\n",
              "    .colab-df-convert:hover {\n",
              "      background-color: #E2EBFA;\n",
              "      box-shadow: 0px 1px 2px rgba(60, 64, 67, 0.3), 0px 1px 3px 1px rgba(60, 64, 67, 0.15);\n",
              "      fill: #174EA6;\n",
              "    }\n",
              "\n",
              "    .colab-df-buttons div {\n",
              "      margin-bottom: 4px;\n",
              "    }\n",
              "\n",
              "    [theme=dark] .colab-df-convert {\n",
              "      background-color: #3B4455;\n",
              "      fill: #D2E3FC;\n",
              "    }\n",
              "\n",
              "    [theme=dark] .colab-df-convert:hover {\n",
              "      background-color: #434B5C;\n",
              "      box-shadow: 0px 1px 3px 1px rgba(0, 0, 0, 0.15);\n",
              "      filter: drop-shadow(0px 1px 2px rgba(0, 0, 0, 0.3));\n",
              "      fill: #FFFFFF;\n",
              "    }\n",
              "  </style>\n",
              "\n",
              "    <script>\n",
              "      const buttonEl =\n",
              "        document.querySelector('#df-a9bea2d6-5752-4a36-8bdb-6080f157790d button.colab-df-convert');\n",
              "      buttonEl.style.display =\n",
              "        google.colab.kernel.accessAllowed ? 'block' : 'none';\n",
              "\n",
              "      async function convertToInteractive(key) {\n",
              "        const element = document.querySelector('#df-a9bea2d6-5752-4a36-8bdb-6080f157790d');\n",
              "        const dataTable =\n",
              "          await google.colab.kernel.invokeFunction('convertToInteractive',\n",
              "                                                    [key], {});\n",
              "        if (!dataTable) return;\n",
              "\n",
              "        const docLinkHtml = 'Like what you see? Visit the ' +\n",
              "          '<a target=\"_blank\" href=https://colab.research.google.com/notebooks/data_table.ipynb>data table notebook</a>'\n",
              "          + ' to learn more about interactive tables.';\n",
              "        element.innerHTML = '';\n",
              "        dataTable['output_type'] = 'display_data';\n",
              "        await google.colab.output.renderOutput(dataTable, element);\n",
              "        const docLink = document.createElement('div');\n",
              "        docLink.innerHTML = docLinkHtml;\n",
              "        element.appendChild(docLink);\n",
              "      }\n",
              "    </script>\n",
              "  </div>\n",
              "\n",
              "\n",
              "<div id=\"df-598c0eed-cf86-4854-931a-3ce38e9d8d06\">\n",
              "  <button class=\"colab-df-quickchart\" onclick=\"quickchart('df-598c0eed-cf86-4854-931a-3ce38e9d8d06')\"\n",
              "            title=\"Suggest charts\"\n",
              "            style=\"display:none;\">\n",
              "\n",
              "<svg xmlns=\"http://www.w3.org/2000/svg\" height=\"24px\"viewBox=\"0 0 24 24\"\n",
              "     width=\"24px\">\n",
              "    <g>\n",
              "        <path d=\"M19 3H5c-1.1 0-2 .9-2 2v14c0 1.1.9 2 2 2h14c1.1 0 2-.9 2-2V5c0-1.1-.9-2-2-2zM9 17H7v-7h2v7zm4 0h-2V7h2v10zm4 0h-2v-4h2v4z\"/>\n",
              "    </g>\n",
              "</svg>\n",
              "  </button>\n",
              "\n",
              "<style>\n",
              "  .colab-df-quickchart {\n",
              "      --bg-color: #E8F0FE;\n",
              "      --fill-color: #1967D2;\n",
              "      --hover-bg-color: #E2EBFA;\n",
              "      --hover-fill-color: #174EA6;\n",
              "      --disabled-fill-color: #AAA;\n",
              "      --disabled-bg-color: #DDD;\n",
              "  }\n",
              "\n",
              "  [theme=dark] .colab-df-quickchart {\n",
              "      --bg-color: #3B4455;\n",
              "      --fill-color: #D2E3FC;\n",
              "      --hover-bg-color: #434B5C;\n",
              "      --hover-fill-color: #FFFFFF;\n",
              "      --disabled-bg-color: #3B4455;\n",
              "      --disabled-fill-color: #666;\n",
              "  }\n",
              "\n",
              "  .colab-df-quickchart {\n",
              "    background-color: var(--bg-color);\n",
              "    border: none;\n",
              "    border-radius: 50%;\n",
              "    cursor: pointer;\n",
              "    display: none;\n",
              "    fill: var(--fill-color);\n",
              "    height: 32px;\n",
              "    padding: 0;\n",
              "    width: 32px;\n",
              "  }\n",
              "\n",
              "  .colab-df-quickchart:hover {\n",
              "    background-color: var(--hover-bg-color);\n",
              "    box-shadow: 0 1px 2px rgba(60, 64, 67, 0.3), 0 1px 3px 1px rgba(60, 64, 67, 0.15);\n",
              "    fill: var(--button-hover-fill-color);\n",
              "  }\n",
              "\n",
              "  .colab-df-quickchart-complete:disabled,\n",
              "  .colab-df-quickchart-complete:disabled:hover {\n",
              "    background-color: var(--disabled-bg-color);\n",
              "    fill: var(--disabled-fill-color);\n",
              "    box-shadow: none;\n",
              "  }\n",
              "\n",
              "  .colab-df-spinner {\n",
              "    border: 2px solid var(--fill-color);\n",
              "    border-color: transparent;\n",
              "    border-bottom-color: var(--fill-color);\n",
              "    animation:\n",
              "      spin 1s steps(1) infinite;\n",
              "  }\n",
              "\n",
              "  @keyframes spin {\n",
              "    0% {\n",
              "      border-color: transparent;\n",
              "      border-bottom-color: var(--fill-color);\n",
              "      border-left-color: var(--fill-color);\n",
              "    }\n",
              "    20% {\n",
              "      border-color: transparent;\n",
              "      border-left-color: var(--fill-color);\n",
              "      border-top-color: var(--fill-color);\n",
              "    }\n",
              "    30% {\n",
              "      border-color: transparent;\n",
              "      border-left-color: var(--fill-color);\n",
              "      border-top-color: var(--fill-color);\n",
              "      border-right-color: var(--fill-color);\n",
              "    }\n",
              "    40% {\n",
              "      border-color: transparent;\n",
              "      border-right-color: var(--fill-color);\n",
              "      border-top-color: var(--fill-color);\n",
              "    }\n",
              "    60% {\n",
              "      border-color: transparent;\n",
              "      border-right-color: var(--fill-color);\n",
              "    }\n",
              "    80% {\n",
              "      border-color: transparent;\n",
              "      border-right-color: var(--fill-color);\n",
              "      border-bottom-color: var(--fill-color);\n",
              "    }\n",
              "    90% {\n",
              "      border-color: transparent;\n",
              "      border-bottom-color: var(--fill-color);\n",
              "    }\n",
              "  }\n",
              "</style>\n",
              "\n",
              "  <script>\n",
              "    async function quickchart(key) {\n",
              "      const quickchartButtonEl =\n",
              "        document.querySelector('#' + key + ' button');\n",
              "      quickchartButtonEl.disabled = true;  // To prevent multiple clicks.\n",
              "      quickchartButtonEl.classList.add('colab-df-spinner');\n",
              "      try {\n",
              "        const charts = await google.colab.kernel.invokeFunction(\n",
              "            'suggestCharts', [key], {});\n",
              "      } catch (error) {\n",
              "        console.error('Error during call to suggestCharts:', error);\n",
              "      }\n",
              "      quickchartButtonEl.classList.remove('colab-df-spinner');\n",
              "      quickchartButtonEl.classList.add('colab-df-quickchart-complete');\n",
              "    }\n",
              "    (() => {\n",
              "      let quickchartButtonEl =\n",
              "        document.querySelector('#df-598c0eed-cf86-4854-931a-3ce38e9d8d06 button');\n",
              "      quickchartButtonEl.style.display =\n",
              "        google.colab.kernel.accessAllowed ? 'block' : 'none';\n",
              "    })();\n",
              "  </script>\n",
              "</div>\n",
              "\n",
              "  <div id=\"id_47323dd4-1108-4e26-b784-479cb483d67a\">\n",
              "    <style>\n",
              "      .colab-df-generate {\n",
              "        background-color: #E8F0FE;\n",
              "        border: none;\n",
              "        border-radius: 50%;\n",
              "        cursor: pointer;\n",
              "        display: none;\n",
              "        fill: #1967D2;\n",
              "        height: 32px;\n",
              "        padding: 0 0 0 0;\n",
              "        width: 32px;\n",
              "      }\n",
              "\n",
              "      .colab-df-generate:hover {\n",
              "        background-color: #E2EBFA;\n",
              "        box-shadow: 0px 1px 2px rgba(60, 64, 67, 0.3), 0px 1px 3px 1px rgba(60, 64, 67, 0.15);\n",
              "        fill: #174EA6;\n",
              "      }\n",
              "\n",
              "      [theme=dark] .colab-df-generate {\n",
              "        background-color: #3B4455;\n",
              "        fill: #D2E3FC;\n",
              "      }\n",
              "\n",
              "      [theme=dark] .colab-df-generate:hover {\n",
              "        background-color: #434B5C;\n",
              "        box-shadow: 0px 1px 3px 1px rgba(0, 0, 0, 0.15);\n",
              "        filter: drop-shadow(0px 1px 2px rgba(0, 0, 0, 0.3));\n",
              "        fill: #FFFFFF;\n",
              "      }\n",
              "    </style>\n",
              "    <button class=\"colab-df-generate\" onclick=\"generateWithVariable('df')\"\n",
              "            title=\"Generate code using this dataframe.\"\n",
              "            style=\"display:none;\">\n",
              "\n",
              "  <svg xmlns=\"http://www.w3.org/2000/svg\" height=\"24px\"viewBox=\"0 0 24 24\"\n",
              "       width=\"24px\">\n",
              "    <path d=\"M7,19H8.4L18.45,9,17,7.55,7,17.6ZM5,21V16.75L18.45,3.32a2,2,0,0,1,2.83,0l1.4,1.43a1.91,1.91,0,0,1,.58,1.4,1.91,1.91,0,0,1-.58,1.4L9.25,21ZM18.45,9,17,7.55Zm-12,3A5.31,5.31,0,0,0,4.9,8.1,5.31,5.31,0,0,0,1,6.5,5.31,5.31,0,0,0,4.9,4.9,5.31,5.31,0,0,0,6.5,1,5.31,5.31,0,0,0,8.1,4.9,5.31,5.31,0,0,0,12,6.5,5.46,5.46,0,0,0,6.5,12Z\"/>\n",
              "  </svg>\n",
              "    </button>\n",
              "    <script>\n",
              "      (() => {\n",
              "      const buttonEl =\n",
              "        document.querySelector('#id_47323dd4-1108-4e26-b784-479cb483d67a button.colab-df-generate');\n",
              "      buttonEl.style.display =\n",
              "        google.colab.kernel.accessAllowed ? 'block' : 'none';\n",
              "\n",
              "      buttonEl.onclick = () => {\n",
              "        google.colab.notebook.generateWithVariable('df');\n",
              "      }\n",
              "      })();\n",
              "    </script>\n",
              "  </div>\n",
              "\n",
              "    </div>\n",
              "  </div>\n"
            ],
            "text/plain": [
              "                                                    text       label  \\\n",
              "0                      shut up lizard faggot nigger cunt  Aggressive   \n",
              "1                                   your a fucking bitch  Aggressive   \n",
              "2                                         Fuck off bitch  Aggressive   \n",
              "3                               show me your pussy bitch  Aggressive   \n",
              "4                             Black Bitch ass mre fucker  Aggressive   \n",
              "...                                                  ...         ...   \n",
              "12379  i feel so exhausted from dealing with drama be...         Sad   \n",
              "12380  i am an unmarried woman and it is difficult to...         Sad   \n",
              "12381  i am feeling a bit dismayed despite the fact t...         Sad   \n",
              "12382  i feel like the disadvantages out weigh the ad...         Sad   \n",
              "12383     i feel crappy about any decision i try to make         Sad   \n",
              "\n",
              "       new_label  \n",
              "0              0  \n",
              "1              0  \n",
              "2              0  \n",
              "3              0  \n",
              "4              0  \n",
              "...          ...  \n",
              "12379          4  \n",
              "12380          4  \n",
              "12381          4  \n",
              "12382          4  \n",
              "12383          4  \n",
              "\n",
              "[12384 rows x 3 columns]"
            ]
          },
          "execution_count": 16,
          "metadata": {},
          "output_type": "execute_result"
        }
      ],
      "source": [
        "df.reset_index(drop=True,inplace=True)\n",
        "df"
      ]
    },
    {
      "cell_type": "code",
      "execution_count": null,
      "metadata": {
        "colab": {
          "base_uri": "https://localhost:8080/",
          "height": 272
        },
        "id": "fkd2DncE3pCZ",
        "outputId": "133f9233-2b38-493a-e586-87045f704bf8"
      },
      "outputs": [
        {
          "data": {
            "text/html": [
              "<div>\n",
              "<style scoped>\n",
              "    .dataframe tbody tr th:only-of-type {\n",
              "        vertical-align: middle;\n",
              "    }\n",
              "\n",
              "    .dataframe tbody tr th {\n",
              "        vertical-align: top;\n",
              "    }\n",
              "\n",
              "    .dataframe thead th {\n",
              "        text-align: right;\n",
              "    }\n",
              "</style>\n",
              "<table border=\"1\" class=\"dataframe\">\n",
              "  <thead>\n",
              "    <tr style=\"text-align: right;\">\n",
              "      <th></th>\n",
              "      <th></th>\n",
              "      <th>count</th>\n",
              "    </tr>\n",
              "    <tr>\n",
              "      <th>label</th>\n",
              "      <th>new_label</th>\n",
              "      <th></th>\n",
              "    </tr>\n",
              "  </thead>\n",
              "  <tbody>\n",
              "    <tr>\n",
              "      <th>Neutral</th>\n",
              "      <th>3</th>\n",
              "      <td>2900</td>\n",
              "    </tr>\n",
              "    <tr>\n",
              "      <th>Sad</th>\n",
              "      <th>4</th>\n",
              "      <td>2602</td>\n",
              "    </tr>\n",
              "    <tr>\n",
              "      <th>Aggressive</th>\n",
              "      <th>0</th>\n",
              "      <td>2400</td>\n",
              "    </tr>\n",
              "    <tr>\n",
              "      <th>Happy</th>\n",
              "      <th>2</th>\n",
              "      <td>2268</td>\n",
              "    </tr>\n",
              "    <tr>\n",
              "      <th>Fear</th>\n",
              "      <th>1</th>\n",
              "      <td>2214</td>\n",
              "    </tr>\n",
              "  </tbody>\n",
              "</table>\n",
              "</div><br><label><b>dtype:</b> int64</label>"
            ],
            "text/plain": [
              "label       new_label\n",
              "Neutral     3            2900\n",
              "Sad         4            2602\n",
              "Aggressive  0            2400\n",
              "Happy       2            2268\n",
              "Fear        1            2214\n",
              "Name: count, dtype: int64"
            ]
          },
          "execution_count": 17,
          "metadata": {},
          "output_type": "execute_result"
        }
      ],
      "source": [
        "df[['label','new_label']].value_counts()"
      ]
    },
    {
      "cell_type": "code",
      "execution_count": null,
      "metadata": {
        "colab": {
          "base_uri": "https://localhost:8080/"
        },
        "id": "UypLxO2o3AzZ",
        "outputId": "272b072d-c3c0-4117-b4e6-96b9a6eed0d6"
      },
      "outputs": [
        {
          "data": {
            "text/plain": [
              "['Aggressive', 'Fear', 'Happy', 'Neutral', 'Sad']"
            ]
          },
          "execution_count": 18,
          "metadata": {},
          "output_type": "execute_result"
        }
      ],
      "source": [
        "# ['aggressive', 'fear', 'happy', 'neutral', 'sad']\n",
        "# ['Abusive','Anger','Fear','Happy','Love','Neutral','Sad']\n",
        "['Aggressive','Fear','Happy','Neutral','Sad']"
      ]
    },
    {
      "cell_type": "code",
      "execution_count": null,
      "metadata": {
        "colab": {
          "base_uri": "https://localhost:8080/"
        },
        "id": "z6-KCh6xtLMu",
        "outputId": "32053e1d-a5fb-45ce-88a8-efa7278d4f8d"
      },
      "outputs": [
        {
          "data": {
            "text/plain": [
              "array(['Aggressive', 'Fear', 'Happy', 'Neutral', 'Sad'], dtype=object)"
            ]
          },
          "execution_count": 19,
          "metadata": {},
          "output_type": "execute_result"
        }
      ],
      "source": [
        "label_encoder.classes_"
      ]
    },
    {
      "cell_type": "code",
      "execution_count": null,
      "metadata": {
        "id": "OGJHuY8CxRHg"
      },
      "outputs": [],
      "source": []
    },
    {
      "cell_type": "code",
      "execution_count": null,
      "metadata": {
        "colab": {
          "base_uri": "https://localhost:8080/"
        },
        "id": "LKHnIVNbspop",
        "outputId": "f4489f3c-793d-448f-b88d-8966e8794a2e"
      },
      "outputs": [
        {
          "name": "stderr",
          "output_type": "stream",
          "text": [
            "[nltk_data] Downloading package stopwords to /root/nltk_data...\n",
            "[nltk_data]   Unzipping corpora/stopwords.zip.\n"
          ]
        }
      ],
      "source": [
        "import re\n",
        "from nltk.corpus import stopwords\n",
        "import nltk\n",
        "nltk.download('stopwords')\n",
        "stop_words = set(stopwords.words('english'))"
      ]
    },
    {
      "cell_type": "code",
      "execution_count": null,
      "metadata": {
        "collapsed": true,
        "id": "qbIA1GJhKqBw"
      },
      "outputs": [],
      "source": [
        "# df = df.head(50)\n",
        "# print(df)\n",
        "\n",
        "def clean_text(text):\n",
        "  text = re.sub(r'\\s+',' ',text).strip().lower()\n",
        "  text = re.sub(r'[^a-z0-9\\s]','',text)\n",
        "  return text\n",
        "\n",
        "\n",
        "  # cleaned_text = []\n",
        "  # for word in text.split(' '):\n",
        "  #   if word.startswith(('@','#')) == True:\n",
        "  #     word = word[1:]\n",
        "  #   if word not in stop_words:\n",
        "  #     cleaned_text.append(word)\n",
        "  # return ' '.join(cleaned_text)\n"
      ]
    },
    {
      "cell_type": "code",
      "execution_count": null,
      "metadata": {
        "colab": {
          "base_uri": "https://localhost:8080/",
          "height": 1000
        },
        "collapsed": true,
        "id": "3cjheHDvLGNn",
        "outputId": "86065179-a3e3-476c-c1af-764ec7310244"
      },
      "outputs": [
        {
          "data": {
            "text/html": [
              "<div>\n",
              "<style scoped>\n",
              "    .dataframe tbody tr th:only-of-type {\n",
              "        vertical-align: middle;\n",
              "    }\n",
              "\n",
              "    .dataframe tbody tr th {\n",
              "        vertical-align: top;\n",
              "    }\n",
              "\n",
              "    .dataframe thead th {\n",
              "        text-align: right;\n",
              "    }\n",
              "</style>\n",
              "<table border=\"1\" class=\"dataframe\">\n",
              "  <thead>\n",
              "    <tr style=\"text-align: right;\">\n",
              "      <th></th>\n",
              "      <th>text</th>\n",
              "    </tr>\n",
              "  </thead>\n",
              "  <tbody>\n",
              "    <tr>\n",
              "      <th>123</th>\n",
              "      <td>hi shit head go fuck yourself</td>\n",
              "    </tr>\n",
              "    <tr>\n",
              "      <th>1381</th>\n",
              "      <td>im feeling awfully rude</td>\n",
              "    </tr>\n",
              "    <tr>\n",
              "      <th>2427</th>\n",
              "      <td>i have never really left rowan i feel anxious ...</td>\n",
              "    </tr>\n",
              "    <tr>\n",
              "      <th>542</th>\n",
              "      <td>Ass rape Are you in an ass raping relationship...</td>\n",
              "    </tr>\n",
              "    <tr>\n",
              "      <th>381</th>\n",
              "      <td>Suck a dick and choke you bitch</td>\n",
              "    </tr>\n",
              "    <tr>\n",
              "      <th>670</th>\n",
              "      <td>Fuck You  You think you are the shit dont you ...</td>\n",
              "    </tr>\n",
              "    <tr>\n",
              "      <th>2882</th>\n",
              "      <td>im scared and you are bigger than me and i fee...</td>\n",
              "    </tr>\n",
              "    <tr>\n",
              "      <th>4220</th>\n",
              "      <td>i feel apprehensive about teaching my soon to ...</td>\n",
              "    </tr>\n",
              "    <tr>\n",
              "      <th>1163</th>\n",
              "      <td>OKAY BUT LIKE HEAR ME OUT A GPS app that local...</td>\n",
              "    </tr>\n",
              "    <tr>\n",
              "      <th>6695</th>\n",
              "      <td>Tiny background info, I work gallery security ...</td>\n",
              "    </tr>\n",
              "    <tr>\n",
              "      <th>4624</th>\n",
              "      <td>i feel triumphant also</td>\n",
              "    </tr>\n",
              "    <tr>\n",
              "      <th>795</th>\n",
              "      <td>Now people want to attack eminem because hes o...</td>\n",
              "    </tr>\n",
              "    <tr>\n",
              "      <th>9890</th>\n",
              "      <td>i dont know if i still have the power to put a...</td>\n",
              "    </tr>\n",
              "    <tr>\n",
              "      <th>1185</th>\n",
              "      <td>point living hate lifeim young hate school uni...</td>\n",
              "    </tr>\n",
              "    <tr>\n",
              "      <th>1287</th>\n",
              "      <td>i feel cranky and angry</td>\n",
              "    </tr>\n",
              "    <tr>\n",
              "      <th>11113</th>\n",
              "      <td>i don t want to keep my feeling repressed and ...</td>\n",
              "    </tr>\n",
              "    <tr>\n",
              "      <th>7452</th>\n",
              "      <td>What is your favourite political commentary ne...</td>\n",
              "    </tr>\n",
              "    <tr>\n",
              "      <th>4171</th>\n",
              "      <td>It was all over the news. Unidentified aircraf...</td>\n",
              "    </tr>\n",
              "    <tr>\n",
              "      <th>3463</th>\n",
              "      <td>i zipped myself up feeling really fucking conf...</td>\n",
              "    </tr>\n",
              "    <tr>\n",
              "      <th>8392</th>\n",
              "      <td>Cool . What will they think of next ? How much...</td>\n",
              "    </tr>\n",
              "    <tr>\n",
              "      <th>11699</th>\n",
              "      <td>i feel terribly helpless sometimes but even wi...</td>\n",
              "    </tr>\n",
              "    <tr>\n",
              "      <th>10068</th>\n",
              "      <td>im not actually sure when i think about it whe...</td>\n",
              "    </tr>\n",
              "    <tr>\n",
              "      <th>3037</th>\n",
              "      <td>The one thing I worry about is that the 9-5 \"w...</td>\n",
              "    </tr>\n",
              "    <tr>\n",
              "      <th>3145</th>\n",
              "      <td>i am terrified of any contact with them throug...</td>\n",
              "    </tr>\n",
              "    <tr>\n",
              "      <th>12281</th>\n",
              "      <td>i am feeling quite unloved by this and think t...</td>\n",
              "    </tr>\n",
              "    <tr>\n",
              "      <th>11000</th>\n",
              "      <td>i was feeling really discouraged</td>\n",
              "    </tr>\n",
              "    <tr>\n",
              "      <th>8892</th>\n",
              "      <td>Don  t worry . There are many other options us...</td>\n",
              "    </tr>\n",
              "    <tr>\n",
              "      <th>1393</th>\n",
              "      <td>i feel outraged</td>\n",
              "    </tr>\n",
              "    <tr>\n",
              "      <th>2946</th>\n",
              "      <td>A mother and her son lived in an apartment on ...</td>\n",
              "    </tr>\n",
              "    <tr>\n",
              "      <th>757</th>\n",
              "      <td>wanting more I want to kill myself because its...</td>\n",
              "    </tr>\n",
              "    <tr>\n",
              "      <th>254</th>\n",
              "      <td>What a motherfucking piece of crap those fuckh...</td>\n",
              "    </tr>\n",
              "    <tr>\n",
              "      <th>4613</th>\n",
              "      <td>we were driving on a very dusty road at night ...</td>\n",
              "    </tr>\n",
              "    <tr>\n",
              "      <th>3192</th>\n",
              "      <td>i walked into this program feeling overwhelmed...</td>\n",
              "    </tr>\n",
              "    <tr>\n",
              "      <th>1441</th>\n",
              "      <td>He was aggrieved that people didnt recognize h...</td>\n",
              "    </tr>\n",
              "    <tr>\n",
              "      <th>7885</th>\n",
              "      <td>Do you have cash app?</td>\n",
              "    </tr>\n",
              "    <tr>\n",
              "      <th>10993</th>\n",
              "      <td>i feel that i have clearly been a disappointme...</td>\n",
              "    </tr>\n",
              "    <tr>\n",
              "      <th>4923</th>\n",
              "      <td>I love him!</td>\n",
              "    </tr>\n",
              "    <tr>\n",
              "      <th>10331</th>\n",
              "      <td>i feel so lost and abandoned by everyone inclu...</td>\n",
              "    </tr>\n",
              "    <tr>\n",
              "      <th>843</th>\n",
              "      <td>I think it is 100 fucked that my life was ruin...</td>\n",
              "    </tr>\n",
              "    <tr>\n",
              "      <th>9293</th>\n",
              "      <td>Yes , you can take your letters to the counter...</td>\n",
              "    </tr>\n",
              "  </tbody>\n",
              "</table>\n",
              "</div><br><label><b>dtype:</b> object</label>"
            ],
            "text/plain": [
              "123                          hi shit head go fuck yourself\n",
              "1381                               im feeling awfully rude\n",
              "2427     i have never really left rowan i feel anxious ...\n",
              "542      Ass rape Are you in an ass raping relationship...\n",
              "381                        Suck a dick and choke you bitch\n",
              "670      Fuck You  You think you are the shit dont you ...\n",
              "2882     im scared and you are bigger than me and i fee...\n",
              "4220     i feel apprehensive about teaching my soon to ...\n",
              "1163     OKAY BUT LIKE HEAR ME OUT A GPS app that local...\n",
              "6695     Tiny background info, I work gallery security ...\n",
              "4624                                i feel triumphant also\n",
              "795      Now people want to attack eminem because hes o...\n",
              "9890     i dont know if i still have the power to put a...\n",
              "1185     point living hate lifeim young hate school uni...\n",
              "1287                               i feel cranky and angry\n",
              "11113    i don t want to keep my feeling repressed and ...\n",
              "7452     What is your favourite political commentary ne...\n",
              "4171     It was all over the news. Unidentified aircraf...\n",
              "3463     i zipped myself up feeling really fucking conf...\n",
              "8392     Cool . What will they think of next ? How much...\n",
              "11699    i feel terribly helpless sometimes but even wi...\n",
              "10068    im not actually sure when i think about it whe...\n",
              "3037     The one thing I worry about is that the 9-5 \"w...\n",
              "3145     i am terrified of any contact with them throug...\n",
              "12281    i am feeling quite unloved by this and think t...\n",
              "11000                     i was feeling really discouraged\n",
              "8892     Don  t worry . There are many other options us...\n",
              "1393                                       i feel outraged\n",
              "2946     A mother and her son lived in an apartment on ...\n",
              "757      wanting more I want to kill myself because its...\n",
              "254      What a motherfucking piece of crap those fuckh...\n",
              "4613     we were driving on a very dusty road at night ...\n",
              "3192     i walked into this program feeling overwhelmed...\n",
              "1441     He was aggrieved that people didnt recognize h...\n",
              "7885                                 Do you have cash app?\n",
              "10993    i feel that i have clearly been a disappointme...\n",
              "4923                                           I love him!\n",
              "10331    i feel so lost and abandoned by everyone inclu...\n",
              "843      I think it is 100 fucked that my life was ruin...\n",
              "9293     Yes , you can take your letters to the counter...\n",
              "Name: text, dtype: object"
            ]
          },
          "execution_count": 22,
          "metadata": {},
          "output_type": "execute_result"
        }
      ],
      "source": [
        "df.text.sample(40)"
      ]
    },
    {
      "cell_type": "code",
      "execution_count": null,
      "metadata": {
        "colab": {
          "base_uri": "https://localhost:8080/",
          "height": 35
        },
        "id": "He4CxVsOK2ab",
        "outputId": "5209c109-5c7f-4508-e72f-6eda5a0e0202"
      },
      "outputs": [
        {
          "data": {
            "application/vnd.google.colaboratory.intrinsic+json": {
              "type": "string"
            },
            "text/plain": [
              "'must have got the same person in who did that elijah statue'"
            ]
          },
          "execution_count": 23,
          "metadata": {},
          "output_type": "execute_result"
        }
      ],
      "source": [
        "clean_text(df['text'][8501])"
      ]
    },
    {
      "cell_type": "code",
      "execution_count": null,
      "metadata": {
        "id": "VePf8zxq56YM"
      },
      "outputs": [],
      "source": [
        "df['text'] = df['text'].apply(clean_text)"
      ]
    },
    {
      "cell_type": "code",
      "execution_count": null,
      "metadata": {
        "colab": {
          "base_uri": "https://localhost:8080/",
          "height": 272
        },
        "id": "SRNCqpnVvem4",
        "outputId": "0d3a88e2-6d72-4e81-bad7-4fbdf0eda4bb"
      },
      "outputs": [
        {
          "data": {
            "text/html": [
              "<div>\n",
              "<style scoped>\n",
              "    .dataframe tbody tr th:only-of-type {\n",
              "        vertical-align: middle;\n",
              "    }\n",
              "\n",
              "    .dataframe tbody tr th {\n",
              "        vertical-align: top;\n",
              "    }\n",
              "\n",
              "    .dataframe thead th {\n",
              "        text-align: right;\n",
              "    }\n",
              "</style>\n",
              "<table border=\"1\" class=\"dataframe\">\n",
              "  <thead>\n",
              "    <tr style=\"text-align: right;\">\n",
              "      <th></th>\n",
              "      <th>count</th>\n",
              "    </tr>\n",
              "    <tr>\n",
              "      <th>label</th>\n",
              "      <th></th>\n",
              "    </tr>\n",
              "  </thead>\n",
              "  <tbody>\n",
              "    <tr>\n",
              "      <th>Neutral</th>\n",
              "      <td>2894</td>\n",
              "    </tr>\n",
              "    <tr>\n",
              "      <th>Sad</th>\n",
              "      <td>2602</td>\n",
              "    </tr>\n",
              "    <tr>\n",
              "      <th>Aggressive</th>\n",
              "      <td>2395</td>\n",
              "    </tr>\n",
              "    <tr>\n",
              "      <th>Happy</th>\n",
              "      <td>2252</td>\n",
              "    </tr>\n",
              "    <tr>\n",
              "      <th>Fear</th>\n",
              "      <td>2214</td>\n",
              "    </tr>\n",
              "  </tbody>\n",
              "</table>\n",
              "</div><br><label><b>dtype:</b> int64</label>"
            ],
            "text/plain": [
              "label\n",
              "Neutral       2894\n",
              "Sad           2602\n",
              "Aggressive    2395\n",
              "Happy         2252\n",
              "Fear          2214\n",
              "Name: count, dtype: int64"
            ]
          },
          "execution_count": 25,
          "metadata": {},
          "output_type": "execute_result"
        }
      ],
      "source": [
        "df.duplicated().sum()\n",
        "df.drop_duplicates(inplace=True)\n",
        "df.label.value_counts()"
      ]
    },
    {
      "cell_type": "code",
      "execution_count": null,
      "metadata": {
        "colab": {
          "base_uri": "https://localhost:8080/",
          "height": 424
        },
        "id": "4-YdfgbDqEaZ",
        "outputId": "5f282d3f-8404-4105-eb6a-17afe78b6fce"
      },
      "outputs": [
        {
          "data": {
            "application/vnd.google.colaboratory.intrinsic+json": {
              "summary": "{\n  \"name\": \"df\",\n  \"rows\": 12357,\n  \"fields\": [\n    {\n      \"column\": \"text\",\n      \"properties\": {\n        \"dtype\": \"string\",\n        \"num_unique_values\": 12354,\n        \"samples\": [\n          \"i mean shes barely into college so shes only maybe 1820 but to be this oblivious is pretty sad\",\n          \"leave me alone \",\n          \"im in no position to belittle anyone elses phobias but i must confess to feeling a bit resentful theyll give valium to claustrophobic patients before a non invasive mri but they just laugh when i suggest they might want to sedate needlephobic me prior to an emg\"\n        ],\n        \"semantic_type\": \"\",\n        \"description\": \"\"\n      }\n    },\n    {\n      \"column\": \"label\",\n      \"properties\": {\n        \"dtype\": \"category\",\n        \"num_unique_values\": 5,\n        \"samples\": [\n          \"Fear\",\n          \"Happy\",\n          \"Aggressive\"\n        ],\n        \"semantic_type\": \"\",\n        \"description\": \"\"\n      }\n    },\n    {\n      \"column\": \"new_label\",\n      \"properties\": {\n        \"dtype\": \"number\",\n        \"std\": 1,\n        \"min\": 0,\n        \"max\": 4,\n        \"num_unique_values\": 5,\n        \"samples\": [\n          1,\n          2,\n          0\n        ],\n        \"semantic_type\": \"\",\n        \"description\": \"\"\n      }\n    },\n    {\n      \"column\": \"length\",\n      \"properties\": {\n        \"dtype\": \"number\",\n        \"std\": 139,\n        \"min\": 1,\n        \"max\": 1618,\n        \"num_unique_values\": 653,\n        \"samples\": [\n          590,\n          380,\n          456\n        ],\n        \"semantic_type\": \"\",\n        \"description\": \"\"\n      }\n    }\n  ]\n}",
              "type": "dataframe"
            },
            "text/html": [
              "\n",
              "  <div id=\"df-812d6c89-e664-4bee-bd5e-963cf3a84ee3\" class=\"colab-df-container\">\n",
              "    <div>\n",
              "<style scoped>\n",
              "    .dataframe tbody tr th:only-of-type {\n",
              "        vertical-align: middle;\n",
              "    }\n",
              "\n",
              "    .dataframe tbody tr th {\n",
              "        vertical-align: top;\n",
              "    }\n",
              "\n",
              "    .dataframe thead th {\n",
              "        text-align: right;\n",
              "    }\n",
              "</style>\n",
              "<table border=\"1\" class=\"dataframe\">\n",
              "  <thead>\n",
              "    <tr style=\"text-align: right;\">\n",
              "      <th></th>\n",
              "      <th>text</th>\n",
              "      <th>label</th>\n",
              "      <th>new_label</th>\n",
              "      <th>length</th>\n",
              "    </tr>\n",
              "  </thead>\n",
              "  <tbody>\n",
              "    <tr>\n",
              "      <th>7892</th>\n",
              "      <td>in a comparison of each alltime great in every...</td>\n",
              "      <td>Neutral</td>\n",
              "      <td>3</td>\n",
              "      <td>1618</td>\n",
              "    </tr>\n",
              "    <tr>\n",
              "      <th>3469</th>\n",
              "      <td>for most people at my age sleeping is their fa...</td>\n",
              "      <td>Fear</td>\n",
              "      <td>1</td>\n",
              "      <td>1587</td>\n",
              "    </tr>\n",
              "    <tr>\n",
              "      <th>2338</th>\n",
              "      <td>what is causing this i dont know what causes m...</td>\n",
              "      <td>Aggressive</td>\n",
              "      <td>0</td>\n",
              "      <td>1290</td>\n",
              "    </tr>\n",
              "    <tr>\n",
              "      <th>9809</th>\n",
              "      <td>i know nobody will read this but i am bored an...</td>\n",
              "      <td>Sad</td>\n",
              "      <td>4</td>\n",
              "      <td>1173</td>\n",
              "    </tr>\n",
              "    <tr>\n",
              "      <th>9966</th>\n",
              "      <td>my life is a complete mess right now and so am...</td>\n",
              "      <td>Sad</td>\n",
              "      <td>4</td>\n",
              "      <td>1166</td>\n",
              "    </tr>\n",
              "    <tr>\n",
              "      <th>...</th>\n",
              "      <td>...</td>\n",
              "      <td>...</td>\n",
              "      <td>...</td>\n",
              "      <td>...</td>\n",
              "    </tr>\n",
              "    <tr>\n",
              "      <th>4817</th>\n",
              "      <td>hallelujah</td>\n",
              "      <td>Happy</td>\n",
              "      <td>2</td>\n",
              "      <td>1</td>\n",
              "    </tr>\n",
              "    <tr>\n",
              "      <th>235</th>\n",
              "      <td>niggers</td>\n",
              "      <td>Aggressive</td>\n",
              "      <td>0</td>\n",
              "      <td>1</td>\n",
              "    </tr>\n",
              "    <tr>\n",
              "      <th>8700</th>\n",
              "      <td>yes</td>\n",
              "      <td>Neutral</td>\n",
              "      <td>3</td>\n",
              "      <td>1</td>\n",
              "    </tr>\n",
              "    <tr>\n",
              "      <th>8365</th>\n",
              "      <td>hello</td>\n",
              "      <td>Neutral</td>\n",
              "      <td>3</td>\n",
              "      <td>1</td>\n",
              "    </tr>\n",
              "    <tr>\n",
              "      <th>22</th>\n",
              "      <td>weirdo</td>\n",
              "      <td>Aggressive</td>\n",
              "      <td>0</td>\n",
              "      <td>1</td>\n",
              "    </tr>\n",
              "  </tbody>\n",
              "</table>\n",
              "<p>12357 rows × 4 columns</p>\n",
              "</div>\n",
              "    <div class=\"colab-df-buttons\">\n",
              "\n",
              "  <div class=\"colab-df-container\">\n",
              "    <button class=\"colab-df-convert\" onclick=\"convertToInteractive('df-812d6c89-e664-4bee-bd5e-963cf3a84ee3')\"\n",
              "            title=\"Convert this dataframe to an interactive table.\"\n",
              "            style=\"display:none;\">\n",
              "\n",
              "  <svg xmlns=\"http://www.w3.org/2000/svg\" height=\"24px\" viewBox=\"0 -960 960 960\">\n",
              "    <path d=\"M120-120v-720h720v720H120Zm60-500h600v-160H180v160Zm220 220h160v-160H400v160Zm0 220h160v-160H400v160ZM180-400h160v-160H180v160Zm440 0h160v-160H620v160ZM180-180h160v-160H180v160Zm440 0h160v-160H620v160Z\"/>\n",
              "  </svg>\n",
              "    </button>\n",
              "\n",
              "  <style>\n",
              "    .colab-df-container {\n",
              "      display:flex;\n",
              "      gap: 12px;\n",
              "    }\n",
              "\n",
              "    .colab-df-convert {\n",
              "      background-color: #E8F0FE;\n",
              "      border: none;\n",
              "      border-radius: 50%;\n",
              "      cursor: pointer;\n",
              "      display: none;\n",
              "      fill: #1967D2;\n",
              "      height: 32px;\n",
              "      padding: 0 0 0 0;\n",
              "      width: 32px;\n",
              "    }\n",
              "\n",
              "    .colab-df-convert:hover {\n",
              "      background-color: #E2EBFA;\n",
              "      box-shadow: 0px 1px 2px rgba(60, 64, 67, 0.3), 0px 1px 3px 1px rgba(60, 64, 67, 0.15);\n",
              "      fill: #174EA6;\n",
              "    }\n",
              "\n",
              "    .colab-df-buttons div {\n",
              "      margin-bottom: 4px;\n",
              "    }\n",
              "\n",
              "    [theme=dark] .colab-df-convert {\n",
              "      background-color: #3B4455;\n",
              "      fill: #D2E3FC;\n",
              "    }\n",
              "\n",
              "    [theme=dark] .colab-df-convert:hover {\n",
              "      background-color: #434B5C;\n",
              "      box-shadow: 0px 1px 3px 1px rgba(0, 0, 0, 0.15);\n",
              "      filter: drop-shadow(0px 1px 2px rgba(0, 0, 0, 0.3));\n",
              "      fill: #FFFFFF;\n",
              "    }\n",
              "  </style>\n",
              "\n",
              "    <script>\n",
              "      const buttonEl =\n",
              "        document.querySelector('#df-812d6c89-e664-4bee-bd5e-963cf3a84ee3 button.colab-df-convert');\n",
              "      buttonEl.style.display =\n",
              "        google.colab.kernel.accessAllowed ? 'block' : 'none';\n",
              "\n",
              "      async function convertToInteractive(key) {\n",
              "        const element = document.querySelector('#df-812d6c89-e664-4bee-bd5e-963cf3a84ee3');\n",
              "        const dataTable =\n",
              "          await google.colab.kernel.invokeFunction('convertToInteractive',\n",
              "                                                    [key], {});\n",
              "        if (!dataTable) return;\n",
              "\n",
              "        const docLinkHtml = 'Like what you see? Visit the ' +\n",
              "          '<a target=\"_blank\" href=https://colab.research.google.com/notebooks/data_table.ipynb>data table notebook</a>'\n",
              "          + ' to learn more about interactive tables.';\n",
              "        element.innerHTML = '';\n",
              "        dataTable['output_type'] = 'display_data';\n",
              "        await google.colab.output.renderOutput(dataTable, element);\n",
              "        const docLink = document.createElement('div');\n",
              "        docLink.innerHTML = docLinkHtml;\n",
              "        element.appendChild(docLink);\n",
              "      }\n",
              "    </script>\n",
              "  </div>\n",
              "\n",
              "\n",
              "<div id=\"df-ddaba4a5-79fd-4794-98ab-a50fd785df6a\">\n",
              "  <button class=\"colab-df-quickchart\" onclick=\"quickchart('df-ddaba4a5-79fd-4794-98ab-a50fd785df6a')\"\n",
              "            title=\"Suggest charts\"\n",
              "            style=\"display:none;\">\n",
              "\n",
              "<svg xmlns=\"http://www.w3.org/2000/svg\" height=\"24px\"viewBox=\"0 0 24 24\"\n",
              "     width=\"24px\">\n",
              "    <g>\n",
              "        <path d=\"M19 3H5c-1.1 0-2 .9-2 2v14c0 1.1.9 2 2 2h14c1.1 0 2-.9 2-2V5c0-1.1-.9-2-2-2zM9 17H7v-7h2v7zm4 0h-2V7h2v10zm4 0h-2v-4h2v4z\"/>\n",
              "    </g>\n",
              "</svg>\n",
              "  </button>\n",
              "\n",
              "<style>\n",
              "  .colab-df-quickchart {\n",
              "      --bg-color: #E8F0FE;\n",
              "      --fill-color: #1967D2;\n",
              "      --hover-bg-color: #E2EBFA;\n",
              "      --hover-fill-color: #174EA6;\n",
              "      --disabled-fill-color: #AAA;\n",
              "      --disabled-bg-color: #DDD;\n",
              "  }\n",
              "\n",
              "  [theme=dark] .colab-df-quickchart {\n",
              "      --bg-color: #3B4455;\n",
              "      --fill-color: #D2E3FC;\n",
              "      --hover-bg-color: #434B5C;\n",
              "      --hover-fill-color: #FFFFFF;\n",
              "      --disabled-bg-color: #3B4455;\n",
              "      --disabled-fill-color: #666;\n",
              "  }\n",
              "\n",
              "  .colab-df-quickchart {\n",
              "    background-color: var(--bg-color);\n",
              "    border: none;\n",
              "    border-radius: 50%;\n",
              "    cursor: pointer;\n",
              "    display: none;\n",
              "    fill: var(--fill-color);\n",
              "    height: 32px;\n",
              "    padding: 0;\n",
              "    width: 32px;\n",
              "  }\n",
              "\n",
              "  .colab-df-quickchart:hover {\n",
              "    background-color: var(--hover-bg-color);\n",
              "    box-shadow: 0 1px 2px rgba(60, 64, 67, 0.3), 0 1px 3px 1px rgba(60, 64, 67, 0.15);\n",
              "    fill: var(--button-hover-fill-color);\n",
              "  }\n",
              "\n",
              "  .colab-df-quickchart-complete:disabled,\n",
              "  .colab-df-quickchart-complete:disabled:hover {\n",
              "    background-color: var(--disabled-bg-color);\n",
              "    fill: var(--disabled-fill-color);\n",
              "    box-shadow: none;\n",
              "  }\n",
              "\n",
              "  .colab-df-spinner {\n",
              "    border: 2px solid var(--fill-color);\n",
              "    border-color: transparent;\n",
              "    border-bottom-color: var(--fill-color);\n",
              "    animation:\n",
              "      spin 1s steps(1) infinite;\n",
              "  }\n",
              "\n",
              "  @keyframes spin {\n",
              "    0% {\n",
              "      border-color: transparent;\n",
              "      border-bottom-color: var(--fill-color);\n",
              "      border-left-color: var(--fill-color);\n",
              "    }\n",
              "    20% {\n",
              "      border-color: transparent;\n",
              "      border-left-color: var(--fill-color);\n",
              "      border-top-color: var(--fill-color);\n",
              "    }\n",
              "    30% {\n",
              "      border-color: transparent;\n",
              "      border-left-color: var(--fill-color);\n",
              "      border-top-color: var(--fill-color);\n",
              "      border-right-color: var(--fill-color);\n",
              "    }\n",
              "    40% {\n",
              "      border-color: transparent;\n",
              "      border-right-color: var(--fill-color);\n",
              "      border-top-color: var(--fill-color);\n",
              "    }\n",
              "    60% {\n",
              "      border-color: transparent;\n",
              "      border-right-color: var(--fill-color);\n",
              "    }\n",
              "    80% {\n",
              "      border-color: transparent;\n",
              "      border-right-color: var(--fill-color);\n",
              "      border-bottom-color: var(--fill-color);\n",
              "    }\n",
              "    90% {\n",
              "      border-color: transparent;\n",
              "      border-bottom-color: var(--fill-color);\n",
              "    }\n",
              "  }\n",
              "</style>\n",
              "\n",
              "  <script>\n",
              "    async function quickchart(key) {\n",
              "      const quickchartButtonEl =\n",
              "        document.querySelector('#' + key + ' button');\n",
              "      quickchartButtonEl.disabled = true;  // To prevent multiple clicks.\n",
              "      quickchartButtonEl.classList.add('colab-df-spinner');\n",
              "      try {\n",
              "        const charts = await google.colab.kernel.invokeFunction(\n",
              "            'suggestCharts', [key], {});\n",
              "      } catch (error) {\n",
              "        console.error('Error during call to suggestCharts:', error);\n",
              "      }\n",
              "      quickchartButtonEl.classList.remove('colab-df-spinner');\n",
              "      quickchartButtonEl.classList.add('colab-df-quickchart-complete');\n",
              "    }\n",
              "    (() => {\n",
              "      let quickchartButtonEl =\n",
              "        document.querySelector('#df-ddaba4a5-79fd-4794-98ab-a50fd785df6a button');\n",
              "      quickchartButtonEl.style.display =\n",
              "        google.colab.kernel.accessAllowed ? 'block' : 'none';\n",
              "    })();\n",
              "  </script>\n",
              "</div>\n",
              "\n",
              "    </div>\n",
              "  </div>\n"
            ],
            "text/plain": [
              "                                                   text       label  \\\n",
              "7892  in a comparison of each alltime great in every...     Neutral   \n",
              "3469  for most people at my age sleeping is their fa...        Fear   \n",
              "2338  what is causing this i dont know what causes m...  Aggressive   \n",
              "9809  i know nobody will read this but i am bored an...         Sad   \n",
              "9966  my life is a complete mess right now and so am...         Sad   \n",
              "...                                                 ...         ...   \n",
              "4817                                         hallelujah       Happy   \n",
              "235                                             niggers  Aggressive   \n",
              "8700                                               yes      Neutral   \n",
              "8365                                             hello      Neutral   \n",
              "22                                               weirdo  Aggressive   \n",
              "\n",
              "      new_label  length  \n",
              "7892          3    1618  \n",
              "3469          1    1587  \n",
              "2338          0    1290  \n",
              "9809          4    1173  \n",
              "9966          4    1166  \n",
              "...         ...     ...  \n",
              "4817          2       1  \n",
              "235           0       1  \n",
              "8700          3       1  \n",
              "8365          3       1  \n",
              "22            0       1  \n",
              "\n",
              "[12357 rows x 4 columns]"
            ]
          },
          "execution_count": 26,
          "metadata": {},
          "output_type": "execute_result"
        }
      ],
      "source": [
        "df['length'] = df['text'].str.split().map(len)\n",
        "df.duplicated().sum()\n",
        "df.sort_values(by='length', ascending=False)"
      ]
    },
    {
      "cell_type": "code",
      "execution_count": null,
      "metadata": {
        "colab": {
          "base_uri": "https://localhost:8080/",
          "height": 240,
          "referenced_widgets": [
            "2c17cccce32f471bb42dd7ec96fe0572",
            "b5e3b8d35e244603b7dfc94e87b5ced4",
            "495567a758d5481699977acb4ede0aa1",
            "6faf0b641d304569be9245b4da7f3067",
            "f1f7b7c2dc534184841f5297d3e26128",
            "f646550e4cd84b14a63c21b77e2ece50",
            "51d130d381384316a8eb2da41007fbb4",
            "9108438e474648498817852f1e743ad4",
            "8b68db9dc3884403a2487e5b8d088c3e",
            "a8bd7cfb0e1147669c08c34402644a4f",
            "01e3a7e2cca7453f94c369c68660e166",
            "0c9562469b9c414b8dc2487c73854720",
            "9abb991aba4d4a91bba2739404d20bfe",
            "7ce5f886ea654f72a13d2ea36a2f1387",
            "8277a7af63eb428796d885e202f16688",
            "16560eabdf6d426ba3797f2561c9602b",
            "18af6d58f2a14cb6a026ac5716a72c8f",
            "319abc6afe18444f816e0092c5820023",
            "48e0896e290e45f98a6c1764df516ad3",
            "0a3a487934974c13843a090c00ebf0bd",
            "21d89a65c45d4458a4e5d4f7e6d89f8f",
            "68e7a4e7896e41fc91d651fda9e24ed4",
            "46c85a9db8974b56a25de4ee1647636f",
            "acb9e57186f7468cb6ba5978bcb1dad5",
            "77cbb953db8549fbab73dea059559977",
            "4b2986fed0814e30ace41b3ef25e1b32",
            "7ee0fca7ed52494bb176fd58c1d5fe84",
            "3fdba3b56d0e4b718b8e86e3ab59c6a9",
            "72504c490fc74137a5f1f5a99d451cb9",
            "af28b58e48a94b9ab03f3b8c378c4b9c",
            "289461e59c8d4919938ba0baedce3a49",
            "10b9e81ec4fb4500b480d9c29c048d5e",
            "0a842e79c64d47db93d0523d6de45db6"
          ]
        },
        "id": "6CAxWLqqJ1Ut",
        "outputId": "fe873743-1183-4136-8231-d5a9b8c1e29b"
      },
      "outputs": [
        {
          "name": "stderr",
          "output_type": "stream",
          "text": [
            "/usr/local/lib/python3.11/dist-packages/huggingface_hub/utils/_auth.py:94: UserWarning: \n",
            "The secret `HF_TOKEN` does not exist in your Colab secrets.\n",
            "To authenticate with the Hugging Face Hub, create a token in your settings tab (https://huggingface.co/settings/tokens), set it as secret in your Google Colab and restart your session.\n",
            "You will be able to reuse this secret in all of your notebooks.\n",
            "Please note that authentication is recommended but still optional to access public models or datasets.\n",
            "  warnings.warn(\n"
          ]
        },
        {
          "data": {
            "application/vnd.jupyter.widget-view+json": {
              "model_id": "2c17cccce32f471bb42dd7ec96fe0572",
              "version_major": 2,
              "version_minor": 0
            },
            "text/plain": [
              "tokenizer_config.json:   0%|          | 0.00/20.8k [00:00<?, ?B/s]"
            ]
          },
          "metadata": {},
          "output_type": "display_data"
        },
        {
          "data": {
            "application/vnd.jupyter.widget-view+json": {
              "model_id": "0c9562469b9c414b8dc2487c73854720",
              "version_major": 2,
              "version_minor": 0
            },
            "text/plain": [
              "tokenizer.json:   0%|          | 0.00/2.13M [00:00<?, ?B/s]"
            ]
          },
          "metadata": {},
          "output_type": "display_data"
        },
        {
          "data": {
            "application/vnd.jupyter.widget-view+json": {
              "model_id": "46c85a9db8974b56a25de4ee1647636f",
              "version_major": 2,
              "version_minor": 0
            },
            "text/plain": [
              "special_tokens_map.json:   0%|          | 0.00/694 [00:00<?, ?B/s]"
            ]
          },
          "metadata": {},
          "output_type": "display_data"
        }
      ],
      "source": [
        "tokenizer = AutoTokenizer.from_pretrained(\"answerdotai/ModernBERT-base\")"
      ]
    },
    {
      "cell_type": "code",
      "execution_count": null,
      "metadata": {
        "colab": {
          "base_uri": "https://localhost:8080/",
          "height": 424
        },
        "id": "TgJqyM7Otj1E",
        "outputId": "fea7a259-9f6d-4e8d-acd3-5686fcd10b82"
      },
      "outputs": [
        {
          "data": {
            "application/vnd.google.colaboratory.intrinsic+json": {
              "summary": "{\n  \"name\": \"df\",\n  \"rows\": 12357,\n  \"fields\": [\n    {\n      \"column\": \"text\",\n      \"properties\": {\n        \"dtype\": \"string\",\n        \"num_unique_values\": 12354,\n        \"samples\": [\n          \"i was feeling pretty gloomy after that hogfart of a loss to the spurs sunday night\",\n          \"fire the medical team\",\n          \"hie i am 23f and until now i dont think there has ever come a day to be excited about my birthday its like this void deep inside of you which just never fills and that feeling just icks you out maybe i just dont wanna feel special\"\n        ],\n        \"semantic_type\": \"\",\n        \"description\": \"\"\n      }\n    },\n    {\n      \"column\": \"label\",\n      \"properties\": {\n        \"dtype\": \"category\",\n        \"num_unique_values\": 5,\n        \"samples\": [\n          \"Fear\",\n          \"Happy\",\n          \"Aggressive\"\n        ],\n        \"semantic_type\": \"\",\n        \"description\": \"\"\n      }\n    },\n    {\n      \"column\": \"new_label\",\n      \"properties\": {\n        \"dtype\": \"number\",\n        \"std\": 1,\n        \"min\": 0,\n        \"max\": 4,\n        \"num_unique_values\": 5,\n        \"samples\": [\n          1,\n          2,\n          0\n        ],\n        \"semantic_type\": \"\",\n        \"description\": \"\"\n      }\n    },\n    {\n      \"column\": \"length\",\n      \"properties\": {\n        \"dtype\": \"number\",\n        \"std\": 139,\n        \"min\": 1,\n        \"max\": 1618,\n        \"num_unique_values\": 653,\n        \"samples\": [\n          590,\n          381,\n          467\n        ],\n        \"semantic_type\": \"\",\n        \"description\": \"\"\n      }\n    },\n    {\n      \"column\": \"tokens\",\n      \"properties\": {\n        \"dtype\": \"number\",\n        \"std\": 150,\n        \"min\": 1,\n        \"max\": 1795,\n        \"num_unique_values\": 707,\n        \"samples\": [\n          228,\n          716,\n          724\n        ],\n        \"semantic_type\": \"\",\n        \"description\": \"\"\n      }\n    }\n  ]\n}",
              "type": "dataframe"
            },
            "text/html": [
              "\n",
              "  <div id=\"df-d0f4f3b8-6807-4794-8aa4-fbcc22b2205d\" class=\"colab-df-container\">\n",
              "    <div>\n",
              "<style scoped>\n",
              "    .dataframe tbody tr th:only-of-type {\n",
              "        vertical-align: middle;\n",
              "    }\n",
              "\n",
              "    .dataframe tbody tr th {\n",
              "        vertical-align: top;\n",
              "    }\n",
              "\n",
              "    .dataframe thead th {\n",
              "        text-align: right;\n",
              "    }\n",
              "</style>\n",
              "<table border=\"1\" class=\"dataframe\">\n",
              "  <thead>\n",
              "    <tr style=\"text-align: right;\">\n",
              "      <th></th>\n",
              "      <th>text</th>\n",
              "      <th>label</th>\n",
              "      <th>new_label</th>\n",
              "      <th>length</th>\n",
              "      <th>tokens</th>\n",
              "    </tr>\n",
              "  </thead>\n",
              "  <tbody>\n",
              "    <tr>\n",
              "      <th>7892</th>\n",
              "      <td>in a comparison of each alltime great in every...</td>\n",
              "      <td>Neutral</td>\n",
              "      <td>3</td>\n",
              "      <td>1618</td>\n",
              "      <td>1795</td>\n",
              "    </tr>\n",
              "    <tr>\n",
              "      <th>3469</th>\n",
              "      <td>for most people at my age sleeping is their fa...</td>\n",
              "      <td>Fear</td>\n",
              "      <td>1</td>\n",
              "      <td>1587</td>\n",
              "      <td>1669</td>\n",
              "    </tr>\n",
              "    <tr>\n",
              "      <th>2338</th>\n",
              "      <td>what is causing this i dont know what causes m...</td>\n",
              "      <td>Aggressive</td>\n",
              "      <td>0</td>\n",
              "      <td>1290</td>\n",
              "      <td>1318</td>\n",
              "    </tr>\n",
              "    <tr>\n",
              "      <th>9809</th>\n",
              "      <td>i know nobody will read this but i am bored an...</td>\n",
              "      <td>Sad</td>\n",
              "      <td>4</td>\n",
              "      <td>1173</td>\n",
              "      <td>1212</td>\n",
              "    </tr>\n",
              "    <tr>\n",
              "      <th>9966</th>\n",
              "      <td>my life is a complete mess right now and so am...</td>\n",
              "      <td>Sad</td>\n",
              "      <td>4</td>\n",
              "      <td>1166</td>\n",
              "      <td>1210</td>\n",
              "    </tr>\n",
              "    <tr>\n",
              "      <th>...</th>\n",
              "      <td>...</td>\n",
              "      <td>...</td>\n",
              "      <td>...</td>\n",
              "      <td>...</td>\n",
              "      <td>...</td>\n",
              "    </tr>\n",
              "    <tr>\n",
              "      <th>5514</th>\n",
              "      <td>yes</td>\n",
              "      <td>Happy</td>\n",
              "      <td>2</td>\n",
              "      <td>1</td>\n",
              "      <td>1</td>\n",
              "    </tr>\n",
              "    <tr>\n",
              "      <th>1234</th>\n",
              "      <td>ugh</td>\n",
              "      <td>Aggressive</td>\n",
              "      <td>0</td>\n",
              "      <td>1</td>\n",
              "      <td>1</td>\n",
              "    </tr>\n",
              "    <tr>\n",
              "      <th>7243</th>\n",
              "      <td>yes</td>\n",
              "      <td>Neutral</td>\n",
              "      <td>3</td>\n",
              "      <td>1</td>\n",
              "      <td>1</td>\n",
              "    </tr>\n",
              "    <tr>\n",
              "      <th>5547</th>\n",
              "      <td>thanks</td>\n",
              "      <td>Happy</td>\n",
              "      <td>2</td>\n",
              "      <td>1</td>\n",
              "      <td>1</td>\n",
              "    </tr>\n",
              "    <tr>\n",
              "      <th>3188</th>\n",
              "      <td>name</td>\n",
              "      <td>Fear</td>\n",
              "      <td>1</td>\n",
              "      <td>1</td>\n",
              "      <td>1</td>\n",
              "    </tr>\n",
              "  </tbody>\n",
              "</table>\n",
              "<p>12357 rows × 5 columns</p>\n",
              "</div>\n",
              "    <div class=\"colab-df-buttons\">\n",
              "\n",
              "  <div class=\"colab-df-container\">\n",
              "    <button class=\"colab-df-convert\" onclick=\"convertToInteractive('df-d0f4f3b8-6807-4794-8aa4-fbcc22b2205d')\"\n",
              "            title=\"Convert this dataframe to an interactive table.\"\n",
              "            style=\"display:none;\">\n",
              "\n",
              "  <svg xmlns=\"http://www.w3.org/2000/svg\" height=\"24px\" viewBox=\"0 -960 960 960\">\n",
              "    <path d=\"M120-120v-720h720v720H120Zm60-500h600v-160H180v160Zm220 220h160v-160H400v160Zm0 220h160v-160H400v160ZM180-400h160v-160H180v160Zm440 0h160v-160H620v160ZM180-180h160v-160H180v160Zm440 0h160v-160H620v160Z\"/>\n",
              "  </svg>\n",
              "    </button>\n",
              "\n",
              "  <style>\n",
              "    .colab-df-container {\n",
              "      display:flex;\n",
              "      gap: 12px;\n",
              "    }\n",
              "\n",
              "    .colab-df-convert {\n",
              "      background-color: #E8F0FE;\n",
              "      border: none;\n",
              "      border-radius: 50%;\n",
              "      cursor: pointer;\n",
              "      display: none;\n",
              "      fill: #1967D2;\n",
              "      height: 32px;\n",
              "      padding: 0 0 0 0;\n",
              "      width: 32px;\n",
              "    }\n",
              "\n",
              "    .colab-df-convert:hover {\n",
              "      background-color: #E2EBFA;\n",
              "      box-shadow: 0px 1px 2px rgba(60, 64, 67, 0.3), 0px 1px 3px 1px rgba(60, 64, 67, 0.15);\n",
              "      fill: #174EA6;\n",
              "    }\n",
              "\n",
              "    .colab-df-buttons div {\n",
              "      margin-bottom: 4px;\n",
              "    }\n",
              "\n",
              "    [theme=dark] .colab-df-convert {\n",
              "      background-color: #3B4455;\n",
              "      fill: #D2E3FC;\n",
              "    }\n",
              "\n",
              "    [theme=dark] .colab-df-convert:hover {\n",
              "      background-color: #434B5C;\n",
              "      box-shadow: 0px 1px 3px 1px rgba(0, 0, 0, 0.15);\n",
              "      filter: drop-shadow(0px 1px 2px rgba(0, 0, 0, 0.3));\n",
              "      fill: #FFFFFF;\n",
              "    }\n",
              "  </style>\n",
              "\n",
              "    <script>\n",
              "      const buttonEl =\n",
              "        document.querySelector('#df-d0f4f3b8-6807-4794-8aa4-fbcc22b2205d button.colab-df-convert');\n",
              "      buttonEl.style.display =\n",
              "        google.colab.kernel.accessAllowed ? 'block' : 'none';\n",
              "\n",
              "      async function convertToInteractive(key) {\n",
              "        const element = document.querySelector('#df-d0f4f3b8-6807-4794-8aa4-fbcc22b2205d');\n",
              "        const dataTable =\n",
              "          await google.colab.kernel.invokeFunction('convertToInteractive',\n",
              "                                                    [key], {});\n",
              "        if (!dataTable) return;\n",
              "\n",
              "        const docLinkHtml = 'Like what you see? Visit the ' +\n",
              "          '<a target=\"_blank\" href=https://colab.research.google.com/notebooks/data_table.ipynb>data table notebook</a>'\n",
              "          + ' to learn more about interactive tables.';\n",
              "        element.innerHTML = '';\n",
              "        dataTable['output_type'] = 'display_data';\n",
              "        await google.colab.output.renderOutput(dataTable, element);\n",
              "        const docLink = document.createElement('div');\n",
              "        docLink.innerHTML = docLinkHtml;\n",
              "        element.appendChild(docLink);\n",
              "      }\n",
              "    </script>\n",
              "  </div>\n",
              "\n",
              "\n",
              "<div id=\"df-8898e540-2ad8-4489-b739-25b91a36fb91\">\n",
              "  <button class=\"colab-df-quickchart\" onclick=\"quickchart('df-8898e540-2ad8-4489-b739-25b91a36fb91')\"\n",
              "            title=\"Suggest charts\"\n",
              "            style=\"display:none;\">\n",
              "\n",
              "<svg xmlns=\"http://www.w3.org/2000/svg\" height=\"24px\"viewBox=\"0 0 24 24\"\n",
              "     width=\"24px\">\n",
              "    <g>\n",
              "        <path d=\"M19 3H5c-1.1 0-2 .9-2 2v14c0 1.1.9 2 2 2h14c1.1 0 2-.9 2-2V5c0-1.1-.9-2-2-2zM9 17H7v-7h2v7zm4 0h-2V7h2v10zm4 0h-2v-4h2v4z\"/>\n",
              "    </g>\n",
              "</svg>\n",
              "  </button>\n",
              "\n",
              "<style>\n",
              "  .colab-df-quickchart {\n",
              "      --bg-color: #E8F0FE;\n",
              "      --fill-color: #1967D2;\n",
              "      --hover-bg-color: #E2EBFA;\n",
              "      --hover-fill-color: #174EA6;\n",
              "      --disabled-fill-color: #AAA;\n",
              "      --disabled-bg-color: #DDD;\n",
              "  }\n",
              "\n",
              "  [theme=dark] .colab-df-quickchart {\n",
              "      --bg-color: #3B4455;\n",
              "      --fill-color: #D2E3FC;\n",
              "      --hover-bg-color: #434B5C;\n",
              "      --hover-fill-color: #FFFFFF;\n",
              "      --disabled-bg-color: #3B4455;\n",
              "      --disabled-fill-color: #666;\n",
              "  }\n",
              "\n",
              "  .colab-df-quickchart {\n",
              "    background-color: var(--bg-color);\n",
              "    border: none;\n",
              "    border-radius: 50%;\n",
              "    cursor: pointer;\n",
              "    display: none;\n",
              "    fill: var(--fill-color);\n",
              "    height: 32px;\n",
              "    padding: 0;\n",
              "    width: 32px;\n",
              "  }\n",
              "\n",
              "  .colab-df-quickchart:hover {\n",
              "    background-color: var(--hover-bg-color);\n",
              "    box-shadow: 0 1px 2px rgba(60, 64, 67, 0.3), 0 1px 3px 1px rgba(60, 64, 67, 0.15);\n",
              "    fill: var(--button-hover-fill-color);\n",
              "  }\n",
              "\n",
              "  .colab-df-quickchart-complete:disabled,\n",
              "  .colab-df-quickchart-complete:disabled:hover {\n",
              "    background-color: var(--disabled-bg-color);\n",
              "    fill: var(--disabled-fill-color);\n",
              "    box-shadow: none;\n",
              "  }\n",
              "\n",
              "  .colab-df-spinner {\n",
              "    border: 2px solid var(--fill-color);\n",
              "    border-color: transparent;\n",
              "    border-bottom-color: var(--fill-color);\n",
              "    animation:\n",
              "      spin 1s steps(1) infinite;\n",
              "  }\n",
              "\n",
              "  @keyframes spin {\n",
              "    0% {\n",
              "      border-color: transparent;\n",
              "      border-bottom-color: var(--fill-color);\n",
              "      border-left-color: var(--fill-color);\n",
              "    }\n",
              "    20% {\n",
              "      border-color: transparent;\n",
              "      border-left-color: var(--fill-color);\n",
              "      border-top-color: var(--fill-color);\n",
              "    }\n",
              "    30% {\n",
              "      border-color: transparent;\n",
              "      border-left-color: var(--fill-color);\n",
              "      border-top-color: var(--fill-color);\n",
              "      border-right-color: var(--fill-color);\n",
              "    }\n",
              "    40% {\n",
              "      border-color: transparent;\n",
              "      border-right-color: var(--fill-color);\n",
              "      border-top-color: var(--fill-color);\n",
              "    }\n",
              "    60% {\n",
              "      border-color: transparent;\n",
              "      border-right-color: var(--fill-color);\n",
              "    }\n",
              "    80% {\n",
              "      border-color: transparent;\n",
              "      border-right-color: var(--fill-color);\n",
              "      border-bottom-color: var(--fill-color);\n",
              "    }\n",
              "    90% {\n",
              "      border-color: transparent;\n",
              "      border-bottom-color: var(--fill-color);\n",
              "    }\n",
              "  }\n",
              "</style>\n",
              "\n",
              "  <script>\n",
              "    async function quickchart(key) {\n",
              "      const quickchartButtonEl =\n",
              "        document.querySelector('#' + key + ' button');\n",
              "      quickchartButtonEl.disabled = true;  // To prevent multiple clicks.\n",
              "      quickchartButtonEl.classList.add('colab-df-spinner');\n",
              "      try {\n",
              "        const charts = await google.colab.kernel.invokeFunction(\n",
              "            'suggestCharts', [key], {});\n",
              "      } catch (error) {\n",
              "        console.error('Error during call to suggestCharts:', error);\n",
              "      }\n",
              "      quickchartButtonEl.classList.remove('colab-df-spinner');\n",
              "      quickchartButtonEl.classList.add('colab-df-quickchart-complete');\n",
              "    }\n",
              "    (() => {\n",
              "      let quickchartButtonEl =\n",
              "        document.querySelector('#df-8898e540-2ad8-4489-b739-25b91a36fb91 button');\n",
              "      quickchartButtonEl.style.display =\n",
              "        google.colab.kernel.accessAllowed ? 'block' : 'none';\n",
              "    })();\n",
              "  </script>\n",
              "</div>\n",
              "\n",
              "    </div>\n",
              "  </div>\n"
            ],
            "text/plain": [
              "                                                   text       label  \\\n",
              "7892  in a comparison of each alltime great in every...     Neutral   \n",
              "3469  for most people at my age sleeping is their fa...        Fear   \n",
              "2338  what is causing this i dont know what causes m...  Aggressive   \n",
              "9809  i know nobody will read this but i am bored an...         Sad   \n",
              "9966  my life is a complete mess right now and so am...         Sad   \n",
              "...                                                 ...         ...   \n",
              "5514                                                yes       Happy   \n",
              "1234                                                ugh  Aggressive   \n",
              "7243                                                yes     Neutral   \n",
              "5547                                             thanks       Happy   \n",
              "3188                                               name        Fear   \n",
              "\n",
              "      new_label  length  tokens  \n",
              "7892          3    1618    1795  \n",
              "3469          1    1587    1669  \n",
              "2338          0    1290    1318  \n",
              "9809          4    1173    1212  \n",
              "9966          4    1166    1210  \n",
              "...         ...     ...     ...  \n",
              "5514          2       1       1  \n",
              "1234          0       1       1  \n",
              "7243          3       1       1  \n",
              "5547          2       1       1  \n",
              "3188          1       1       1  \n",
              "\n",
              "[12357 rows x 5 columns]"
            ]
          },
          "execution_count": 28,
          "metadata": {},
          "output_type": "execute_result"
        }
      ],
      "source": [
        "df['tokens'] = df['text'].apply(lambda x: len(tokenizer.tokenize(x)))\n",
        "df.sort_values(by='tokens', ascending=False)"
      ]
    },
    {
      "cell_type": "markdown",
      "metadata": {
        "id": "c2CF-3Z-u07N"
      },
      "source": [
        "# splitting"
      ]
    },
    {
      "cell_type": "code",
      "execution_count": null,
      "metadata": {
        "id": "FhSiBEBbX6TP"
      },
      "outputs": [],
      "source": [
        "# Train-validation-test split\n",
        "# train_texts, temp_texts, train_labels, temp_labels = train_test_split(\n",
        "#     df['text'].tolist(), df['label'].tolist(), test_size=0.1, random_state=42)\n",
        "# val_texts, test_texts, val_labels, test_labels = train_test_split(\n",
        "#     temp_texts, temp_labels, test_size=0.5, random_state=42)\n",
        "\n",
        "def length_category(text):\n",
        "  word_count = len(text.split())\n",
        "  if word_count <= 5:\n",
        "    return \"very_short\"\n",
        "  elif word_count <= 50:\n",
        "    return \"short\"\n",
        "  elif word_count <= 250:\n",
        "    return \"medium_short\"\n",
        "  elif word_count <= 500:\n",
        "    return \"medium\"\n",
        "  elif word_count <= 1000:\n",
        "    return \"long\"\n",
        "  else:\n",
        "    return \"very_long\"\n",
        "\n",
        "df['length_category'] = df['text'].apply(length_category)\n",
        "\n",
        "train_val_df, test_df = train_test_split(\n",
        "    df, test_size=0.1,stratify=df[['new_label','length_category']], random_state=42\n",
        ")\n",
        "\n",
        "train_df, val_df = train_test_split(\n",
        "    train_val_df, test_size=0.1, stratify=train_val_df[['new_label','length_category']], random_state=42\n",
        ")\n",
        "\n",
        "train_df.drop(columns=['label','length','tokens','length_category'], inplace=True)\n",
        "val_df.drop(columns=['label','length','tokens','length_category'], inplace=True)\n",
        "test_df.drop(columns=['label','length','tokens','length_category'], inplace=True)\n",
        "\n",
        "train_texts, train_labels = train_df['text'].tolist(), train_df['new_label'].tolist()\n",
        "val_texts, val_labels = val_df['text'].tolist(), val_df['new_label'].tolist()\n",
        "test_texts, test_labels = test_df['text'].tolist(), test_df['new_label'].tolist()"
      ]
    },
    {
      "cell_type": "code",
      "execution_count": null,
      "metadata": {
        "colab": {
          "base_uri": "https://localhost:8080/",
          "height": 424
        },
        "id": "RNsuXwnok8K9",
        "outputId": "c2791571-143b-430f-eaa2-89eedfb918f3"
      },
      "outputs": [
        {
          "data": {
            "application/vnd.google.colaboratory.intrinsic+json": {
              "summary": "{\n  \"name\": \"test_df\",\n  \"rows\": 1236,\n  \"fields\": [\n    {\n      \"column\": \"text\",\n      \"properties\": {\n        \"dtype\": \"string\",\n        \"num_unique_values\": 1236,\n        \"samples\": [\n          \"i would think i was in a horror movie and lock the doors lol\",\n          \"excuse me  could you tell me how much is the lipstick \",\n          \"i was my mind would shoot off to imagining another time or place one where my wife and i would finally be able to walk around holding hands without feeling afraid\"\n        ],\n        \"semantic_type\": \"\",\n        \"description\": \"\"\n      }\n    },\n    {\n      \"column\": \"new_label\",\n      \"properties\": {\n        \"dtype\": \"number\",\n        \"std\": 1,\n        \"min\": 0,\n        \"max\": 4,\n        \"num_unique_values\": 5,\n        \"samples\": [\n          2,\n          1,\n          3\n        ],\n        \"semantic_type\": \"\",\n        \"description\": \"\"\n      }\n    }\n  ]\n}",
              "type": "dataframe",
              "variable_name": "test_df"
            },
            "text/html": [
              "\n",
              "  <div id=\"df-fde20141-6378-45ff-ba1c-15e27fceb031\" class=\"colab-df-container\">\n",
              "    <div>\n",
              "<style scoped>\n",
              "    .dataframe tbody tr th:only-of-type {\n",
              "        vertical-align: middle;\n",
              "    }\n",
              "\n",
              "    .dataframe tbody tr th {\n",
              "        vertical-align: top;\n",
              "    }\n",
              "\n",
              "    .dataframe thead th {\n",
              "        text-align: right;\n",
              "    }\n",
              "</style>\n",
              "<table border=\"1\" class=\"dataframe\">\n",
              "  <thead>\n",
              "    <tr style=\"text-align: right;\">\n",
              "      <th></th>\n",
              "      <th>text</th>\n",
              "      <th>new_label</th>\n",
              "    </tr>\n",
              "  </thead>\n",
              "  <tbody>\n",
              "    <tr>\n",
              "      <th>9861</th>\n",
              "      <td>i will admit to feeling a little melancholy ab...</td>\n",
              "      <td>4</td>\n",
              "    </tr>\n",
              "    <tr>\n",
              "      <th>4966</th>\n",
              "      <td>i 18 m worked at a grocery store in my small t...</td>\n",
              "      <td>2</td>\n",
              "    </tr>\n",
              "    <tr>\n",
              "      <th>10057</th>\n",
              "      <td>i understand just so hard feels like im being ...</td>\n",
              "      <td>4</td>\n",
              "    </tr>\n",
              "    <tr>\n",
              "      <th>7934</th>\n",
              "      <td>oh yeah we had a rogue and a bard also a barre...</td>\n",
              "      <td>3</td>\n",
              "    </tr>\n",
              "    <tr>\n",
              "      <th>728</th>\n",
              "      <td>bitches be like i i you wow i bitch what speak...</td>\n",
              "      <td>0</td>\n",
              "    </tr>\n",
              "    <tr>\n",
              "      <th>...</th>\n",
              "      <td>...</td>\n",
              "      <td>...</td>\n",
              "    </tr>\n",
              "    <tr>\n",
              "      <th>1455</th>\n",
              "      <td>just seems a little much for 40 downvotes seem...</td>\n",
              "      <td>0</td>\n",
              "    </tr>\n",
              "    <tr>\n",
              "      <th>430</th>\n",
              "      <td>u mad fuck obama dumb ass nigger</td>\n",
              "      <td>0</td>\n",
              "    </tr>\n",
              "    <tr>\n",
              "      <th>10955</th>\n",
              "      <td>i can never see a point when i will not feel t...</td>\n",
              "      <td>4</td>\n",
              "    </tr>\n",
              "    <tr>\n",
              "      <th>6588</th>\n",
              "      <td>ok so i was looking out my window today and i ...</td>\n",
              "      <td>2</td>\n",
              "    </tr>\n",
              "    <tr>\n",
              "      <th>7243</th>\n",
              "      <td>yes</td>\n",
              "      <td>3</td>\n",
              "    </tr>\n",
              "  </tbody>\n",
              "</table>\n",
              "<p>1236 rows × 2 columns</p>\n",
              "</div>\n",
              "    <div class=\"colab-df-buttons\">\n",
              "\n",
              "  <div class=\"colab-df-container\">\n",
              "    <button class=\"colab-df-convert\" onclick=\"convertToInteractive('df-fde20141-6378-45ff-ba1c-15e27fceb031')\"\n",
              "            title=\"Convert this dataframe to an interactive table.\"\n",
              "            style=\"display:none;\">\n",
              "\n",
              "  <svg xmlns=\"http://www.w3.org/2000/svg\" height=\"24px\" viewBox=\"0 -960 960 960\">\n",
              "    <path d=\"M120-120v-720h720v720H120Zm60-500h600v-160H180v160Zm220 220h160v-160H400v160Zm0 220h160v-160H400v160ZM180-400h160v-160H180v160Zm440 0h160v-160H620v160ZM180-180h160v-160H180v160Zm440 0h160v-160H620v160Z\"/>\n",
              "  </svg>\n",
              "    </button>\n",
              "\n",
              "  <style>\n",
              "    .colab-df-container {\n",
              "      display:flex;\n",
              "      gap: 12px;\n",
              "    }\n",
              "\n",
              "    .colab-df-convert {\n",
              "      background-color: #E8F0FE;\n",
              "      border: none;\n",
              "      border-radius: 50%;\n",
              "      cursor: pointer;\n",
              "      display: none;\n",
              "      fill: #1967D2;\n",
              "      height: 32px;\n",
              "      padding: 0 0 0 0;\n",
              "      width: 32px;\n",
              "    }\n",
              "\n",
              "    .colab-df-convert:hover {\n",
              "      background-color: #E2EBFA;\n",
              "      box-shadow: 0px 1px 2px rgba(60, 64, 67, 0.3), 0px 1px 3px 1px rgba(60, 64, 67, 0.15);\n",
              "      fill: #174EA6;\n",
              "    }\n",
              "\n",
              "    .colab-df-buttons div {\n",
              "      margin-bottom: 4px;\n",
              "    }\n",
              "\n",
              "    [theme=dark] .colab-df-convert {\n",
              "      background-color: #3B4455;\n",
              "      fill: #D2E3FC;\n",
              "    }\n",
              "\n",
              "    [theme=dark] .colab-df-convert:hover {\n",
              "      background-color: #434B5C;\n",
              "      box-shadow: 0px 1px 3px 1px rgba(0, 0, 0, 0.15);\n",
              "      filter: drop-shadow(0px 1px 2px rgba(0, 0, 0, 0.3));\n",
              "      fill: #FFFFFF;\n",
              "    }\n",
              "  </style>\n",
              "\n",
              "    <script>\n",
              "      const buttonEl =\n",
              "        document.querySelector('#df-fde20141-6378-45ff-ba1c-15e27fceb031 button.colab-df-convert');\n",
              "      buttonEl.style.display =\n",
              "        google.colab.kernel.accessAllowed ? 'block' : 'none';\n",
              "\n",
              "      async function convertToInteractive(key) {\n",
              "        const element = document.querySelector('#df-fde20141-6378-45ff-ba1c-15e27fceb031');\n",
              "        const dataTable =\n",
              "          await google.colab.kernel.invokeFunction('convertToInteractive',\n",
              "                                                    [key], {});\n",
              "        if (!dataTable) return;\n",
              "\n",
              "        const docLinkHtml = 'Like what you see? Visit the ' +\n",
              "          '<a target=\"_blank\" href=https://colab.research.google.com/notebooks/data_table.ipynb>data table notebook</a>'\n",
              "          + ' to learn more about interactive tables.';\n",
              "        element.innerHTML = '';\n",
              "        dataTable['output_type'] = 'display_data';\n",
              "        await google.colab.output.renderOutput(dataTable, element);\n",
              "        const docLink = document.createElement('div');\n",
              "        docLink.innerHTML = docLinkHtml;\n",
              "        element.appendChild(docLink);\n",
              "      }\n",
              "    </script>\n",
              "  </div>\n",
              "\n",
              "\n",
              "<div id=\"df-30a54ed2-a4d7-43e6-b6b8-7531330105a8\">\n",
              "  <button class=\"colab-df-quickchart\" onclick=\"quickchart('df-30a54ed2-a4d7-43e6-b6b8-7531330105a8')\"\n",
              "            title=\"Suggest charts\"\n",
              "            style=\"display:none;\">\n",
              "\n",
              "<svg xmlns=\"http://www.w3.org/2000/svg\" height=\"24px\"viewBox=\"0 0 24 24\"\n",
              "     width=\"24px\">\n",
              "    <g>\n",
              "        <path d=\"M19 3H5c-1.1 0-2 .9-2 2v14c0 1.1.9 2 2 2h14c1.1 0 2-.9 2-2V5c0-1.1-.9-2-2-2zM9 17H7v-7h2v7zm4 0h-2V7h2v10zm4 0h-2v-4h2v4z\"/>\n",
              "    </g>\n",
              "</svg>\n",
              "  </button>\n",
              "\n",
              "<style>\n",
              "  .colab-df-quickchart {\n",
              "      --bg-color: #E8F0FE;\n",
              "      --fill-color: #1967D2;\n",
              "      --hover-bg-color: #E2EBFA;\n",
              "      --hover-fill-color: #174EA6;\n",
              "      --disabled-fill-color: #AAA;\n",
              "      --disabled-bg-color: #DDD;\n",
              "  }\n",
              "\n",
              "  [theme=dark] .colab-df-quickchart {\n",
              "      --bg-color: #3B4455;\n",
              "      --fill-color: #D2E3FC;\n",
              "      --hover-bg-color: #434B5C;\n",
              "      --hover-fill-color: #FFFFFF;\n",
              "      --disabled-bg-color: #3B4455;\n",
              "      --disabled-fill-color: #666;\n",
              "  }\n",
              "\n",
              "  .colab-df-quickchart {\n",
              "    background-color: var(--bg-color);\n",
              "    border: none;\n",
              "    border-radius: 50%;\n",
              "    cursor: pointer;\n",
              "    display: none;\n",
              "    fill: var(--fill-color);\n",
              "    height: 32px;\n",
              "    padding: 0;\n",
              "    width: 32px;\n",
              "  }\n",
              "\n",
              "  .colab-df-quickchart:hover {\n",
              "    background-color: var(--hover-bg-color);\n",
              "    box-shadow: 0 1px 2px rgba(60, 64, 67, 0.3), 0 1px 3px 1px rgba(60, 64, 67, 0.15);\n",
              "    fill: var(--button-hover-fill-color);\n",
              "  }\n",
              "\n",
              "  .colab-df-quickchart-complete:disabled,\n",
              "  .colab-df-quickchart-complete:disabled:hover {\n",
              "    background-color: var(--disabled-bg-color);\n",
              "    fill: var(--disabled-fill-color);\n",
              "    box-shadow: none;\n",
              "  }\n",
              "\n",
              "  .colab-df-spinner {\n",
              "    border: 2px solid var(--fill-color);\n",
              "    border-color: transparent;\n",
              "    border-bottom-color: var(--fill-color);\n",
              "    animation:\n",
              "      spin 1s steps(1) infinite;\n",
              "  }\n",
              "\n",
              "  @keyframes spin {\n",
              "    0% {\n",
              "      border-color: transparent;\n",
              "      border-bottom-color: var(--fill-color);\n",
              "      border-left-color: var(--fill-color);\n",
              "    }\n",
              "    20% {\n",
              "      border-color: transparent;\n",
              "      border-left-color: var(--fill-color);\n",
              "      border-top-color: var(--fill-color);\n",
              "    }\n",
              "    30% {\n",
              "      border-color: transparent;\n",
              "      border-left-color: var(--fill-color);\n",
              "      border-top-color: var(--fill-color);\n",
              "      border-right-color: var(--fill-color);\n",
              "    }\n",
              "    40% {\n",
              "      border-color: transparent;\n",
              "      border-right-color: var(--fill-color);\n",
              "      border-top-color: var(--fill-color);\n",
              "    }\n",
              "    60% {\n",
              "      border-color: transparent;\n",
              "      border-right-color: var(--fill-color);\n",
              "    }\n",
              "    80% {\n",
              "      border-color: transparent;\n",
              "      border-right-color: var(--fill-color);\n",
              "      border-bottom-color: var(--fill-color);\n",
              "    }\n",
              "    90% {\n",
              "      border-color: transparent;\n",
              "      border-bottom-color: var(--fill-color);\n",
              "    }\n",
              "  }\n",
              "</style>\n",
              "\n",
              "  <script>\n",
              "    async function quickchart(key) {\n",
              "      const quickchartButtonEl =\n",
              "        document.querySelector('#' + key + ' button');\n",
              "      quickchartButtonEl.disabled = true;  // To prevent multiple clicks.\n",
              "      quickchartButtonEl.classList.add('colab-df-spinner');\n",
              "      try {\n",
              "        const charts = await google.colab.kernel.invokeFunction(\n",
              "            'suggestCharts', [key], {});\n",
              "      } catch (error) {\n",
              "        console.error('Error during call to suggestCharts:', error);\n",
              "      }\n",
              "      quickchartButtonEl.classList.remove('colab-df-spinner');\n",
              "      quickchartButtonEl.classList.add('colab-df-quickchart-complete');\n",
              "    }\n",
              "    (() => {\n",
              "      let quickchartButtonEl =\n",
              "        document.querySelector('#df-30a54ed2-a4d7-43e6-b6b8-7531330105a8 button');\n",
              "      quickchartButtonEl.style.display =\n",
              "        google.colab.kernel.accessAllowed ? 'block' : 'none';\n",
              "    })();\n",
              "  </script>\n",
              "</div>\n",
              "\n",
              "  <div id=\"id_c25f8a03-3e3e-477a-81c6-c41a4141d835\">\n",
              "    <style>\n",
              "      .colab-df-generate {\n",
              "        background-color: #E8F0FE;\n",
              "        border: none;\n",
              "        border-radius: 50%;\n",
              "        cursor: pointer;\n",
              "        display: none;\n",
              "        fill: #1967D2;\n",
              "        height: 32px;\n",
              "        padding: 0 0 0 0;\n",
              "        width: 32px;\n",
              "      }\n",
              "\n",
              "      .colab-df-generate:hover {\n",
              "        background-color: #E2EBFA;\n",
              "        box-shadow: 0px 1px 2px rgba(60, 64, 67, 0.3), 0px 1px 3px 1px rgba(60, 64, 67, 0.15);\n",
              "        fill: #174EA6;\n",
              "      }\n",
              "\n",
              "      [theme=dark] .colab-df-generate {\n",
              "        background-color: #3B4455;\n",
              "        fill: #D2E3FC;\n",
              "      }\n",
              "\n",
              "      [theme=dark] .colab-df-generate:hover {\n",
              "        background-color: #434B5C;\n",
              "        box-shadow: 0px 1px 3px 1px rgba(0, 0, 0, 0.15);\n",
              "        filter: drop-shadow(0px 1px 2px rgba(0, 0, 0, 0.3));\n",
              "        fill: #FFFFFF;\n",
              "      }\n",
              "    </style>\n",
              "    <button class=\"colab-df-generate\" onclick=\"generateWithVariable('test_df')\"\n",
              "            title=\"Generate code using this dataframe.\"\n",
              "            style=\"display:none;\">\n",
              "\n",
              "  <svg xmlns=\"http://www.w3.org/2000/svg\" height=\"24px\"viewBox=\"0 0 24 24\"\n",
              "       width=\"24px\">\n",
              "    <path d=\"M7,19H8.4L18.45,9,17,7.55,7,17.6ZM5,21V16.75L18.45,3.32a2,2,0,0,1,2.83,0l1.4,1.43a1.91,1.91,0,0,1,.58,1.4,1.91,1.91,0,0,1-.58,1.4L9.25,21ZM18.45,9,17,7.55Zm-12,3A5.31,5.31,0,0,0,4.9,8.1,5.31,5.31,0,0,0,1,6.5,5.31,5.31,0,0,0,4.9,4.9,5.31,5.31,0,0,0,6.5,1,5.31,5.31,0,0,0,8.1,4.9,5.31,5.31,0,0,0,12,6.5,5.46,5.46,0,0,0,6.5,12Z\"/>\n",
              "  </svg>\n",
              "    </button>\n",
              "    <script>\n",
              "      (() => {\n",
              "      const buttonEl =\n",
              "        document.querySelector('#id_c25f8a03-3e3e-477a-81c6-c41a4141d835 button.colab-df-generate');\n",
              "      buttonEl.style.display =\n",
              "        google.colab.kernel.accessAllowed ? 'block' : 'none';\n",
              "\n",
              "      buttonEl.onclick = () => {\n",
              "        google.colab.notebook.generateWithVariable('test_df');\n",
              "      }\n",
              "      })();\n",
              "    </script>\n",
              "  </div>\n",
              "\n",
              "    </div>\n",
              "  </div>\n"
            ],
            "text/plain": [
              "                                                    text  new_label\n",
              "9861   i will admit to feeling a little melancholy ab...          4\n",
              "4966   i 18 m worked at a grocery store in my small t...          2\n",
              "10057  i understand just so hard feels like im being ...          4\n",
              "7934   oh yeah we had a rogue and a bard also a barre...          3\n",
              "728    bitches be like i i you wow i bitch what speak...          0\n",
              "...                                                  ...        ...\n",
              "1455   just seems a little much for 40 downvotes seem...          0\n",
              "430                     u mad fuck obama dumb ass nigger          0\n",
              "10955  i can never see a point when i will not feel t...          4\n",
              "6588   ok so i was looking out my window today and i ...          2\n",
              "7243                                                 yes          3\n",
              "\n",
              "[1236 rows x 2 columns]"
            ]
          },
          "execution_count": 30,
          "metadata": {},
          "output_type": "execute_result"
        }
      ],
      "source": [
        "test_df"
      ]
    },
    {
      "cell_type": "code",
      "execution_count": null,
      "metadata": {
        "colab": {
          "base_uri": "https://localhost:8080/"
        },
        "id": "kwjtV_Xdt2-s",
        "outputId": "7949d53c-8058-4b26-f350-39dd6e66eb6d"
      },
      "outputs": [
        {
          "name": "stdout",
          "output_type": "stream",
          "text": [
            "10008 1113 1236\n",
            "10008 1113 1236\n"
          ]
        }
      ],
      "source": [
        "print(len(train_texts),len(val_texts), len(test_texts))\n",
        "print(len(train_labels),len(val_labels), len(test_labels))"
      ]
    },
    {
      "cell_type": "code",
      "execution_count": null,
      "metadata": {
        "collapsed": true,
        "id": "mOA4OS82R1LQ"
      },
      "outputs": [],
      "source": [
        "class TextDataset(Dataset):\n",
        "    def __init__(self, texts, labels, tokenizer):\n",
        "        self.texts = texts\n",
        "        self.labels = labels\n",
        "        # self.tokenizer = tokenizer\n",
        "        self.encodings = tokenizer(texts, padding='max_length', truncation=True, max_length=1800, return_tensors=\"pt\")\n",
        "    def __len__(self):\n",
        "        return len(self.labels)\n",
        "\n",
        "    def __getitem__(self, idx):\n",
        "        # encoding = self.tokenizer(self.texts[idx],padding='max_length',truncation=True,max_length=1500,return_tensors=\"pt\")\n",
        "        return {key: val[idx] for key, val in self.encodings.items()}, torch.tensor(self.labels[idx])\n",
        "\n",
        "train_dataset = TextDataset(train_texts, train_labels, tokenizer)\n",
        "val_dataset = TextDataset(val_texts, val_labels, tokenizer)\n",
        "test_dataset = TextDataset(test_texts, test_labels, tokenizer)"
      ]
    },
    {
      "cell_type": "code",
      "execution_count": null,
      "metadata": {
        "colab": {
          "base_uri": "https://localhost:8080/"
        },
        "id": "onmzGKzQ-VEP",
        "outputId": "48a2188c-bf54-4b77-f738-b901a3b9a7c2"
      },
      "outputs": [
        {
          "data": {
            "text/plain": [
              "({'input_ids': tensor([50281,   303,  9202,  ..., 50283, 50283, 50283]),\n",
              "  'attention_mask': tensor([1, 1, 1,  ..., 0, 0, 0])},\n",
              " tensor(1))"
            ]
          },
          "execution_count": 33,
          "metadata": {},
          "output_type": "execute_result"
        }
      ],
      "source": [
        "train_dataset[0]"
      ]
    },
    {
      "cell_type": "code",
      "execution_count": null,
      "metadata": {
        "id": "LGeOADTL-hCu"
      },
      "outputs": [],
      "source": [
        "train_loader = DataLoader(train_dataset, batch_size=32, shuffle=True,pin_memory=True,num_workers=10)\n",
        "val_loader = DataLoader(val_dataset, batch_size=32, shuffle=False,pin_memory=True,num_workers=10)\n",
        "test_loader = DataLoader(test_dataset, batch_size=32, shuffle=False,pin_memory=True,num_workers=10)"
      ]
    },
    {
      "cell_type": "code",
      "execution_count": null,
      "metadata": {
        "colab": {
          "base_uri": "https://localhost:8080/"
        },
        "id": "XP1X9TN0_-Ne",
        "outputId": "4651660c-eab6-4699-bfc4-c41b795fddb6"
      },
      "outputs": [
        {
          "data": {
            "text/plain": [
              "313"
            ]
          },
          "execution_count": 35,
          "metadata": {},
          "output_type": "execute_result"
        }
      ],
      "source": [
        "#number of batches in the train_loader\n",
        "len(train_loader)"
      ]
    },
    {
      "cell_type": "code",
      "execution_count": null,
      "metadata": {
        "colab": {
          "base_uri": "https://localhost:8080/"
        },
        "id": "oGzPmOLbAJun",
        "outputId": "a45b7bdf-5120-4016-e19e-5be4568d373f"
      },
      "outputs": [
        {
          "name": "stdout",
          "output_type": "stream",
          "text": [
            "[{'input_ids': tensor([[50281,    74,  1928,  ..., 50283, 50283, 50283],\n",
            "        [50281,    74,   369,  ..., 50283, 50283, 50283],\n",
            "        [50281, 10383,  2800,  ..., 50283, 50283, 50283],\n",
            "        ...,\n",
            "        [50281,  6343,  1066,  ..., 50283, 50283, 50283],\n",
            "        [50281,    74,   671,  ..., 50283, 50283, 50283],\n",
            "        [50281,    74,  1928,  ..., 50283, 50283, 50283]]), 'attention_mask': tensor([[1, 1, 1,  ..., 0, 0, 0],\n",
            "        [1, 1, 1,  ..., 0, 0, 0],\n",
            "        [1, 1, 1,  ..., 0, 0, 0],\n",
            "        ...,\n",
            "        [1, 1, 1,  ..., 0, 0, 0],\n",
            "        [1, 1, 1,  ..., 0, 0, 0],\n",
            "        [1, 1, 1,  ..., 0, 0, 0]])}, tensor([2, 4, 2, 4, 2, 1, 2, 0, 4, 4, 1, 3, 0, 3, 0, 2, 3, 2, 1, 3, 1, 0, 3, 2,\n",
            "        4, 2, 3, 3, 1, 2, 2, 2])]\n"
          ]
        }
      ],
      "source": [
        "#printing first batches, there are 196 batches,every batch have 25 rows\n",
        "for batch in train_loader:\n",
        "  print(batch)\n",
        "  break"
      ]
    },
    {
      "cell_type": "code",
      "execution_count": null,
      "metadata": {
        "id": "2ODFDVkMVLpa"
      },
      "outputs": [],
      "source": [
        "class ModernBertClassifier(nn.Module):\n",
        "    def __init__(self, num_labels):\n",
        "        super(ModernBertClassifier, self).__init__()\n",
        "        self.bert = ModernBertModel.from_pretrained(\"answerdotai/ModernBERT-base\")\n",
        "        self.tokenizer = AutoTokenizer.from_pretrained(\"answerdotai/ModernBERT-base\")\n",
        "        # self.eval()\n",
        "\n",
        "        # Freeze BERT model's parameters\n",
        "        # print(self.bert.layers)\n",
        "        # for i, layer in enumerate(self.bert.layers):\n",
        "        #   if i < 25:\n",
        "        #     for param in layer.parameters():\n",
        "        #       param.requires_grad = False\n",
        "\n",
        "        for param in self.bert.parameters():\n",
        "            param.requires_grad = False\n",
        "\n",
        "        self.classifier = nn.Sequential(\n",
        "            # nn.Linear(768, 256),\n",
        "            # nn.GELU(),\n",
        "            # nn.Dropout(0.2),\n",
        "            # nn.Linear(256, num_labels)\n",
        "\n",
        "            nn.Linear(768, 512),\n",
        "            nn.ReLU(),\n",
        "            nn.LayerNorm(512),\n",
        "            nn.Dropout(0.3),\n",
        "\n",
        "            nn.Linear(512, 256),\n",
        "            nn.ReLU(),\n",
        "            nn.LayerNorm(256),\n",
        "            nn.Dropout(0.3),\n",
        "\n",
        "            nn.Linear(256, num_labels)\n",
        "        )\n",
        "\n",
        "    def forward(self, input_ids, attention_mask):\n",
        "        outputs = self.bert(input_ids=input_ids, attention_mask=attention_mask)\n",
        "        return self.classifier(outputs.last_hidden_state[:, 0, :])\n",
        "\n",
        "    def predict(self, text):\n",
        "    # Use the tokenizer to process the input text\n",
        "        encoding = self.tokenizer(text, padding=True, truncation=True, return_tensors=\"pt\").to(next(self.parameters()).device)\n",
        "\n",
        "        with torch.no_grad():\n",
        "\n",
        "            outputs = self(**encoding)\n",
        "            logits = outputs.cpu()\n",
        "            probabilities = F.softmax(logits, dim=-1)\n",
        "            predictions = torch.argmax(probabilities, dim=-1)\n",
        "\n",
        "        percentages_full = probabilities[0] * 100\n",
        "        percentages = [round(num,2) for num in percentages_full.tolist()]\n",
        "        emotions = ['Aggressive','Fear','Happy','Neutral','Sad']\n",
        "        predicted_label = emotions[predictions[0].item()]\n",
        "        ratio = {\n",
        "            'Aggressive' : percentages[0],\n",
        "            'Fear' : percentages[1],\n",
        "            'Happy' : percentages[2],\n",
        "            'Neutral' : percentages[3],\n",
        "            'Sad' : percentages[4]\n",
        "        }\n",
        "\n",
        "        return predicted_label, ratio"
      ]
    },
    {
      "cell_type": "code",
      "execution_count": null,
      "metadata": {
        "id": "mZI3pzyH2QYv"
      },
      "outputs": [],
      "source": [
        "from torch.optim.lr_scheduler import MultiStepLR"
      ]
    },
    {
      "cell_type": "code",
      "execution_count": null,
      "metadata": {
        "colab": {
          "base_uri": "https://localhost:8080/",
          "height": 117,
          "referenced_widgets": [
            "98ed694692094643ab6920394e5c321d",
            "043289f2acba4ecda14ee3399bcc2301",
            "61849137e11d4ecc887da29b6bc8b87f",
            "712941dedf304833a353239d1c5775d9",
            "be1a6ee309f0401a9b15131a8f7614de",
            "7aaf192f77f84e6ea734a3c4a843bda0",
            "50abf44b35b24fcc8c9a71cfb23da33b",
            "bd45515bac0a4e5e864e02cd5126ab1e",
            "f625854d343543c987ddb150b37e32ce",
            "34bcbe69b85d4a818d140e37d5f28b3f",
            "4d942a20e6f145a8a339a6820fb6ae08",
            "4acf630f52c54368910e10a9a1d1b54a",
            "10fcf1d6bfa248c3aea8ea10b15fbc06",
            "ca99c50f335f44b1bb0cfbcda427cfc0",
            "fba6472590f14e3b9badf56e44726597",
            "eb0967e411eb482abf0ce1c093560190",
            "d36e42ff676c472c811acb9ec9c83835",
            "f71b40168e3f48bc920643995ac916da",
            "9a07ef160f0e424c8b6b04b4b4d322b1",
            "a6f02025ddae4fa2a0c879d791cb7d91",
            "c631c4cf9fd84293b2b5994d688d0300",
            "dc9302b6c66d427ca3e46d79ea9689b4"
          ]
        },
        "id": "udBO5mvNYO5T",
        "outputId": "0e803ec7-fb9f-4b96-87e2-9d77afaca571"
      },
      "outputs": [
        {
          "name": "stdout",
          "output_type": "stream",
          "text": [
            "5\n",
            "Using cuda\n"
          ]
        },
        {
          "data": {
            "application/vnd.jupyter.widget-view+json": {
              "model_id": "98ed694692094643ab6920394e5c321d",
              "version_major": 2,
              "version_minor": 0
            },
            "text/plain": [
              "config.json:   0%|          | 0.00/1.19k [00:00<?, ?B/s]"
            ]
          },
          "metadata": {},
          "output_type": "display_data"
        },
        {
          "data": {
            "application/vnd.jupyter.widget-view+json": {
              "model_id": "4acf630f52c54368910e10a9a1d1b54a",
              "version_major": 2,
              "version_minor": 0
            },
            "text/plain": [
              "model.safetensors:   0%|          | 0.00/599M [00:00<?, ?B/s]"
            ]
          },
          "metadata": {},
          "output_type": "display_data"
        }
      ],
      "source": [
        "num_labels = len(label_encoder.classes_)\n",
        "print(num_labels)\n",
        "device = torch.device(\"cuda\" if torch.cuda.is_available() else \"cpu\")\n",
        "print(f\"Using {device}\")\n",
        "torch.manual_seed(42)\n",
        "model = ModernBertClassifier(num_labels).to(device)\n",
        "\n",
        "# for name, param in model.named_parameters():\n",
        "#     if param.requires_grad\n",
        "\n",
        "if torch.cuda.is_available():\n",
        "  model = torch.compile(model)\n",
        "# optimizer = AdamW(model.parameters(), lr=2e-5, eps=1e-8)\n",
        "# optimizer = AdamW(model.parameters(), lr=1e-5, eps=1e-8)\n",
        "optimizer = torch.optim.AdamW(model.parameters(), lr=0.005, eps=1e-8)\n",
        "scheduler = torch.optim.lr_scheduler.StepLR(optimizer, step_size=5, gamma=0.1)\n",
        "# scheduler = torch.optim.lr_scheduler.MultiStepLR(optimizer, milestones=[5, 10, 15], gamma=0.1)\n",
        "criterion = nn.CrossEntropyLoss()"
      ]
    },
    {
      "cell_type": "code",
      "execution_count": null,
      "metadata": {
        "id": "lI9XnefshKOt"
      },
      "outputs": [],
      "source": [
        "# device = torch.device(\"cuda\" if torch.cuda.is_available() else \"cpu\")\n",
        "# print(f\"Using {device}\")"
      ]
    },
    {
      "cell_type": "code",
      "execution_count": null,
      "metadata": {
        "id": "1L3aNoXg1B9w"
      },
      "outputs": [],
      "source": [
        "import os\n",
        "checkpoint_dir = 'checkpoints'\n",
        "os.makedirs(checkpoint_dir, exist_ok=True)"
      ]
    },
    {
      "cell_type": "code",
      "execution_count": null,
      "metadata": {
        "id": "u6Ig_Idpzlke"
      },
      "outputs": [],
      "source": [
        "def train_model(model, train_loader, val_loader, epochs, resume = None, checkpoint_path = None):\n",
        "\n",
        "    start_epoch = 1\n",
        "\n",
        "    if resume and checkpoint_path:\n",
        "\n",
        "        checkpoint = torch.load(checkpoint_path)\n",
        "        model.load_state_dict(checkpoint['model_state_dict'])\n",
        "        optimizer.load_state_dict(checkpoint['optimizer_state_dict'])\n",
        "        start_epoch = checkpoint['epoch']\n",
        "        print(f'Loaded checkpoint from epoch {start_epoch}')\n",
        "\n",
        "    for epoch in range(start_epoch, epochs+1):\n",
        "\n",
        "        model.train()\n",
        "        total_train_loss, train_correct = 0, 0\n",
        "        progress_bar = tqdm(train_loader, desc=f\"Epoch {epoch}/{epochs}\")\n",
        "\n",
        "        for batch in progress_bar:\n",
        "            inputs, labels = batch\n",
        "            inputs = {key: val.to(device) for key, val in inputs.items()}\n",
        "            labels = labels.to(device)\n",
        "\n",
        "            optimizer.zero_grad()\n",
        "            outputs = model(**inputs)\n",
        "            loss = criterion(outputs, labels)\n",
        "            loss.backward()\n",
        "            optimizer.step()\n",
        "\n",
        "            total_train_loss += loss.item()\n",
        "            train_correct += (outputs.argmax(dim=1) == labels).sum().item()\n",
        "\n",
        "            progress_bar.set_postfix(loss=loss.item())\n",
        "\n",
        "        train_acc = train_correct / len(train_loader.dataset)\n",
        "\n",
        "\n",
        "        model.eval()\n",
        "        total_val_loss, val_correct = 0, 0\n",
        "        all_val_labels = []  # Store all validation labels\n",
        "        all_val_predictions = []  # Store all validation predictions\n",
        "\n",
        "        with torch.no_grad():\n",
        "            for batch in val_loader:\n",
        "                inputs, labels = batch\n",
        "                inputs = {key: val.to(device) for key, val in inputs.items()}\n",
        "                labels = labels.to(device)\n",
        "\n",
        "                outputs = model(**inputs)\n",
        "                loss = criterion(outputs, labels)\n",
        "\n",
        "                total_val_loss += loss.item()\n",
        "                val_correct += (outputs.argmax(dim=1) == labels).sum().item()\n",
        "\n",
        "                # Store labels and predictions for metric calculation\n",
        "                all_val_labels.extend(labels.cpu().numpy())\n",
        "                all_val_predictions.extend(outputs.argmax(dim=1).cpu().numpy())\n",
        "\n",
        "        val_loss = total_val_loss / len(val_loader)\n",
        "        val_acc = val_correct / len(val_loader.dataset)\n",
        "\n",
        "        all_val_labels = np.array(all_val_labels)\n",
        "        all_val_predictions = np.array(all_val_predictions)\n",
        "\n",
        "        accuracy = accuracy_score(all_val_labels, all_val_predictions)\n",
        "        macro_f1 = f1_score(all_val_labels, all_val_predictions, average='macro')\n",
        "        cm = confusion_matrix(all_val_labels, all_val_predictions)\n",
        "        scheduler.step(val_loss)\n",
        "\n",
        "        print(f\"Epoch {epoch} : \\n Train Loss: {total_train_loss:.4f}, \\n Train Acc: {train_acc:.4f}, \\n Val Loss: {val_loss:.4f}\")\n",
        "        print(f\"Val Accuracy: {accuracy:.4f}\")\n",
        "        print(f\"Val Macro-F1: {macro_f1:.4f}\")\n",
        "        print(f\"Val Confusion Matrix:\\n{cm}\")\n",
        "\n",
        "        checkpoint_path = os.path.join(checkpoint_dir, f'model_epoch_{epoch}.pth')\n",
        "\n",
        "        if epoch % 3 == 0:\n",
        "            torch.save({\n",
        "                  'epoch': epoch,\n",
        "                  'model_state_dict': model.state_dict(),\n",
        "                  'optimizer_state_dict': optimizer.state_dict(),\n",
        "                  'loss': total_train_loss / len(train_loader),\n",
        "                  'train_acc': train_acc,\n",
        "                  'train_loss' : total_train_loss,\n",
        "                  'val_acc': val_acc,\n",
        "                  'val_loss': val_loss,\n",
        "                  'accuracy': accuracy,\n",
        "                  'macro_f1': macro_f1,\n",
        "                  'confusion_matrix': cm\n",
        "              }, checkpoint_path)\n"
      ]
    },
    {
      "cell_type": "markdown",
      "metadata": {
        "id": "7knU8sJjOkVK"
      },
      "source": [
        "# train model"
      ]
    },
    {
      "cell_type": "code",
      "execution_count": null,
      "metadata": {
        "id": "txdYhwiokYG_"
      },
      "outputs": [],
      "source": [
        "torch.set_float32_matmul_precision('high')"
      ]
    },
    {
      "cell_type": "code",
      "execution_count": 44,
      "metadata": {
        "colab": {
          "base_uri": "https://localhost:8080/"
        },
        "id": "S7-IcoCDLq0H",
        "outputId": "0fac7b0b-6eff-4d91-b16f-2daf19cde985"
      },
      "outputs": [
        {
          "name": "stderr",
          "output_type": "stream",
          "text": [
            "Epoch 1/40: 100%|██████████| 313/313 [05:05<00:00,  1.03it/s, loss=1.21]\n"
          ]
        },
        {
          "name": "stdout",
          "output_type": "stream",
          "text": [
            "Epoch 1 : \n",
            " Train Loss: 410.9380, \n",
            " Train Acc: 0.4315, \n",
            " Val Loss: 1.0477\n",
            "Val Accuracy: 0.5804\n",
            "Val Macro-F1: 0.5760\n",
            "Val Confusion Matrix:\n",
            "[[ 97  13  37  16  53]\n",
            " [  0  72  38   4  85]\n",
            " [  0   6 141  14  43]\n",
            " [  0   8  29 209  13]\n",
            " [  3  21  78   6 127]]\n"
          ]
        },
        {
          "name": "stderr",
          "output_type": "stream",
          "text": [
            "Epoch 2/40: 100%|██████████| 313/313 [03:21<00:00,  1.55it/s, loss=0.802]\n"
          ]
        },
        {
          "name": "stdout",
          "output_type": "stream",
          "text": [
            "Epoch 2 : \n",
            " Train Loss: 317.4488, \n",
            " Train Acc: 0.5805, \n",
            " Val Loss: 0.9800\n",
            "Val Accuracy: 0.5795\n",
            "Val Macro-F1: 0.5389\n",
            "Val Confusion Matrix:\n",
            "[[169   0   5  11  31]\n",
            " [ 50  24  11   9 105]\n",
            " [ 27   0 102  20  55]\n",
            " [ 24   1   6 220   8]\n",
            " [ 69   3  24   9 130]]\n"
          ]
        },
        {
          "name": "stderr",
          "output_type": "stream",
          "text": [
            "Epoch 3/40: 100%|██████████| 313/313 [03:21<00:00,  1.55it/s, loss=0.877]\n"
          ]
        },
        {
          "name": "stdout",
          "output_type": "stream",
          "text": [
            "Epoch 3 : \n",
            " Train Loss: 293.7995, \n",
            " Train Acc: 0.6133, \n",
            " Val Loss: 0.8569\n",
            "Val Accuracy: 0.6433\n",
            "Val Macro-F1: 0.6360\n",
            "Val Confusion Matrix:\n",
            "[[132  33  10  11  30]\n",
            " [  4 134  22   7  32]\n",
            " [ 14  17 136  16  21]\n",
            " [ 15  17   7 219   1]\n",
            " [ 14  79  39   8  95]]\n"
          ]
        },
        {
          "name": "stderr",
          "output_type": "stream",
          "text": [
            "Epoch 4/40: 100%|██████████| 313/313 [03:21<00:00,  1.55it/s, loss=0.947]\n"
          ]
        },
        {
          "name": "stdout",
          "output_type": "stream",
          "text": [
            "Epoch 4 : \n",
            " Train Loss: 282.1178, \n",
            " Train Acc: 0.6319, \n",
            " Val Loss: 0.8569\n",
            "Val Accuracy: 0.6523\n",
            "Val Macro-F1: 0.6390\n",
            "Val Confusion Matrix:\n",
            "[[133  13  21  18  31]\n",
            " [ 10  85  40  13  51]\n",
            " [  5   3 160  20  16]\n",
            " [  7   5  14 229   4]\n",
            " [ 14  21  67  14 119]]\n"
          ]
        },
        {
          "name": "stderr",
          "output_type": "stream",
          "text": [
            "Epoch 5/40: 100%|██████████| 313/313 [03:21<00:00,  1.55it/s, loss=1.02]\n"
          ]
        },
        {
          "name": "stdout",
          "output_type": "stream",
          "text": [
            "Epoch 5 : \n",
            " Train Loss: 273.6090, \n",
            " Train Acc: 0.6502, \n",
            " Val Loss: 0.8736\n",
            "Val Accuracy: 0.6586\n",
            "Val Macro-F1: 0.6597\n",
            "Val Confusion Matrix:\n",
            "[[142  21   4   7  42]\n",
            " [  5 108   3   3  80]\n",
            " [  5   8 112  12  67]\n",
            " [ 18  22   9 202   8]\n",
            " [ 24  28  13   1 169]]\n"
          ]
        },
        {
          "name": "stderr",
          "output_type": "stream",
          "text": [
            "Epoch 6/40: 100%|██████████| 313/313 [03:21<00:00,  1.55it/s, loss=0.631]\n"
          ]
        },
        {
          "name": "stdout",
          "output_type": "stream",
          "text": [
            "Epoch 6 : \n",
            " Train Loss: 260.3240, \n",
            " Train Acc: 0.6678, \n",
            " Val Loss: 0.8121\n",
            "Val Accuracy: 0.6810\n",
            "Val Macro-F1: 0.6763\n",
            "Val Confusion Matrix:\n",
            "[[122  19  16  17  42]\n",
            " [  1 119  24   8  47]\n",
            " [  5  10 155  13  21]\n",
            " [  5  11  19 220   4]\n",
            " [  3  37  43  10 142]]\n"
          ]
        },
        {
          "name": "stderr",
          "output_type": "stream",
          "text": [
            "Epoch 7/40: 100%|██████████| 313/313 [03:21<00:00,  1.55it/s, loss=0.917]\n"
          ]
        },
        {
          "name": "stdout",
          "output_type": "stream",
          "text": [
            "Epoch 7 : \n",
            " Train Loss: 257.2874, \n",
            " Train Acc: 0.6730, \n",
            " Val Loss: 0.7948\n",
            "Val Accuracy: 0.6739\n",
            "Val Macro-F1: 0.6657\n",
            "Val Confusion Matrix:\n",
            "[[129  19  16  19  33]\n",
            " [  4 107  29   9  50]\n",
            " [  5   9 150  19  21]\n",
            " [  3   9  17 229   1]\n",
            " [ 11  31  46  12 135]]\n"
          ]
        },
        {
          "name": "stderr",
          "output_type": "stream",
          "text": [
            "Epoch 8/40: 100%|██████████| 313/313 [03:21<00:00,  1.55it/s, loss=0.57]\n"
          ]
        },
        {
          "name": "stdout",
          "output_type": "stream",
          "text": [
            "Epoch 8 : \n",
            " Train Loss: 253.1257, \n",
            " Train Acc: 0.6811, \n",
            " Val Loss: 0.7863\n",
            "Val Accuracy: 0.6882\n",
            "Val Macro-F1: 0.6873\n",
            "Val Confusion Matrix:\n",
            "[[147  30   5   9  25]\n",
            " [ 10 135   7   2  45]\n",
            " [  7  12 126  18  41]\n",
            " [ 10  13   9 210  17]\n",
            " [ 24  39  18   6 148]]\n"
          ]
        },
        {
          "name": "stderr",
          "output_type": "stream",
          "text": [
            "Epoch 9/40: 100%|██████████| 313/313 [03:21<00:00,  1.55it/s, loss=0.922]\n"
          ]
        },
        {
          "name": "stdout",
          "output_type": "stream",
          "text": [
            "Epoch 9 : \n",
            " Train Loss: 244.7392, \n",
            " Train Acc: 0.6872, \n",
            " Val Loss: 0.8017\n",
            "Val Accuracy: 0.6774\n",
            "Val Macro-F1: 0.6692\n",
            "Val Confusion Matrix:\n",
            "[[126  15  12  14  49]\n",
            " [  8  89  22   5  75]\n",
            " [  3   4 156  14  27]\n",
            " [ 10   7  20 218   4]\n",
            " [  6  20  39   5 165]]\n"
          ]
        },
        {
          "name": "stderr",
          "output_type": "stream",
          "text": [
            "Epoch 10/40: 100%|██████████| 313/313 [03:21<00:00,  1.55it/s, loss=0.721]\n"
          ]
        },
        {
          "name": "stdout",
          "output_type": "stream",
          "text": [
            "Epoch 10 : \n",
            " Train Loss: 241.1161, \n",
            " Train Acc: 0.6963, \n",
            " Val Loss: 0.8407\n",
            "Val Accuracy: 0.6604\n",
            "Val Macro-F1: 0.6454\n",
            "Val Confusion Matrix:\n",
            "[[135  25  34  16   6]\n",
            " [  7 128  49   4  11]\n",
            " [  3   5 178  14   4]\n",
            " [  4  11  21 223   0]\n",
            " [ 17  39  97  11  71]]\n"
          ]
        },
        {
          "name": "stderr",
          "output_type": "stream",
          "text": [
            "Epoch 11/40: 100%|██████████| 313/313 [03:21<00:00,  1.55it/s, loss=0.664]\n"
          ]
        },
        {
          "name": "stdout",
          "output_type": "stream",
          "text": [
            "Epoch 11 : \n",
            " Train Loss: 238.8415, \n",
            " Train Acc: 0.7041, \n",
            " Val Loss: 0.8039\n",
            "Val Accuracy: 0.6837\n",
            "Val Macro-F1: 0.6751\n",
            "Val Confusion Matrix:\n",
            "[[142  16  20  10  28]\n",
            " [  8 100  40   6  45]\n",
            " [  5   3 164  19  13]\n",
            " [  9   7  12 224   7]\n",
            " [ 14  21  60   9 131]]\n"
          ]
        },
        {
          "name": "stderr",
          "output_type": "stream",
          "text": [
            "Epoch 12/40: 100%|██████████| 313/313 [03:21<00:00,  1.55it/s, loss=0.766]\n"
          ]
        },
        {
          "name": "stdout",
          "output_type": "stream",
          "text": [
            "Epoch 12 : \n",
            " Train Loss: 236.5032, \n",
            " Train Acc: 0.7050, \n",
            " Val Loss: 0.8367\n",
            "Val Accuracy: 0.6604\n",
            "Val Macro-F1: 0.6487\n",
            "Val Confusion Matrix:\n",
            "[[136  31   2   8  39]\n",
            " [  3 127   0   4  65]\n",
            " [ 10  21  71  20  82]\n",
            " [ 12  11   1 222  13]\n",
            " [ 10  36   5   5 179]]\n"
          ]
        },
        {
          "name": "stderr",
          "output_type": "stream",
          "text": [
            "Epoch 13/40: 100%|██████████| 313/313 [03:21<00:00,  1.55it/s, loss=0.466]\n"
          ]
        },
        {
          "name": "stdout",
          "output_type": "stream",
          "text": [
            "Epoch 13 : \n",
            " Train Loss: 231.9558, \n",
            " Train Acc: 0.7073, \n",
            " Val Loss: 0.7950\n",
            "Val Accuracy: 0.6846\n",
            "Val Macro-F1: 0.6780\n",
            "Val Confusion Matrix:\n",
            "[[133  16   5  14  48]\n",
            " [  3  93  12   9  82]\n",
            " [  5   7 132  20  40]\n",
            " [ 10   7   7 227   8]\n",
            " [  8  20  20  10 177]]\n"
          ]
        },
        {
          "name": "stderr",
          "output_type": "stream",
          "text": [
            "Epoch 14/40: 100%|██████████| 313/313 [03:21<00:00,  1.55it/s, loss=0.668]\n"
          ]
        },
        {
          "name": "stdout",
          "output_type": "stream",
          "text": [
            "Epoch 14 : \n",
            " Train Loss: 230.4069, \n",
            " Train Acc: 0.7115, \n",
            " Val Loss: 0.7491\n",
            "Val Accuracy: 0.7206\n",
            "Val Macro-F1: 0.7142\n",
            "Val Confusion Matrix:\n",
            "[[154  15   4  15  28]\n",
            " [  8 121  18  11  41]\n",
            " [  6   4 144  21  29]\n",
            " [  9   5   6 236   3]\n",
            " [ 18  26  28  16 147]]\n"
          ]
        },
        {
          "name": "stderr",
          "output_type": "stream",
          "text": [
            "Epoch 15/40: 100%|██████████| 313/313 [03:21<00:00,  1.55it/s, loss=0.798]\n"
          ]
        },
        {
          "name": "stdout",
          "output_type": "stream",
          "text": [
            "Epoch 15 : \n",
            " Train Loss: 227.6512, \n",
            " Train Acc: 0.7109, \n",
            " Val Loss: 0.7674\n",
            "Val Accuracy: 0.6927\n",
            "Val Macro-F1: 0.6837\n",
            "Val Confusion Matrix:\n",
            "[[165  18   6  10  17]\n",
            " [ 21 135   4   7  32]\n",
            " [ 18   9 120  26  31]\n",
            " [  9   6   8 231   5]\n",
            " [ 46  33  24  12 120]]\n"
          ]
        },
        {
          "name": "stderr",
          "output_type": "stream",
          "text": [
            "Epoch 16/40: 100%|██████████| 313/313 [03:21<00:00,  1.55it/s, loss=0.872]\n"
          ]
        },
        {
          "name": "stdout",
          "output_type": "stream",
          "text": [
            "Epoch 16 : \n",
            " Train Loss: 222.3256, \n",
            " Train Acc: 0.7203, \n",
            " Val Loss: 0.7227\n",
            "Val Accuracy: 0.7242\n",
            "Val Macro-F1: 0.7195\n",
            "Val Confusion Matrix:\n",
            "[[141  27   4  17  27]\n",
            " [  3 143   6   6  41]\n",
            " [  6  12 131  19  36]\n",
            " [  6   7   5 236   5]\n",
            " [ 14  36  20  10 155]]\n"
          ]
        },
        {
          "name": "stderr",
          "output_type": "stream",
          "text": [
            "Epoch 17/40: 100%|██████████| 313/313 [03:21<00:00,  1.55it/s, loss=0.929]\n"
          ]
        },
        {
          "name": "stdout",
          "output_type": "stream",
          "text": [
            "Epoch 17 : \n",
            " Train Loss: 220.8249, \n",
            " Train Acc: 0.7217, \n",
            " Val Loss: 0.7480\n",
            "Val Accuracy: 0.7107\n",
            "Val Macro-F1: 0.7012\n",
            "Val Confusion Matrix:\n",
            "[[149  23   8  16  20]\n",
            " [  8 142  24  11  14]\n",
            " [  4   8 150  28  14]\n",
            " [  7   7   6 237   2]\n",
            " [ 15  43  44  20 113]]\n"
          ]
        },
        {
          "name": "stderr",
          "output_type": "stream",
          "text": [
            "Epoch 18/40: 100%|██████████| 313/313 [03:21<00:00,  1.55it/s, loss=0.484]\n"
          ]
        },
        {
          "name": "stdout",
          "output_type": "stream",
          "text": [
            "Epoch 18 : \n",
            " Train Loss: 218.7130, \n",
            " Train Acc: 0.7251, \n",
            " Val Loss: 0.7533\n",
            "Val Accuracy: 0.7125\n",
            "Val Macro-F1: 0.7033\n",
            "Val Confusion Matrix:\n",
            "[[148  23   5  19  21]\n",
            " [  7 131  20  18  23]\n",
            " [  5  11 142  31  15]\n",
            " [  6   2   7 244   0]\n",
            " [ 17  41  26  23 128]]\n"
          ]
        },
        {
          "name": "stderr",
          "output_type": "stream",
          "text": [
            "Epoch 19/40: 100%|██████████| 313/313 [03:21<00:00,  1.55it/s, loss=0.633]\n"
          ]
        },
        {
          "name": "stdout",
          "output_type": "stream",
          "text": [
            "Epoch 19 : \n",
            " Train Loss: 216.9210, \n",
            " Train Acc: 0.7269, \n",
            " Val Loss: 0.7988\n",
            "Val Accuracy: 0.6864\n",
            "Val Macro-F1: 0.6845\n",
            "Val Confusion Matrix:\n",
            "[[136  39   9   9  23]\n",
            " [  3 173   3   1  19]\n",
            " [  6  38 128  11  21]\n",
            " [  7  26   8 210   8]\n",
            " [ 11  73  29   5 117]]\n"
          ]
        },
        {
          "name": "stderr",
          "output_type": "stream",
          "text": [
            "Epoch 20/40: 100%|██████████| 313/313 [03:21<00:00,  1.55it/s, loss=0.385]\n"
          ]
        },
        {
          "name": "stdout",
          "output_type": "stream",
          "text": [
            "Epoch 20 : \n",
            " Train Loss: 216.4529, \n",
            " Train Acc: 0.7299, \n",
            " Val Loss: 0.7438\n",
            "Val Accuracy: 0.7170\n",
            "Val Macro-F1: 0.7119\n",
            "Val Confusion Matrix:\n",
            "[[141  37   9   9  20]\n",
            " [  2 158  16   2  21]\n",
            " [  3  13 154  20  14]\n",
            " [  7  13  12 223   4]\n",
            " [ 16  58  28  11 122]]\n"
          ]
        },
        {
          "name": "stderr",
          "output_type": "stream",
          "text": [
            "Epoch 21/40: 100%|██████████| 313/313 [03:21<00:00,  1.55it/s, loss=1.31]\n"
          ]
        },
        {
          "name": "stdout",
          "output_type": "stream",
          "text": [
            "Epoch 21 : \n",
            " Train Loss: 216.4195, \n",
            " Train Acc: 0.7349, \n",
            " Val Loss: 0.7363\n",
            "Val Accuracy: 0.7143\n",
            "Val Macro-F1: 0.7024\n",
            "Val Confusion Matrix:\n",
            "[[176  14   4  11  11]\n",
            " [ 29 131  12  12  15]\n",
            " [ 24   8 137  24  11]\n",
            " [ 11   2   6 240   0]\n",
            " [ 45  38  22  19 111]]\n"
          ]
        },
        {
          "name": "stderr",
          "output_type": "stream",
          "text": [
            "Epoch 22/40: 100%|██████████| 313/313 [03:21<00:00,  1.55it/s, loss=0.915]\n"
          ]
        },
        {
          "name": "stdout",
          "output_type": "stream",
          "text": [
            "Epoch 22 : \n",
            " Train Loss: 210.8751, \n",
            " Train Acc: 0.7382, \n",
            " Val Loss: 0.7078\n",
            "Val Accuracy: 0.7170\n",
            "Val Macro-F1: 0.7152\n",
            "Val Confusion Matrix:\n",
            "[[125  22  10  11  48]\n",
            " [  1 142  12   2  42]\n",
            " [  5  10 147  13  29]\n",
            " [ 10   8  13 217  11]\n",
            " [  5  32  24   7 167]]\n"
          ]
        },
        {
          "name": "stderr",
          "output_type": "stream",
          "text": [
            "Epoch 23/40: 100%|██████████| 313/313 [03:21<00:00,  1.55it/s, loss=0.406]\n"
          ]
        },
        {
          "name": "stdout",
          "output_type": "stream",
          "text": [
            "Epoch 23 : \n",
            " Train Loss: 208.4270, \n",
            " Train Acc: 0.7410, \n",
            " Val Loss: 0.7853\n",
            "Val Accuracy: 0.6918\n",
            "Val Macro-F1: 0.6813\n",
            "Val Confusion Matrix:\n",
            "[[122  34  23  18  19]\n",
            " [  3 146  36   3  11]\n",
            " [  2  11 165  18   8]\n",
            " [  5   7  10 232   5]\n",
            " [  4  52  56  18 105]]\n"
          ]
        },
        {
          "name": "stderr",
          "output_type": "stream",
          "text": [
            "Epoch 24/40: 100%|██████████| 313/313 [03:21<00:00,  1.55it/s, loss=0.865]\n"
          ]
        },
        {
          "name": "stdout",
          "output_type": "stream",
          "text": [
            "Epoch 24 : \n",
            " Train Loss: 210.0074, \n",
            " Train Acc: 0.7391, \n",
            " Val Loss: 0.7517\n",
            "Val Accuracy: 0.7089\n",
            "Val Macro-F1: 0.7096\n",
            "Val Confusion Matrix:\n",
            "[[128  14   5  11  58]\n",
            " [  1 122  16   2  58]\n",
            " [  6   3 142  11  42]\n",
            " [  6  11  10 215  17]\n",
            " [  6  22  19   6 182]]\n"
          ]
        },
        {
          "name": "stderr",
          "output_type": "stream",
          "text": [
            "Epoch 25/40: 100%|██████████| 313/313 [03:21<00:00,  1.55it/s, loss=0.696]\n"
          ]
        },
        {
          "name": "stdout",
          "output_type": "stream",
          "text": [
            "Epoch 25 : \n",
            " Train Loss: 207.7907, \n",
            " Train Acc: 0.7397, \n",
            " Val Loss: 0.7710\n",
            "Val Accuracy: 0.6999\n",
            "Val Macro-F1: 0.6914\n",
            "Val Confusion Matrix:\n",
            "[[153  37   2   8  16]\n",
            " [  9 174   1   3  12]\n",
            " [ 12  35 107  22  28]\n",
            " [ 10  12   4 227   6]\n",
            " [ 26  71   9  11 118]]\n"
          ]
        },
        {
          "name": "stderr",
          "output_type": "stream",
          "text": [
            "Epoch 26/40: 100%|██████████| 313/313 [03:21<00:00,  1.55it/s, loss=0.752]\n"
          ]
        },
        {
          "name": "stdout",
          "output_type": "stream",
          "text": [
            "Epoch 26 : \n",
            " Train Loss: 204.8602, \n",
            " Train Acc: 0.7437, \n",
            " Val Loss: 0.7744\n",
            "Val Accuracy: 0.6909\n",
            "Val Macro-F1: 0.6893\n",
            "Val Confusion Matrix:\n",
            "[[113  20   4  15  64]\n",
            " [  1 116   7   3  72]\n",
            " [  2  11 132  16  43]\n",
            " [  5   7  10 221  16]\n",
            " [  2  23  15   8 187]]\n"
          ]
        },
        {
          "name": "stderr",
          "output_type": "stream",
          "text": [
            "Epoch 27/40: 100%|██████████| 313/313 [03:21<00:00,  1.55it/s, loss=0.719]\n"
          ]
        },
        {
          "name": "stdout",
          "output_type": "stream",
          "text": [
            "Epoch 27 : \n",
            " Train Loss: 202.9238, \n",
            " Train Acc: 0.7469, \n",
            " Val Loss: 0.7547\n",
            "Val Accuracy: 0.7107\n",
            "Val Macro-F1: 0.7068\n",
            "Val Confusion Matrix:\n",
            "[[132  33   6  14  31]\n",
            " [  3 158   8   2  28]\n",
            " [  6  18 145  16  19]\n",
            " [  9  11  14 218   7]\n",
            " [  9  40  36  12 138]]\n"
          ]
        },
        {
          "name": "stderr",
          "output_type": "stream",
          "text": [
            "Epoch 28/40: 100%|██████████| 313/313 [03:21<00:00,  1.55it/s, loss=0.566]\n"
          ]
        },
        {
          "name": "stdout",
          "output_type": "stream",
          "text": [
            "Epoch 28 : \n",
            " Train Loss: 202.0895, \n",
            " Train Acc: 0.7439, \n",
            " Val Loss: 0.8160\n",
            "Val Accuracy: 0.6846\n",
            "Val Macro-F1: 0.6790\n",
            "Val Confusion Matrix:\n",
            "[[135  42   1  11  27]\n",
            " [  3 174   2   1  19]\n",
            " [  7  43  97  18  39]\n",
            " [  4  21   5 223   6]\n",
            " [  8  74  11   9 133]]\n"
          ]
        },
        {
          "name": "stderr",
          "output_type": "stream",
          "text": [
            "Epoch 29/40: 100%|██████████| 313/313 [03:21<00:00,  1.55it/s, loss=0.695]\n"
          ]
        },
        {
          "name": "stdout",
          "output_type": "stream",
          "text": [
            "Epoch 29 : \n",
            " Train Loss: 202.5384, \n",
            " Train Acc: 0.7457, \n",
            " Val Loss: 0.7530\n",
            "Val Accuracy: 0.7161\n",
            "Val Macro-F1: 0.7107\n",
            "Val Confusion Matrix:\n",
            "[[145  12  10   9  40]\n",
            " [  5 104  26   5  59]\n",
            " [  5   1 154  16  28]\n",
            " [  8   3  13 227   8]\n",
            " [  7  19  30  12 167]]\n"
          ]
        },
        {
          "name": "stderr",
          "output_type": "stream",
          "text": [
            "Epoch 30/40: 100%|██████████| 313/313 [03:22<00:00,  1.55it/s, loss=0.5]\n"
          ]
        },
        {
          "name": "stdout",
          "output_type": "stream",
          "text": [
            "Epoch 30 : \n",
            " Train Loss: 199.8658, \n",
            " Train Acc: 0.7557, \n",
            " Val Loss: 0.7274\n",
            "Val Accuracy: 0.7323\n",
            "Val Macro-F1: 0.7299\n",
            "Val Confusion Matrix:\n",
            "[[141  16   6  13  40]\n",
            " [  6 138   9   3  43]\n",
            " [  6   8 145  19  26]\n",
            " [  7   8   7 228   9]\n",
            " [ 10  30  21  11 163]]\n"
          ]
        },
        {
          "name": "stderr",
          "output_type": "stream",
          "text": [
            "Epoch 31/40: 100%|██████████| 313/313 [03:21<00:00,  1.55it/s, loss=0.47]\n"
          ]
        },
        {
          "name": "stdout",
          "output_type": "stream",
          "text": [
            "Epoch 31 : \n",
            " Train Loss: 199.3990, \n",
            " Train Acc: 0.7521, \n",
            " Val Loss: 0.7345\n",
            "Val Accuracy: 0.7367\n",
            "Val Macro-F1: 0.7321\n",
            "Val Confusion Matrix:\n",
            "[[152  24   4   9  27]\n",
            " [  7 155   8   4  25]\n",
            " [  9  14 133  17  31]\n",
            " [ 11   8   5 232   3]\n",
            " [ 20  41  13  13 148]]\n"
          ]
        },
        {
          "name": "stderr",
          "output_type": "stream",
          "text": [
            "Epoch 32/40: 100%|██████████| 313/313 [03:21<00:00,  1.55it/s, loss=0.494]\n"
          ]
        },
        {
          "name": "stdout",
          "output_type": "stream",
          "text": [
            "Epoch 32 : \n",
            " Train Loss: 199.4106, \n",
            " Train Acc: 0.7482, \n",
            " Val Loss: 0.7376\n",
            "Val Accuracy: 0.7179\n",
            "Val Macro-F1: 0.7092\n",
            "Val Confusion Matrix:\n",
            "[[167  24  10   8   7]\n",
            " [ 13 160  12   3  11]\n",
            " [ 10  16 150  14  14]\n",
            " [ 13  10  11 217   8]\n",
            " [ 37  51  33   9 105]]\n"
          ]
        },
        {
          "name": "stderr",
          "output_type": "stream",
          "text": [
            "Epoch 33/40: 100%|██████████| 313/313 [03:22<00:00,  1.55it/s, loss=0.863]\n"
          ]
        },
        {
          "name": "stdout",
          "output_type": "stream",
          "text": [
            "Epoch 33 : \n",
            " Train Loss: 196.9609, \n",
            " Train Acc: 0.7522, \n",
            " Val Loss: 0.7748\n",
            "Val Accuracy: 0.6972\n",
            "Val Macro-F1: 0.6943\n",
            "Val Confusion Matrix:\n",
            "[[126   8  14   8  60]\n",
            " [  2  96  20   3  78]\n",
            " [  3   1 154  12  34]\n",
            " [  6   5  22 212  14]\n",
            " [  4  11  26   6 188]]\n"
          ]
        },
        {
          "name": "stderr",
          "output_type": "stream",
          "text": [
            "Epoch 34/40: 100%|██████████| 313/313 [03:21<00:00,  1.55it/s, loss=0.679]\n"
          ]
        },
        {
          "name": "stdout",
          "output_type": "stream",
          "text": [
            "Epoch 34 : \n",
            " Train Loss: 193.8935, \n",
            " Train Acc: 0.7585, \n",
            " Val Loss: 0.7530\n",
            "Val Accuracy: 0.7358\n",
            "Val Macro-F1: 0.7311\n",
            "Val Confusion Matrix:\n",
            "[[159  20   5  12  20]\n",
            " [ 14 145  15   4  21]\n",
            " [  6   8 154  17  19]\n",
            " [ 17   5  10 223   4]\n",
            " [ 30  30  26  11 138]]\n"
          ]
        },
        {
          "name": "stderr",
          "output_type": "stream",
          "text": [
            "Epoch 35/40: 100%|██████████| 313/313 [03:22<00:00,  1.55it/s, loss=0.504]\n"
          ]
        },
        {
          "name": "stdout",
          "output_type": "stream",
          "text": [
            "Epoch 35 : \n",
            " Train Loss: 195.3973, \n",
            " Train Acc: 0.7598, \n",
            " Val Loss: 0.7707\n",
            "Val Accuracy: 0.7053\n",
            "Val Macro-F1: 0.7054\n",
            "Val Confusion Matrix:\n",
            "[[134  35   2   7  38]\n",
            " [  1 169   3   1  25]\n",
            " [  4  27 115  16  42]\n",
            " [  7  23   6 206  17]\n",
            " [  6  51  12   5 161]]\n"
          ]
        },
        {
          "name": "stderr",
          "output_type": "stream",
          "text": [
            "Epoch 36/40: 100%|██████████| 313/313 [03:21<00:00,  1.55it/s, loss=0.825]\n"
          ]
        },
        {
          "name": "stdout",
          "output_type": "stream",
          "text": [
            "Epoch 36 : \n",
            " Train Loss: 193.3008, \n",
            " Train Acc: 0.7608, \n",
            " Val Loss: 0.7134\n",
            "Val Accuracy: 0.7350\n",
            "Val Macro-F1: 0.7305\n",
            "Val Confusion Matrix:\n",
            "[[157  29   3   9  18]\n",
            " [  9 166   3   4  17]\n",
            " [  8  23 130  16  27]\n",
            " [ 12   9   4 229   5]\n",
            " [ 17  58  12  12 136]]\n"
          ]
        },
        {
          "name": "stderr",
          "output_type": "stream",
          "text": [
            "Epoch 37/40: 100%|██████████| 313/313 [03:21<00:00,  1.55it/s, loss=0.795]\n"
          ]
        },
        {
          "name": "stdout",
          "output_type": "stream",
          "text": [
            "Epoch 37 : \n",
            " Train Loss: 191.5327, \n",
            " Train Acc: 0.7619, \n",
            " Val Loss: 0.7216\n",
            "Val Accuracy: 0.7143\n",
            "Val Macro-F1: 0.7117\n",
            "Val Confusion Matrix:\n",
            "[[130  27  12  11  36]\n",
            " [  7 155   6   3  28]\n",
            " [  7  19 144  11  23]\n",
            " [  6   7  17 216  13]\n",
            " [  7  48  23   7 150]]\n"
          ]
        },
        {
          "name": "stderr",
          "output_type": "stream",
          "text": [
            "Epoch 38/40: 100%|██████████| 313/313 [03:22<00:00,  1.55it/s, loss=0.362]\n"
          ]
        },
        {
          "name": "stdout",
          "output_type": "stream",
          "text": [
            "Epoch 38 : \n",
            " Train Loss: 189.8948, \n",
            " Train Acc: 0.7609, \n",
            " Val Loss: 0.7119\n",
            "Val Accuracy: 0.7206\n",
            "Val Macro-F1: 0.7191\n",
            "Val Confusion Matrix:\n",
            "[[135  21   5   9  46]\n",
            " [  5 133   8   3  50]\n",
            " [  3  10 139  21  31]\n",
            " [  8   7   6 226  12]\n",
            " [  6  31  18  11 169]]\n"
          ]
        },
        {
          "name": "stderr",
          "output_type": "stream",
          "text": [
            "Epoch 39/40: 100%|██████████| 313/313 [03:22<00:00,  1.55it/s, loss=0.633]\n"
          ]
        },
        {
          "name": "stdout",
          "output_type": "stream",
          "text": [
            "Epoch 39 : \n",
            " Train Loss: 189.7536, \n",
            " Train Acc: 0.7576, \n",
            " Val Loss: 0.7184\n",
            "Val Accuracy: 0.7323\n",
            "Val Macro-F1: 0.7274\n",
            "Val Confusion Matrix:\n",
            "[[147  31   3  13  22]\n",
            " [ 10 161   6   3  19]\n",
            " [  6  20 132  24  22]\n",
            " [  8   9   3 231   8]\n",
            " [ 12  47  18  14 144]]\n"
          ]
        },
        {
          "name": "stderr",
          "output_type": "stream",
          "text": [
            "Epoch 40/40: 100%|██████████| 313/313 [03:21<00:00,  1.55it/s, loss=0.541]\n"
          ]
        },
        {
          "name": "stdout",
          "output_type": "stream",
          "text": [
            "Epoch 40 : \n",
            " Train Loss: 188.0715, \n",
            " Train Acc: 0.7645, \n",
            " Val Loss: 0.7375\n",
            "Val Accuracy: 0.7251\n",
            "Val Macro-F1: 0.7210\n",
            "Val Confusion Matrix:\n",
            "[[159  12   4  13  28]\n",
            " [ 15 130   6   4  44]\n",
            " [  4  13 139  23  25]\n",
            " [ 13   7   8 227   4]\n",
            " [ 14  33  21  15 152]]\n"
          ]
        }
      ],
      "source": [
        "train_model(model, train_loader, val_loader, epochs=40, resume=False)"
      ]
    },
    {
      "cell_type": "markdown",
      "metadata": {
        "id": "H-OICMA4KQ6Q"
      },
      "source": []
    },
    {
      "cell_type": "markdown",
      "metadata": {
        "id": "F5Po4UTyYWGR"
      },
      "source": [
        "# evaluation"
      ]
    },
    {
      "cell_type": "code",
      "execution_count": 45,
      "metadata": {
        "colab": {
          "base_uri": "https://localhost:8080/"
        },
        "id": "4OcuhUi3aFzm",
        "outputId": "eef6cb71-7809-41ad-a999-b44590d76ea0"
      },
      "outputs": [
        {
          "name": "stdout",
          "output_type": "stream",
          "text": [
            "Test Accuracy: 0.7095\n"
          ]
        }
      ],
      "source": [
        "#evaluate the model on test data 1\n",
        "# from google.colab import drive\n",
        "# drive.mount('/content/drive')\n",
        "# model = ModernBertClassifier(num_labels).to(device)\n",
        "# model = torch.load('/content/modernbert_sentiment_model.pth')\n",
        "model.eval()\n",
        "\n",
        "def evaluate_model(model, test_loader):\n",
        "    model.eval()\n",
        "    correct = 0\n",
        "    with torch.no_grad():\n",
        "        for batch in test_loader:\n",
        "            inputs, labels = batch\n",
        "            inputs = {key: val.to(device) for key, val in inputs.items()}\n",
        "            labels = labels.to(device)\n",
        "            outputs = model(**inputs)\n",
        "            correct += (outputs.argmax(dim=1) == labels).sum().item()\n",
        "    test_acc = correct / len(test_loader.dataset)\n",
        "    print(f\"Test Accuracy: {test_acc:.4f}\")\n",
        "\n",
        "evaluate_model(model, test_loader)"
      ]
    },
    {
      "cell_type": "code",
      "execution_count": 46,
      "metadata": {
        "colab": {
          "base_uri": "https://localhost:8080/"
        },
        "id": "BK2J3ECHwCeg",
        "outputId": "329d8689-e3fb-4025-a943-7ed4fb7227af"
      },
      "outputs": [
        {
          "name": "stdout",
          "output_type": "stream",
          "text": [
            "Batch 1 Accuracy: 0.6875\n",
            "Batch 2 Accuracy: 0.7812\n",
            "Batch 3 Accuracy: 0.7812\n",
            "Batch 4 Accuracy: 0.7500\n",
            "Batch 5 Accuracy: 0.6250\n",
            "Batch 6 Accuracy: 0.7812\n",
            "Batch 7 Accuracy: 0.7500\n",
            "Batch 8 Accuracy: 0.9062\n",
            "Batch 9 Accuracy: 0.6562\n",
            "Batch 10 Accuracy: 0.7188\n",
            "Batch 11 Accuracy: 0.5625\n",
            "Batch 12 Accuracy: 0.7188\n",
            "Batch 13 Accuracy: 0.6562\n",
            "Batch 14 Accuracy: 0.6562\n",
            "Batch 15 Accuracy: 0.5938\n",
            "Batch 16 Accuracy: 0.6562\n",
            "Batch 17 Accuracy: 0.8125\n",
            "Batch 18 Accuracy: 0.6875\n",
            "Batch 19 Accuracy: 0.7500\n",
            "Batch 20 Accuracy: 0.8125\n",
            "Batch 21 Accuracy: 0.6875\n",
            "Batch 22 Accuracy: 0.6875\n",
            "Batch 23 Accuracy: 0.7500\n",
            "Batch 24 Accuracy: 0.6875\n",
            "Batch 25 Accuracy: 0.7188\n",
            "Batch 26 Accuracy: 0.8125\n",
            "Batch 27 Accuracy: 0.6562\n",
            "Batch 28 Accuracy: 0.8125\n",
            "Batch 29 Accuracy: 0.7500\n",
            "Batch 30 Accuracy: 0.6875\n",
            "Batch 31 Accuracy: 0.6875\n",
            "Batch 32 Accuracy: 0.5938\n",
            "Batch 33 Accuracy: 0.5938\n",
            "Batch 34 Accuracy: 0.6250\n",
            "Batch 35 Accuracy: 0.7500\n",
            "Batch 36 Accuracy: 0.6250\n",
            "Batch 37 Accuracy: 0.6562\n",
            "Batch 38 Accuracy: 0.7812\n",
            "Batch 39 Accuracy: 0.8000\n",
            "Overall Test Accuracy: 0.7095\n",
            "Confusion Matrix:\n",
            "[[174  12   9  16  28]\n",
            " [ 13 136   9  10  54]\n",
            " [  4  20 151  22  29]\n",
            " [ 17   5  16 246   6]\n",
            " [ 33  30  15  11 170]]\n",
            "Macro F1 Score: 0.7047\n"
          ]
        }
      ],
      "source": [
        "#evaluate the model on test data 2\n",
        "# model = torch.load('/content/modernbert_sentiment_model.pth')\n",
        "\n",
        "# from sklearn.metrics import confusion_matrix, f1_score\n",
        "\n",
        "def evaluate_model(model, test_loader):\n",
        "    model.eval()\n",
        "    total_correct = 0\n",
        "    total_samples = 0\n",
        "    all_labels = []\n",
        "    all_preds = []\n",
        "\n",
        "    with torch.no_grad():\n",
        "        for batch_idx, batch in enumerate(test_loader):\n",
        "            inputs, labels = batch\n",
        "            inputs = {key: val.to(device) for key, val in inputs.items()}\n",
        "            labels = labels.to(device)\n",
        "            outputs = model(**inputs)\n",
        "\n",
        "            # Get predictions\n",
        "            preds = outputs.argmax(dim=1)\n",
        "\n",
        "            # Calculate batch accuracy\n",
        "            batch_correct = (preds == labels).sum().item()\n",
        "            batch_total = labels.size(0)\n",
        "            batch_acc = batch_correct / batch_total\n",
        "            print(f\"Batch {batch_idx + 1} Accuracy: {batch_acc:.4f}\")\n",
        "\n",
        "            # Accumulate overall accuracy\n",
        "            total_correct += batch_correct\n",
        "            total_samples += batch_total\n",
        "\n",
        "            # Collect all labels and predictions for confusion matrix and F1\n",
        "            all_labels.extend(labels.cpu().numpy())\n",
        "            all_preds.extend(preds.cpu().numpy())\n",
        "\n",
        "    # Calculate overall test accuracy\n",
        "    test_acc = total_correct / total_samples\n",
        "    print(f\"Overall Test Accuracy: {test_acc:.4f}\")\n",
        "\n",
        "    # Calculate Confusion Matrix\n",
        "    cm = confusion_matrix(all_labels, all_preds)\n",
        "    print(\"Confusion Matrix:\")\n",
        "    print(cm)\n",
        "\n",
        "    # Calculate Macro F1 Score\n",
        "    macro_f1 = f1_score(all_labels, all_preds, average='macro')\n",
        "    print(f\"Macro F1 Score: {macro_f1:.4f}\")\n",
        "\n",
        "evaluate_model(model, test_loader)"
      ]
    },
    {
      "cell_type": "markdown",
      "metadata": {
        "id": "g25YTIg74MqW"
      },
      "source": [
        "# test model"
      ]
    },
    {
      "cell_type": "markdown",
      "metadata": {
        "id": "DvAl7J-MCbAS"
      },
      "source": []
    },
    {
      "cell_type": "code",
      "execution_count": 47,
      "metadata": {
        "colab": {
          "base_uri": "https://localhost:8080/"
        },
        "id": "onKdVomDyjrO",
        "outputId": "1d61b521-ef62-4837-ebd4-f8f22f12868c"
      },
      "outputs": [
        {
          "name": "stdout",
          "output_type": "stream",
          "text": [
            "waking up to the gentle rays of sunlight filtering through the curtains i couldnt help but feel a sense of pure joy and contentment the birds outside my window were singing their morning songs and the soft rustle of leaves added to the symphony of nature it was one of those perfect days where everything seemed to align just right as i stretched and yawned i thought about all the wonderful things that had been happening in my life lately the promotion at work the upcoming vacation to a tropical paradise and the new friendships that had blossomed over the past few months each thought brought a smile to my face and a warmth to my heart i decided to start my day with a leisurely walk in the park the crisp morning air was invigorating and the sight of children playing and dogs chasing their tails filled me with a sense of happiness the park was a vibrant tapestry of colorsthe greens of the grass the blues of the sky and the bright hues of the flowers in full bloom it was as if nature itself was celebrating the joy of being alive as i walked i noticed a small caf nestled among the trees the aroma of freshly brewed coffee and the sight of pastries in the display case were too tempting to resist i ordered a cappuccino and a croissant and found a cozy spot by the window to enjoy my breakfast the first sip of coffee was heavenly and the flaky croissant melted in my mouth it was a simple pleasure but one that brought me immense happiness after breakfast i decided to visit the local market the stalls were filled with fresh produce handmade crafts and the chatter of friendly vendors i bought a bouquet of sunflowers their bright yellow petals radiating happiness i also picked up some fresh fruits and vegetables inspired to cook a healthy and delicious meal later in the day as i walked home i passed by a group of street musicians playing a lively tune their music was infectious and i found myself tapping my feet and humming along i dropped a few coins into their hat and thanked them for brightening my day their smiles and gratitude added to my own happiness back home i arranged the sunflowers in a vase and placed them on the kitchen table their cheerful presence lifted the mood of the entire room i spent the afternoon cooking the aroma of herbs and spices filling the air as i chopped vegetables and stirred pots i thought about how fortunate i was to have such a wonderful life later in the evening i invited a few friends over for dinner we shared stories laughter and the delicious meal i had prepared the sound of their laughter and the warmth of their company filled my heart with joy we toasted to friendship to happiness and to the many blessings in our lives as the night wore on we moved to the balcony where we could see the stars twinkling in the sky we talked about our dreams and aspirations and the excitement of what the future held the cool night air was soothing and the company of good friends was the perfect way to end a day filled with happiness as i lay in bed that night i reflected on the days events from the simple pleasures of a morning walk to the joy of sharing a meal with friends each moment had been filled with happiness i felt grateful for the blessings in my life and looked forward to the adventures that tomorrow would bring with a contented sigh i drifted off to sleep a smile still lingering on my lips\n"
          ]
        },
        {
          "data": {
            "text/plain": [
              "('Sad',\n",
              " {'Aggressive': 0.21,\n",
              "  'Fear': 10.33,\n",
              "  'Happy': 19.91,\n",
              "  'Neutral': 0.0,\n",
              "  'Sad': 69.55})"
            ]
          },
          "execution_count": 47,
          "metadata": {},
          "output_type": "execute_result"
        }
      ],
      "source": [
        "#happy\n",
        "text = '''Waking up to the gentle rays of sunlight filtering through the curtains, I couldn't help but feel a sense of pure joy and contentment. The birds outside my window were singing their morning songs, and the soft rustle of leaves added to the symphony of nature. It was one of those perfect days where everything seemed to align just right.\n",
        "\n",
        "As I stretched and yawned, I thought about all the wonderful things that had been happening in my life lately. The promotion at work, the upcoming vacation to a tropical paradise, and the new friendships that had blossomed over the past few months. Each thought brought a smile to my face and a warmth to my heart.\n",
        "\n",
        "I decided to start my day with a leisurely walk in the park. The crisp morning air was invigorating, and the sight of children playing and dogs chasing their tails filled me with a sense of happiness. The park was a vibrant tapestry of colors—the greens of the grass, the blues of the sky, and the bright hues of the flowers in full bloom. It was as if nature itself was celebrating the joy of being alive.\n",
        "\n",
        "As I walked, I noticed a small café nestled among the trees. The aroma of freshly brewed coffee and the sight of pastries in the display case were too tempting to resist. I ordered a cappuccino and a croissant, and found a cozy spot by the window to enjoy my breakfast. The first sip of coffee was heavenly, and the flaky croissant melted in my mouth. It was a simple pleasure, but one that brought me immense happiness.\n",
        "\n",
        "After breakfast, I decided to visit the local market. The stalls were filled with fresh produce, handmade crafts, and the chatter of friendly vendors. I bought a bouquet of sunflowers, their bright yellow petals radiating happiness. I also picked up some fresh fruits and vegetables, inspired to cook a healthy and delicious meal later in the day.\n",
        "\n",
        "As I walked home, I passed by a group of street musicians playing a lively tune. Their music was infectious, and I found myself tapping my feet and humming along. I dropped a few coins into their hat and thanked them for brightening my day. Their smiles and gratitude added to my own happiness.\n",
        "\n",
        "Back home, I arranged the sunflowers in a vase and placed them on the kitchen table. Their cheerful presence lifted the mood of the entire room. I spent the afternoon cooking, the aroma of herbs and spices filling the air. As I chopped vegetables and stirred pots, I thought about how fortunate I was to have such a wonderful life.\n",
        "\n",
        "Later in the evening, I invited a few friends over for dinner. We shared stories, laughter, and the delicious meal I had prepared. The sound of their laughter and the warmth of their company filled my heart with joy. We toasted to friendship, to happiness, and to the many blessings in our lives.\n",
        "\n",
        "As the night wore on, we moved to the balcony, where we could see the stars twinkling in the sky. We talked about our dreams and aspirations, and the excitement of what the future held. The cool night air was soothing, and the company of good friends was the perfect way to end a day filled with happiness.\n",
        "\n",
        "As I lay in bed that night, I reflected on the day's events. From the simple pleasures of a morning walk to the joy of sharing a meal with friends, each moment had been filled with happiness. I felt grateful for the blessings in my life and looked forward to the adventures that tomorrow would bring. With a contented sigh, I drifted off to sleep, a smile still lingering on my lips.'''\n",
        "text = clean_text(text)\n",
        "print(text)\n",
        "model.predict(text)\n"
      ]
    },
    {
      "cell_type": "code",
      "execution_count": 48,
      "metadata": {
        "colab": {
          "base_uri": "https://localhost:8080/"
        },
        "id": "BfpdOLsvqTSu",
        "outputId": "65119e48-1dba-4136-8cb2-e7e681c5be65"
      },
      "outputs": [
        {
          "name": "stdout",
          "output_type": "stream",
          "text": [
            "hi recipients name i hope this email finds you in the best of spirits i am absolutely bursting with joy and excitement and i just had to share some incredible news with you firstly i want to start by saying how grateful i am for your friendship and support over the years you have always been there for me through the ups and downs and your unwavering belief in me has meant the world today i am over the moon to share some news that has brought immense happiness into my life as you know i have been working tirelessly on my passion project for the past few years there were times when i doubted myself when i felt overwhelmed and when i wondered if all the effort would ever pay off but i am thrilled to announce that all the hard work dedication and perseverance have finally come to fruition last week i received an email that changed everything i have been selected as one of the recipients of the prestigious innovation award for my project this award recognizes individuals who have made significant contributions to their field through creativity innovation and dedication i still cant believe it the news left me speechless and i couldnt help but shed tears of joy the award ceremony will be held next month and i would be honored if you could join me it would mean so much to have you there to celebrate this incredible milestone with me the event promises to be a wonderful evening filled with inspiring stories amazing people and of course lots of happiness and joy but thats not all in addition to the award i have also been offered an incredible opportunity to collaborate with a renowned organization in my field this partnership will allow me to take my project to the next level and reach a much wider audience i am beyond excited about the possibilities that lie ahead and the impact we can make together as i reflect on this journey i am filled with a deep sense of gratitude and happiness i am grateful for the opportunities that have come my way for the people who have supported and believed in me and for the chance to make a difference in the world i am also incredibly happy to see my dreams becoming a reality and to know that my hard work is being recognized and appreciated i want to take a moment to thank you for being a part of this journey with me your encouragement advice and unwavering support have been invaluable i am truly blessed to have friends like you in my life and i am looking forward to celebrating this happiness with you in other exciting news i recently took a muchneeded vacation to a beautiful tropical island the sun sand and sea were exactly what i needed to recharge and rejuvenate i spent my days exploring the local culture trying new foods and soaking up the sun it was a perfect getaway and i returned feeling refreshed inspired and filled with happiness i have attached some photos from my trip and i hope they bring a smile to your face as they do to mine the memories i made during this vacation will stay with me forever and i am already looking forward to my next adventure as i look ahead to the future i am filled with a sense of optimism and excitement there are so many amazing things on the horizon and i cant wait to see what the next chapter holds i am grateful for the happiness that fills my life and for the incredible people who make it all worthwhile once again thank you for being a part of my journey and for sharing in my happiness i am looking forward to celebrating many more milestones and adventures with you in the years to come with heartfelt gratitude and happiness\n"
          ]
        },
        {
          "data": {
            "text/plain": [
              "('Happy',\n",
              " {'Aggressive': 0.05,\n",
              "  'Fear': 0.02,\n",
              "  'Happy': 96.47,\n",
              "  'Neutral': 0.0,\n",
              "  'Sad': 3.46})"
            ]
          },
          "execution_count": 48,
          "metadata": {},
          "output_type": "execute_result"
        }
      ],
      "source": [
        "#happy\n",
        "text = '''Hi [Recipient's Name],\n",
        "\n",
        "I hope this email finds you in the best of spirits! I am absolutely bursting with joy and excitement, and I just had to share some incredible news with you.\n",
        "\n",
        "Firstly, I want to start by saying how grateful I am for your friendship and support over the years. You have always been there for me, through the ups and downs, and your unwavering belief in me has meant the world. Today, I am over the moon to share some news that has brought immense happiness into my life.\n",
        "\n",
        "As you know, I have been working tirelessly on my passion project for the past few years. There were times when I doubted myself, when I felt overwhelmed, and when I wondered if all the effort would ever pay off. But I am thrilled to announce that all the hard work, dedication, and perseverance have finally come to fruition!\n",
        "\n",
        "Last week, I received an email that changed everything. I have been selected as one of the recipients of the prestigious Innovation Award for my project! This award recognizes individuals who have made significant contributions to their field through creativity, innovation, and dedication. I still can't believe it! The news left me speechless, and I couldn't help but shed tears of joy.\n",
        "\n",
        "The award ceremony will be held next month, and I would be honored if you could join me. It would mean so much to have you there to celebrate this incredible milestone with me. The event promises to be a wonderful evening filled with inspiring stories, amazing people, and, of course, lots of happiness and joy.\n",
        "\n",
        "But that's not all! In addition to the award, I have also been offered an incredible opportunity to collaborate with a renowned organization in my field. This partnership will allow me to take my project to the next level and reach a much wider audience. I am beyond excited about the possibilities that lie ahead and the impact we can make together.\n",
        "\n",
        "As I reflect on this journey, I am filled with a deep sense of gratitude and happiness. I am grateful for the opportunities that have come my way, for the people who have supported and believed in me, and for the chance to make a difference in the world. I am also incredibly happy to see my dreams becoming a reality and to know that my hard work is being recognized and appreciated.\n",
        "\n",
        "I want to take a moment to thank you for being a part of this journey with me. Your encouragement, advice, and unwavering support have been invaluable. I am truly blessed to have friends like you in my life, and I am looking forward to celebrating this happiness with you.\n",
        "\n",
        "In other exciting news, I recently took a much-needed vacation to a beautiful tropical island. The sun, sand, and sea were exactly what I needed to recharge and rejuvenate. I spent my days exploring the local culture, trying new foods, and soaking up the sun. It was a perfect getaway, and I returned feeling refreshed, inspired, and filled with happiness.\n",
        "\n",
        "I have attached some photos from my trip, and I hope they bring a smile to your face as they do to mine. The memories I made during this vacation will stay with me forever, and I am already looking forward to my next adventure.\n",
        "\n",
        "As I look ahead to the future, I am filled with a sense of optimism and excitement. There are so many amazing things on the horizon, and I can't wait to see what the next chapter holds. I am grateful for the happiness that fills my life and for the incredible people who make it all worthwhile.\n",
        "\n",
        "Once again, thank you for being a part of my journey and for sharing in my happiness. I am looking forward to celebrating many more milestones and adventures with you in the years to come.\n",
        "\n",
        "With heartfelt gratitude and happiness,\n",
        "\n",
        "'''\n",
        "text = clean_text(text)\n",
        "print(text)\n",
        "model.predict(text)\n"
      ]
    },
    {
      "cell_type": "code",
      "execution_count": 49,
      "metadata": {
        "colab": {
          "base_uri": "https://localhost:8080/"
        },
        "id": "ObKWJ2Fzq_Hb",
        "outputId": "5094df52-f77c-4344-8001-b92f8948a45a"
      },
      "outputs": [
        {
          "name": "stdout",
          "output_type": "stream",
          "text": [
            "i cant believe this ive had it up to here with the constant disrespect and lack of consideration every day its the same thingpeople pushing their way through not caring about anyone elses feelings or needs its infuriating ive tried to be patient to understand but enough is enough this morning i woke up to find that someone had parked their car in my spot again ive asked nicely ive left notes but nothing changes its like my requests fall on deaf ears i stormed out of the house ready to confront whoever was responsible but of course there was no one around typical and then at work it was more of the same colleagues taking credit for my ideas passing off my hard work as their own ive been busting my chops to meet deadlines staying late coming in early and for what to see someone else get the praise and recognition its not fair and im sick of it i tried to bring it up in the meeting but as usual i was talked over ignored its like my voice doesnt matter like im invisible i could feel the anger boiling inside me my face flushing my hands clenching into fists under the table i wanted to scream to throw something to make them see me hear me but i bit my tongue swallowed my frustration and stormed out of the room on the way home the traffic was unbearable cars cutting me off honking drivers yelling obscenities i gripped the steering wheel so tightly my knuckles turned white i could feel the tension in my shoulders the pounding in my temples i just wanted to get home to escape the chaos but it seemed like the universe was conspiring against me finally i pulled into the driveway only to find that the neighbors dog had gotten into my trash again scattering garbage all over the lawn i saw red i jumped out of the car slammed the door and marched over to the neighbors house ready to give them a piece of my mind but as i raised my hand to knock i paused i took a deep breath trying to calm the storm raging inside me i knew that lashing out wouldnt solve anything that it would only make things worse but the anger was still there simmering just below the surface ready to boil over at the slightest provocation i turned away from the neighbors door my shoulders slumped defeat washing over me i was tiredtired of the disrespect the lack of consideration the constant struggle i just wanted a break a moment of peace but it seemed like that was too much to ask as i walked back to my house i couldnt shake the feeling of helplessness of being trapped in a cycle of anger and frustration i knew i needed to find a way to break free to channel my anger into something productive something positive but for now all i could do was take a deep breath count to ten and try to let it go\n"
          ]
        },
        {
          "data": {
            "text/plain": [
              "('Sad',\n",
              " {'Aggressive': 9.41,\n",
              "  'Fear': 6.97,\n",
              "  'Happy': 0.34,\n",
              "  'Neutral': 0.01,\n",
              "  'Sad': 83.28})"
            ]
          },
          "execution_count": 49,
          "metadata": {},
          "output_type": "execute_result"
        }
      ],
      "source": [
        "#aggressive\n",
        "text = '''I can't believe this! I've had it up to here with the constant disrespect and lack of consideration. Every day, it's the same thing—people pushing their way through, not caring about anyone else's feelings or needs. It's infuriating! I've tried to be patient, to understand, but enough is enough.\n",
        "\n",
        "This morning, I woke up to find that someone had parked their car in my spot again. I've asked nicely, I've left notes, but nothing changes. It's like my requests fall on deaf ears. I stormed out of the house, ready to confront whoever was responsible, but of course, there was no one around. Typical!\n",
        "\n",
        "And then, at work, it was more of the same. Colleagues taking credit for my ideas, passing off my hard work as their own. I've been busting my chops to meet deadlines, staying late, coming in early, and for what? To see someone else get the praise and recognition? It's not fair, and I'm sick of it.\n",
        "\n",
        "I tried to bring it up in the meeting, but as usual, I was talked over, ignored. It's like my voice doesn't matter, like I'm invisible. I could feel the anger boiling inside me, my face flushing, my hands clenching into fists under the table. I wanted to scream, to throw something, to make them see me, hear me. But I bit my tongue, swallowed my frustration, and stormed out of the room.\n",
        "\n",
        "On the way home, the traffic was unbearable. Cars cutting me off, honking, drivers yelling obscenities. I gripped the steering wheel so tightly my knuckles turned white. I could feel the tension in my shoulders, the pounding in my temples. I just wanted to get home, to escape the chaos, but it seemed like the universe was conspiring against me.\n",
        "\n",
        "Finally, I pulled into the driveway, only to find that the neighbor's dog had gotten into my trash again, scattering garbage all over the lawn. I saw red. I jumped out of the car, slammed the door, and marched over to the neighbor's house, ready to give them a piece of my mind. But as I raised my hand to knock, I paused.\n",
        "\n",
        "I took a deep breath, trying to calm the storm raging inside me. I knew that lashing out wouldn't solve anything, that it would only make things worse. But the anger was still there, simmering just below the surface, ready to boil over at the slightest provocation.\n",
        "\n",
        "I turned away from the neighbor's door, my shoulders slumped, defeat washing over me. I was tired—tired of the disrespect, the lack of consideration, the constant struggle. I just wanted a break, a moment of peace. But it seemed like that was too much to ask.\n",
        "\n",
        "As I walked back to my house, I couldn't shake the feeling of helplessness, of being trapped in a cycle of anger and frustration. I knew I needed to find a way to break free, to channel my anger into something productive, something positive. But for now, all I could do was take a deep breath, count to ten, and try to let it go.\n",
        "\n",
        "'''\n",
        "text = clean_text(text)\n",
        "print(text)\n",
        "model.predict(text)"
      ]
    },
    {
      "cell_type": "code",
      "execution_count": 50,
      "metadata": {
        "colab": {
          "base_uri": "https://localhost:8080/"
        },
        "id": "RahNYvDCqvvC",
        "outputId": "12db5ad1-e6e9-4d9f-fb70-37443a40add6"
      },
      "outputs": [
        {
          "name": "stdout",
          "output_type": "stream",
          "text": [
            "i do have a few that im talking to i have a date on saturday i think and since ive had this date for over a week i feel it rude to not show up and he seems pretty nice so you just never know but i dont see them developing into much more than friends and frankly the whole situation infuriates me because it feels like im constantly managing expectations like im a goddamn social secretary fielding calls and scheduling appointments for something that should be organic and effortless i am so sick of the dating game the endless small talk the forced smiles the constant pressure to be interesting and engaging and the gnawing feeling that im being judged and evaluated every single second why is it so hard to find someone who just gets me someone who doesnt require me to perform a song and dance routine just to earn their attention its infuriating that i have to even think about whether or not i should cancel a date out of politeness when my gut is already screaming that its going nowhere im tired of wasting my time on these polite but ultimately pointless encounters time that i could be spending doing something i actually enjoy and the fact that i even have to explain this frustration to someone that they dont automatically understand the sheer exasperation of navigating this dating landscape just adds fuel to the fire im angry im frustrated and im ready to throw my phone into the nearest body of water and swear off dating forever\n"
          ]
        },
        {
          "data": {
            "text/plain": [
              "('Sad',\n",
              " {'Aggressive': 9.62,\n",
              "  'Fear': 0.27,\n",
              "  'Happy': 3.46,\n",
              "  'Neutral': 0.09,\n",
              "  'Sad': 86.55})"
            ]
          },
          "execution_count": 50,
          "metadata": {},
          "output_type": "execute_result"
        }
      ],
      "source": [
        "#aggressive\n",
        "text = '''i do have a few that i'm talking to, i have a date on saturday, i think, and since i've had this date for over a week, i feel it rude to not show up, and he seems pretty nice, so you just never know, but i don't see them developing into much more than friends, and frankly, the whole situation infuriates me because it feels like i'm constantly managing expectations, like i'm a goddamn social secretary fielding calls and scheduling appointments for something that should be organic and effortless! i am so sick of the dating game, the endless small talk, the forced smiles, the constant pressure to be interesting and engaging, and the gnawing feeling that i'm being judged and evaluated every single second. why is it so hard to find someone who just *gets* me, someone who doesn't require me to perform a song and dance routine just to earn their attention? it's infuriating that i have to even *think* about whether or not i should cancel a date out of politeness when my gut is already screaming that it's going nowhere! i'm tired of wasting my time on these polite but ultimately pointless encounters, time that i could be spending doing something i actually enjoy. and the fact that i even have to explain this frustration to someone, that they don't automatically understand the sheer exasperation of navigating this dating landscape, just adds fuel to the fire! i'm angry, i'm frustrated, and i'm ready to throw my phone into the nearest body of water and swear off dating forever!'''\n",
        "text = clean_text(text)\n",
        "print(text)\n",
        "model.predict(text)"
      ]
    },
    {
      "cell_type": "code",
      "execution_count": 51,
      "metadata": {
        "colab": {
          "base_uri": "https://localhost:8080/"
        },
        "id": "w1NaC7QtoS9L",
        "outputId": "a525a829-cee2-4ff5-82da-ac1d5d5a8e08"
      },
      "outputs": [
        {
          "name": "stdout",
          "output_type": "stream",
          "text": [
            "the city was bustling with its usual morning activity people hurried along the sidewalks some with coffee cups in hand others with earphones plugged in lost in their own worlds the traffic lights changed from red to green and the steady hum of engines filled the air as cars moved in synchronized waves it was a typical day neither exceptionally good nor bad just the routine flow of life i walked down the familiar streets my steps echoing the rhythm of the city the buildings towered above their glass facades reflecting the gray sky the weather was neither sunny nor rainy just a dull overcast that seemed to match the neutral mood of the day i passed by a newsstand the headlines announcing the days eventsnothing extraordinary just the usual mix of politics economics and local news my destination was a small caf tucked away in a quiet alley it was a place i frequented not for its exceptional coffee or pastries but for its calm atmosphere the bell above the door chimed softly as i entered announcing my arrival the barista behind the counter greeted me with a nod recognizing me as a regular i ordered a black coffee no sugar no cream just the way i liked it as i waited for my order i observed the other patrons a young woman sat in the corner her laptop open fingers typing away at a steady pace her expression was focused neither happy nor sad just intent on her work an older man sat by the window reading a newspaper his face impassive as he turned the pages a couple sat at a table in the middle their conversation low and steady neither arguing nor laughing just exchanging words the barista called out my order and i took my coffee to a table by the wall the first sip was neither bitter nor sweet just the familiar taste of roasted beans i took out a book from my bag a novel i had been reading for the past few days the story was engaging but not gripping the characters interesting but not extraordinary it was a good way to pass the time neither thrilling nor boring as i read the sounds of the caf faded into the background the clinking of cups the murmur of conversations the occasional ring of the bell as someone entered or leftall blended into a neutral hum time passed steadily neither quickly nor slowly just the steady ticking of the clock on the wall after a while i closed the book and looked out the window the sky was still gray the streets still busy people came and went their faces a mix of expressions none standing out as particularly happy or sad it was just another day in the city neither remarkable nor forgettable i finished my coffee and gathered my things as i left the caf the bell chimed softly behind me the streets were the same the buildings still towered and the traffic lights still changed from red to green i walked back the way i came my steps steady and even the rest of the day passed in much the same way work was neither challenging nor easy just the usual tasks that needed to be done colleagues greeted each other with polite smiles neither overly enthusiastic nor disinterested meetings were held reports were filed and the hours ticked by as evening approached the city began to wind down the rush of the morning gave way to a slower pace people headed home their faces tired but content the sky darkened and the streetlights came on casting a soft glow over the streets it was a peaceful end to a neutral day back home i prepared a simple dinner nothing fancy just enough to satisfy my hunger i watched a bit of television the programs neither exciting nor dull just the usual mix of news and entertainment as the night wore on i felt a sense of calm it had been a day like any other neither good nor bad just a part of the steady rhythm of life as i lay in bed i thought about the days events nothing extraordinary had happened but that was okay sometimes the neutral days were the ones that provided a sense of stability and routine with that thought i drifted off to sleep the sounds of the city fading into the background\n"
          ]
        },
        {
          "data": {
            "text/plain": [
              "('Fear',\n",
              " {'Aggressive': 0.0,\n",
              "  'Fear': 97.75,\n",
              "  'Happy': 0.03,\n",
              "  'Neutral': 0.01,\n",
              "  'Sad': 2.21})"
            ]
          },
          "execution_count": 51,
          "metadata": {},
          "output_type": "execute_result"
        }
      ],
      "source": [
        "#neutral\n",
        "text = '''The city was bustling with its usual morning activity. People hurried along the sidewalks, some with coffee cups in hand, others with earphones plugged in, lost in their own worlds. The traffic lights changed from red to green, and the steady hum of engines filled the air as cars moved in synchronized waves. It was a typical day, neither exceptionally good nor bad, just the routine flow of life.\n",
        "\n",
        "I walked down the familiar streets, my steps echoing the rhythm of the city. The buildings towered above, their glass facades reflecting the gray sky. The weather was neither sunny nor rainy, just a dull overcast that seemed to match the neutral mood of the day. I passed by a newsstand, the headlines announcing the day's events—nothing extraordinary, just the usual mix of politics, economics, and local news.\n",
        "\n",
        "My destination was a small café tucked away in a quiet alley. It was a place I frequented, not for its exceptional coffee or pastries, but for its calm atmosphere. The bell above the door chimed softly as I entered, announcing my arrival. The barista behind the counter greeted me with a nod, recognizing me as a regular. I ordered a black coffee, no sugar, no cream, just the way I liked it.\n",
        "\n",
        "As I waited for my order, I observed the other patrons. A young woman sat in the corner, her laptop open, fingers typing away at a steady pace. Her expression was focused, neither happy nor sad, just intent on her work. An older man sat by the window, reading a newspaper, his face impassive as he turned the pages. A couple sat at a table in the middle, their conversation low and steady, neither arguing nor laughing, just exchanging words.\n",
        "\n",
        "The barista called out my order, and I took my coffee to a table by the wall. The first sip was neither bitter nor sweet, just the familiar taste of roasted beans. I took out a book from my bag, a novel I had been reading for the past few days. The story was engaging but not gripping, the characters interesting but not extraordinary. It was a good way to pass the time, neither thrilling nor boring.\n",
        "\n",
        "As I read, the sounds of the café faded into the background. The clinking of cups, the murmur of conversations, the occasional ring of the bell as someone entered or left—all blended into a neutral hum. Time passed steadily, neither quickly nor slowly, just the steady ticking of the clock on the wall.\n",
        "\n",
        "After a while, I closed the book and looked out the window. The sky was still gray, the streets still busy. People came and went, their faces a mix of expressions, none standing out as particularly happy or sad. It was just another day in the city, neither remarkable nor forgettable.\n",
        "\n",
        "I finished my coffee and gathered my things. As I left the café, the bell chimed softly behind me. The streets were the same, the buildings still towered, and the traffic lights still changed from red to green. I walked back the way I came, my steps steady and even.\n",
        "\n",
        "The rest of the day passed in much the same way. Work was neither challenging nor easy, just the usual tasks that needed to be done. Colleagues greeted each other with polite smiles, neither overly enthusiastic nor disinterested. Meetings were held, reports were filed, and the hours ticked by.\n",
        "\n",
        "As evening approached, the city began to wind down. The rush of the morning gave way to a slower pace. People headed home, their faces tired but content. The sky darkened, and the streetlights came on, casting a soft glow over the streets. It was a peaceful end to a neutral day.\n",
        "\n",
        "Back home, I prepared a simple dinner, nothing fancy, just enough to satisfy my hunger. I watched a bit of television, the programs neither exciting nor dull, just the usual mix of news and entertainment. As the night wore on, I felt a sense of calm. It had been a day like any other, neither good nor bad, just a part of the steady rhythm of life.\n",
        "\n",
        "As I lay in bed, I thought about the day's events. Nothing extraordinary had happened, but that was okay. Sometimes, the neutral days were the ones that provided a sense of stability and routine. With that thought, I drifted off to sleep, the sounds of the city fading into the background.'''\n",
        "text = clean_text(text)\n",
        "print(text)\n",
        "model.predict(text)\n"
      ]
    },
    {
      "cell_type": "code",
      "execution_count": 52,
      "metadata": {
        "colab": {
          "base_uri": "https://localhost:8080/"
        },
        "id": "o36DemOgosYC",
        "outputId": "d964a926-90e6-4a3d-8248-f7998ee6b271"
      },
      "outputs": [
        {
          "name": "stdout",
          "output_type": "stream",
          "text": [
            "les holden 6 march 1895  18 september 1932 was a fighter ace of world war i he joined the australian light horse in may 1915 serving in egypt and france in december 1916 he volunteered for the australian flying corps and qualified as a pilot as a member of no 2 squadron he gained the sobriquets lucky les and the homing pigeon after a series of incidents where he limped back to base in bulletriddled aircraft holden was awarded the military cross achieved five aerial victories finishing the war as an instructor with no 6 training squadron in england earning the air force cross after leaving the australian flying corps in 1919 he became a manager at holdens motor body builders he joined the parttime citizen air force before starting an air service as a commercial pilot in 1929 he located charles kingsford smith and charles ulm in the northwest australian desert after the pair were reported missing holden was killed in a passenger plane crash in australia\n"
          ]
        },
        {
          "data": {
            "text/plain": [
              "('Neutral',\n",
              " {'Aggressive': 0.11,\n",
              "  'Fear': 0.01,\n",
              "  'Happy': 0.13,\n",
              "  'Neutral': 99.74,\n",
              "  'Sad': 0.01})"
            ]
          },
          "execution_count": 52,
          "metadata": {},
          "output_type": "execute_result"
        }
      ],
      "source": [
        "#neutral\n",
        "text = '''Les Holden (6 March 1895 – 18 September 1932) was a fighter ace of World War I. He joined the Australian Light Horse in May 1915, serving in Egypt and France. In December 1916, he volunteered for the Australian Flying Corps and qualified as a pilot. As a member of No. 2 Squadron, he gained the sobriquets \"Lucky Les\" and \"the homing pigeon\" after a series of incidents where he limped back to base in bullet-riddled aircraft. Holden was awarded the Military Cross, achieved five aerial victories, finishing the war as an instructor with No. 6 (Training) Squadron in England, earning the Air Force Cross. After leaving the Australian Flying Corps in 1919, he became a manager at Holden's Motor Body Builders. He joined the part-time Citizen Air Force before starting an air service as a commercial pilot. In 1929, he located Charles Kingsford Smith and Charles Ulm in the north-west Australian desert after the pair were reported missing. Holden was killed in a passenger plane crash in Australia.'''\n",
        "text = clean_text(text)\n",
        "print(text)\n",
        "model.predict(text)"
      ]
    },
    {
      "cell_type": "code",
      "execution_count": 53,
      "metadata": {
        "colab": {
          "base_uri": "https://localhost:8080/"
        },
        "id": "0828uFvepPBK",
        "outputId": "4c3661ff-6582-4941-fff7-e124d32cd9b7"
      },
      "outputs": [
        {
          "name": "stdout",
          "output_type": "stream",
          "text": [
            "fear is a complex emotion that can manifest in various ways influencing both our physical and psychological states it is an unpleasant emotion that arises in response to perceived dangers or threats triggering physiological and psychological changes these changes can include increased heart rate sweating and a heightened state of alertness commonly known as the fightorflight response1 the experience of fear is not limited to humans even simple invertebrates display an emotion akin to fear research suggests that fears are shaped not only by their nature but also by social relations and cultural influences which guide an individuals understanding of when and how to fear1 fear can be rational and appropriate such as the fear of a genuine threat or irrational and inappropriate as seen in phobias phobias are intense irrational fears of specific objects or situations that pose little or no actual danger for example some people may have a morbid fear of cats or a fear of flying which can significantly impact their daily lives2 the emotion of fear is closely related to anxiety which occurs as a result of future threats that are perceived to be uncontrollable or unavoidable both fear and anxiety serve as vital responses to physical and emotional danger playing a pivotal role in human evolution by helping individuals protect themselves from legitimate threats13 in popular culture the concept of fear is often explored in various forms of media such as films and literature for instance the 1996 film fear directed by james foley delves into the darker side of obsession and the fear that arises from a seemingly perfect relationship turning into a nightmare45 understanding fear and its mechanisms can help individuals overcome their fears and lead more fulfilling lives whether its a fear of public speaking a fear of failure or a fear of the unknown recognizing the root cause of these fears and developing strategies to manage them can be empowering in summary fear is a multifaceted emotion that serves an essential purpose in human survival while it can be uncomfortable and even debilitating it also provides valuable insights into our psychological makeup and can motivate us to take action to protect ourselves and those we care about\n"
          ]
        },
        {
          "data": {
            "text/plain": [
              "('Neutral',\n",
              " {'Aggressive': 0.45,\n",
              "  'Fear': 24.22,\n",
              "  'Happy': 0.0,\n",
              "  'Neutral': 75.3,\n",
              "  'Sad': 0.02})"
            ]
          },
          "execution_count": 53,
          "metadata": {},
          "output_type": "execute_result"
        }
      ],
      "source": [
        "#fear\n",
        "text = '''Fear is a complex emotion that can manifest in various ways, influencing both our physical and psychological states. It is an unpleasant emotion that arises in response to perceived dangers or threats, triggering physiological and psychological changes. These changes can include increased heart rate, sweating, and a heightened state of alertness, commonly known as the fight-or-flight response1.\n",
        "\n",
        "The experience of fear is not limited to humans; even simple invertebrates display an emotion akin to fear. Research suggests that fears are shaped not only by their nature but also by social relations and cultural influences, which guide an individual's understanding of when and how to fear1.\n",
        "\n",
        "Fear can be rational and appropriate, such as the fear of a genuine threat, or irrational and inappropriate, as seen in phobias. Phobias are intense, irrational fears of specific objects or situations that pose little or no actual danger. For example, some people may have a morbid fear of cats or a fear of flying, which can significantly impact their daily lives2.\n",
        "\n",
        "The emotion of fear is closely related to anxiety, which occurs as a result of future threats that are perceived to be uncontrollable or unavoidable. Both fear and anxiety serve as vital responses to physical and emotional danger, playing a pivotal role in human evolution by helping individuals protect themselves from legitimate threats13.\n",
        "\n",
        "In popular culture, the concept of fear is often explored in various forms of media, such as films and literature. For instance, the 1996 film \"Fear,\" directed by James Foley, delves into the darker side of obsession and the fear that arises from a seemingly perfect relationship turning into a nightmare45.\n",
        "\n",
        "Understanding fear and its mechanisms can help individuals overcome their fears and lead more fulfilling lives. Whether it's a fear of public speaking, a fear of failure, or a fear of the unknown, recognizing the root cause of these fears and developing strategies to manage them can be empowering.\n",
        "\n",
        "In summary, fear is a multifaceted emotion that serves an essential purpose in human survival. While it can be uncomfortable and even debilitating, it also provides valuable insights into our psychological makeup and can motivate us to take action to protect ourselves and those we care about.'''\n",
        "text = clean_text(text)\n",
        "print(text)\n",
        "model.predict(text)"
      ]
    },
    {
      "cell_type": "code",
      "execution_count": 54,
      "metadata": {
        "colab": {
          "base_uri": "https://localhost:8080/"
        },
        "id": "E_l8h01-puAS",
        "outputId": "773636fc-9c2a-475e-ac29-d25597297ca3"
      },
      "outputs": [
        {
          "name": "stdout",
          "output_type": "stream",
          "text": [
            "the house stood silent and dark its towering silhouette casting long ominous shadows across the overgrown lawn the moon hung low in the sky its pale light barely piercing the thick canopy of trees that surrounded the property i stood at the edge of the driveway my heart pounding in my chest as i stared at the looming structure before me i had been sent here on a dare a foolish challenge from my friends who thought it would be amusing to see if i could spend the night in the abandoned mansion the stories about the place were legendarytales of ghostly apparitions strange noises and unexplained phenomena that had kept the locals away for decades i had always been skeptical of such stories but as i stood there the cold night air sending shivers down my spine i couldnt help but feel a creeping sense of dread with a deep breath i forced myself to take the first step toward the house the gravel crunched under my feet each step echoing loudly in the stillness of the night the front door creaked open ominously as i pushed it revealing a dark cavernous entrance hall the air inside was thick with dust and the faint scent of decay i fumbled in my pocket for my flashlight the beam of light cutting through the darkness as i stepped inside the house was eerily quiet the only sound the distant ticking of an old grandfather clock i moved cautiously my footsteps echoing through the empty rooms the walls were adorned with faded portraits their subjects staring down at me with blank lifeless eyes i couldnt shake the feeling that i was being watched that unseen eyes were following my every move as i ventured deeper into the house the sense of unease grew stronger the shadows seemed to shift and move in the corners of my vision and i found myself jumping at every creak and groan of the old building my heart raced and my palms grew sweaty as i clutched the flashlight tighter the beam of light my only defense against the encroaching darkness i made my way upstairs the stairs creaking loudly under my weight the upper floor was even darker the windows covered in thick heavy curtains that blocked out any trace of moonlight i moved from room to room each one more foreboding than the last the air grew colder and i could see my breath misting in the beam of the flashlight suddenly i heard a noisea soft barely audible whisper that seemed to come from the room at the end of the hall i froze my heart pounding in my ears as i strained to listen there it was again a faint rustling sound like the whisper of fabric against the floor i took a deep breath and forced myself to move forward the flashlight trembling in my hand as i approached the room the noise grew louder more insistent i could hear the faint sound of footsteps the creak of floorboards as if someoneor somethingwas pacing back and forth inside i reached the door and hesitated my hand hovering over the doorknob the fear was overwhelming a primal instinctual terror that gripped my entire being with a final desperate surge of courage i threw open the door and shone the flashlight into the room the beam of light illuminated the empty space revealing nothing but dust and shadows the noise stopped abruptly and the room fell silent once more i stood there my heart racing as i scanned the room with the flashlight searching for any sign of what had made the noise but there was nothing the room was empty the only sound the distant ticking of the grandfather clock i let out a shaky breath the fear slowly ebbing away as i realized that my imagination had gotten the better of me the house was old and creaky and the noises i had heard were likely nothing more than the settling of the building and the wind whistling through the cracks in the windows with a newfound sense of determination i made my way back downstairs the fear that had gripped me earlier now replaced by a sense of relief i had faced my fears and emerged unscathed and as i stepped out of the house and into the cool night air i couldnt help but feel a sense of triumph but as i turned to look back at the house one last time i couldnt shake the feeling that somethingor someonewas still watching me from the shadows the fear returned a cold creeping sensation that sent shivers down my spine and as i hurried away from the house the sound of the gravel crunching under my feet echoing loudly in the stillness of the night i knew that i would never forget the fear that had gripped me in that dark abandoned mansion\n"
          ]
        },
        {
          "data": {
            "text/plain": [
              "('Fear',\n",
              " {'Aggressive': 0.0, 'Fear': 99.38, 'Happy': 0.0, 'Neutral': 0.0, 'Sad': 0.62})"
            ]
          },
          "execution_count": 54,
          "metadata": {},
          "output_type": "execute_result"
        }
      ],
      "source": [
        "#fear\n",
        "text = '''The house stood silent and dark, its towering silhouette casting long, ominous shadows across the overgrown lawn. The moon hung low in the sky, its pale light barely piercing the thick canopy of trees that surrounded the property. I stood at the edge of the driveway, my heart pounding in my chest, as I stared at the looming structure before me.\n",
        "\n",
        "I had been sent here on a dare, a foolish challenge from my friends who thought it would be amusing to see if I could spend the night in the abandoned mansion. The stories about the place were legendary—tales of ghostly apparitions, strange noises, and unexplained phenomena that had kept the locals away for decades. I had always been skeptical of such stories, but as I stood there, the cold night air sending shivers down my spine, I couldn't help but feel a creeping sense of dread.\n",
        "\n",
        "With a deep breath, I forced myself to take the first step toward the house. The gravel crunched under my feet, each step echoing loudly in the stillness of the night. The front door creaked open ominously as I pushed it, revealing a dark, cavernous entrance hall. The air inside was thick with dust and the faint scent of decay. I fumbled in my pocket for my flashlight, the beam of light cutting through the darkness as I stepped inside.\n",
        "\n",
        "The house was eerily quiet, the only sound the distant ticking of an old grandfather clock. I moved cautiously, my footsteps echoing through the empty rooms. The walls were adorned with faded portraits, their subjects staring down at me with blank, lifeless eyes. I couldn't shake the feeling that I was being watched, that unseen eyes were following my every move.\n",
        "\n",
        "As I ventured deeper into the house, the sense of unease grew stronger. The shadows seemed to shift and move in the corners of my vision, and I found myself jumping at every creak and groan of the old building. My heart raced, and my palms grew sweaty as I clutched the flashlight tighter, the beam of light my only defense against the encroaching darkness.\n",
        "\n",
        "I made my way upstairs, the stairs creaking loudly under my weight. The upper floor was even darker, the windows covered in thick, heavy curtains that blocked out any trace of moonlight. I moved from room to room, each one more foreboding than the last. The air grew colder, and I could see my breath misting in the beam of the flashlight.\n",
        "\n",
        "Suddenly, I heard a noise—a soft, barely audible whisper that seemed to come from the room at the end of the hall. I froze, my heart pounding in my ears, as I strained to listen. There it was again, a faint rustling sound, like the whisper of fabric against the floor. I took a deep breath and forced myself to move forward, the flashlight trembling in my hand.\n",
        "\n",
        "As I approached the room, the noise grew louder, more insistent. I could hear the faint sound of footsteps, the creak of floorboards, as if someone—or something—was pacing back and forth inside. I reached the door and hesitated, my hand hovering over the doorknob. The fear was overwhelming, a primal, instinctual terror that gripped my entire being.\n",
        "\n",
        "With a final, desperate surge of courage, I threw open the door and shone the flashlight into the room. The beam of light illuminated the empty space, revealing nothing but dust and shadows. The noise stopped abruptly, and the room fell silent once more. I stood there, my heart racing, as I scanned the room with the flashlight, searching for any sign of what had made the noise.\n",
        "\n",
        "But there was nothing. The room was empty, the only sound the distant ticking of the grandfather clock. I let out a shaky breath, the fear slowly ebbing away as I realized that my imagination had gotten the better of me. The house was old and creaky, and the noises I had heard were likely nothing more than the settling of the building and the wind whistling through the cracks in the windows.\n",
        "\n",
        "With a newfound sense of determination, I made my way back downstairs, the fear that had gripped me earlier now replaced by a sense of relief. I had faced my fears and emerged unscathed, and as I stepped out of the house and into the cool night air, I couldn't help but feel a sense of triumph.\n",
        "\n",
        "But as I turned to look back at the house one last time, I couldn't shake the feeling that something—or someone—was still watching me from the shadows. The fear returned, a cold, creeping sensation that sent shivers down my spine. And as I hurried away from the house, the sound of the gravel crunching under my feet echoing loudly in the stillness of the night, I knew that I would never forget the fear that had gripped me in that dark, abandoned mansion.'''\n",
        "\n",
        "text = clean_text(text)\n",
        "print(text)\n",
        "model.predict(text)"
      ]
    },
    {
      "cell_type": "code",
      "execution_count": 55,
      "metadata": {
        "colab": {
          "base_uri": "https://localhost:8080/"
        },
        "id": "WTvd-NA3o2QA",
        "outputId": "11f85040-53a1-466f-a510-0face0c26367"
      },
      "outputs": [
        {
          "name": "stdout",
          "output_type": "stream",
          "text": [
            "i describe the feeling so divine when she opened her angelic eyes full of trust rosy red lips giving a dreamy smile or those ten little delicate fingers which i kissed every moment or that cute button nose undoubtedly she was a gift of god or else how could something so perfect come to me and the instant i held her tiny hand in mine my heart overflowed with untold joy and love and as i gazed into her sparkling eyes i felt a deep sense of gratitude and peace and the love we shared in that moment was pure and unconditional it was a love so strong so true and so full of hope that it had the power to heal the world and bring forth a brighter tomorrow and every time we shared a tender moment our love grew stronger and our bond deeper and as we moved forward in life together i knew that our love would conquer all challenges and triumph over every obstacle that came our way and i was convinced that our love was a beacon of hope for generations to come a shining example of what it means to truly love and be loved in return\n"
          ]
        },
        {
          "data": {
            "text/plain": [
              "('Happy',\n",
              " {'Aggressive': 0.07,\n",
              "  'Fear': 0.2,\n",
              "  'Happy': 95.71,\n",
              "  'Neutral': 0.0,\n",
              "  'Sad': 4.02})"
            ]
          },
          "execution_count": 55,
          "metadata": {},
          "output_type": "execute_result"
        }
      ],
      "source": [
        "#happy\n",
        "text = '''i describe the feeling so divine when she opened her angelic eyes full of trust rosy red lips giving a dreamy smile or those ten little delicate fingers which i kissed every moment or that cute button nose undoubtedly she was a gift of god or else how could something so perfect come to me and the instant i held her tiny hand in mine my heart overflowed with untold joy and love and as i gazed into her sparkling eyes i felt a deep sense of gratitude and peace and the love we shared in that moment was pure and unconditional it was a love so strong so true and so full of hope that it had the power to heal the world and bring forth a brighter tomorrow and every time we shared a tender moment our love grew stronger and our bond deeper and as we moved forward in life together i knew that our love would conquer all challenges and triumph over every obstacle that came our way and i was convinced that our love was a beacon of hope for generations to come a shining example of what it means to truly love and be loved in return.'''\n",
        "text = clean_text(text)\n",
        "print(text)\n",
        "model.predict(text)"
      ]
    },
    {
      "cell_type": "code",
      "execution_count": null,
      "metadata": {
        "id": "dIsTAkZ6qqGY"
      },
      "outputs": [],
      "source": [
        "text = ''''''\n",
        "text = clean_text(text)\n",
        "print(text)\n",
        "model.predict(text)"
      ]
    },
    {
      "cell_type": "code",
      "execution_count": null,
      "metadata": {
        "id": "RbzwIahOqp-U"
      },
      "outputs": [],
      "source": [
        "text = ''''''\n",
        "text = clean_text(text)\n",
        "print(text)\n",
        "model.predict(text)"
      ]
    },
    {
      "cell_type": "code",
      "execution_count": null,
      "metadata": {
        "id": "AM4DWnKOqpzY"
      },
      "outputs": [],
      "source": [
        "text = ''''''\n",
        "text = clean_text(text)\n",
        "print(text)\n",
        "model.predict(text)"
      ]
    },
    {
      "cell_type": "code",
      "execution_count": null,
      "metadata": {
        "id": "Y4EN5Cmmqppd"
      },
      "outputs": [],
      "source": [
        "text = ''''''\n",
        "text = clean_text(text)\n",
        "print(text)\n",
        "model.predict(text)"
      ]
    },
    {
      "cell_type": "code",
      "execution_count": null,
      "metadata": {
        "id": "Ra2CBwJuqpic"
      },
      "outputs": [],
      "source": [
        "text = ''''''\n",
        "text = clean_text(text)\n",
        "print(text)\n",
        "model.predict(text)"
      ]
    },
    {
      "cell_type": "code",
      "execution_count": null,
      "metadata": {
        "id": "eMIfzf7zqpYA"
      },
      "outputs": [],
      "source": [
        "text = ''''''\n",
        "text = clean_text(text)\n",
        "print(text)\n",
        "model.predict(text)"
      ]
    },
    {
      "cell_type": "code",
      "execution_count": null,
      "metadata": {
        "id": "tIZFbBOsqpIJ"
      },
      "outputs": [],
      "source": [
        "text = ''''''\n",
        "text = clean_text(text)\n",
        "print(text)\n",
        "model.predict(text)"
      ]
    },
    {
      "cell_type": "code",
      "execution_count": 56,
      "metadata": {
        "id": "Y7kwMIcvrV6D"
      },
      "outputs": [],
      "source": [
        "long_text = \"\"\"I can’t even begin to comprehend the level of frustration and anger I feel right now. Every ounce of my being is burning with rage, as though a fire has been ignited deep inside of me, and it’s consuming everything in its path. I don’t even know where to start. The injustice of it all, the sheer audacity, the arrogance of some people who think they can walk all over others and get away with it, is infuriating. It's as if they believe their actions don’t have consequences, that they can treat others like garbage, without a second thought, and the world will just let them continue. Well, I’ve had enough.\n",
        "\n",
        "It’s maddening how easily people manipulate the truth. They twist words, distort facts, and play games with everyone around them like it’s some kind of sick joke. And the worst part? They get away with it. They act like nothing happened, like their lies, their deceit, and their cruelty don’t matter at all. How can anyone stand by and let that happen? How can anyone just sit back, pretend to not notice, and keep quiet while they’re being trampled on, like their opinions, their feelings, and their worth don’t matter? It’s like a slap in the face, and every time they get away with it, it makes the anger build even more.\n",
        "\n",
        "I’ve spent so much time being calm, being patient, trying to let things slide and convince myself that maybe I’m overreacting, that maybe I’m just being too sensitive. But I’m not. I am not overreacting. This is wrong, and I have every right to be angry. Every right to feel betrayed. Every right to feel like I’ve been taken for granted for far too long. It’s been years of this – of people lying, pretending to care, and constantly letting me down, and I am done. I am done putting up with their bullshit, their fake smiles, their empty promises. I am done with it.\n",
        "\n",
        "How many times can a person be lied to before they finally break? How many times can you be promised one thing and then stabbed in the back? How many times can you listen to the same excuses, the same apologies, the same hollow words that mean nothing in the end? They do it over and over, and every time, it cuts deeper. I don’t know why I let it go on for so long. Maybe I thought things would get better. Maybe I thought they would change, but they never do. They never change, and the anger I feel right now is because of that. The disappointment, the lies, the manipulation – it all builds up until it becomes an unbearable weight, and I can’t carry it anymore.\n",
        "\n",
        "I’m sick of people thinking that I’ll always be there for them, that I’ll always forgive them, that I’ll always let them back into my life like nothing ever happened. They don’t get to hurt me, use me, and walk away as though nothing’s wrong. They don’t get to throw me aside like I’m nothing and then come crawling back when they need something. I’ve had enough of that. I’ve been more than patient, more than understanding, but what do I get in return? Nothing. Nothing but more pain, more lies, and more disappointment.\n",
        "\n",
        "There’s only so much a person can take. I can only take being ignored, being belittled, being disrespected for so long before I snap. And I’ve snapped. I’ve reached my breaking point, and I am furious. Every fiber of my being is screaming, and I am so angry I can’t even think straight. It feels like a boiling pot that’s been left on the stove for far too long, and now it’s overflowing, splashing everywhere, burning everything in its path. There is no turning back now. I won’t let myself be dragged through the mud any longer.\n",
        "\n",
        "What makes me even angrier is that I’ve been so goddamn forgiving. I’ve always been the one to give people second chances, to believe that they can change, that they can do better. But they never do. They always take advantage of me. They always think I’ll keep taking it, that I’ll keep turning the other cheek. Well, not anymore. I’m done pretending to be okay with this. I’m done putting up with their crap.\n",
        "\n",
        "And you know what? I don’t even care if they don’t understand my anger. I don’t care if they think I’m overreacting. I don’t care if they try to make me feel guilty for finally standing up for myself. I’m tired of being the bigger person, of swallowing my emotions and pretending everything is fine. It’s not fine. Nothing is fine. I’m not fine. And I am absolutely, utterly furious that it has come to this.\n",
        "\n",
        "Every time they pull this shit, they take a piece of me with them. They chip away at my trust, my kindness, my compassion, until there’s nothing left but a bitter, angry shell. They don’t see it, though. They don’t see the toll it takes. They don’t see how much it hurts to be constantly betrayed, to have your feelings stomped on, to be treated like you’re less than human. I’m tired of explaining myself, tired of trying to make them understand why I feel this way. They don’t deserve my explanations. They don’t deserve my patience. And they don’t deserve any more chances.\n",
        "\n",
        "I have given and given, and in return, I’ve been taken for granted. I’ve been walked on, stepped over, and made to feel like I’m invisible. And now, I am done. I am done being the one who always takes the high road, the one who always forgives, the one who always puts others first. I’ve given enough. Now it’s time for me to put myself first, and the anger I feel right now is the first step in that process.\n",
        "\n",
        "So, to all the people who have made me feel like nothing, to all the people who have used me and discarded me, to all the people who have taken my kindness for weakness – I’m done. I’m not your doormat. I’m not your punching bag. I’m not your backup plan. I’m not your fallback option. I am done with you. And I will no longer let you control my emotions, my life, or my happiness. If you think you can keep treating me this way, you’re wrong. I won’t stand for it anymore.\n",
        "\n",
        "It’s time to take my anger and turn it into something powerful. It’s time to reclaim my life and my peace. And I will never, ever let anyone push me down again. Never again.\"\"\""
      ]
    },
    {
      "cell_type": "code",
      "execution_count": 57,
      "metadata": {
        "colab": {
          "base_uri": "https://localhost:8080/"
        },
        "id": "lf5CUxOGrE1o",
        "outputId": "ad7d36f9-b499-4812-c6ad-4779f463eb3a"
      },
      "outputs": [
        {
          "name": "stdout",
          "output_type": "stream",
          "text": [
            "1112\n"
          ]
        }
      ],
      "source": [
        "print(len(long_text.split()))"
      ]
    },
    {
      "cell_type": "code",
      "execution_count": 58,
      "metadata": {
        "colab": {
          "base_uri": "https://localhost:8080/"
        },
        "id": "8GKYJoA5rLVd",
        "outputId": "b56e2c5b-a290-4139-a932-45a74bbe50dd"
      },
      "outputs": [
        {
          "name": "stdout",
          "output_type": "stream",
          "text": [
            "1488\n"
          ]
        }
      ],
      "source": [
        "print(len(tokenizer.tokenize(long_text)))"
      ]
    },
    {
      "cell_type": "code",
      "execution_count": 59,
      "metadata": {
        "colab": {
          "base_uri": "https://localhost:8080/"
        },
        "id": "mwmE1CD9zhCX",
        "outputId": "b8d5fd5f-8f8f-4ee5-c5ce-271eeda8cae6"
      },
      "outputs": [
        {
          "data": {
            "text/plain": [
              "('Aggressive',\n",
              " {'Aggressive': 99.87, 'Fear': 0.0, 'Happy': 0.0, 'Neutral': 0.0, 'Sad': 0.13})"
            ]
          },
          "execution_count": 59,
          "metadata": {},
          "output_type": "execute_result"
        }
      ],
      "source": [
        "model.predict(long_text)"
      ]
    },
    {
      "cell_type": "code",
      "execution_count": 60,
      "metadata": {
        "colab": {
          "base_uri": "https://localhost:8080/"
        },
        "id": "1ZfApdcsz4eT",
        "outputId": "1995fdd2-020d-45b4-f911-c15c3e3cf0a8"
      },
      "outputs": [
        {
          "data": {
            "text/plain": [
              "('Aggressive',\n",
              " {'Aggressive': 98.26,\n",
              "  'Fear': 0.11,\n",
              "  'Happy': 0.01,\n",
              "  'Neutral': 0.06,\n",
              "  'Sad': 1.56})"
            ]
          },
          "execution_count": 60,
          "metadata": {},
          "output_type": "execute_result"
        }
      ],
      "source": [
        "\n",
        "\n",
        "model.predict('''I don’t even know why I keep trying anymore. Every time I think things might be different, you prove me wrong. You’ve built your world around manipulation, making me believe your words just long enough to tear me down again. You twist everything, turning it into something that’s my fault. You make me feel small, insignificant, like nothing I do is ever enough. I’ve lost count of how many times I’ve cried, wondering what I did wrong, asking myself why I’m so broken that I can’t make you happy. But deep down, I know. I know it’s not me. It’s you.\n",
        "\n",
        "You’ve always known how to push my buttons, how to twist the knife just enough to make me question my worth. Every insult, every put-down, every moment of silence you give me—it all eats away at my soul. And when I try to stand up for myself, when I try to fight back, you just shut me down, belittle me even more, and remind me how powerless I really am. I’ve spent too long walking on eggshells, afraid of what you’ll say, afraid of what you’ll do if I make the wrong move. But you don’t care, do you? You get your power from my pain, from watching me crumble under the weight of your words.\n",
        "\n",
        "It’s like you get off on seeing me in this state, watching me fall apart. You never once stop to think about how much damage you’re doing, how your words cut deeper than anything physical could. You’ve made me believe I’m weak, that I’m nothing without you. And for the longest time, I believed you. I let you control every part of my life, every thought, every decision, because you made me think I couldn’t survive without you. But I’m so damn tired of it. I’m so tired of constantly trying to please you, constantly trying to earn your approval when you’ll never give it to me.\n",
        "\n",
        "What do you even want from me? Is my suffering not enough for you? You’ll never be satisfied. Nothing I do will ever be good enough. And I’m so tired of pretending like it doesn’t hurt. Every time I try to stand up for myself, you shut me down, make me feel crazy for even suggesting that I deserve respect. You’ve made me question everything about myself, and I’m not sure how much more of this I can take.\n",
        "\n",
        "I’ve been broken, battered, and bruised by your words and actions for far too long. You’ve taken everything from me, and now I’m just a shell of the person I once was. But I won’t let you win anymore. You can try to tear me down, try to make me feel like I’m worthless, but I’m done. I’m done letting you have this control over me. You’ve taken so much already, but I’m not going to give you one more ounce of my strength. You don’t deserve it.''')"
      ]
    },
    {
      "cell_type": "code",
      "execution_count": 61,
      "metadata": {
        "colab": {
          "base_uri": "https://localhost:8080/"
        },
        "id": "-lgWd7nB1KN1",
        "outputId": "37de42e4-6e9a-4bed-aae4-c835113fb02f"
      },
      "outputs": [
        {
          "data": {
            "text/plain": [
              "('Happy',\n",
              " {'Aggressive': 5.0,\n",
              "  'Fear': 1.43,\n",
              "  'Happy': 63.81,\n",
              "  'Neutral': 9.45,\n",
              "  'Sad': 20.31})"
            ]
          },
          "execution_count": 61,
          "metadata": {},
          "output_type": "execute_result"
        }
      ],
      "source": [
        "model.predict('''It’s hard to put into words the overwhelming sense of joy that fills me right now, but I’ll try. Everything just feels so… right. It’s like the universe finally lined up and everything clicked into place. I’ve been running through life, just trying to get by, but today, it feels like I’m actually living. I can’t stop smiling. It’s that kind of happiness that spreads through your whole body, warm and bright, making everything seem better, no matter what’s happening around you.\n",
        "\n",
        "I look around and see the beauty in the smallest things. The sun shining through the trees, casting soft light across the ground. The laughter of my friends, so genuine and contagious that I can’t help but laugh too. The sound of the world moving around me, steady and peaceful. It’s like all the pieces I’ve been searching for have finally come together, and I realize I’ve been waiting for this moment without even knowing it.\n",
        "\n",
        "There’s a lightness in my heart that I haven’t felt in so long, maybe ever. It’s not that everything is perfect, but for the first time, it feels like I’m exactly where I need to be. It’s the simple things that make me happy—the way someone’s face lights up when they see me, the quiet moments when I feel truly at peace with myself, the joy of doing something just for the sake of doing it, not because I have to.\n",
        "\n",
        "I find myself appreciating everything in a way I never have before. The way the air smells after a rainstorm. The warmth of a hug, the feeling of being completely understood by someone who truly knows you. It’s not about the big achievements or the milestones. It’s about the everyday moments that remind me life can be beautiful. It’s those little sparks of joy that fill me up, making me feel so alive, so present.\n",
        "\n",
        "And I feel so grateful. Grateful for the people in my life, for the experiences I’ve had, for everything that has brought me to this point. I’m filled with a deep sense of appreciation, knowing that no matter what comes next, I’ve already been given so much. There’s a part of me that wants to shout it out to the world—to let everyone know just how happy I am, how lucky I feel in this very moment.\n",
        "\n",
        "I feel free, as if all the weight I’ve been carrying has been lifted, even if just for a while. I’m not burdened by worry or doubt. I’m not overthinking everything. I’m just here, right now, enjoying this feeling, letting it wash over me. It’s a feeling that makes me want to dance, to sing, to share this joy with everyone around me. I don’t need anything else in this moment. I’m content. I’m at peace. And for the first time in a long time, I know exactly what it means to feel happy.\n",
        "\n",
        "''')"
      ]
    },
    {
      "cell_type": "code",
      "execution_count": 62,
      "metadata": {
        "colab": {
          "base_uri": "https://localhost:8080/"
        },
        "id": "1OYo-Ivr1W_B",
        "outputId": "f27797bb-2f7d-4526-fb17-cf59cad6fcb5"
      },
      "outputs": [
        {
          "data": {
            "text/plain": [
              "('Neutral',\n",
              " {'Aggressive': 0.59,\n",
              "  'Fear': 0.2,\n",
              "  'Happy': 5.65,\n",
              "  'Neutral': 92.57,\n",
              "  'Sad': 0.98})"
            ]
          },
          "execution_count": 62,
          "metadata": {},
          "output_type": "execute_result"
        }
      ],
      "source": [
        "model.predict('''The sky above the city was clear, and the temperature remained steady throughout the day. People walked along the sidewalks, some carrying bags while others chatted with friends. The streets were relatively quiet, with cars moving at a consistent pace. Shops opened early, and the usual hum of activity filled the area. The air smelled fresh, a slight breeze moving through the trees, causing their leaves to rustle gently.\n",
        "\n",
        "Inside a café, the barista prepared drinks behind the counter. The sound of the espresso machine echoed as it hummed through the room. A couple of people sat at a corner table, typing away on laptops, while others read newspapers or flipped through their phones. The clinking of cups and the occasional murmur of conversation mixed with the light music playing in the background. The café offered a variety of drinks, each one carefully made to order. The shelves were lined with small items for sale, such as mugs, bags, and local snacks.\n",
        "\n",
        "Outside, the sidewalk was clean, with only a few pieces of paper fluttering in the wind. Pedestrians moved at a steady pace, some crossing the street while others waited for the signal to change. The trees lining the avenue provided some shade, though the sun was still bright enough to create small patches of sunlight on the ground. Birds flew overhead, their calls mixing with the sounds of distant traffic.\n",
        "\n",
        "Across the street, a bookstore had its windows filled with colorful displays of books. Some were neatly stacked on tables outside, while others were arranged in rows on shelves inside. People walked by, pausing briefly to glance at the titles but then continuing on their way. The store was quiet, with only a few customers inside, browsing through the aisles. The smell of paper and ink filled the air as the pages of books turned gently in the hands of those looking for something to read.\n",
        "\n",
        "A delivery truck parked in front of the market, and workers began unloading boxes. The market was organized, with fresh produce displayed neatly in baskets. A few customers moved through the aisles, picking out vegetables and fruits, comparing prices, and occasionally asking questions about certain items. The workers behind the counters were busy weighing produce and placing it in bags for customers to take to the checkout.\n",
        "\n",
        "Later in the day, the light began to shift as the sun started to set. The streetlights flickered on one by one, casting pools of light onto the sidewalks. The evening brought a change in the atmosphere, though the pace of activity remained steady. Some people left work, heading home or stopping to meet friends for dinner. Others gathered in small groups, talking as they walked toward the nearby park. The sound of footsteps on the pavement echoed in the quiet of the evening, and the distant hum of the city continued as the day shifted into night.\n",
        "\n",
        "As the hours passed, the temperature remained consistent, and the city adjusted to the evening routine. The shops began to close, and the streets slowly quieted, leaving behind the traces of the day’s activities.''')"
      ]
    },
    {
      "cell_type": "code",
      "execution_count": 63,
      "metadata": {
        "colab": {
          "base_uri": "https://localhost:8080/"
        },
        "id": "HDoQmlM7Cxnf",
        "outputId": "34e88bcb-5886-4cbd-c0a4-2a8122dcbdc9"
      },
      "outputs": [
        {
          "data": {
            "text/plain": [
              "('Fear',\n",
              " {'Aggressive': 23.65,\n",
              "  'Fear': 50.52,\n",
              "  'Happy': 0.17,\n",
              "  'Neutral': 0.03,\n",
              "  'Sad': 25.63})"
            ]
          },
          "execution_count": 63,
          "metadata": {},
          "output_type": "execute_result"
        }
      ],
      "source": [
        "model.predict('His fists clenched tightly, his face reddened with anger as he stormed across the room, shouting insults and slamming doors with such force that the entire house seemed to shake, all while his mind raced with frustration and the overwhelming need to assert his dominance over anyone who dared challenge him.')"
      ]
    },
    {
      "cell_type": "code",
      "execution_count": 64,
      "metadata": {
        "colab": {
          "base_uri": "https://localhost:8080/"
        },
        "id": "ky4NJAI7Ddtl",
        "outputId": "5b6fe06e-11ec-4fa8-dbc8-aade5ab483f7"
      },
      "outputs": [
        {
          "data": {
            "text/plain": [
              "('Sad',\n",
              " {'Aggressive': 2.56,\n",
              "  'Fear': 5.68,\n",
              "  'Happy': 3.31,\n",
              "  'Neutral': 0.74,\n",
              "  'Sad': 87.7})"
            ]
          },
          "execution_count": 64,
          "metadata": {},
          "output_type": "execute_result"
        }
      ],
      "source": [
        "model.predict('Standing alone by the window, gazing out at the empty street, he felt a deep ache in his chest, a sense of loss that weighed heavily on him, as the memories of the life he once had slowly faded, leaving him with nothing but the quiet echo of what could have been, and the overwhelming sadness of realizing that nothing would ever be the same again.')"
      ]
    },
    {
      "cell_type": "code",
      "execution_count": 65,
      "metadata": {
        "colab": {
          "base_uri": "https://localhost:8080/"
        },
        "id": "VyuIdtsFDx1W",
        "outputId": "1fc0662c-4090-4e57-a6c5-38e574f5b3d9"
      },
      "outputs": [
        {
          "data": {
            "text/plain": [
              "('Happy',\n",
              " {'Aggressive': 0.46,\n",
              "  'Fear': 0.93,\n",
              "  'Happy': 80.71,\n",
              "  'Neutral': 1.82,\n",
              "  'Sad': 16.08})"
            ]
          },
          "execution_count": 65,
          "metadata": {},
          "output_type": "execute_result"
        }
      ],
      "source": [
        "model.predict('i got my salary so i am very happy')"
      ]
    },
    {
      "cell_type": "code",
      "execution_count": 66,
      "metadata": {
        "colab": {
          "base_uri": "https://localhost:8080/"
        },
        "id": "NuDjpYdjEvy2",
        "outputId": "923c84b9-f7bd-4d31-d0b1-6898e4793b35"
      },
      "outputs": [
        {
          "data": {
            "text/plain": [
              "('Happy',\n",
              " {'Aggressive': 0.28,\n",
              "  'Fear': 0.22,\n",
              "  'Happy': 71.2,\n",
              "  'Neutral': 27.11,\n",
              "  'Sad': 1.19})"
            ]
          },
          "execution_count": 66,
          "metadata": {},
          "output_type": "execute_result"
        }
      ],
      "source": [
        "model.predict('name')"
      ]
    },
    {
      "cell_type": "markdown",
      "metadata": {
        "id": "7ymiwZcbmJCf"
      },
      "source": [
        "# testing model on custom data"
      ]
    },
    {
      "cell_type": "code",
      "execution_count": 67,
      "metadata": {
        "colab": {
          "base_uri": "https://localhost:8080/"
        },
        "id": "iNYRL6-Z24KG",
        "outputId": "8a97f5c0-76f0-4e4e-b78a-47a3496c96e4"
      },
      "outputs": [
        {
          "name": "stdout",
          "output_type": "stream",
          "text": [
            "tensor([[-2.2087,  0.7639,  0.5918,  0.6725,  0.1364]], device='cuda:0')\n",
            "Predicted sentiment: Fear\n"
          ]
        }
      ],
      "source": [
        "device = torch.device(\"cuda\" if torch.cuda.is_available() else \"cpu\")\n",
        "# model = torch.load(model_path).to(device) # Load the model\n",
        "model.eval()  # Set to evaluation mode! VERY IMPORTANT\n",
        "\n",
        "# Define the prediction function\n",
        "def predict_sentiment(text):\n",
        "\n",
        "    encoding = tokenizer(text, padding=True, truncation=True, return_tensors=\"pt\").to(device) # Tokenize and move to device\n",
        "    with torch.no_grad(): # No gradient calculation needed\n",
        "        outputs = model(**encoding) # Get the model's output (logits)\n",
        "        print(outputs)\n",
        "        logits = outputs.cpu() # Move logits to CPU for processing\n",
        "        predictions = torch.argmax(logits, dim=-1) # Get the predicted label (numerical)\n",
        "        # print(predictions)\n",
        "\n",
        "    # If you used LabelEncoder, convert back to string labels:\n",
        "    try:\n",
        "        predicted_label = label_encoder.classes_[predictions[0]] # Get the string label\n",
        "    except NameError: # If label_encoder isn't defined (numerical labels used)\n",
        "        predicted_label = predictions[0].item() # Return the numerical label\n",
        "\n",
        "    return predicted_label\n",
        "\n",
        "\n",
        "new_text = \"my bag worth 20000 got robbed, it is veryimportant to me what can i do next\"\n",
        "predicted_sentiment = predict_sentiment(new_text)\n",
        "print(f\"Predicted sentiment: {predicted_sentiment}\")"
      ]
    },
    {
      "cell_type": "code",
      "execution_count": 68,
      "metadata": {
        "colab": {
          "base_uri": "https://localhost:8080/"
        },
        "id": "JXqK6J_h54MK",
        "outputId": "891ec4d9-2210-4b76-f1fb-d80690c72a36"
      },
      "outputs": [
        {
          "data": {
            "text/plain": [
              "array(['Aggressive', 'Fear', 'Happy', 'Neutral', 'Sad'], dtype=object)"
            ]
          },
          "execution_count": 68,
          "metadata": {},
          "output_type": "execute_result"
        }
      ],
      "source": [
        "label_encoder.classes_"
      ]
    },
    {
      "cell_type": "markdown",
      "metadata": {
        "id": "yWJ0-OBnYfxn"
      },
      "source": [
        "# saving model"
      ]
    },
    {
      "cell_type": "code",
      "execution_count": 69,
      "metadata": {
        "id": "-ToeIFBTxRDT"
      },
      "outputs": [],
      "source": [
        "#load the Full model\n",
        "import torch\n",
        "import dill\n",
        "# model = torch.load('/content/model_dill_3e-5.pth',pickle_module=dill)\n",
        "# import torch\n",
        "# import dill\n",
        "# # After training is complete:\n",
        "torch.save(model, 'model.pth',pickle_module=dill)  # Save the entire model\n",
        "\n",
        "# # To load the model later:\n",
        "# model = ModernBertClassifier(num_labels).to(device) # Re-instantiate the model\n",
        "# model = torch.load('modernbert_sentiment_model.pth')\n",
        "# model.eval() # Important: Set to evaluation mode for inference"
      ]
    },
    {
      "cell_type": "code",
      "execution_count": 70,
      "metadata": {
        "colab": {
          "base_uri": "https://localhost:8080/"
        },
        "collapsed": true,
        "id": "TkMVczarxEj9",
        "outputId": "4a2b558a-6dae-4a15-aa2d-98608c44aa48"
      },
      "outputs": [
        {
          "name": "stdout",
          "output_type": "stream",
          "text": [
            "OptimizedModule(\n",
            "  (_orig_mod): ModernBertClassifier(\n",
            "    (bert): ModernBertModel(\n",
            "      (embeddings): ModernBertEmbeddings(\n",
            "        (tok_embeddings): Embedding(50368, 768, padding_idx=50283)\n",
            "        (norm): LayerNorm((768,), eps=1e-05, elementwise_affine=True)\n",
            "        (drop): Dropout(p=0.0, inplace=False)\n",
            "      )\n",
            "      (layers): ModuleList(\n",
            "        (0): ModernBertEncoderLayer(\n",
            "          (attn_norm): Identity()\n",
            "          (attn): ModernBertAttention(\n",
            "            (Wqkv): Linear(in_features=768, out_features=2304, bias=False)\n",
            "            (rotary_emb): ModernBertRotaryEmbedding()\n",
            "            (Wo): Linear(in_features=768, out_features=768, bias=False)\n",
            "            (out_drop): Identity()\n",
            "          )\n",
            "          (mlp_norm): LayerNorm((768,), eps=1e-05, elementwise_affine=True)\n",
            "          (mlp): ModernBertMLP(\n",
            "            (Wi): Linear(in_features=768, out_features=2304, bias=False)\n",
            "            (act): GELUActivation()\n",
            "            (drop): Dropout(p=0.0, inplace=False)\n",
            "            (Wo): Linear(in_features=1152, out_features=768, bias=False)\n",
            "          )\n",
            "        )\n",
            "        (1-21): 21 x ModernBertEncoderLayer(\n",
            "          (attn_norm): LayerNorm((768,), eps=1e-05, elementwise_affine=True)\n",
            "          (attn): ModernBertAttention(\n",
            "            (Wqkv): Linear(in_features=768, out_features=2304, bias=False)\n",
            "            (rotary_emb): ModernBertRotaryEmbedding()\n",
            "            (Wo): Linear(in_features=768, out_features=768, bias=False)\n",
            "            (out_drop): Identity()\n",
            "          )\n",
            "          (mlp_norm): LayerNorm((768,), eps=1e-05, elementwise_affine=True)\n",
            "          (mlp): ModernBertMLP(\n",
            "            (Wi): Linear(in_features=768, out_features=2304, bias=False)\n",
            "            (act): GELUActivation()\n",
            "            (drop): Dropout(p=0.0, inplace=False)\n",
            "            (Wo): Linear(in_features=1152, out_features=768, bias=False)\n",
            "          )\n",
            "        )\n",
            "      )\n",
            "      (final_norm): LayerNorm((768,), eps=1e-05, elementwise_affine=True)\n",
            "    )\n",
            "    (classifier): Sequential(\n",
            "      (0): Linear(in_features=768, out_features=512, bias=True)\n",
            "      (1): ReLU()\n",
            "      (2): LayerNorm((512,), eps=1e-05, elementwise_affine=True)\n",
            "      (3): Dropout(p=0.3, inplace=False)\n",
            "      (4): Linear(in_features=512, out_features=256, bias=True)\n",
            "      (5): ReLU()\n",
            "      (6): LayerNorm((256,), eps=1e-05, elementwise_affine=True)\n",
            "      (7): Dropout(p=0.3, inplace=False)\n",
            "      (8): Linear(in_features=256, out_features=5, bias=True)\n",
            "    )\n",
            "  )\n",
            ")\n"
          ]
        }
      ],
      "source": [
        "print(model)"
      ]
    },
    {
      "cell_type": "code",
      "execution_count": 71,
      "metadata": {
        "id": "7f2-ifjkImjp"
      },
      "outputs": [],
      "source": [
        "#save only weights of the model\n",
        "\n",
        "import torch\n",
        "torch.save(model.state_dict(), 'modernbert_sentiment_model_weights.pth')"
      ]
    },
    {
      "cell_type": "code",
      "execution_count": 72,
      "metadata": {
        "colab": {
          "base_uri": "https://localhost:8080/",
          "height": 365
        },
        "id": "z7OoodyOxXIL",
        "outputId": "9773b1a9-963f-4f8d-eb0f-e209e675b1d5"
      },
      "outputs": [
        {
          "ename": "MessageError",
          "evalue": "Error: credential propagation was unsuccessful",
          "output_type": "error",
          "traceback": [
            "\u001b[0;31m---------------------------------------------------------------------------\u001b[0m",
            "\u001b[0;31mMessageError\u001b[0m                              Traceback (most recent call last)",
            "\u001b[0;32m<ipython-input-72-0913bb445343>\u001b[0m in \u001b[0;36m<cell line: 0>\u001b[0;34m()\u001b[0m\n\u001b[1;32m      2\u001b[0m \u001b[0;34m\u001b[0m\u001b[0m\n\u001b[1;32m      3\u001b[0m \u001b[0;32mfrom\u001b[0m \u001b[0mgoogle\u001b[0m\u001b[0;34m.\u001b[0m\u001b[0mcolab\u001b[0m \u001b[0;32mimport\u001b[0m \u001b[0mdrive\u001b[0m\u001b[0;34m\u001b[0m\u001b[0;34m\u001b[0m\u001b[0m\n\u001b[0;32m----> 4\u001b[0;31m \u001b[0mdrive\u001b[0m\u001b[0;34m.\u001b[0m\u001b[0mmount\u001b[0m\u001b[0;34m(\u001b[0m\u001b[0;34m'/content/drive'\u001b[0m\u001b[0;34m)\u001b[0m  \u001b[0;31m# Mount your Google Drive\u001b[0m\u001b[0;34m\u001b[0m\u001b[0;34m\u001b[0m\u001b[0m\n\u001b[0m\u001b[1;32m      5\u001b[0m \u001b[0;34m\u001b[0m\u001b[0m\n\u001b[1;32m      6\u001b[0m \u001b[0;31m# ... (your training code) ...\u001b[0m\u001b[0;34m\u001b[0m\u001b[0;34m\u001b[0m\u001b[0m\n",
            "\u001b[0;32m/usr/local/lib/python3.11/dist-packages/google/colab/drive.py\u001b[0m in \u001b[0;36mmount\u001b[0;34m(mountpoint, force_remount, timeout_ms, readonly)\u001b[0m\n\u001b[1;32m     98\u001b[0m \u001b[0;32mdef\u001b[0m \u001b[0mmount\u001b[0m\u001b[0;34m(\u001b[0m\u001b[0mmountpoint\u001b[0m\u001b[0;34m,\u001b[0m \u001b[0mforce_remount\u001b[0m\u001b[0;34m=\u001b[0m\u001b[0;32mFalse\u001b[0m\u001b[0;34m,\u001b[0m \u001b[0mtimeout_ms\u001b[0m\u001b[0;34m=\u001b[0m\u001b[0;36m120000\u001b[0m\u001b[0;34m,\u001b[0m \u001b[0mreadonly\u001b[0m\u001b[0;34m=\u001b[0m\u001b[0;32mFalse\u001b[0m\u001b[0;34m)\u001b[0m\u001b[0;34m:\u001b[0m\u001b[0;34m\u001b[0m\u001b[0;34m\u001b[0m\u001b[0m\n\u001b[1;32m     99\u001b[0m   \u001b[0;34m\"\"\"Mount your Google Drive at the specified mountpoint path.\"\"\"\u001b[0m\u001b[0;34m\u001b[0m\u001b[0;34m\u001b[0m\u001b[0m\n\u001b[0;32m--> 100\u001b[0;31m   return _mount(\n\u001b[0m\u001b[1;32m    101\u001b[0m       \u001b[0mmountpoint\u001b[0m\u001b[0;34m,\u001b[0m\u001b[0;34m\u001b[0m\u001b[0;34m\u001b[0m\u001b[0m\n\u001b[1;32m    102\u001b[0m       \u001b[0mforce_remount\u001b[0m\u001b[0;34m=\u001b[0m\u001b[0mforce_remount\u001b[0m\u001b[0;34m,\u001b[0m\u001b[0;34m\u001b[0m\u001b[0;34m\u001b[0m\u001b[0m\n",
            "\u001b[0;32m/usr/local/lib/python3.11/dist-packages/google/colab/drive.py\u001b[0m in \u001b[0;36m_mount\u001b[0;34m(mountpoint, force_remount, timeout_ms, ephemeral, readonly)\u001b[0m\n\u001b[1;32m    135\u001b[0m   )\n\u001b[1;32m    136\u001b[0m   \u001b[0;32mif\u001b[0m \u001b[0mephemeral\u001b[0m\u001b[0;34m:\u001b[0m\u001b[0;34m\u001b[0m\u001b[0;34m\u001b[0m\u001b[0m\n\u001b[0;32m--> 137\u001b[0;31m     _message.blocking_request(\n\u001b[0m\u001b[1;32m    138\u001b[0m         \u001b[0;34m'request_auth'\u001b[0m\u001b[0;34m,\u001b[0m\u001b[0;34m\u001b[0m\u001b[0;34m\u001b[0m\u001b[0m\n\u001b[1;32m    139\u001b[0m         \u001b[0mrequest\u001b[0m\u001b[0;34m=\u001b[0m\u001b[0;34m{\u001b[0m\u001b[0;34m'authType'\u001b[0m\u001b[0;34m:\u001b[0m \u001b[0;34m'dfs_ephemeral'\u001b[0m\u001b[0;34m}\u001b[0m\u001b[0;34m,\u001b[0m\u001b[0;34m\u001b[0m\u001b[0;34m\u001b[0m\u001b[0m\n",
            "\u001b[0;32m/usr/local/lib/python3.11/dist-packages/google/colab/_message.py\u001b[0m in \u001b[0;36mblocking_request\u001b[0;34m(request_type, request, timeout_sec, parent)\u001b[0m\n\u001b[1;32m    174\u001b[0m       \u001b[0mrequest_type\u001b[0m\u001b[0;34m,\u001b[0m \u001b[0mrequest\u001b[0m\u001b[0;34m,\u001b[0m \u001b[0mparent\u001b[0m\u001b[0;34m=\u001b[0m\u001b[0mparent\u001b[0m\u001b[0;34m,\u001b[0m \u001b[0mexpect_reply\u001b[0m\u001b[0;34m=\u001b[0m\u001b[0;32mTrue\u001b[0m\u001b[0;34m\u001b[0m\u001b[0;34m\u001b[0m\u001b[0m\n\u001b[1;32m    175\u001b[0m   )\n\u001b[0;32m--> 176\u001b[0;31m   \u001b[0;32mreturn\u001b[0m \u001b[0mread_reply_from_input\u001b[0m\u001b[0;34m(\u001b[0m\u001b[0mrequest_id\u001b[0m\u001b[0;34m,\u001b[0m \u001b[0mtimeout_sec\u001b[0m\u001b[0;34m)\u001b[0m\u001b[0;34m\u001b[0m\u001b[0;34m\u001b[0m\u001b[0m\n\u001b[0m",
            "\u001b[0;32m/usr/local/lib/python3.11/dist-packages/google/colab/_message.py\u001b[0m in \u001b[0;36mread_reply_from_input\u001b[0;34m(message_id, timeout_sec)\u001b[0m\n\u001b[1;32m    101\u001b[0m     ):\n\u001b[1;32m    102\u001b[0m       \u001b[0;32mif\u001b[0m \u001b[0;34m'error'\u001b[0m \u001b[0;32min\u001b[0m \u001b[0mreply\u001b[0m\u001b[0;34m:\u001b[0m\u001b[0;34m\u001b[0m\u001b[0;34m\u001b[0m\u001b[0m\n\u001b[0;32m--> 103\u001b[0;31m         \u001b[0;32mraise\u001b[0m \u001b[0mMessageError\u001b[0m\u001b[0;34m(\u001b[0m\u001b[0mreply\u001b[0m\u001b[0;34m[\u001b[0m\u001b[0;34m'error'\u001b[0m\u001b[0;34m]\u001b[0m\u001b[0;34m)\u001b[0m\u001b[0;34m\u001b[0m\u001b[0;34m\u001b[0m\u001b[0m\n\u001b[0m\u001b[1;32m    104\u001b[0m       \u001b[0;32mreturn\u001b[0m \u001b[0mreply\u001b[0m\u001b[0;34m.\u001b[0m\u001b[0mget\u001b[0m\u001b[0;34m(\u001b[0m\u001b[0;34m'data'\u001b[0m\u001b[0;34m,\u001b[0m \u001b[0;32mNone\u001b[0m\u001b[0;34m)\u001b[0m\u001b[0;34m\u001b[0m\u001b[0;34m\u001b[0m\u001b[0m\n\u001b[1;32m    105\u001b[0m \u001b[0;34m\u001b[0m\u001b[0m\n",
            "\u001b[0;31mMessageError\u001b[0m: Error: credential propagation was unsuccessful"
          ]
        }
      ],
      "source": [
        "#load model on drive\n",
        "\n",
        "from google.colab import drive\n",
        "drive.mount('/content/drive')  # Mount your Google Drive\n",
        "\n",
        "# ... (your training code) ...\n",
        "\n",
        "# After training:\n",
        "torch.save(model, '/content/drive/MyDrive/modernbert_sentiment_model.pth')  # Save to Drive\n",
        "\n",
        "# To load (in a new Colab session):\n",
        "# drive.mount('/content/drive')\n",
        "# model = ModernBertClassifier(num_labels).to(device)\n",
        "# model = torch.load('/content/drive/MyDrive/modernbert_sentiment_model.pth')\n",
        "# model.eval()"
      ]
    },
    {
      "cell_type": "markdown",
      "metadata": {
        "id": "-YEOGF-3mIBZ"
      },
      "source": []
    },
    {
      "cell_type": "markdown",
      "metadata": {
        "id": "q9T3tEztU2aT"
      },
      "source": [
        "# loading model and custom data"
      ]
    },
    {
      "cell_type": "code",
      "execution_count": null,
      "metadata": {
        "id": "E8R0lX19Wtcz"
      },
      "outputs": [],
      "source": [
        "#reinintiate model architecture"
      ]
    },
    {
      "cell_type": "code",
      "execution_count": null,
      "metadata": {
        "colab": {
          "base_uri": "https://localhost:8080/"
        },
        "collapsed": true,
        "id": "Bno4Y6CCU5hr",
        "outputId": "d7a3f898-b5d5-4295-f238-e037c849a9da"
      },
      "outputs": [
        {
          "name": "stdout",
          "output_type": "stream",
          "text": [
            "Drive already mounted at /content/drive; to attempt to forcibly remount, call drive.mount(\"/content/drive\", force_remount=True).\n"
          ]
        }
      ],
      "source": [
        "# To load (in a new Colab session):\n",
        "# from google.colab import drive\n",
        "# drive.mount('/content/drive')\n",
        "# model = ModernBertClassifier(num_labels).to(device)\n",
        "# model = torch.load('/content/drive/MyDrive/Colab Notebooks/modernbert_sentiment_model.pth')\n",
        "# print(model)"
      ]
    },
    {
      "cell_type": "code",
      "execution_count": null,
      "metadata": {
        "colab": {
          "base_uri": "https://localhost:8080/"
        },
        "collapsed": true,
        "id": "3Icw7hTTZmhW",
        "outputId": "002d59a6-1da1-481a-9bc0-7a32df38f186"
      },
      "outputs": [
        {
          "name": "stderr",
          "output_type": "stream",
          "text": [
            "<ipython-input-13-2371b5d7a2f4>:40: FutureWarning: You are using `torch.load` with `weights_only=False` (the current default value), which uses the default pickle module implicitly. It is possible to construct malicious pickle data which will execute arbitrary code during unpickling (See https://github.com/pytorch/pytorch/blob/main/SECURITY.md#untrusted-models for more details). In a future release, the default value for `weights_only` will be flipped to `True`. This limits the functions that could be executed during unpickling. Arbitrary objects will no longer be allowed to be loaded via this mode unless they are explicitly allowlisted by the user via `torch.serialization.add_safe_globals`. We recommend you start setting `weights_only=True` for any use case where you don't have full control of the loaded file. Please open an issue on GitHub for any issues related to this experimental feature.\n",
            "  model = torch.load(r'/content/drive/MyDrive/modernbert_sentiment_model.pth',map_location=torch.device('cpu'))\n"
          ]
        },
        {
          "data": {
            "text/plain": [
              "ModernBertClassifier(\n",
              "  (bert): ModernBertModel(\n",
              "    (embeddings): ModernBertEmbeddings(\n",
              "      (tok_embeddings): Embedding(50368, 768, padding_idx=50283)\n",
              "      (norm): LayerNorm((768,), eps=1e-05, elementwise_affine=True)\n",
              "      (drop): Dropout(p=0.0, inplace=False)\n",
              "    )\n",
              "    (layers): ModuleList(\n",
              "      (0): ModernBertEncoderLayer(\n",
              "        (attn_norm): Identity()\n",
              "        (attn): ModernBertAttention(\n",
              "          (Wqkv): Linear(in_features=768, out_features=2304, bias=False)\n",
              "          (rotary_emb): ModernBertRotaryEmbedding()\n",
              "          (Wo): Linear(in_features=768, out_features=768, bias=False)\n",
              "          (out_drop): Identity()\n",
              "        )\n",
              "        (mlp_norm): LayerNorm((768,), eps=1e-05, elementwise_affine=True)\n",
              "        (mlp): ModernBertMLP(\n",
              "          (Wi): Linear(in_features=768, out_features=2304, bias=False)\n",
              "          (act): GELUActivation()\n",
              "          (drop): Dropout(p=0.0, inplace=False)\n",
              "          (Wo): Linear(in_features=1152, out_features=768, bias=False)\n",
              "        )\n",
              "      )\n",
              "      (1-21): 21 x ModernBertEncoderLayer(\n",
              "        (attn_norm): LayerNorm((768,), eps=1e-05, elementwise_affine=True)\n",
              "        (attn): ModernBertAttention(\n",
              "          (Wqkv): Linear(in_features=768, out_features=2304, bias=False)\n",
              "          (rotary_emb): ModernBertRotaryEmbedding()\n",
              "          (Wo): Linear(in_features=768, out_features=768, bias=False)\n",
              "          (out_drop): Identity()\n",
              "        )\n",
              "        (mlp_norm): LayerNorm((768,), eps=1e-05, elementwise_affine=True)\n",
              "        (mlp): ModernBertMLP(\n",
              "          (Wi): Linear(in_features=768, out_features=2304, bias=False)\n",
              "          (act): GELUActivation()\n",
              "          (drop): Dropout(p=0.0, inplace=False)\n",
              "          (Wo): Linear(in_features=1152, out_features=768, bias=False)\n",
              "        )\n",
              "      )\n",
              "    )\n",
              "    (final_norm): LayerNorm((768,), eps=1e-05, elementwise_affine=True)\n",
              "  )\n",
              "  (classifier): Sequential(\n",
              "    (0): Linear(in_features=768, out_features=512, bias=True)\n",
              "    (1): ReLU()\n",
              "    (2): Dropout(p=0.2, inplace=False)\n",
              "    (3): Linear(in_features=512, out_features=7, bias=True)\n",
              "  )\n",
              ")"
            ]
          },
          "execution_count": 13,
          "metadata": {},
          "output_type": "execute_result"
        }
      ],
      "source": [
        "import torch\n",
        "import torch.nn as nn\n",
        "from transformers import AutoTokenizer, ModernBertModel\n",
        "\n",
        "class ModernBertClassifier(nn.Module):\n",
        "    def __init__(self, num_labels):\n",
        "        super(ModernBertClassifier, self).__init__()\n",
        "        self.bert = ModernBertModel.from_pretrained(\"answerdotai/ModernBERT-base\")\n",
        "\n",
        "        # Freeze BERT model's parameters\n",
        "        for param in self.bert.parameters():\n",
        "            param.requires_grad = False\n",
        "\n",
        "        self.classifier = nn.Sequential(\n",
        "            nn.Linear(768, 512),\n",
        "            nn.ReLU(),\n",
        "            nn.Dropout(0.2),\n",
        "            nn.Linear(512, num_labels)\n",
        "        )\n",
        "\n",
        "    def forward(self, input_ids, attention_mask):\n",
        "        with torch.no_grad():\n",
        "            outputs = self.bert(input_ids=input_ids, attention_mask=attention_mask)\n",
        "        return self.classifier(outputs.last_hidden_state[:, 0, :])\n",
        "\n",
        "    def predict(self, text, label_encoder=None):  # Add predict method\n",
        "        encoding = self.tokenizer(text, padding=True, truncation=True, return_tensors=\"pt\").to(next(self.parameters()).device) # Use self.tokenizer\n",
        "        with torch.no_grad():\n",
        "            outputs = self(**encoding)\n",
        "            logits = outputs.cpu()\n",
        "            predictions = torch.argmax(logits, dim=-1)\n",
        "\n",
        "        try:\n",
        "            predicted_label = label_encoder.classes_[predictions[0]] if label_encoder is not None else predictions[0].item() # Optional label_encoder\n",
        "        except NameError:\n",
        "            predicted_label = predictions[0].item()\n",
        "\n",
        "        return predicted_label,outputs\n",
        "\n",
        "model = torch.load(r'/content/drive/MyDrive/modernbert_sentiment_model.pth',map_location=torch.device('cpu'))\n",
        "model.tokenizer = AutoTokenizer.from_pretrained(\"answerdotai/ModernBERT-base\") # Set the tokenizer\n",
        "model.eval()"
      ]
    },
    {
      "cell_type": "code",
      "execution_count": null,
      "metadata": {
        "id": "zX29xnUl-okg"
      },
      "outputs": [],
      "source": [
        "emotion_labels = ['Abusive', 'Anger', 'Fear', 'Happy', 'Love', 'Neutral', 'Sad']\n",
        "import re\n",
        "def basic_text_cleaning(text):\n",
        "\n",
        "    text = re.sub(r'\\s+', ' ', text.lower()).strip()  # Replace multiple spaces with one\n",
        "\n",
        "    return text"
      ]
    },
    {
      "cell_type": "code",
      "execution_count": null,
      "metadata": {
        "id": "gZbuksLoZkE3"
      },
      "outputs": [],
      "source": [
        "# Example Usage:\n",
        "new_text = \"\"\"As we journey through life, we often encounter moments of sadness and sorrow. These emotions are a natural part of the human experience, and they serve an important purpose in helping us process loss, disappointment, and other forms of pain. In this piece, we will explore the nature of sadness, its causes and effects, and some strategies for coping with it in a healthy and respectful way.\n",
        "\n",
        "Sadness is a complex emotion that can manifest in many different ways. It can be triggered by a wide range of events, from the death of a loved one to the loss of a job or the end of a relationship. Sadness can also be caused by more subtle factors, such as a sense of isolation, loneliness, or unfulfillment.\n",
        "\n",
        "Whatever the cause, sadness can have a profound impact on our lives. It can affect our mood, our energy levels, our appetite, and our sleep patterns. It can make us feel disconnected from the world around us, and it can even lead to feelings of hopelessness and despair.\n",
        "\n",
        "Despite its challenges, sadness is an important emotion that serves a valuable function. It helps us process and make sense of difficult experiences, and it can motivate us to seek out support and connection with others. Sadness can also be a source of growth and transformation, as we learn to navigate the ups and downs of life with grace and resilience.\n",
        "\n",
        "So how can we cope with sadness in a healthy and respectful way? Here are some strategies that may help:\n",
        "\n",
        "1. Allow yourself to feel your emotions. Sadness is a natural and normal part of the human experience, and it's important to allow yourself to feel your emotions fully. Don't try to suppress or ignore your sadness, as this can lead to deeper feelings of distress and disconnection.\n",
        "2. Seek out support. When we're feeling sad, it can be helpful to reach out to others for support. This might mean talking to a friend or family member, seeking out therapy or counseling, or joining a support group. Having a strong network of supportive people around us can help us feel less alone and more connected.\n",
        "3. Practice self-care. Taking care of ourselves is essential when we're feeling sad. This might mean getting enough sleep, eating nutritious foods, exercising regularly, or engaging in activities that bring us joy and comfort. Self-care can help us feel more grounded and centered, and it can provide a sense of stability and security during difficult times.\n",
        "4. Practice mindfulness. When we're feeling sad, it can be easy to get caught up in negative thoughts and emotions. Practicing mindfulness can help us stay present and focused on the present moment, rather than getting lost in the past or the future. Mindfulness can also help us cultivate a sense of acceptance and compassion towards ourselves and our emotions.\n",
        "5. Seek out meaning and purpose. Sadness can often make us feel disconnected from the world around us, and it can leave us feeling lost and without direction. Seeking out meaning and purpose can help us feel more grounded and connected, and it can provide a sense of direction and motivation. This might mean pursuing a hobby or passion, volunteering, or finding ways to make a positive impact in the world.\n",
        "\n",
        "Neutral Content:\n",
        "\n",
        "The world is full of wonders and mysteries, and there is always something new to discover and explore. In this piece, we will take a neutral and respectful look at some of the fascinating phenomena that exist in our universe, from the tiniest particles to the largest galaxies.\n",
        "\n",
        "One of the most intriguing aspects of our world is the behavior of matter and energy. At the most fundamental level, the universe is made up of tiny particles called atoms, which are themselves composed of even smaller particles called protons, neutrons, and electrons. These particles interact with each other through four fundamental forces: gravity, electromagnetism, the strong nuclear force, and the weak nuclear force.\n",
        "\n",
        "These forces govern the behavior of matter and energy in the universe, and they are responsible for some of the most amazing phenomena that we observe. For example, gravity is what holds planets and stars together in their orbits, and it is what causes objects to fall towards the ground when dropped. Electromagnetism is what allows us to see and interact with the world around us, as it governs the behavior of light and other forms of electromagnetic radiation.\n",
        "\n",
        "Another fascinating aspect of our universe is the behavior of energy. Energy is the ability to do work, and it comes in many different forms, including thermal energy, kinetic energy, potential energy, and electromagnetic energy. Energy can be converted from one form to another, and it is constantly in motion, flowing from one place to another Life is a beautiful journey, filled with moments of joy, love, and fulfillment. However, it is also a path that is marked with periods of sorrow, loss, and heartache. It is during these trying times that we often find ourselves reflecting on the nature of existence and the fragility of the human experience.\n",
        "\n",
        "As we navigate the complexities of life, we are bound to encounter situations that challenge our resilience and test our ability to cope. The loss of a loved one, the end of a cherished relationship, or the failure to achieve a long-held dream can leave us feeling broken and alone. In these moments, it is essential to allow ourselves to feel the weight of our emotions and to grieve in a way that is authentic and healing.\n",
        "\n",
        "Grief is a natural response to loss, and it is a process that cannot be rushed or avoided. It is a journey that requires patience, compassion, and understanding. As we move through the stages of grief, we may find ourselves experiencing a range of emotions, from denial and anger to sadness and acceptance. It is important to remember that all of these feelings are normal and that they are a necessary part of the healing process.\n",
        "\n",
        "When we are grieving, it can be difficult to find the motivation to engage in the activities that once brought us joy. We may feel overwhelmed by the tasks of daily life, and we may struggle to find meaning in our existence. However, it is during these times that we must remember the importance of self-care and the power of connection.\n",
        "\n",
        "Self-care is the practice of taking care of our physical, emotional, and mental well-being. It is the act of nurturing ourselves in a way that promotes healing and growth. This may include activities such as meditation, exercise, or therapy. It may also include spending time in nature, reading, or journaling. Whatever form it takes, self-care is an essential component of the grieving process.\n",
        "\n",
        "Connection is the act of reaching out to others for support and comfort. It is the recognition that we are not alone in our pain and that there are others who care for us and want to help. Connection can take many forms, from talking to a trusted friend or family member to seeking the guidance of a professional counselor or support group. Whatever form it takes, connection is a vital part of the healing process.\n",
        "\n",
        "As we move through the stages of grief, we may find ourselves questioning the meaning of life and the purpose of our existence. We may wonder why we are here and what our lives are meant to be. These questions are natural and are a part of the human experience. However, it is important to remember that there are no easy answers to these questions, and that the search for meaning is a lifelong journey.\n",
        "\n",
        "In the face of loss, it is easy to feel overwhelmed by the weight of our emotions and the complexity of our existence. However, it is important to remember that we are not alone in our pain and that there are resources available to help us heal. Self-care and connection are two of the most powerful tools in the grieving process, and they are essential to our ability to move forward in a healthy and healing way.\n",
        "\n",
        "Neutral Content:\n",
        "\n",
        "The world is a vast and complex place, filled with a diverse range of cultures, beliefs, and experiences. It is a tapestry of interwoven threads, each contributing to the richness and beauty of the whole. As we move through the world, we encounter a multitude of sights, sounds, and sensations that shape our understanding of the world and our place within it.\n",
        "\n",
        "One of the most striking aspects of the world is its diversity. From the towering mountains and vast deserts to the bustling cities and tranquil villages, the world is a place of infinite variety and contrast. This diversity is reflected in the people who inhabit the world, each with their own unique culture, beliefs, and experiences.\n",
        "\n",
        "Culture is the shared set of beliefs, values, customs, behaviors, and artifacts that characterize a group or society. It is the way in which a group of people organizes and understands the world around them. Culture is expressed through a variety of means, including language, art, music, literature, and food. It is the foundation of our identity and the lens through which we view the world.\n",
        "\n",
        "Beliefs are the ideas and convictions that we hold to be true. They are the principles that guide our actions and shape our understanding of the world. Beliefs can be personal or shared, and they can be based on reason, experience, or faith. They are the cornerstone of our worldview and the foundation of our decision-making.\n",
        "\n",
        "Experiences are the events and circumstances that we encounter in our lives. They are the building blocks of our memory and the basis of our learning. Exper Life is a beautiful and mysterious journey, full of ups and downs, twists and turns. But sometimes, the downs can feel overwhelming, and the weight of the world can seem too much to bear. In these moments, it's important to allow ourselves to feel and process our emotions, even if they are sad and painful.\n",
        "\n",
        "Sadness is a natural and inevitable part of the human experience. It's a feeling that arises in response to loss, disappointment, or hurt. It's the emotion that we feel when we are separated from something or someone that we love, or when we are faced with a difficult or challenging situation. Sadness can be a quiet and subtle feeling, or it can be a loud and overwhelming wave that crashes over us.\n",
        "\n",
        "When we are sad, it's important to take care of ourselves and to give ourselves the space and time that we need to heal. This might mean withdrawing from social activities, taking time off work, or seeking the support of a therapist or counselor. It might also mean practicing self-care rituals, such as journaling, meditating, or engaging in soothing and comforting activities.\n",
        "\n",
        "It's also important to remember that sadness is not a permanent state. It's a feeling that comes and goes, and it's a feeling that we can learn to manage and cope with. We can't always control the circumstances of our lives, but we can control how we respond to them. We can choose to dwell in sadness, or we can choose to move through it and towards healing.\n",
        "\n",
        "One way to move through sadness is to practice gratitude. Gratitude is the practice of acknowledging and appreciating the good things in our lives, even when things feel difficult or challenging. It's a way of shifting our focus from what's wrong to what's right, and it's a powerful tool for cultivating happiness and joy.\n",
        "\n",
        "Another way to move through sadness is to seek support and connection. When we are sad, it's easy to isolate ourselves and to withdraw from others. But connection and support are essential for healing and growth. Whether it's through a support group, a therapy session, or a conversation with a trusted friend or family member, seeking support and connection can help us to feel less alone and more understood.\n",
        "\n",
        "It's also important to remember that sadness is not a sign of weakness or failure. It's a sign of vulnerability and humanity. It's a sign that we are alive and that we are capable of feeling and experiencing the full range of human emotions. And it's a sign that we are strong enough to face our sadness, to learn from it, and to grow from it.\n",
        "\n",
        "In conclusion, sadness is a natural and important part of the human experience. It's a feeling that arises in response to loss, disappointment, or hurt, and it's a feeling that we need to allow ourselves to feel and process. When we are sad, it's important to take care of ourselves, to practice self-care, and to seek support and connection. And it's important to remember that sadness is not a permanent state, and that we have the strength and resilience to move through it and towards healing.\n",
        "\n",
        "Neutral Content:\n",
        "\n",
        "The world is a vast and complex place, full of wonders and mysteries. It's a place where people of all ages, races, and backgrounds come together to live, work, and play. And it's a place where we are constantly learning and growing, both as individuals and as a society.\n",
        "\n",
        "One of the things that makes the world so fascinating is its diversity. There are countless cultures, languages, and traditions, each with its own unique history and perspective. This diversity enriches our lives and broadens our horizons, allowing us to see the world in new and different ways.\n",
        "\n",
        "Another aspect of the world that is worth noting is its interconnectedness. In today's globalized world, we are more connected than ever before. We can communicate with people on the other side of the planet in an instant, and we can access information and resources from anywhere in the world. This interconnectedness has the potential to bring us closer together and to create a more united and harmonious world.\n",
        "\n",
        "However, the world is not without its challenges and struggles. There are many issues and problems that we face as a society, from poverty and inequality to climate change and conflict. These challenges can seem overwhelming at times, but they also present us with opportunities for growth and progress.\n",
        "\n",
        "One of the ways that we can address these challenges is through education and learning. By gaining knowledge and understanding, we can make informed decisions and take action to create positive change. Whether it's through formal education, self-\"\"\"\n"
      ]
    },
    {
      "cell_type": "code",
      "execution_count": null,
      "metadata": {
        "colab": {
          "base_uri": "https://localhost:8080/",
          "height": 105
        },
        "id": "XYUtmmd8_nw4",
        "outputId": "d30ec83b-6326-48a0-8f55-0a2a73156dc3"
      },
      "outputs": [
        {
          "data": {
            "application/vnd.google.colaboratory.intrinsic+json": {
              "type": "string"
            },
            "text/plain": [
              "\"As we journey through life, we often encounter moments of sadness and sorrow. These emotions are a natural part of the human experience, and they serve an important purpose in helping us process loss, disappointment, and other forms of pain. In this piece, we will explore the nature of sadness, its causes and effects, and some strategies for coping with it in a healthy and respectful way.\\n\\nSadness is a complex emotion that can manifest in many different ways. It can be triggered by a wide range of events, from the death of a loved one to the loss of a job or the end of a relationship. Sadness can also be caused by more subtle factors, such as a sense of isolation, loneliness, or unfulfillment.\\n\\nWhatever the cause, sadness can have a profound impact on our lives. It can affect our mood, our energy levels, our appetite, and our sleep patterns. It can make us feel disconnected from the world around us, and it can even lead to feelings of hopelessness and despair.\\n\\nDespite its challenges, sadness is an important emotion that serves a valuable function. It helps us process and make sense of difficult experiences, and it can motivate us to seek out support and connection with others. Sadness can also be a source of growth and transformation, as we learn to navigate the ups and downs of life with grace and resilience.\\n\\nSo how can we cope with sadness in a healthy and respectful way? Here are some strategies that may help:\\n\\n1. Allow yourself to feel your emotions. Sadness is a natural and normal part of the human experience, and it's important to allow yourself to feel your emotions fully. Don't try to suppress or ignore your sadness, as this can lead to deeper feelings of distress and disconnection.\\n2. Seek out support. When we're feeling sad, it can be helpful to reach out to others for support. This might mean talking to a friend or family member, seeking out therapy or counseling, or joining a support group. Having a strong network of supportive people around us can help us feel less alone and more connected.\\n3. Practice self-care. Taking care of ourselves is essential when we're feeling sad. This might mean getting enough sleep, eating nutritious foods, exercising regularly, or engaging in activities that bring us joy and comfort. Self-care can help us feel more grounded and centered, and it can provide a sense of stability and security during difficult times.\\n4. Practice mindfulness. When we're feeling sad, it can be easy to get caught up in negative thoughts and emotions. Practicing mindfulness can help us stay present and focused on the present moment, rather than getting lost in the past or the future. Mindfulness can also help us cultivate a sense of acceptance and compassion towards ourselves and our emotions.\\n5. Seek out meaning and purpose. Sadness can often make us feel disconnected from the world around us, and it can leave us feeling lost and without direction. Seeking out meaning and purpose can help us feel more grounded and connected, and it can provide a sense of direction and motivation. This might mean pursuing a hobby or passion, volunteering, or finding ways to make a positive impact in the world.\\n\\nNeutral Content:\\n\\nThe world is full of wonders and mysteries, and there is always something new to discover and explore. In this piece, we will take a neutral and respectful look at some of the fascinating phenomena that exist in our universe, from the tiniest particles to the largest galaxies.\\n\\nOne of the most intriguing aspects of our world is the behavior of matter and energy. At the most fundamental level, the universe is made up of tiny particles called atoms, which are themselves composed of even smaller particles called protons, neutrons, and electrons. These particles interact with each other through four fundamental forces: gravity, electromagnetism, the strong nuclear force, and the weak nuclear force.\\n\\nThese forces govern the behavior of matter and energy in the universe, and they are responsible for some of the most amazing phenomena that we observe. For example, gravity is what holds planets and stars together in their orbits, and it is what causes objects to fall towards the ground when dropped. Electromagnetism is what allows us to see and interact with the world around us, as it governs the behavior of light and other forms of electromagnetic radiation.\\n\\nAnother fascinating aspect of our universe is the behavior of energy. Energy is the ability to do work, and it comes in many different forms, including thermal energy, kinetic energy, potential energy, and electromagnetic energy. Energy can be converted from one form to another, and it is constantly in motion, flowing from one place to another Life is a beautiful journey, filled with moments of joy, love, and fulfillment. However, it is also a path that is marked with periods of sorrow, loss, and heartache. It is during these trying times that we often find ourselves reflecting on the nature of existence and the fragility of the human experience.\\n\\nAs we navigate the complexities of life, we are bound to encounter situations that challenge our resilience and test our ability to cope. The loss of a loved one, the end of a cherished relationship, or the failure to achieve a long-held dream can leave us feeling broken and alone. In these moments, it is essential to allow ourselves to feel the weight of our emotions and to grieve in a way that is authentic and healing.\\n\\nGrief is a natural response to loss, and it is a process that cannot be rushed or avoided. It is a journey that requires patience, compassion, and understanding. As we move through the stages of grief, we may find ourselves experiencing a range of emotions, from denial and anger to sadness and acceptance. It is important to remember that all of these feelings are normal and that they are a necessary part of the healing process.\\n\\nWhen we are grieving, it can be difficult to find the motivation to engage in the activities that once brought us joy. We may feel overwhelmed by the tasks of daily life, and we may struggle to find meaning in our existence. However, it is during these times that we must remember the importance of self-care and the power of connection.\\n\\nSelf-care is the practice of taking care of our physical, emotional, and mental well-being. It is the act of nurturing ourselves in a way that promotes healing and growth. This may include activities such as meditation, exercise, or therapy. It may also include spending time in nature, reading, or journaling. Whatever form it takes, self-care is an essential component of the grieving process.\\n\\nConnection is the act of reaching out to others for support and comfort. It is the recognition that we are not alone in our pain and that there are others who care for us and want to help. Connection can take many forms, from talking to a trusted friend or family member to seeking the guidance of a professional counselor or support group. Whatever form it takes, connection is a vital part of the healing process.\\n\\nAs we move through the stages of grief, we may find ourselves questioning the meaning of life and the purpose of our existence. We may wonder why we are here and what our lives are meant to be. These questions are natural and are a part of the human experience. However, it is important to remember that there are no easy answers to these questions, and that the search for meaning is a lifelong journey.\\n\\nIn the face of loss, it is easy to feel overwhelmed by the weight of our emotions and the complexity of our existence. However, it is important to remember that we are not alone in our pain and that there are resources available to help us heal. Self-care and connection are two of the most powerful tools in the grieving process, and they are essential to our ability to move forward in a healthy and healing way.\\n\\nNeutral Content:\\n\\nThe world is a vast and complex place, filled with a diverse range of cultures, beliefs, and experiences. It is a tapestry of interwoven threads, each contributing to the richness and beauty of the whole. As we move through the world, we encounter a multitude of sights, sounds, and sensations that shape our understanding of the world and our place within it.\\n\\nOne of the most striking aspects of the world is its diversity. From the towering mountains and vast deserts to the bustling cities and tranquil villages, the world is a place of infinite variety and contrast. This diversity is reflected in the people who inhabit the world, each with their own unique culture, beliefs, and experiences.\\n\\nCulture is the shared set of beliefs, values, customs, behaviors, and artifacts that characterize a group or society. It is the way in which a group of people organizes and understands the world around them. Culture is expressed through a variety of means, including language, art, music, literature, and food. It is the foundation of our identity and the lens through which we view the world.\\n\\nBeliefs are the ideas and convictions that we hold to be true. They are the principles that guide our actions and shape our understanding of the world. Beliefs can be personal or shared, and they can be based on reason, experience, or faith. They are the cornerstone of our worldview and the foundation of our decision-making.\\n\\nExperiences are the events and circumstances that we encounter in our lives. They are the building blocks of our memory and the basis of our learning. Exper Life is a beautiful and mysterious journey, full of ups and downs, twists and turns. But sometimes, the downs can feel overwhelming, and the weight of the world can seem too much to bear. In these moments, it's important to allow ourselves to feel and process our emotions, even if they are sad and painful.\\n\\nSadness is a natural and inevitable part of the human experience. It's a feeling that arises in response to loss, disappointment, or hurt. It's the emotion that we feel when we are separated from something or someone that we love, or when we are faced with a difficult or challenging situation. Sadness can be a quiet and subtle feeling, or it can be a loud and overwhelming wave that crashes over us.\\n\\nWhen we are sad, it's important to take care of ourselves and to give ourselves the space and time that we need to heal. This might mean withdrawing from social activities, taking time off work, or seeking the support of a therapist or counselor. It might also mean practicing self-care rituals, such as journaling, meditating, or engaging in soothing and comforting activities.\\n\\nIt's also important to remember that sadness is not a permanent state. It's a feeling that comes and goes, and it's a feeling that we can learn to manage and cope with. We can't always control the circumstances of our lives, but we can control how we respond to them. We can choose to dwell in sadness, or we can choose to move through it and towards healing.\\n\\nOne way to move through sadness is to practice gratitude. Gratitude is the practice of acknowledging and appreciating the good things in our lives, even when things feel difficult or challenging. It's a way of shifting our focus from what's wrong to what's right, and it's a powerful tool for cultivating happiness and joy.\\n\\nAnother way to move through sadness is to seek support and connection. When we are sad, it's easy to isolate ourselves and to withdraw from others. But connection and support are essential for healing and growth. Whether it's through a support group, a therapy session, or a conversation with a trusted friend or family member, seeking support and connection can help us to feel less alone and more understood.\\n\\nIt's also important to remember that sadness is not a sign of weakness or failure. It's a sign of vulnerability and humanity. It's a sign that we are alive and that we are capable of feeling and experiencing the full range of human emotions. And it's a sign that we are strong enough to face our sadness, to learn from it, and to grow from it.\\n\\nIn conclusion, sadness is a natural and important part of the human experience. It's a feeling that arises in response to loss, disappointment, or hurt, and it's a feeling that we need to allow ourselves to feel and process. When we are sad, it's important to take care of ourselves, to practice self-care, and to seek support and connection. And it's important to remember that sadness is not a permanent state, and that we have the strength and resilience to move through it and towards healing.\\n\\nNeutral Content:\\n\\nThe world is a vast and complex place, full of wonders and mysteries. It's a place where people of all ages, races, and backgrounds come together to live, work, and play. And it's a place where we are constantly learning and growing, both as individuals and as a society.\\n\\nOne of the things that makes the world so fascinating is its diversity. There are countless cultures, languages, and traditions, each with its own unique history and perspective. This diversity enriches our lives and broadens our horizons, allowing us to see the world in new and different ways.\\n\\nAnother aspect of the world that is worth noting is its interconnectedness. In today's globalized world, we are more connected than ever before. We can communicate with people on the other side of the planet in an instant, and we can access information and resources from anywhere in the world. This interconnectedness has the potential to bring us closer together and to create a more united and harmonious world.\\n\\nHowever, the world is not without its challenges and struggles. There are many issues and problems that we face as a society, from poverty and inequality to climate change and conflict. These challenges can seem overwhelming at times, but they also present us with opportunities for growth and progress.\\n\\nOne of the ways that we can address these challenges is through education and learning. By gaining knowledge and understanding, we can make informed decisions and take action to create positive change. Whether it's through formal education, self-\""
            ]
          },
          "execution_count": 60,
          "metadata": {},
          "output_type": "execute_result"
        }
      ],
      "source": [
        "new_text"
      ]
    },
    {
      "cell_type": "code",
      "execution_count": null,
      "metadata": {
        "id": "RMUgXZWq_RLI"
      },
      "outputs": [],
      "source": [
        "cleaned_Text = basic_text_cleaning(new_text)\n",
        "cleaned_Text =\"As we journey through life, we often encounter moments of sadness and sorrow.\""
      ]
    },
    {
      "cell_type": "code",
      "execution_count": null,
      "metadata": {
        "colab": {
          "base_uri": "https://localhost:8080/"
        },
        "id": "wPjrSqYi_NJA",
        "outputId": "af1a3963-3b4f-4e08-a0b3-d437419c1ef3"
      },
      "outputs": [
        {
          "name": "stdout",
          "output_type": "stream",
          "text": [
            "Abusive', 'Anger', 'Fear', 'Happy', 'Love', 'Neutral', 'Sad']\n",
            " tensor([[-6.8805, -1.1537, -1.8863,  0.5433,  0.2854,  2.3596,  0.6976]])\n",
            "Predicted sentiment: Neutral\n"
          ]
        }
      ],
      "source": [
        "predicted_sentiment_index,labels = model.predict(cleaned_Text)  # Get the numerical label (index)\n",
        "print(\"Abusive', 'Anger', 'Fear', 'Happy', 'Love', 'Neutral', 'Sad']\\n\",labels)\n",
        "predicted_sentiment = emotion_labels[predicted_sentiment_index] # Get the emotion label\n",
        "print(f\"Predicted sentiment: {predicted_sentiment}\")"
      ]
    },
    {
      "cell_type": "code",
      "execution_count": null,
      "metadata": {
        "colab": {
          "base_uri": "https://localhost:8080/",
          "height": 211
        },
        "id": "a3ykbTO3BbE1",
        "outputId": "b8401f6d-db72-484b-e6e6-3dc75c8225af"
      },
      "outputs": [
        {
          "ename": "IndexError",
          "evalue": "index 5 is out of bounds for dimension 0 with size 1",
          "output_type": "error",
          "traceback": [
            "\u001b[0;31m---------------------------------------------------------------------------\u001b[0m",
            "\u001b[0;31mIndexError\u001b[0m                                Traceback (most recent call last)",
            "\u001b[0;32m<ipython-input-68-41f3c3cabd45>\u001b[0m in \u001b[0;36m<cell line: 0>\u001b[0;34m()\u001b[0m\n\u001b[1;32m      7\u001b[0m \u001b[0;34m\u001b[0m\u001b[0m\n\u001b[1;32m      8\u001b[0m \u001b[0;31m# Round the predicted probability to 3 decimal places\u001b[0m\u001b[0;34m\u001b[0m\u001b[0;34m\u001b[0m\u001b[0m\n\u001b[0;32m----> 9\u001b[0;31m \u001b[0mpredicted_probability\u001b[0m \u001b[0;34m=\u001b[0m \u001b[0mround\u001b[0m\u001b[0;34m(\u001b[0m\u001b[0mlabels\u001b[0m\u001b[0;34m[\u001b[0m\u001b[0mpredicted_sentiment_index\u001b[0m\u001b[0;34m]\u001b[0m\u001b[0;34m.\u001b[0m\u001b[0mitem\u001b[0m\u001b[0;34m(\u001b[0m\u001b[0;34m)\u001b[0m\u001b[0;34m,\u001b[0m\u001b[0;36m3\u001b[0m\u001b[0;34m)\u001b[0m\u001b[0;34m\u001b[0m\u001b[0;34m\u001b[0m\u001b[0m\n\u001b[0m\u001b[1;32m     10\u001b[0m \u001b[0;34m\u001b[0m\u001b[0m\n\u001b[1;32m     11\u001b[0m \u001b[0mprint\u001b[0m\u001b[0;34m(\u001b[0m\u001b[0;34m\"Abusive', 'Anger', 'Fear', 'Happy', 'Love', 'Neutral', 'Sad']\\n\"\u001b[0m\u001b[0;34m,\u001b[0m\u001b[0mlabels\u001b[0m\u001b[0;34m.\u001b[0m\u001b[0mtolist\u001b[0m\u001b[0;34m(\u001b[0m\u001b[0;34m)\u001b[0m\u001b[0;34m)\u001b[0m\u001b[0;34m\u001b[0m\u001b[0;34m\u001b[0m\u001b[0m\n",
            "\u001b[0;31mIndexError\u001b[0m: index 5 is out of bounds for dimension 0 with size 1"
          ]
        }
      ],
      "source": [
        "# prompt: i want that above output should be float value but like -5.077 only not like -5.0775580406188965\n",
        "# Example Usage:\n",
        "new_text = \"\"\"As we journey through life, we often encounter moments of sadness and sorrow. These emotions are a natural part of the human experience, and they serve an important purpose in helping us process loss, disappointment, and other forms of pain. ...\"\"\" # Your long text\n",
        "\n",
        "cleaned_Text = basic_text_cleaning(new_text)\n",
        "predicted_sentiment_index, labels = model.predict(cleaned_Text)\n",
        "\n",
        "# Round the predicted probability to 3 decimal places\n",
        "# predicted_probability = round(labels[predicted_sentiment_index].item(),3)\n",
        "\n",
        "print(\"Abusive', 'Anger', 'Fear', 'Happy', 'Love', 'Neutral', 'Sad']\\n\",labels.tolist())\n",
        "predicted_sentiment = emotion_labels[predicted_sentiment_index]\n",
        "print(f\"Predicted sentiment: {predicted_sentiment}, Probability: {predicted_probability}\")\n"
      ]
    },
    {
      "cell_type": "markdown",
      "metadata": {
        "id": "f9M8juXKQcXI"
      },
      "source": [
        "# load model and test on dataset"
      ]
    },
    {
      "cell_type": "code",
      "execution_count": null,
      "metadata": {
        "id": "YyT_t80iQhxY"
      },
      "outputs": [],
      "source": [
        "import pandas as pd\n",
        "val_data = pd.read_csv('/content/val_data.csv')"
      ]
    },
    {
      "cell_type": "code",
      "execution_count": null,
      "metadata": {
        "colab": {
          "base_uri": "https://localhost:8080/"
        },
        "id": "EPC9w_FsRM4Q",
        "outputId": "1051cf42-76e7-4539-9abe-0865d4b721b7"
      },
      "outputs": [
        {
          "name": "stdout",
          "output_type": "stream",
          "text": [
            "<class 'pandas.core.frame.DataFrame'>\n",
            "RangeIndex: 812 entries, 0 to 811\n",
            "Data columns (total 2 columns):\n",
            " #   Column  Non-Null Count  Dtype \n",
            "---  ------  --------------  ----- \n",
            " 0   text    812 non-null    object\n",
            " 1   labels  812 non-null    object\n",
            "dtypes: object(2)\n",
            "memory usage: 12.8+ KB\n"
          ]
        }
      ],
      "source": [
        "val_data.info()"
      ]
    },
    {
      "cell_type": "code",
      "execution_count": null,
      "metadata": {
        "colab": {
          "base_uri": "https://localhost:8080/",
          "height": 335
        },
        "id": "YSauRTtURRLP",
        "outputId": "4d22a57c-7c08-4dee-c0ce-63286aed8b74"
      },
      "outputs": [
        {
          "data": {
            "text/html": [
              "<div>\n",
              "<style scoped>\n",
              "    .dataframe tbody tr th:only-of-type {\n",
              "        vertical-align: middle;\n",
              "    }\n",
              "\n",
              "    .dataframe tbody tr th {\n",
              "        vertical-align: top;\n",
              "    }\n",
              "\n",
              "    .dataframe thead th {\n",
              "        text-align: right;\n",
              "    }\n",
              "</style>\n",
              "<table border=\"1\" class=\"dataframe\">\n",
              "  <thead>\n",
              "    <tr style=\"text-align: right;\">\n",
              "      <th></th>\n",
              "      <th>count</th>\n",
              "    </tr>\n",
              "    <tr>\n",
              "      <th>labels</th>\n",
              "      <th></th>\n",
              "    </tr>\n",
              "  </thead>\n",
              "  <tbody>\n",
              "    <tr>\n",
              "      <th>surprised</th>\n",
              "      <td>124</td>\n",
              "    </tr>\n",
              "    <tr>\n",
              "      <th>happy</th>\n",
              "      <td>120</td>\n",
              "    </tr>\n",
              "    <tr>\n",
              "      <th>neutral</th>\n",
              "      <td>118</td>\n",
              "    </tr>\n",
              "    <tr>\n",
              "      <th>sad</th>\n",
              "      <td>117</td>\n",
              "    </tr>\n",
              "    <tr>\n",
              "      <th>abuse</th>\n",
              "      <td>112</td>\n",
              "    </tr>\n",
              "    <tr>\n",
              "      <th>fearful</th>\n",
              "      <td>112</td>\n",
              "    </tr>\n",
              "    <tr>\n",
              "      <th>angry</th>\n",
              "      <td>109</td>\n",
              "    </tr>\n",
              "  </tbody>\n",
              "</table>\n",
              "</div><br><label><b>dtype:</b> int64</label>"
            ],
            "text/plain": [
              "labels\n",
              "surprised    124\n",
              "happy        120\n",
              "neutral      118\n",
              "sad          117\n",
              "abuse        112\n",
              "fearful      112\n",
              "angry        109\n",
              "Name: count, dtype: int64"
            ]
          },
          "execution_count": 27,
          "metadata": {},
          "output_type": "execute_result"
        }
      ],
      "source": [
        "val_data['labels'].value_counts()"
      ]
    },
    {
      "cell_type": "code",
      "execution_count": null,
      "metadata": {
        "colab": {
          "base_uri": "https://localhost:8080/",
          "height": 424
        },
        "collapsed": true,
        "id": "OJcLhXQXRkUf",
        "outputId": "4618ba2b-6a0d-41a7-d7ec-3f9dc0a89ea6"
      },
      "outputs": [
        {
          "data": {
            "application/vnd.google.colaboratory.intrinsic+json": {
              "summary": "{\n  \"name\": \"val_data\",\n  \"rows\": 812,\n  \"fields\": [\n    {\n      \"column\": \"text\",\n      \"properties\": {\n        \"dtype\": \"string\",\n        \"num_unique_values\": 805,\n        \"samples\": [\n          \"\\\"Every new day is a fresh opportunity to spread joy, make unforgettable memories, and fill our hearts with love and gratitude!\\\"\",\n          \"We have a little piece of legislation called the Prohibition of Foreign Military Assistance Act This prohibits mercs from operating in South Africa. on pain of five years of hell in a kaffer jail .\",\n          \"leo sotone\"\n        ],\n        \"semantic_type\": \"\",\n        \"description\": \"\"\n      }\n    },\n    {\n      \"column\": \"labels\",\n      \"properties\": {\n        \"dtype\": \"number\",\n        \"std\": 1,\n        \"min\": 0,\n        \"max\": 6,\n        \"num_unique_values\": 7,\n        \"samples\": [\n          6,\n          0,\n          5\n        ],\n        \"semantic_type\": \"\",\n        \"description\": \"\"\n      }\n    }\n  ]\n}",
              "type": "dataframe",
              "variable_name": "val_data"
            },
            "text/html": [
              "\n",
              "  <div id=\"df-81b6b482-e7d5-4ed9-899b-454657b34276\" class=\"colab-df-container\">\n",
              "    <div>\n",
              "<style scoped>\n",
              "    .dataframe tbody tr th:only-of-type {\n",
              "        vertical-align: middle;\n",
              "    }\n",
              "\n",
              "    .dataframe tbody tr th {\n",
              "        vertical-align: top;\n",
              "    }\n",
              "\n",
              "    .dataframe thead th {\n",
              "        text-align: right;\n",
              "    }\n",
              "</style>\n",
              "<table border=\"1\" class=\"dataframe\">\n",
              "  <thead>\n",
              "    <tr style=\"text-align: right;\">\n",
              "      <th></th>\n",
              "      <th>text</th>\n",
              "      <th>labels</th>\n",
              "    </tr>\n",
              "  </thead>\n",
              "  <tbody>\n",
              "    <tr>\n",
              "      <th>0</th>\n",
              "      <td>As we journey through life, we often encounter...</td>\n",
              "      <td>6</td>\n",
              "    </tr>\n",
              "    <tr>\n",
              "      <th>1</th>\n",
              "      <td>I woke up to an empty room, the silence deafen...</td>\n",
              "      <td>6</td>\n",
              "    </tr>\n",
              "    <tr>\n",
              "      <th>2</th>\n",
              "      <td>images i have taken will not be removed from m...</td>\n",
              "      <td>0</td>\n",
              "    </tr>\n",
              "    <tr>\n",
              "      <th>3</th>\n",
              "      <td>this is getting out of script now i have hold ...</td>\n",
              "      <td>0</td>\n",
              "    </tr>\n",
              "    <tr>\n",
              "      <th>4</th>\n",
              "      <td>My heart is racing as I contemplate that dark ...</td>\n",
              "      <td>2</td>\n",
              "    </tr>\n",
              "    <tr>\n",
              "      <th>...</th>\n",
              "      <td>...</td>\n",
              "      <td>...</td>\n",
              "    </tr>\n",
              "    <tr>\n",
              "      <th>807</th>\n",
              "      <td>My heart races, I feel threatened, something's...</td>\n",
              "      <td>2</td>\n",
              "    </tr>\n",
              "    <tr>\n",
              "      <th>808</th>\n",
              "      <td>poor deluded psychopaths news flash marriage i...</td>\n",
              "      <td>0</td>\n",
              "    </tr>\n",
              "    <tr>\n",
              "      <th>809</th>\n",
              "      <td>just might go away because as you get even dum...</td>\n",
              "      <td>0</td>\n",
              "    </tr>\n",
              "    <tr>\n",
              "      <th>810</th>\n",
              "      <td>\"Heart heavy with loss, a world of color fades...</td>\n",
              "      <td>6</td>\n",
              "    </tr>\n",
              "    <tr>\n",
              "      <th>811</th>\n",
              "      <td>\"What?! You're kidding, right? This can't be h...</td>\n",
              "      <td>4</td>\n",
              "    </tr>\n",
              "  </tbody>\n",
              "</table>\n",
              "<p>812 rows × 2 columns</p>\n",
              "</div>\n",
              "    <div class=\"colab-df-buttons\">\n",
              "\n",
              "  <div class=\"colab-df-container\">\n",
              "    <button class=\"colab-df-convert\" onclick=\"convertToInteractive('df-81b6b482-e7d5-4ed9-899b-454657b34276')\"\n",
              "            title=\"Convert this dataframe to an interactive table.\"\n",
              "            style=\"display:none;\">\n",
              "\n",
              "  <svg xmlns=\"http://www.w3.org/2000/svg\" height=\"24px\" viewBox=\"0 -960 960 960\">\n",
              "    <path d=\"M120-120v-720h720v720H120Zm60-500h600v-160H180v160Zm220 220h160v-160H400v160Zm0 220h160v-160H400v160ZM180-400h160v-160H180v160Zm440 0h160v-160H620v160ZM180-180h160v-160H180v160Zm440 0h160v-160H620v160Z\"/>\n",
              "  </svg>\n",
              "    </button>\n",
              "\n",
              "  <style>\n",
              "    .colab-df-container {\n",
              "      display:flex;\n",
              "      gap: 12px;\n",
              "    }\n",
              "\n",
              "    .colab-df-convert {\n",
              "      background-color: #E8F0FE;\n",
              "      border: none;\n",
              "      border-radius: 50%;\n",
              "      cursor: pointer;\n",
              "      display: none;\n",
              "      fill: #1967D2;\n",
              "      height: 32px;\n",
              "      padding: 0 0 0 0;\n",
              "      width: 32px;\n",
              "    }\n",
              "\n",
              "    .colab-df-convert:hover {\n",
              "      background-color: #E2EBFA;\n",
              "      box-shadow: 0px 1px 2px rgba(60, 64, 67, 0.3), 0px 1px 3px 1px rgba(60, 64, 67, 0.15);\n",
              "      fill: #174EA6;\n",
              "    }\n",
              "\n",
              "    .colab-df-buttons div {\n",
              "      margin-bottom: 4px;\n",
              "    }\n",
              "\n",
              "    [theme=dark] .colab-df-convert {\n",
              "      background-color: #3B4455;\n",
              "      fill: #D2E3FC;\n",
              "    }\n",
              "\n",
              "    [theme=dark] .colab-df-convert:hover {\n",
              "      background-color: #434B5C;\n",
              "      box-shadow: 0px 1px 3px 1px rgba(0, 0, 0, 0.15);\n",
              "      filter: drop-shadow(0px 1px 2px rgba(0, 0, 0, 0.3));\n",
              "      fill: #FFFFFF;\n",
              "    }\n",
              "  </style>\n",
              "\n",
              "    <script>\n",
              "      const buttonEl =\n",
              "        document.querySelector('#df-81b6b482-e7d5-4ed9-899b-454657b34276 button.colab-df-convert');\n",
              "      buttonEl.style.display =\n",
              "        google.colab.kernel.accessAllowed ? 'block' : 'none';\n",
              "\n",
              "      async function convertToInteractive(key) {\n",
              "        const element = document.querySelector('#df-81b6b482-e7d5-4ed9-899b-454657b34276');\n",
              "        const dataTable =\n",
              "          await google.colab.kernel.invokeFunction('convertToInteractive',\n",
              "                                                    [key], {});\n",
              "        if (!dataTable) return;\n",
              "\n",
              "        const docLinkHtml = 'Like what you see? Visit the ' +\n",
              "          '<a target=\"_blank\" href=https://colab.research.google.com/notebooks/data_table.ipynb>data table notebook</a>'\n",
              "          + ' to learn more about interactive tables.';\n",
              "        element.innerHTML = '';\n",
              "        dataTable['output_type'] = 'display_data';\n",
              "        await google.colab.output.renderOutput(dataTable, element);\n",
              "        const docLink = document.createElement('div');\n",
              "        docLink.innerHTML = docLinkHtml;\n",
              "        element.appendChild(docLink);\n",
              "      }\n",
              "    </script>\n",
              "  </div>\n",
              "\n",
              "\n",
              "<div id=\"df-14bd7f3c-ec8e-4ef6-883a-e867022b68ba\">\n",
              "  <button class=\"colab-df-quickchart\" onclick=\"quickchart('df-14bd7f3c-ec8e-4ef6-883a-e867022b68ba')\"\n",
              "            title=\"Suggest charts\"\n",
              "            style=\"display:none;\">\n",
              "\n",
              "<svg xmlns=\"http://www.w3.org/2000/svg\" height=\"24px\"viewBox=\"0 0 24 24\"\n",
              "     width=\"24px\">\n",
              "    <g>\n",
              "        <path d=\"M19 3H5c-1.1 0-2 .9-2 2v14c0 1.1.9 2 2 2h14c1.1 0 2-.9 2-2V5c0-1.1-.9-2-2-2zM9 17H7v-7h2v7zm4 0h-2V7h2v10zm4 0h-2v-4h2v4z\"/>\n",
              "    </g>\n",
              "</svg>\n",
              "  </button>\n",
              "\n",
              "<style>\n",
              "  .colab-df-quickchart {\n",
              "      --bg-color: #E8F0FE;\n",
              "      --fill-color: #1967D2;\n",
              "      --hover-bg-color: #E2EBFA;\n",
              "      --hover-fill-color: #174EA6;\n",
              "      --disabled-fill-color: #AAA;\n",
              "      --disabled-bg-color: #DDD;\n",
              "  }\n",
              "\n",
              "  [theme=dark] .colab-df-quickchart {\n",
              "      --bg-color: #3B4455;\n",
              "      --fill-color: #D2E3FC;\n",
              "      --hover-bg-color: #434B5C;\n",
              "      --hover-fill-color: #FFFFFF;\n",
              "      --disabled-bg-color: #3B4455;\n",
              "      --disabled-fill-color: #666;\n",
              "  }\n",
              "\n",
              "  .colab-df-quickchart {\n",
              "    background-color: var(--bg-color);\n",
              "    border: none;\n",
              "    border-radius: 50%;\n",
              "    cursor: pointer;\n",
              "    display: none;\n",
              "    fill: var(--fill-color);\n",
              "    height: 32px;\n",
              "    padding: 0;\n",
              "    width: 32px;\n",
              "  }\n",
              "\n",
              "  .colab-df-quickchart:hover {\n",
              "    background-color: var(--hover-bg-color);\n",
              "    box-shadow: 0 1px 2px rgba(60, 64, 67, 0.3), 0 1px 3px 1px rgba(60, 64, 67, 0.15);\n",
              "    fill: var(--button-hover-fill-color);\n",
              "  }\n",
              "\n",
              "  .colab-df-quickchart-complete:disabled,\n",
              "  .colab-df-quickchart-complete:disabled:hover {\n",
              "    background-color: var(--disabled-bg-color);\n",
              "    fill: var(--disabled-fill-color);\n",
              "    box-shadow: none;\n",
              "  }\n",
              "\n",
              "  .colab-df-spinner {\n",
              "    border: 2px solid var(--fill-color);\n",
              "    border-color: transparent;\n",
              "    border-bottom-color: var(--fill-color);\n",
              "    animation:\n",
              "      spin 1s steps(1) infinite;\n",
              "  }\n",
              "\n",
              "  @keyframes spin {\n",
              "    0% {\n",
              "      border-color: transparent;\n",
              "      border-bottom-color: var(--fill-color);\n",
              "      border-left-color: var(--fill-color);\n",
              "    }\n",
              "    20% {\n",
              "      border-color: transparent;\n",
              "      border-left-color: var(--fill-color);\n",
              "      border-top-color: var(--fill-color);\n",
              "    }\n",
              "    30% {\n",
              "      border-color: transparent;\n",
              "      border-left-color: var(--fill-color);\n",
              "      border-top-color: var(--fill-color);\n",
              "      border-right-color: var(--fill-color);\n",
              "    }\n",
              "    40% {\n",
              "      border-color: transparent;\n",
              "      border-right-color: var(--fill-color);\n",
              "      border-top-color: var(--fill-color);\n",
              "    }\n",
              "    60% {\n",
              "      border-color: transparent;\n",
              "      border-right-color: var(--fill-color);\n",
              "    }\n",
              "    80% {\n",
              "      border-color: transparent;\n",
              "      border-right-color: var(--fill-color);\n",
              "      border-bottom-color: var(--fill-color);\n",
              "    }\n",
              "    90% {\n",
              "      border-color: transparent;\n",
              "      border-bottom-color: var(--fill-color);\n",
              "    }\n",
              "  }\n",
              "</style>\n",
              "\n",
              "  <script>\n",
              "    async function quickchart(key) {\n",
              "      const quickchartButtonEl =\n",
              "        document.querySelector('#' + key + ' button');\n",
              "      quickchartButtonEl.disabled = true;  // To prevent multiple clicks.\n",
              "      quickchartButtonEl.classList.add('colab-df-spinner');\n",
              "      try {\n",
              "        const charts = await google.colab.kernel.invokeFunction(\n",
              "            'suggestCharts', [key], {});\n",
              "      } catch (error) {\n",
              "        console.error('Error during call to suggestCharts:', error);\n",
              "      }\n",
              "      quickchartButtonEl.classList.remove('colab-df-spinner');\n",
              "      quickchartButtonEl.classList.add('colab-df-quickchart-complete');\n",
              "    }\n",
              "    (() => {\n",
              "      let quickchartButtonEl =\n",
              "        document.querySelector('#df-14bd7f3c-ec8e-4ef6-883a-e867022b68ba button');\n",
              "      quickchartButtonEl.style.display =\n",
              "        google.colab.kernel.accessAllowed ? 'block' : 'none';\n",
              "    })();\n",
              "  </script>\n",
              "</div>\n",
              "\n",
              "  <div id=\"id_3ebc0f77-81b2-4835-96f4-4b77538d2e8c\">\n",
              "    <style>\n",
              "      .colab-df-generate {\n",
              "        background-color: #E8F0FE;\n",
              "        border: none;\n",
              "        border-radius: 50%;\n",
              "        cursor: pointer;\n",
              "        display: none;\n",
              "        fill: #1967D2;\n",
              "        height: 32px;\n",
              "        padding: 0 0 0 0;\n",
              "        width: 32px;\n",
              "      }\n",
              "\n",
              "      .colab-df-generate:hover {\n",
              "        background-color: #E2EBFA;\n",
              "        box-shadow: 0px 1px 2px rgba(60, 64, 67, 0.3), 0px 1px 3px 1px rgba(60, 64, 67, 0.15);\n",
              "        fill: #174EA6;\n",
              "      }\n",
              "\n",
              "      [theme=dark] .colab-df-generate {\n",
              "        background-color: #3B4455;\n",
              "        fill: #D2E3FC;\n",
              "      }\n",
              "\n",
              "      [theme=dark] .colab-df-generate:hover {\n",
              "        background-color: #434B5C;\n",
              "        box-shadow: 0px 1px 3px 1px rgba(0, 0, 0, 0.15);\n",
              "        filter: drop-shadow(0px 1px 2px rgba(0, 0, 0, 0.3));\n",
              "        fill: #FFFFFF;\n",
              "      }\n",
              "    </style>\n",
              "    <button class=\"colab-df-generate\" onclick=\"generateWithVariable('val_data')\"\n",
              "            title=\"Generate code using this dataframe.\"\n",
              "            style=\"display:none;\">\n",
              "\n",
              "  <svg xmlns=\"http://www.w3.org/2000/svg\" height=\"24px\"viewBox=\"0 0 24 24\"\n",
              "       width=\"24px\">\n",
              "    <path d=\"M7,19H8.4L18.45,9,17,7.55,7,17.6ZM5,21V16.75L18.45,3.32a2,2,0,0,1,2.83,0l1.4,1.43a1.91,1.91,0,0,1,.58,1.4,1.91,1.91,0,0,1-.58,1.4L9.25,21ZM18.45,9,17,7.55Zm-12,3A5.31,5.31,0,0,0,4.9,8.1,5.31,5.31,0,0,0,1,6.5,5.31,5.31,0,0,0,4.9,4.9,5.31,5.31,0,0,0,6.5,1,5.31,5.31,0,0,0,8.1,4.9,5.31,5.31,0,0,0,12,6.5,5.46,5.46,0,0,0,6.5,12Z\"/>\n",
              "  </svg>\n",
              "    </button>\n",
              "    <script>\n",
              "      (() => {\n",
              "      const buttonEl =\n",
              "        document.querySelector('#id_3ebc0f77-81b2-4835-96f4-4b77538d2e8c button.colab-df-generate');\n",
              "      buttonEl.style.display =\n",
              "        google.colab.kernel.accessAllowed ? 'block' : 'none';\n",
              "\n",
              "      buttonEl.onclick = () => {\n",
              "        google.colab.notebook.generateWithVariable('val_data');\n",
              "      }\n",
              "      })();\n",
              "    </script>\n",
              "  </div>\n",
              "\n",
              "    </div>\n",
              "  </div>\n"
            ],
            "text/plain": [
              "                                                  text  labels\n",
              "0    As we journey through life, we often encounter...       6\n",
              "1    I woke up to an empty room, the silence deafen...       6\n",
              "2    images i have taken will not be removed from m...       0\n",
              "3    this is getting out of script now i have hold ...       0\n",
              "4    My heart is racing as I contemplate that dark ...       2\n",
              "..                                                 ...     ...\n",
              "807  My heart races, I feel threatened, something's...       2\n",
              "808  poor deluded psychopaths news flash marriage i...       0\n",
              "809  just might go away because as you get even dum...       0\n",
              "810  \"Heart heavy with loss, a world of color fades...       6\n",
              "811  \"What?! You're kidding, right? This can't be h...       4\n",
              "\n",
              "[812 rows x 2 columns]"
            ]
          },
          "execution_count": 28,
          "metadata": {},
          "output_type": "execute_result"
        }
      ],
      "source": [
        "# array(['Abusive', 'Anger', 'Fear', 'Happy', 'Love', 'Neutral', 'Sad']\n",
        "\n",
        "val_data['labels'] = val_data['labels'].map({'abuse': 0, 'angry': 1, 'fearful': 2, 'happy': 3, 'surprised': 4, 'neutral': 5, 'sad': 6})\n",
        "val_data"
      ]
    },
    {
      "cell_type": "code",
      "execution_count": null,
      "metadata": {
        "id": "YhW2f32bR-Wm"
      },
      "outputs": [],
      "source": [
        "val_data['length']=val_data['text'].str.strip().str.split().map(len)"
      ]
    },
    {
      "cell_type": "code",
      "execution_count": null,
      "metadata": {
        "colab": {
          "base_uri": "https://localhost:8080/"
        },
        "id": "5Z6ybAnJpeVn",
        "outputId": "8b256682-94e8-4102-efdd-eaf0fd43cb78"
      },
      "outputs": [
        {
          "data": {
            "text/plain": [
              "(812, 3)"
            ]
          },
          "execution_count": 45,
          "metadata": {},
          "output_type": "execute_result"
        }
      ],
      "source": [
        "val_data.shape"
      ]
    },
    {
      "cell_type": "code",
      "execution_count": null,
      "metadata": {
        "id": "YaJlqHtKSZqO"
      },
      "outputs": [],
      "source": [
        "val_data = val_data.sort_values(by='length', ascending=False)\n",
        "test_texts = val_data['text'].tolist()\n",
        "test_labels = val_data['labels'].tolist()"
      ]
    },
    {
      "cell_type": "code",
      "execution_count": null,
      "metadata": {
        "colab": {
          "base_uri": "https://localhost:8080/"
        },
        "id": "OqRcg-iklvRg",
        "outputId": "883385f2-d236-43dd-8070-b503cdfdd587"
      },
      "outputs": [
        {
          "name": "stderr",
          "output_type": "stream",
          "text": [
            "<ipython-input-34-645034b8f950>:45: FutureWarning: You are using `torch.load` with `weights_only=False` (the current default value), which uses the default pickle module implicitly. It is possible to construct malicious pickle data which will execute arbitrary code during unpickling (See https://github.com/pytorch/pytorch/blob/main/SECURITY.md#untrusted-models for more details). In a future release, the default value for `weights_only` will be flipped to `True`. This limits the functions that could be executed during unpickling. Arbitrary objects will no longer be allowed to be loaded via this mode unless they are explicitly allowlisted by the user via `torch.serialization.add_safe_globals`. We recommend you start setting `weights_only=True` for any use case where you don't have full control of the loaded file. Please open an issue on GitHub for any issues related to this experimental feature.\n",
            "  model = torch.load(r'/content/drive/MyDrive/modernbert_sentiment_model.pth',map_location=torch.device('cpu'))\n"
          ]
        },
        {
          "data": {
            "text/plain": [
              "ModernBertClassifier(\n",
              "  (bert): ModernBertModel(\n",
              "    (embeddings): ModernBertEmbeddings(\n",
              "      (tok_embeddings): Embedding(50368, 768, padding_idx=50283)\n",
              "      (norm): LayerNorm((768,), eps=1e-05, elementwise_affine=True)\n",
              "      (drop): Dropout(p=0.0, inplace=False)\n",
              "    )\n",
              "    (layers): ModuleList(\n",
              "      (0): ModernBertEncoderLayer(\n",
              "        (attn_norm): Identity()\n",
              "        (attn): ModernBertAttention(\n",
              "          (Wqkv): Linear(in_features=768, out_features=2304, bias=False)\n",
              "          (rotary_emb): ModernBertRotaryEmbedding()\n",
              "          (Wo): Linear(in_features=768, out_features=768, bias=False)\n",
              "          (out_drop): Identity()\n",
              "        )\n",
              "        (mlp_norm): LayerNorm((768,), eps=1e-05, elementwise_affine=True)\n",
              "        (mlp): ModernBertMLP(\n",
              "          (Wi): Linear(in_features=768, out_features=2304, bias=False)\n",
              "          (act): GELUActivation()\n",
              "          (drop): Dropout(p=0.0, inplace=False)\n",
              "          (Wo): Linear(in_features=1152, out_features=768, bias=False)\n",
              "        )\n",
              "      )\n",
              "      (1-21): 21 x ModernBertEncoderLayer(\n",
              "        (attn_norm): LayerNorm((768,), eps=1e-05, elementwise_affine=True)\n",
              "        (attn): ModernBertAttention(\n",
              "          (Wqkv): Linear(in_features=768, out_features=2304, bias=False)\n",
              "          (rotary_emb): ModernBertRotaryEmbedding()\n",
              "          (Wo): Linear(in_features=768, out_features=768, bias=False)\n",
              "          (out_drop): Identity()\n",
              "        )\n",
              "        (mlp_norm): LayerNorm((768,), eps=1e-05, elementwise_affine=True)\n",
              "        (mlp): ModernBertMLP(\n",
              "          (Wi): Linear(in_features=768, out_features=2304, bias=False)\n",
              "          (act): GELUActivation()\n",
              "          (drop): Dropout(p=0.0, inplace=False)\n",
              "          (Wo): Linear(in_features=1152, out_features=768, bias=False)\n",
              "        )\n",
              "      )\n",
              "    )\n",
              "    (final_norm): LayerNorm((768,), eps=1e-05, elementwise_affine=True)\n",
              "  )\n",
              "  (classifier): Sequential(\n",
              "    (0): Linear(in_features=768, out_features=512, bias=True)\n",
              "    (1): ReLU()\n",
              "    (2): Dropout(p=0.2, inplace=False)\n",
              "    (3): Linear(in_features=512, out_features=7, bias=True)\n",
              "  )\n",
              ")"
            ]
          },
          "execution_count": 34,
          "metadata": {},
          "output_type": "execute_result"
        }
      ],
      "source": [
        "# mount google drive if not\n",
        "\n",
        "# from google.colab import drive\n",
        "# drive.mount('/content/drive')\n",
        "\n",
        "import torch\n",
        "import torch.nn as nn\n",
        "from transformers import AutoTokenizer, ModernBertModel\n",
        "\n",
        "class ModernBertClassifier(nn.Module):\n",
        "    def __init__(self, num_labels):\n",
        "        super(ModernBertClassifier, self).__init__()\n",
        "        self.bert = ModernBertModel.from_pretrained(\"answerdotai/ModernBERT-base\")\n",
        "\n",
        "        # Freeze BERT model's parameters\n",
        "        for param in self.bert.parameters():\n",
        "            param.requires_grad = False\n",
        "\n",
        "        self.classifier = nn.Sequential(\n",
        "            nn.Linear(768, 512),\n",
        "            nn.ReLU(),\n",
        "            nn.Dropout(0.2),\n",
        "            nn.Linear(512, num_labels)\n",
        "        )\n",
        "\n",
        "    def forward(self, input_ids, attention_mask):\n",
        "        with torch.no_grad():\n",
        "            outputs = self.bert(input_ids=input_ids, attention_mask=attention_mask)\n",
        "        return self.classifier(outputs.last_hidden_state[:, 0, :])\n",
        "\n",
        "    def predict(self, text, label_encoder=None):  # Add predict method\n",
        "        encoding = self.tokenizer(text, padding=True, truncation=True, return_tensors=\"pt\").to(next(self.parameters()).device) # Use self.tokenizer\n",
        "        with torch.no_grad():\n",
        "            outputs = self(**encoding)\n",
        "            logits = outputs.cpu()\n",
        "            predictions = torch.argmax(logits, dim=-1)\n",
        "\n",
        "        try:\n",
        "            predicted_label = label_encoder.classes_[predictions[0]] if label_encoder is not None else predictions[0].item() # Optional label_encoder\n",
        "        except NameError:\n",
        "            predicted_label = predictions[0].item()\n",
        "\n",
        "        return predicted_label,outputs\n",
        "\n",
        "model = torch.load(r'/content/drive/MyDrive/modernbert_sentiment_model.pth',map_location=torch.device('cpu'))\n",
        "model.tokenizer = AutoTokenizer.from_pretrained(\"answerdotai/ModernBERT-base\") # Set the tokenizer\n",
        "model.eval()"
      ]
    },
    {
      "cell_type": "code",
      "execution_count": null,
      "metadata": {
        "id": "wys4dz9J2Xay"
      },
      "outputs": [],
      "source": []
    },
    {
      "cell_type": "code",
      "execution_count": null,
      "metadata": {
        "id": "f4uSRwRNoQ3Y"
      },
      "outputs": [],
      "source": [
        "from torch.utils.data import DataLoader, Dataset"
      ]
    },
    {
      "cell_type": "code",
      "execution_count": null,
      "metadata": {
        "id": "KExRB_tynnuY"
      },
      "outputs": [],
      "source": [
        "tokenizer = AutoTokenizer.from_pretrained(\"answerdotai/ModernBERT-base\")\n",
        "\n",
        "class TextDataset(Dataset):\n",
        "    def __init__(self, texts, labels):\n",
        "        self.texts = texts\n",
        "        self.labels = labels\n",
        "        self.encodings = tokenizer(texts, padding=True, truncation=True, max_length=512, return_tensors=\"pt\")\n",
        "\n",
        "    def __len__(self):\n",
        "        return len(self.labels)\n",
        "\n",
        "    def __getitem__(self, idx):\n",
        "        return {key: val[idx] for key, val in self.encodings.items()}, torch.tensor(self.labels[idx])\n",
        "\n",
        "# train_dataset = TextDataset(train_texts, train_labels)\n",
        "# val_dataset = TextDataset(val_texts, val_labels)\n",
        "test_dataset = TextDataset(test_texts, test_labels)\n",
        "# train_loader = DataLoader(train_dataset, batch_size=25, shuffle=True)\n",
        "# val_loader = DataLoader(val_dataset, batch_size=25, shuffle=False)\n",
        "test_loader = DataLoader(test_dataset, batch_size=14, shuffle=False)"
      ]
    },
    {
      "cell_type": "code",
      "execution_count": null,
      "metadata": {
        "colab": {
          "base_uri": "https://localhost:8080/"
        },
        "collapsed": true,
        "id": "hEBibEWMqHt9",
        "outputId": "2117d4d0-153e-4222-e2c9-c11e9f24ec0e"
      },
      "outputs": [
        {
          "name": "stdout",
          "output_type": "stream",
          "text": [
            "Batch 1 Accuracy: 0.1429\n",
            "Batch 2 Accuracy: 0.0714\n",
            "Batch 3 Accuracy: 0.0000\n",
            "Batch 4 Accuracy: 0.0714\n",
            "Batch 5 Accuracy: 0.0714\n",
            "Batch 6 Accuracy: 0.0000\n",
            "Batch 7 Accuracy: 0.0714\n",
            "Batch 8 Accuracy: 0.0714\n",
            "Batch 9 Accuracy: 0.0714\n",
            "Batch 10 Accuracy: 0.0000\n",
            "Batch 11 Accuracy: 0.1429\n",
            "Batch 12 Accuracy: 0.2857\n",
            "Batch 13 Accuracy: 0.1429\n",
            "Batch 14 Accuracy: 0.3571\n",
            "Batch 15 Accuracy: 0.5714\n",
            "Batch 16 Accuracy: 0.2857\n",
            "Batch 17 Accuracy: 0.4286\n",
            "Batch 18 Accuracy: 0.0000\n",
            "Batch 19 Accuracy: 0.5714\n",
            "Batch 20 Accuracy: 0.7857\n",
            "Batch 21 Accuracy: 0.5000\n",
            "Batch 22 Accuracy: 0.9286\n",
            "Batch 23 Accuracy: 0.2857\n",
            "Batch 24 Accuracy: 0.1429\n",
            "Batch 25 Accuracy: 0.0000\n",
            "Batch 26 Accuracy: 0.1429\n",
            "Batch 27 Accuracy: 0.2143\n",
            "Batch 28 Accuracy: 1.0000\n",
            "Batch 29 Accuracy: 0.7857\n",
            "Batch 30 Accuracy: 0.2857\n",
            "Batch 31 Accuracy: 0.0714\n",
            "Batch 32 Accuracy: 0.2143\n",
            "Batch 33 Accuracy: 0.0000\n",
            "Batch 34 Accuracy: 0.0714\n",
            "Batch 35 Accuracy: 0.0714\n",
            "Batch 36 Accuracy: 0.0000\n",
            "Batch 37 Accuracy: 0.0000\n",
            "Batch 38 Accuracy: 0.1429\n",
            "Batch 39 Accuracy: 0.2143\n",
            "Batch 40 Accuracy: 0.0714\n",
            "Batch 41 Accuracy: 0.0000\n",
            "Batch 42 Accuracy: 0.0714\n",
            "Batch 43 Accuracy: 0.0000\n",
            "Batch 44 Accuracy: 0.0000\n",
            "Batch 45 Accuracy: 0.1429\n",
            "Batch 46 Accuracy: 0.2857\n",
            "Batch 47 Accuracy: 0.1429\n",
            "Batch 48 Accuracy: 0.1429\n",
            "Batch 49 Accuracy: 0.2143\n",
            "Batch 50 Accuracy: 0.3571\n",
            "Batch 51 Accuracy: 0.2143\n",
            "Batch 52 Accuracy: 0.2143\n",
            "Batch 53 Accuracy: 0.2143\n",
            "Batch 54 Accuracy: 0.2857\n",
            "Batch 55 Accuracy: 0.3571\n",
            "Batch 56 Accuracy: 0.4286\n",
            "Batch 57 Accuracy: 0.7143\n",
            "Batch 58 Accuracy: 0.6429\n",
            "Overall Test Accuracy: 0.2365\n",
            "Confusion Matrix:\n",
            "[[  1  29   3   1   0  32  46]\n",
            " [ 17  42   0   1   0  48   1]\n",
            " [ 10  20  13   1   0  62   6]\n",
            " [ 10   3   1  20   1  84   1]\n",
            " [ 17   5   3  11   1  86   1]\n",
            " [  0   3   0   2   1 111   1]\n",
            " [ 19   4   5   5   2  78   4]]\n",
            "Macro F1 Score: 0.1799\n"
          ]
        }
      ],
      "source": [
        "from sklearn.metrics import confusion_matrix, f1_score\n",
        "\n",
        "def evaluate_model(model, test_loader):\n",
        "    model.eval()\n",
        "    total_correct = 0\n",
        "    total_samples = 0\n",
        "    all_labels = []\n",
        "    all_preds = []\n",
        "\n",
        "    with torch.no_grad():\n",
        "        for batch_idx, batch in enumerate(test_loader):\n",
        "            inputs, labels = batch\n",
        "            inputs = {key: val for key, val in inputs.items()}\n",
        "            labels = labels\n",
        "            outputs = model(**inputs)\n",
        "\n",
        "            # Get predictions\n",
        "            preds = outputs.argmax(dim=1)\n",
        "\n",
        "            # Calculate batch accuracy\n",
        "            batch_correct = (preds == labels).sum().item()\n",
        "            batch_total = labels.size(0)\n",
        "            batch_acc = batch_correct / batch_total\n",
        "            print(f\"Batch {batch_idx + 1} Accuracy: {batch_acc:.4f}\")\n",
        "\n",
        "            # Accumulate overall accuracy\n",
        "            total_correct += batch_correct\n",
        "            total_samples += batch_total\n",
        "\n",
        "            # Collect all labels and predictions for confusion matrix and F1\n",
        "            all_labels.extend(labels.cpu().numpy())\n",
        "            all_preds.extend(preds.cpu().numpy())\n",
        "\n",
        "    # Calculate overall test accuracy\n",
        "    test_acc = total_correct / total_samples\n",
        "    print(f\"Overall Test Accuracy: {test_acc:.4f}\")\n",
        "\n",
        "    # Calculate Confusion Matrix\n",
        "    cm = confusion_matrix(all_labels, all_preds)\n",
        "    print(\"Confusion Matrix:\")\n",
        "    print(cm)\n",
        "\n",
        "    # Calculate Macro F1 Score\n",
        "    macro_f1 = f1_score(all_labels, all_preds, average='macro')\n",
        "    print(f\"Macro F1 Score: {macro_f1:.4f}\")\n",
        "\n",
        "evaluate_model(model, test_loader)"
      ]
    },
    {
      "cell_type": "code",
      "execution_count": null,
      "metadata": {
        "id": "83MNTnwNf-Cu"
      },
      "outputs": [],
      "source": []
    }
  ],
  "metadata": {
    "accelerator": "GPU",
    "colab": {
      "collapsed_sections": [
        "0we9jJ86fiNJ",
        "rqHLFMEy0ZX9",
        "F5Po4UTyYWGR",
        "7ymiwZcbmJCf",
        "q9T3tEztU2aT",
        "f9M8juXKQcXI"
      ],
      "gpuType": "A100",
      "machine_shape": "hm",
      "provenance": []
    },
    "kernelspec": {
      "display_name": "Python 3",
      "name": "python3"
    },
    "language_info": {
      "name": "python"
    },
    "widgets": {
      "application/vnd.jupyter.widget-state+json": {
        "01e3a7e2cca7453f94c369c68660e166": {
          "model_module": "@jupyter-widgets/controls",
          "model_module_version": "1.5.0",
          "model_name": "DescriptionStyleModel",
          "state": {
            "_model_module": "@jupyter-widgets/controls",
            "_model_module_version": "1.5.0",
            "_model_name": "DescriptionStyleModel",
            "_view_count": null,
            "_view_module": "@jupyter-widgets/base",
            "_view_module_version": "1.2.0",
            "_view_name": "StyleView",
            "description_width": ""
          }
        },
        "043289f2acba4ecda14ee3399bcc2301": {
          "model_module": "@jupyter-widgets/controls",
          "model_module_version": "1.5.0",
          "model_name": "HTMLModel",
          "state": {
            "_dom_classes": [],
            "_model_module": "@jupyter-widgets/controls",
            "_model_module_version": "1.5.0",
            "_model_name": "HTMLModel",
            "_view_count": null,
            "_view_module": "@jupyter-widgets/controls",
            "_view_module_version": "1.5.0",
            "_view_name": "HTMLView",
            "description": "",
            "description_tooltip": null,
            "layout": "IPY_MODEL_7aaf192f77f84e6ea734a3c4a843bda0",
            "placeholder": "​",
            "style": "IPY_MODEL_50abf44b35b24fcc8c9a71cfb23da33b",
            "value": "config.json: 100%"
          }
        },
        "0a3a487934974c13843a090c00ebf0bd": {
          "model_module": "@jupyter-widgets/controls",
          "model_module_version": "1.5.0",
          "model_name": "ProgressStyleModel",
          "state": {
            "_model_module": "@jupyter-widgets/controls",
            "_model_module_version": "1.5.0",
            "_model_name": "ProgressStyleModel",
            "_view_count": null,
            "_view_module": "@jupyter-widgets/base",
            "_view_module_version": "1.2.0",
            "_view_name": "StyleView",
            "bar_color": null,
            "description_width": ""
          }
        },
        "0a842e79c64d47db93d0523d6de45db6": {
          "model_module": "@jupyter-widgets/controls",
          "model_module_version": "1.5.0",
          "model_name": "DescriptionStyleModel",
          "state": {
            "_model_module": "@jupyter-widgets/controls",
            "_model_module_version": "1.5.0",
            "_model_name": "DescriptionStyleModel",
            "_view_count": null,
            "_view_module": "@jupyter-widgets/base",
            "_view_module_version": "1.2.0",
            "_view_name": "StyleView",
            "description_width": ""
          }
        },
        "0c9562469b9c414b8dc2487c73854720": {
          "model_module": "@jupyter-widgets/controls",
          "model_module_version": "1.5.0",
          "model_name": "HBoxModel",
          "state": {
            "_dom_classes": [],
            "_model_module": "@jupyter-widgets/controls",
            "_model_module_version": "1.5.0",
            "_model_name": "HBoxModel",
            "_view_count": null,
            "_view_module": "@jupyter-widgets/controls",
            "_view_module_version": "1.5.0",
            "_view_name": "HBoxView",
            "box_style": "",
            "children": [
              "IPY_MODEL_9abb991aba4d4a91bba2739404d20bfe",
              "IPY_MODEL_7ce5f886ea654f72a13d2ea36a2f1387",
              "IPY_MODEL_8277a7af63eb428796d885e202f16688"
            ],
            "layout": "IPY_MODEL_16560eabdf6d426ba3797f2561c9602b"
          }
        },
        "10b9e81ec4fb4500b480d9c29c048d5e": {
          "model_module": "@jupyter-widgets/base",
          "model_module_version": "1.2.0",
          "model_name": "LayoutModel",
          "state": {
            "_model_module": "@jupyter-widgets/base",
            "_model_module_version": "1.2.0",
            "_model_name": "LayoutModel",
            "_view_count": null,
            "_view_module": "@jupyter-widgets/base",
            "_view_module_version": "1.2.0",
            "_view_name": "LayoutView",
            "align_content": null,
            "align_items": null,
            "align_self": null,
            "border": null,
            "bottom": null,
            "display": null,
            "flex": null,
            "flex_flow": null,
            "grid_area": null,
            "grid_auto_columns": null,
            "grid_auto_flow": null,
            "grid_auto_rows": null,
            "grid_column": null,
            "grid_gap": null,
            "grid_row": null,
            "grid_template_areas": null,
            "grid_template_columns": null,
            "grid_template_rows": null,
            "height": null,
            "justify_content": null,
            "justify_items": null,
            "left": null,
            "margin": null,
            "max_height": null,
            "max_width": null,
            "min_height": null,
            "min_width": null,
            "object_fit": null,
            "object_position": null,
            "order": null,
            "overflow": null,
            "overflow_x": null,
            "overflow_y": null,
            "padding": null,
            "right": null,
            "top": null,
            "visibility": null,
            "width": null
          }
        },
        "10fcf1d6bfa248c3aea8ea10b15fbc06": {
          "model_module": "@jupyter-widgets/controls",
          "model_module_version": "1.5.0",
          "model_name": "HTMLModel",
          "state": {
            "_dom_classes": [],
            "_model_module": "@jupyter-widgets/controls",
            "_model_module_version": "1.5.0",
            "_model_name": "HTMLModel",
            "_view_count": null,
            "_view_module": "@jupyter-widgets/controls",
            "_view_module_version": "1.5.0",
            "_view_name": "HTMLView",
            "description": "",
            "description_tooltip": null,
            "layout": "IPY_MODEL_d36e42ff676c472c811acb9ec9c83835",
            "placeholder": "​",
            "style": "IPY_MODEL_f71b40168e3f48bc920643995ac916da",
            "value": "model.safetensors: 100%"
          }
        },
        "16560eabdf6d426ba3797f2561c9602b": {
          "model_module": "@jupyter-widgets/base",
          "model_module_version": "1.2.0",
          "model_name": "LayoutModel",
          "state": {
            "_model_module": "@jupyter-widgets/base",
            "_model_module_version": "1.2.0",
            "_model_name": "LayoutModel",
            "_view_count": null,
            "_view_module": "@jupyter-widgets/base",
            "_view_module_version": "1.2.0",
            "_view_name": "LayoutView",
            "align_content": null,
            "align_items": null,
            "align_self": null,
            "border": null,
            "bottom": null,
            "display": null,
            "flex": null,
            "flex_flow": null,
            "grid_area": null,
            "grid_auto_columns": null,
            "grid_auto_flow": null,
            "grid_auto_rows": null,
            "grid_column": null,
            "grid_gap": null,
            "grid_row": null,
            "grid_template_areas": null,
            "grid_template_columns": null,
            "grid_template_rows": null,
            "height": null,
            "justify_content": null,
            "justify_items": null,
            "left": null,
            "margin": null,
            "max_height": null,
            "max_width": null,
            "min_height": null,
            "min_width": null,
            "object_fit": null,
            "object_position": null,
            "order": null,
            "overflow": null,
            "overflow_x": null,
            "overflow_y": null,
            "padding": null,
            "right": null,
            "top": null,
            "visibility": null,
            "width": null
          }
        },
        "18af6d58f2a14cb6a026ac5716a72c8f": {
          "model_module": "@jupyter-widgets/base",
          "model_module_version": "1.2.0",
          "model_name": "LayoutModel",
          "state": {
            "_model_module": "@jupyter-widgets/base",
            "_model_module_version": "1.2.0",
            "_model_name": "LayoutModel",
            "_view_count": null,
            "_view_module": "@jupyter-widgets/base",
            "_view_module_version": "1.2.0",
            "_view_name": "LayoutView",
            "align_content": null,
            "align_items": null,
            "align_self": null,
            "border": null,
            "bottom": null,
            "display": null,
            "flex": null,
            "flex_flow": null,
            "grid_area": null,
            "grid_auto_columns": null,
            "grid_auto_flow": null,
            "grid_auto_rows": null,
            "grid_column": null,
            "grid_gap": null,
            "grid_row": null,
            "grid_template_areas": null,
            "grid_template_columns": null,
            "grid_template_rows": null,
            "height": null,
            "justify_content": null,
            "justify_items": null,
            "left": null,
            "margin": null,
            "max_height": null,
            "max_width": null,
            "min_height": null,
            "min_width": null,
            "object_fit": null,
            "object_position": null,
            "order": null,
            "overflow": null,
            "overflow_x": null,
            "overflow_y": null,
            "padding": null,
            "right": null,
            "top": null,
            "visibility": null,
            "width": null
          }
        },
        "21d89a65c45d4458a4e5d4f7e6d89f8f": {
          "model_module": "@jupyter-widgets/base",
          "model_module_version": "1.2.0",
          "model_name": "LayoutModel",
          "state": {
            "_model_module": "@jupyter-widgets/base",
            "_model_module_version": "1.2.0",
            "_model_name": "LayoutModel",
            "_view_count": null,
            "_view_module": "@jupyter-widgets/base",
            "_view_module_version": "1.2.0",
            "_view_name": "LayoutView",
            "align_content": null,
            "align_items": null,
            "align_self": null,
            "border": null,
            "bottom": null,
            "display": null,
            "flex": null,
            "flex_flow": null,
            "grid_area": null,
            "grid_auto_columns": null,
            "grid_auto_flow": null,
            "grid_auto_rows": null,
            "grid_column": null,
            "grid_gap": null,
            "grid_row": null,
            "grid_template_areas": null,
            "grid_template_columns": null,
            "grid_template_rows": null,
            "height": null,
            "justify_content": null,
            "justify_items": null,
            "left": null,
            "margin": null,
            "max_height": null,
            "max_width": null,
            "min_height": null,
            "min_width": null,
            "object_fit": null,
            "object_position": null,
            "order": null,
            "overflow": null,
            "overflow_x": null,
            "overflow_y": null,
            "padding": null,
            "right": null,
            "top": null,
            "visibility": null,
            "width": null
          }
        },
        "289461e59c8d4919938ba0baedce3a49": {
          "model_module": "@jupyter-widgets/controls",
          "model_module_version": "1.5.0",
          "model_name": "ProgressStyleModel",
          "state": {
            "_model_module": "@jupyter-widgets/controls",
            "_model_module_version": "1.5.0",
            "_model_name": "ProgressStyleModel",
            "_view_count": null,
            "_view_module": "@jupyter-widgets/base",
            "_view_module_version": "1.2.0",
            "_view_name": "StyleView",
            "bar_color": null,
            "description_width": ""
          }
        },
        "2c17cccce32f471bb42dd7ec96fe0572": {
          "model_module": "@jupyter-widgets/controls",
          "model_module_version": "1.5.0",
          "model_name": "HBoxModel",
          "state": {
            "_dom_classes": [],
            "_model_module": "@jupyter-widgets/controls",
            "_model_module_version": "1.5.0",
            "_model_name": "HBoxModel",
            "_view_count": null,
            "_view_module": "@jupyter-widgets/controls",
            "_view_module_version": "1.5.0",
            "_view_name": "HBoxView",
            "box_style": "",
            "children": [
              "IPY_MODEL_b5e3b8d35e244603b7dfc94e87b5ced4",
              "IPY_MODEL_495567a758d5481699977acb4ede0aa1",
              "IPY_MODEL_6faf0b641d304569be9245b4da7f3067"
            ],
            "layout": "IPY_MODEL_f1f7b7c2dc534184841f5297d3e26128"
          }
        },
        "319abc6afe18444f816e0092c5820023": {
          "model_module": "@jupyter-widgets/controls",
          "model_module_version": "1.5.0",
          "model_name": "DescriptionStyleModel",
          "state": {
            "_model_module": "@jupyter-widgets/controls",
            "_model_module_version": "1.5.0",
            "_model_name": "DescriptionStyleModel",
            "_view_count": null,
            "_view_module": "@jupyter-widgets/base",
            "_view_module_version": "1.2.0",
            "_view_name": "StyleView",
            "description_width": ""
          }
        },
        "34bcbe69b85d4a818d140e37d5f28b3f": {
          "model_module": "@jupyter-widgets/base",
          "model_module_version": "1.2.0",
          "model_name": "LayoutModel",
          "state": {
            "_model_module": "@jupyter-widgets/base",
            "_model_module_version": "1.2.0",
            "_model_name": "LayoutModel",
            "_view_count": null,
            "_view_module": "@jupyter-widgets/base",
            "_view_module_version": "1.2.0",
            "_view_name": "LayoutView",
            "align_content": null,
            "align_items": null,
            "align_self": null,
            "border": null,
            "bottom": null,
            "display": null,
            "flex": null,
            "flex_flow": null,
            "grid_area": null,
            "grid_auto_columns": null,
            "grid_auto_flow": null,
            "grid_auto_rows": null,
            "grid_column": null,
            "grid_gap": null,
            "grid_row": null,
            "grid_template_areas": null,
            "grid_template_columns": null,
            "grid_template_rows": null,
            "height": null,
            "justify_content": null,
            "justify_items": null,
            "left": null,
            "margin": null,
            "max_height": null,
            "max_width": null,
            "min_height": null,
            "min_width": null,
            "object_fit": null,
            "object_position": null,
            "order": null,
            "overflow": null,
            "overflow_x": null,
            "overflow_y": null,
            "padding": null,
            "right": null,
            "top": null,
            "visibility": null,
            "width": null
          }
        },
        "3fdba3b56d0e4b718b8e86e3ab59c6a9": {
          "model_module": "@jupyter-widgets/base",
          "model_module_version": "1.2.0",
          "model_name": "LayoutModel",
          "state": {
            "_model_module": "@jupyter-widgets/base",
            "_model_module_version": "1.2.0",
            "_model_name": "LayoutModel",
            "_view_count": null,
            "_view_module": "@jupyter-widgets/base",
            "_view_module_version": "1.2.0",
            "_view_name": "LayoutView",
            "align_content": null,
            "align_items": null,
            "align_self": null,
            "border": null,
            "bottom": null,
            "display": null,
            "flex": null,
            "flex_flow": null,
            "grid_area": null,
            "grid_auto_columns": null,
            "grid_auto_flow": null,
            "grid_auto_rows": null,
            "grid_column": null,
            "grid_gap": null,
            "grid_row": null,
            "grid_template_areas": null,
            "grid_template_columns": null,
            "grid_template_rows": null,
            "height": null,
            "justify_content": null,
            "justify_items": null,
            "left": null,
            "margin": null,
            "max_height": null,
            "max_width": null,
            "min_height": null,
            "min_width": null,
            "object_fit": null,
            "object_position": null,
            "order": null,
            "overflow": null,
            "overflow_x": null,
            "overflow_y": null,
            "padding": null,
            "right": null,
            "top": null,
            "visibility": null,
            "width": null
          }
        },
        "46c85a9db8974b56a25de4ee1647636f": {
          "model_module": "@jupyter-widgets/controls",
          "model_module_version": "1.5.0",
          "model_name": "HBoxModel",
          "state": {
            "_dom_classes": [],
            "_model_module": "@jupyter-widgets/controls",
            "_model_module_version": "1.5.0",
            "_model_name": "HBoxModel",
            "_view_count": null,
            "_view_module": "@jupyter-widgets/controls",
            "_view_module_version": "1.5.0",
            "_view_name": "HBoxView",
            "box_style": "",
            "children": [
              "IPY_MODEL_acb9e57186f7468cb6ba5978bcb1dad5",
              "IPY_MODEL_77cbb953db8549fbab73dea059559977",
              "IPY_MODEL_4b2986fed0814e30ace41b3ef25e1b32"
            ],
            "layout": "IPY_MODEL_7ee0fca7ed52494bb176fd58c1d5fe84"
          }
        },
        "48e0896e290e45f98a6c1764df516ad3": {
          "model_module": "@jupyter-widgets/base",
          "model_module_version": "1.2.0",
          "model_name": "LayoutModel",
          "state": {
            "_model_module": "@jupyter-widgets/base",
            "_model_module_version": "1.2.0",
            "_model_name": "LayoutModel",
            "_view_count": null,
            "_view_module": "@jupyter-widgets/base",
            "_view_module_version": "1.2.0",
            "_view_name": "LayoutView",
            "align_content": null,
            "align_items": null,
            "align_self": null,
            "border": null,
            "bottom": null,
            "display": null,
            "flex": null,
            "flex_flow": null,
            "grid_area": null,
            "grid_auto_columns": null,
            "grid_auto_flow": null,
            "grid_auto_rows": null,
            "grid_column": null,
            "grid_gap": null,
            "grid_row": null,
            "grid_template_areas": null,
            "grid_template_columns": null,
            "grid_template_rows": null,
            "height": null,
            "justify_content": null,
            "justify_items": null,
            "left": null,
            "margin": null,
            "max_height": null,
            "max_width": null,
            "min_height": null,
            "min_width": null,
            "object_fit": null,
            "object_position": null,
            "order": null,
            "overflow": null,
            "overflow_x": null,
            "overflow_y": null,
            "padding": null,
            "right": null,
            "top": null,
            "visibility": null,
            "width": null
          }
        },
        "495567a758d5481699977acb4ede0aa1": {
          "model_module": "@jupyter-widgets/controls",
          "model_module_version": "1.5.0",
          "model_name": "FloatProgressModel",
          "state": {
            "_dom_classes": [],
            "_model_module": "@jupyter-widgets/controls",
            "_model_module_version": "1.5.0",
            "_model_name": "FloatProgressModel",
            "_view_count": null,
            "_view_module": "@jupyter-widgets/controls",
            "_view_module_version": "1.5.0",
            "_view_name": "ProgressView",
            "bar_style": "success",
            "description": "",
            "description_tooltip": null,
            "layout": "IPY_MODEL_9108438e474648498817852f1e743ad4",
            "max": 20810,
            "min": 0,
            "orientation": "horizontal",
            "style": "IPY_MODEL_8b68db9dc3884403a2487e5b8d088c3e",
            "value": 20810
          }
        },
        "4acf630f52c54368910e10a9a1d1b54a": {
          "model_module": "@jupyter-widgets/controls",
          "model_module_version": "1.5.0",
          "model_name": "HBoxModel",
          "state": {
            "_dom_classes": [],
            "_model_module": "@jupyter-widgets/controls",
            "_model_module_version": "1.5.0",
            "_model_name": "HBoxModel",
            "_view_count": null,
            "_view_module": "@jupyter-widgets/controls",
            "_view_module_version": "1.5.0",
            "_view_name": "HBoxView",
            "box_style": "",
            "children": [
              "IPY_MODEL_10fcf1d6bfa248c3aea8ea10b15fbc06",
              "IPY_MODEL_ca99c50f335f44b1bb0cfbcda427cfc0",
              "IPY_MODEL_fba6472590f14e3b9badf56e44726597"
            ],
            "layout": "IPY_MODEL_eb0967e411eb482abf0ce1c093560190"
          }
        },
        "4b2986fed0814e30ace41b3ef25e1b32": {
          "model_module": "@jupyter-widgets/controls",
          "model_module_version": "1.5.0",
          "model_name": "HTMLModel",
          "state": {
            "_dom_classes": [],
            "_model_module": "@jupyter-widgets/controls",
            "_model_module_version": "1.5.0",
            "_model_name": "HTMLModel",
            "_view_count": null,
            "_view_module": "@jupyter-widgets/controls",
            "_view_module_version": "1.5.0",
            "_view_name": "HTMLView",
            "description": "",
            "description_tooltip": null,
            "layout": "IPY_MODEL_10b9e81ec4fb4500b480d9c29c048d5e",
            "placeholder": "​",
            "style": "IPY_MODEL_0a842e79c64d47db93d0523d6de45db6",
            "value": " 694/694 [00:00&lt;00:00, 91.0kB/s]"
          }
        },
        "4d942a20e6f145a8a339a6820fb6ae08": {
          "model_module": "@jupyter-widgets/controls",
          "model_module_version": "1.5.0",
          "model_name": "DescriptionStyleModel",
          "state": {
            "_model_module": "@jupyter-widgets/controls",
            "_model_module_version": "1.5.0",
            "_model_name": "DescriptionStyleModel",
            "_view_count": null,
            "_view_module": "@jupyter-widgets/base",
            "_view_module_version": "1.2.0",
            "_view_name": "StyleView",
            "description_width": ""
          }
        },
        "50abf44b35b24fcc8c9a71cfb23da33b": {
          "model_module": "@jupyter-widgets/controls",
          "model_module_version": "1.5.0",
          "model_name": "DescriptionStyleModel",
          "state": {
            "_model_module": "@jupyter-widgets/controls",
            "_model_module_version": "1.5.0",
            "_model_name": "DescriptionStyleModel",
            "_view_count": null,
            "_view_module": "@jupyter-widgets/base",
            "_view_module_version": "1.2.0",
            "_view_name": "StyleView",
            "description_width": ""
          }
        },
        "51d130d381384316a8eb2da41007fbb4": {
          "model_module": "@jupyter-widgets/controls",
          "model_module_version": "1.5.0",
          "model_name": "DescriptionStyleModel",
          "state": {
            "_model_module": "@jupyter-widgets/controls",
            "_model_module_version": "1.5.0",
            "_model_name": "DescriptionStyleModel",
            "_view_count": null,
            "_view_module": "@jupyter-widgets/base",
            "_view_module_version": "1.2.0",
            "_view_name": "StyleView",
            "description_width": ""
          }
        },
        "61849137e11d4ecc887da29b6bc8b87f": {
          "model_module": "@jupyter-widgets/controls",
          "model_module_version": "1.5.0",
          "model_name": "FloatProgressModel",
          "state": {
            "_dom_classes": [],
            "_model_module": "@jupyter-widgets/controls",
            "_model_module_version": "1.5.0",
            "_model_name": "FloatProgressModel",
            "_view_count": null,
            "_view_module": "@jupyter-widgets/controls",
            "_view_module_version": "1.5.0",
            "_view_name": "ProgressView",
            "bar_style": "success",
            "description": "",
            "description_tooltip": null,
            "layout": "IPY_MODEL_bd45515bac0a4e5e864e02cd5126ab1e",
            "max": 1193,
            "min": 0,
            "orientation": "horizontal",
            "style": "IPY_MODEL_f625854d343543c987ddb150b37e32ce",
            "value": 1193
          }
        },
        "68e7a4e7896e41fc91d651fda9e24ed4": {
          "model_module": "@jupyter-widgets/controls",
          "model_module_version": "1.5.0",
          "model_name": "DescriptionStyleModel",
          "state": {
            "_model_module": "@jupyter-widgets/controls",
            "_model_module_version": "1.5.0",
            "_model_name": "DescriptionStyleModel",
            "_view_count": null,
            "_view_module": "@jupyter-widgets/base",
            "_view_module_version": "1.2.0",
            "_view_name": "StyleView",
            "description_width": ""
          }
        },
        "6faf0b641d304569be9245b4da7f3067": {
          "model_module": "@jupyter-widgets/controls",
          "model_module_version": "1.5.0",
          "model_name": "HTMLModel",
          "state": {
            "_dom_classes": [],
            "_model_module": "@jupyter-widgets/controls",
            "_model_module_version": "1.5.0",
            "_model_name": "HTMLModel",
            "_view_count": null,
            "_view_module": "@jupyter-widgets/controls",
            "_view_module_version": "1.5.0",
            "_view_name": "HTMLView",
            "description": "",
            "description_tooltip": null,
            "layout": "IPY_MODEL_a8bd7cfb0e1147669c08c34402644a4f",
            "placeholder": "​",
            "style": "IPY_MODEL_01e3a7e2cca7453f94c369c68660e166",
            "value": " 20.8k/20.8k [00:00&lt;00:00, 2.49MB/s]"
          }
        },
        "712941dedf304833a353239d1c5775d9": {
          "model_module": "@jupyter-widgets/controls",
          "model_module_version": "1.5.0",
          "model_name": "HTMLModel",
          "state": {
            "_dom_classes": [],
            "_model_module": "@jupyter-widgets/controls",
            "_model_module_version": "1.5.0",
            "_model_name": "HTMLModel",
            "_view_count": null,
            "_view_module": "@jupyter-widgets/controls",
            "_view_module_version": "1.5.0",
            "_view_name": "HTMLView",
            "description": "",
            "description_tooltip": null,
            "layout": "IPY_MODEL_34bcbe69b85d4a818d140e37d5f28b3f",
            "placeholder": "​",
            "style": "IPY_MODEL_4d942a20e6f145a8a339a6820fb6ae08",
            "value": " 1.19k/1.19k [00:00&lt;00:00, 126kB/s]"
          }
        },
        "72504c490fc74137a5f1f5a99d451cb9": {
          "model_module": "@jupyter-widgets/controls",
          "model_module_version": "1.5.0",
          "model_name": "DescriptionStyleModel",
          "state": {
            "_model_module": "@jupyter-widgets/controls",
            "_model_module_version": "1.5.0",
            "_model_name": "DescriptionStyleModel",
            "_view_count": null,
            "_view_module": "@jupyter-widgets/base",
            "_view_module_version": "1.2.0",
            "_view_name": "StyleView",
            "description_width": ""
          }
        },
        "77cbb953db8549fbab73dea059559977": {
          "model_module": "@jupyter-widgets/controls",
          "model_module_version": "1.5.0",
          "model_name": "FloatProgressModel",
          "state": {
            "_dom_classes": [],
            "_model_module": "@jupyter-widgets/controls",
            "_model_module_version": "1.5.0",
            "_model_name": "FloatProgressModel",
            "_view_count": null,
            "_view_module": "@jupyter-widgets/controls",
            "_view_module_version": "1.5.0",
            "_view_name": "ProgressView",
            "bar_style": "success",
            "description": "",
            "description_tooltip": null,
            "layout": "IPY_MODEL_af28b58e48a94b9ab03f3b8c378c4b9c",
            "max": 694,
            "min": 0,
            "orientation": "horizontal",
            "style": "IPY_MODEL_289461e59c8d4919938ba0baedce3a49",
            "value": 694
          }
        },
        "7aaf192f77f84e6ea734a3c4a843bda0": {
          "model_module": "@jupyter-widgets/base",
          "model_module_version": "1.2.0",
          "model_name": "LayoutModel",
          "state": {
            "_model_module": "@jupyter-widgets/base",
            "_model_module_version": "1.2.0",
            "_model_name": "LayoutModel",
            "_view_count": null,
            "_view_module": "@jupyter-widgets/base",
            "_view_module_version": "1.2.0",
            "_view_name": "LayoutView",
            "align_content": null,
            "align_items": null,
            "align_self": null,
            "border": null,
            "bottom": null,
            "display": null,
            "flex": null,
            "flex_flow": null,
            "grid_area": null,
            "grid_auto_columns": null,
            "grid_auto_flow": null,
            "grid_auto_rows": null,
            "grid_column": null,
            "grid_gap": null,
            "grid_row": null,
            "grid_template_areas": null,
            "grid_template_columns": null,
            "grid_template_rows": null,
            "height": null,
            "justify_content": null,
            "justify_items": null,
            "left": null,
            "margin": null,
            "max_height": null,
            "max_width": null,
            "min_height": null,
            "min_width": null,
            "object_fit": null,
            "object_position": null,
            "order": null,
            "overflow": null,
            "overflow_x": null,
            "overflow_y": null,
            "padding": null,
            "right": null,
            "top": null,
            "visibility": null,
            "width": null
          }
        },
        "7ce5f886ea654f72a13d2ea36a2f1387": {
          "model_module": "@jupyter-widgets/controls",
          "model_module_version": "1.5.0",
          "model_name": "FloatProgressModel",
          "state": {
            "_dom_classes": [],
            "_model_module": "@jupyter-widgets/controls",
            "_model_module_version": "1.5.0",
            "_model_name": "FloatProgressModel",
            "_view_count": null,
            "_view_module": "@jupyter-widgets/controls",
            "_view_module_version": "1.5.0",
            "_view_name": "ProgressView",
            "bar_style": "success",
            "description": "",
            "description_tooltip": null,
            "layout": "IPY_MODEL_48e0896e290e45f98a6c1764df516ad3",
            "max": 2132967,
            "min": 0,
            "orientation": "horizontal",
            "style": "IPY_MODEL_0a3a487934974c13843a090c00ebf0bd",
            "value": 2132967
          }
        },
        "7ee0fca7ed52494bb176fd58c1d5fe84": {
          "model_module": "@jupyter-widgets/base",
          "model_module_version": "1.2.0",
          "model_name": "LayoutModel",
          "state": {
            "_model_module": "@jupyter-widgets/base",
            "_model_module_version": "1.2.0",
            "_model_name": "LayoutModel",
            "_view_count": null,
            "_view_module": "@jupyter-widgets/base",
            "_view_module_version": "1.2.0",
            "_view_name": "LayoutView",
            "align_content": null,
            "align_items": null,
            "align_self": null,
            "border": null,
            "bottom": null,
            "display": null,
            "flex": null,
            "flex_flow": null,
            "grid_area": null,
            "grid_auto_columns": null,
            "grid_auto_flow": null,
            "grid_auto_rows": null,
            "grid_column": null,
            "grid_gap": null,
            "grid_row": null,
            "grid_template_areas": null,
            "grid_template_columns": null,
            "grid_template_rows": null,
            "height": null,
            "justify_content": null,
            "justify_items": null,
            "left": null,
            "margin": null,
            "max_height": null,
            "max_width": null,
            "min_height": null,
            "min_width": null,
            "object_fit": null,
            "object_position": null,
            "order": null,
            "overflow": null,
            "overflow_x": null,
            "overflow_y": null,
            "padding": null,
            "right": null,
            "top": null,
            "visibility": null,
            "width": null
          }
        },
        "8277a7af63eb428796d885e202f16688": {
          "model_module": "@jupyter-widgets/controls",
          "model_module_version": "1.5.0",
          "model_name": "HTMLModel",
          "state": {
            "_dom_classes": [],
            "_model_module": "@jupyter-widgets/controls",
            "_model_module_version": "1.5.0",
            "_model_name": "HTMLModel",
            "_view_count": null,
            "_view_module": "@jupyter-widgets/controls",
            "_view_module_version": "1.5.0",
            "_view_name": "HTMLView",
            "description": "",
            "description_tooltip": null,
            "layout": "IPY_MODEL_21d89a65c45d4458a4e5d4f7e6d89f8f",
            "placeholder": "​",
            "style": "IPY_MODEL_68e7a4e7896e41fc91d651fda9e24ed4",
            "value": " 2.13M/2.13M [00:00&lt;00:00, 25.7MB/s]"
          }
        },
        "8b68db9dc3884403a2487e5b8d088c3e": {
          "model_module": "@jupyter-widgets/controls",
          "model_module_version": "1.5.0",
          "model_name": "ProgressStyleModel",
          "state": {
            "_model_module": "@jupyter-widgets/controls",
            "_model_module_version": "1.5.0",
            "_model_name": "ProgressStyleModel",
            "_view_count": null,
            "_view_module": "@jupyter-widgets/base",
            "_view_module_version": "1.2.0",
            "_view_name": "StyleView",
            "bar_color": null,
            "description_width": ""
          }
        },
        "9108438e474648498817852f1e743ad4": {
          "model_module": "@jupyter-widgets/base",
          "model_module_version": "1.2.0",
          "model_name": "LayoutModel",
          "state": {
            "_model_module": "@jupyter-widgets/base",
            "_model_module_version": "1.2.0",
            "_model_name": "LayoutModel",
            "_view_count": null,
            "_view_module": "@jupyter-widgets/base",
            "_view_module_version": "1.2.0",
            "_view_name": "LayoutView",
            "align_content": null,
            "align_items": null,
            "align_self": null,
            "border": null,
            "bottom": null,
            "display": null,
            "flex": null,
            "flex_flow": null,
            "grid_area": null,
            "grid_auto_columns": null,
            "grid_auto_flow": null,
            "grid_auto_rows": null,
            "grid_column": null,
            "grid_gap": null,
            "grid_row": null,
            "grid_template_areas": null,
            "grid_template_columns": null,
            "grid_template_rows": null,
            "height": null,
            "justify_content": null,
            "justify_items": null,
            "left": null,
            "margin": null,
            "max_height": null,
            "max_width": null,
            "min_height": null,
            "min_width": null,
            "object_fit": null,
            "object_position": null,
            "order": null,
            "overflow": null,
            "overflow_x": null,
            "overflow_y": null,
            "padding": null,
            "right": null,
            "top": null,
            "visibility": null,
            "width": null
          }
        },
        "98ed694692094643ab6920394e5c321d": {
          "model_module": "@jupyter-widgets/controls",
          "model_module_version": "1.5.0",
          "model_name": "HBoxModel",
          "state": {
            "_dom_classes": [],
            "_model_module": "@jupyter-widgets/controls",
            "_model_module_version": "1.5.0",
            "_model_name": "HBoxModel",
            "_view_count": null,
            "_view_module": "@jupyter-widgets/controls",
            "_view_module_version": "1.5.0",
            "_view_name": "HBoxView",
            "box_style": "",
            "children": [
              "IPY_MODEL_043289f2acba4ecda14ee3399bcc2301",
              "IPY_MODEL_61849137e11d4ecc887da29b6bc8b87f",
              "IPY_MODEL_712941dedf304833a353239d1c5775d9"
            ],
            "layout": "IPY_MODEL_be1a6ee309f0401a9b15131a8f7614de"
          }
        },
        "9a07ef160f0e424c8b6b04b4b4d322b1": {
          "model_module": "@jupyter-widgets/base",
          "model_module_version": "1.2.0",
          "model_name": "LayoutModel",
          "state": {
            "_model_module": "@jupyter-widgets/base",
            "_model_module_version": "1.2.0",
            "_model_name": "LayoutModel",
            "_view_count": null,
            "_view_module": "@jupyter-widgets/base",
            "_view_module_version": "1.2.0",
            "_view_name": "LayoutView",
            "align_content": null,
            "align_items": null,
            "align_self": null,
            "border": null,
            "bottom": null,
            "display": null,
            "flex": null,
            "flex_flow": null,
            "grid_area": null,
            "grid_auto_columns": null,
            "grid_auto_flow": null,
            "grid_auto_rows": null,
            "grid_column": null,
            "grid_gap": null,
            "grid_row": null,
            "grid_template_areas": null,
            "grid_template_columns": null,
            "grid_template_rows": null,
            "height": null,
            "justify_content": null,
            "justify_items": null,
            "left": null,
            "margin": null,
            "max_height": null,
            "max_width": null,
            "min_height": null,
            "min_width": null,
            "object_fit": null,
            "object_position": null,
            "order": null,
            "overflow": null,
            "overflow_x": null,
            "overflow_y": null,
            "padding": null,
            "right": null,
            "top": null,
            "visibility": null,
            "width": null
          }
        },
        "9abb991aba4d4a91bba2739404d20bfe": {
          "model_module": "@jupyter-widgets/controls",
          "model_module_version": "1.5.0",
          "model_name": "HTMLModel",
          "state": {
            "_dom_classes": [],
            "_model_module": "@jupyter-widgets/controls",
            "_model_module_version": "1.5.0",
            "_model_name": "HTMLModel",
            "_view_count": null,
            "_view_module": "@jupyter-widgets/controls",
            "_view_module_version": "1.5.0",
            "_view_name": "HTMLView",
            "description": "",
            "description_tooltip": null,
            "layout": "IPY_MODEL_18af6d58f2a14cb6a026ac5716a72c8f",
            "placeholder": "​",
            "style": "IPY_MODEL_319abc6afe18444f816e0092c5820023",
            "value": "tokenizer.json: 100%"
          }
        },
        "a6f02025ddae4fa2a0c879d791cb7d91": {
          "model_module": "@jupyter-widgets/controls",
          "model_module_version": "1.5.0",
          "model_name": "ProgressStyleModel",
          "state": {
            "_model_module": "@jupyter-widgets/controls",
            "_model_module_version": "1.5.0",
            "_model_name": "ProgressStyleModel",
            "_view_count": null,
            "_view_module": "@jupyter-widgets/base",
            "_view_module_version": "1.2.0",
            "_view_name": "StyleView",
            "bar_color": null,
            "description_width": ""
          }
        },
        "a8bd7cfb0e1147669c08c34402644a4f": {
          "model_module": "@jupyter-widgets/base",
          "model_module_version": "1.2.0",
          "model_name": "LayoutModel",
          "state": {
            "_model_module": "@jupyter-widgets/base",
            "_model_module_version": "1.2.0",
            "_model_name": "LayoutModel",
            "_view_count": null,
            "_view_module": "@jupyter-widgets/base",
            "_view_module_version": "1.2.0",
            "_view_name": "LayoutView",
            "align_content": null,
            "align_items": null,
            "align_self": null,
            "border": null,
            "bottom": null,
            "display": null,
            "flex": null,
            "flex_flow": null,
            "grid_area": null,
            "grid_auto_columns": null,
            "grid_auto_flow": null,
            "grid_auto_rows": null,
            "grid_column": null,
            "grid_gap": null,
            "grid_row": null,
            "grid_template_areas": null,
            "grid_template_columns": null,
            "grid_template_rows": null,
            "height": null,
            "justify_content": null,
            "justify_items": null,
            "left": null,
            "margin": null,
            "max_height": null,
            "max_width": null,
            "min_height": null,
            "min_width": null,
            "object_fit": null,
            "object_position": null,
            "order": null,
            "overflow": null,
            "overflow_x": null,
            "overflow_y": null,
            "padding": null,
            "right": null,
            "top": null,
            "visibility": null,
            "width": null
          }
        },
        "acb9e57186f7468cb6ba5978bcb1dad5": {
          "model_module": "@jupyter-widgets/controls",
          "model_module_version": "1.5.0",
          "model_name": "HTMLModel",
          "state": {
            "_dom_classes": [],
            "_model_module": "@jupyter-widgets/controls",
            "_model_module_version": "1.5.0",
            "_model_name": "HTMLModel",
            "_view_count": null,
            "_view_module": "@jupyter-widgets/controls",
            "_view_module_version": "1.5.0",
            "_view_name": "HTMLView",
            "description": "",
            "description_tooltip": null,
            "layout": "IPY_MODEL_3fdba3b56d0e4b718b8e86e3ab59c6a9",
            "placeholder": "​",
            "style": "IPY_MODEL_72504c490fc74137a5f1f5a99d451cb9",
            "value": "special_tokens_map.json: 100%"
          }
        },
        "af28b58e48a94b9ab03f3b8c378c4b9c": {
          "model_module": "@jupyter-widgets/base",
          "model_module_version": "1.2.0",
          "model_name": "LayoutModel",
          "state": {
            "_model_module": "@jupyter-widgets/base",
            "_model_module_version": "1.2.0",
            "_model_name": "LayoutModel",
            "_view_count": null,
            "_view_module": "@jupyter-widgets/base",
            "_view_module_version": "1.2.0",
            "_view_name": "LayoutView",
            "align_content": null,
            "align_items": null,
            "align_self": null,
            "border": null,
            "bottom": null,
            "display": null,
            "flex": null,
            "flex_flow": null,
            "grid_area": null,
            "grid_auto_columns": null,
            "grid_auto_flow": null,
            "grid_auto_rows": null,
            "grid_column": null,
            "grid_gap": null,
            "grid_row": null,
            "grid_template_areas": null,
            "grid_template_columns": null,
            "grid_template_rows": null,
            "height": null,
            "justify_content": null,
            "justify_items": null,
            "left": null,
            "margin": null,
            "max_height": null,
            "max_width": null,
            "min_height": null,
            "min_width": null,
            "object_fit": null,
            "object_position": null,
            "order": null,
            "overflow": null,
            "overflow_x": null,
            "overflow_y": null,
            "padding": null,
            "right": null,
            "top": null,
            "visibility": null,
            "width": null
          }
        },
        "b5e3b8d35e244603b7dfc94e87b5ced4": {
          "model_module": "@jupyter-widgets/controls",
          "model_module_version": "1.5.0",
          "model_name": "HTMLModel",
          "state": {
            "_dom_classes": [],
            "_model_module": "@jupyter-widgets/controls",
            "_model_module_version": "1.5.0",
            "_model_name": "HTMLModel",
            "_view_count": null,
            "_view_module": "@jupyter-widgets/controls",
            "_view_module_version": "1.5.0",
            "_view_name": "HTMLView",
            "description": "",
            "description_tooltip": null,
            "layout": "IPY_MODEL_f646550e4cd84b14a63c21b77e2ece50",
            "placeholder": "​",
            "style": "IPY_MODEL_51d130d381384316a8eb2da41007fbb4",
            "value": "tokenizer_config.json: 100%"
          }
        },
        "bd45515bac0a4e5e864e02cd5126ab1e": {
          "model_module": "@jupyter-widgets/base",
          "model_module_version": "1.2.0",
          "model_name": "LayoutModel",
          "state": {
            "_model_module": "@jupyter-widgets/base",
            "_model_module_version": "1.2.0",
            "_model_name": "LayoutModel",
            "_view_count": null,
            "_view_module": "@jupyter-widgets/base",
            "_view_module_version": "1.2.0",
            "_view_name": "LayoutView",
            "align_content": null,
            "align_items": null,
            "align_self": null,
            "border": null,
            "bottom": null,
            "display": null,
            "flex": null,
            "flex_flow": null,
            "grid_area": null,
            "grid_auto_columns": null,
            "grid_auto_flow": null,
            "grid_auto_rows": null,
            "grid_column": null,
            "grid_gap": null,
            "grid_row": null,
            "grid_template_areas": null,
            "grid_template_columns": null,
            "grid_template_rows": null,
            "height": null,
            "justify_content": null,
            "justify_items": null,
            "left": null,
            "margin": null,
            "max_height": null,
            "max_width": null,
            "min_height": null,
            "min_width": null,
            "object_fit": null,
            "object_position": null,
            "order": null,
            "overflow": null,
            "overflow_x": null,
            "overflow_y": null,
            "padding": null,
            "right": null,
            "top": null,
            "visibility": null,
            "width": null
          }
        },
        "be1a6ee309f0401a9b15131a8f7614de": {
          "model_module": "@jupyter-widgets/base",
          "model_module_version": "1.2.0",
          "model_name": "LayoutModel",
          "state": {
            "_model_module": "@jupyter-widgets/base",
            "_model_module_version": "1.2.0",
            "_model_name": "LayoutModel",
            "_view_count": null,
            "_view_module": "@jupyter-widgets/base",
            "_view_module_version": "1.2.0",
            "_view_name": "LayoutView",
            "align_content": null,
            "align_items": null,
            "align_self": null,
            "border": null,
            "bottom": null,
            "display": null,
            "flex": null,
            "flex_flow": null,
            "grid_area": null,
            "grid_auto_columns": null,
            "grid_auto_flow": null,
            "grid_auto_rows": null,
            "grid_column": null,
            "grid_gap": null,
            "grid_row": null,
            "grid_template_areas": null,
            "grid_template_columns": null,
            "grid_template_rows": null,
            "height": null,
            "justify_content": null,
            "justify_items": null,
            "left": null,
            "margin": null,
            "max_height": null,
            "max_width": null,
            "min_height": null,
            "min_width": null,
            "object_fit": null,
            "object_position": null,
            "order": null,
            "overflow": null,
            "overflow_x": null,
            "overflow_y": null,
            "padding": null,
            "right": null,
            "top": null,
            "visibility": null,
            "width": null
          }
        },
        "c631c4cf9fd84293b2b5994d688d0300": {
          "model_module": "@jupyter-widgets/base",
          "model_module_version": "1.2.0",
          "model_name": "LayoutModel",
          "state": {
            "_model_module": "@jupyter-widgets/base",
            "_model_module_version": "1.2.0",
            "_model_name": "LayoutModel",
            "_view_count": null,
            "_view_module": "@jupyter-widgets/base",
            "_view_module_version": "1.2.0",
            "_view_name": "LayoutView",
            "align_content": null,
            "align_items": null,
            "align_self": null,
            "border": null,
            "bottom": null,
            "display": null,
            "flex": null,
            "flex_flow": null,
            "grid_area": null,
            "grid_auto_columns": null,
            "grid_auto_flow": null,
            "grid_auto_rows": null,
            "grid_column": null,
            "grid_gap": null,
            "grid_row": null,
            "grid_template_areas": null,
            "grid_template_columns": null,
            "grid_template_rows": null,
            "height": null,
            "justify_content": null,
            "justify_items": null,
            "left": null,
            "margin": null,
            "max_height": null,
            "max_width": null,
            "min_height": null,
            "min_width": null,
            "object_fit": null,
            "object_position": null,
            "order": null,
            "overflow": null,
            "overflow_x": null,
            "overflow_y": null,
            "padding": null,
            "right": null,
            "top": null,
            "visibility": null,
            "width": null
          }
        },
        "ca99c50f335f44b1bb0cfbcda427cfc0": {
          "model_module": "@jupyter-widgets/controls",
          "model_module_version": "1.5.0",
          "model_name": "FloatProgressModel",
          "state": {
            "_dom_classes": [],
            "_model_module": "@jupyter-widgets/controls",
            "_model_module_version": "1.5.0",
            "_model_name": "FloatProgressModel",
            "_view_count": null,
            "_view_module": "@jupyter-widgets/controls",
            "_view_module_version": "1.5.0",
            "_view_name": "ProgressView",
            "bar_style": "success",
            "description": "",
            "description_tooltip": null,
            "layout": "IPY_MODEL_9a07ef160f0e424c8b6b04b4b4d322b1",
            "max": 598635032,
            "min": 0,
            "orientation": "horizontal",
            "style": "IPY_MODEL_a6f02025ddae4fa2a0c879d791cb7d91",
            "value": 598635032
          }
        },
        "d36e42ff676c472c811acb9ec9c83835": {
          "model_module": "@jupyter-widgets/base",
          "model_module_version": "1.2.0",
          "model_name": "LayoutModel",
          "state": {
            "_model_module": "@jupyter-widgets/base",
            "_model_module_version": "1.2.0",
            "_model_name": "LayoutModel",
            "_view_count": null,
            "_view_module": "@jupyter-widgets/base",
            "_view_module_version": "1.2.0",
            "_view_name": "LayoutView",
            "align_content": null,
            "align_items": null,
            "align_self": null,
            "border": null,
            "bottom": null,
            "display": null,
            "flex": null,
            "flex_flow": null,
            "grid_area": null,
            "grid_auto_columns": null,
            "grid_auto_flow": null,
            "grid_auto_rows": null,
            "grid_column": null,
            "grid_gap": null,
            "grid_row": null,
            "grid_template_areas": null,
            "grid_template_columns": null,
            "grid_template_rows": null,
            "height": null,
            "justify_content": null,
            "justify_items": null,
            "left": null,
            "margin": null,
            "max_height": null,
            "max_width": null,
            "min_height": null,
            "min_width": null,
            "object_fit": null,
            "object_position": null,
            "order": null,
            "overflow": null,
            "overflow_x": null,
            "overflow_y": null,
            "padding": null,
            "right": null,
            "top": null,
            "visibility": null,
            "width": null
          }
        },
        "dc9302b6c66d427ca3e46d79ea9689b4": {
          "model_module": "@jupyter-widgets/controls",
          "model_module_version": "1.5.0",
          "model_name": "DescriptionStyleModel",
          "state": {
            "_model_module": "@jupyter-widgets/controls",
            "_model_module_version": "1.5.0",
            "_model_name": "DescriptionStyleModel",
            "_view_count": null,
            "_view_module": "@jupyter-widgets/base",
            "_view_module_version": "1.2.0",
            "_view_name": "StyleView",
            "description_width": ""
          }
        },
        "eb0967e411eb482abf0ce1c093560190": {
          "model_module": "@jupyter-widgets/base",
          "model_module_version": "1.2.0",
          "model_name": "LayoutModel",
          "state": {
            "_model_module": "@jupyter-widgets/base",
            "_model_module_version": "1.2.0",
            "_model_name": "LayoutModel",
            "_view_count": null,
            "_view_module": "@jupyter-widgets/base",
            "_view_module_version": "1.2.0",
            "_view_name": "LayoutView",
            "align_content": null,
            "align_items": null,
            "align_self": null,
            "border": null,
            "bottom": null,
            "display": null,
            "flex": null,
            "flex_flow": null,
            "grid_area": null,
            "grid_auto_columns": null,
            "grid_auto_flow": null,
            "grid_auto_rows": null,
            "grid_column": null,
            "grid_gap": null,
            "grid_row": null,
            "grid_template_areas": null,
            "grid_template_columns": null,
            "grid_template_rows": null,
            "height": null,
            "justify_content": null,
            "justify_items": null,
            "left": null,
            "margin": null,
            "max_height": null,
            "max_width": null,
            "min_height": null,
            "min_width": null,
            "object_fit": null,
            "object_position": null,
            "order": null,
            "overflow": null,
            "overflow_x": null,
            "overflow_y": null,
            "padding": null,
            "right": null,
            "top": null,
            "visibility": null,
            "width": null
          }
        },
        "f1f7b7c2dc534184841f5297d3e26128": {
          "model_module": "@jupyter-widgets/base",
          "model_module_version": "1.2.0",
          "model_name": "LayoutModel",
          "state": {
            "_model_module": "@jupyter-widgets/base",
            "_model_module_version": "1.2.0",
            "_model_name": "LayoutModel",
            "_view_count": null,
            "_view_module": "@jupyter-widgets/base",
            "_view_module_version": "1.2.0",
            "_view_name": "LayoutView",
            "align_content": null,
            "align_items": null,
            "align_self": null,
            "border": null,
            "bottom": null,
            "display": null,
            "flex": null,
            "flex_flow": null,
            "grid_area": null,
            "grid_auto_columns": null,
            "grid_auto_flow": null,
            "grid_auto_rows": null,
            "grid_column": null,
            "grid_gap": null,
            "grid_row": null,
            "grid_template_areas": null,
            "grid_template_columns": null,
            "grid_template_rows": null,
            "height": null,
            "justify_content": null,
            "justify_items": null,
            "left": null,
            "margin": null,
            "max_height": null,
            "max_width": null,
            "min_height": null,
            "min_width": null,
            "object_fit": null,
            "object_position": null,
            "order": null,
            "overflow": null,
            "overflow_x": null,
            "overflow_y": null,
            "padding": null,
            "right": null,
            "top": null,
            "visibility": null,
            "width": null
          }
        },
        "f625854d343543c987ddb150b37e32ce": {
          "model_module": "@jupyter-widgets/controls",
          "model_module_version": "1.5.0",
          "model_name": "ProgressStyleModel",
          "state": {
            "_model_module": "@jupyter-widgets/controls",
            "_model_module_version": "1.5.0",
            "_model_name": "ProgressStyleModel",
            "_view_count": null,
            "_view_module": "@jupyter-widgets/base",
            "_view_module_version": "1.2.0",
            "_view_name": "StyleView",
            "bar_color": null,
            "description_width": ""
          }
        },
        "f646550e4cd84b14a63c21b77e2ece50": {
          "model_module": "@jupyter-widgets/base",
          "model_module_version": "1.2.0",
          "model_name": "LayoutModel",
          "state": {
            "_model_module": "@jupyter-widgets/base",
            "_model_module_version": "1.2.0",
            "_model_name": "LayoutModel",
            "_view_count": null,
            "_view_module": "@jupyter-widgets/base",
            "_view_module_version": "1.2.0",
            "_view_name": "LayoutView",
            "align_content": null,
            "align_items": null,
            "align_self": null,
            "border": null,
            "bottom": null,
            "display": null,
            "flex": null,
            "flex_flow": null,
            "grid_area": null,
            "grid_auto_columns": null,
            "grid_auto_flow": null,
            "grid_auto_rows": null,
            "grid_column": null,
            "grid_gap": null,
            "grid_row": null,
            "grid_template_areas": null,
            "grid_template_columns": null,
            "grid_template_rows": null,
            "height": null,
            "justify_content": null,
            "justify_items": null,
            "left": null,
            "margin": null,
            "max_height": null,
            "max_width": null,
            "min_height": null,
            "min_width": null,
            "object_fit": null,
            "object_position": null,
            "order": null,
            "overflow": null,
            "overflow_x": null,
            "overflow_y": null,
            "padding": null,
            "right": null,
            "top": null,
            "visibility": null,
            "width": null
          }
        },
        "f71b40168e3f48bc920643995ac916da": {
          "model_module": "@jupyter-widgets/controls",
          "model_module_version": "1.5.0",
          "model_name": "DescriptionStyleModel",
          "state": {
            "_model_module": "@jupyter-widgets/controls",
            "_model_module_version": "1.5.0",
            "_model_name": "DescriptionStyleModel",
            "_view_count": null,
            "_view_module": "@jupyter-widgets/base",
            "_view_module_version": "1.2.0",
            "_view_name": "StyleView",
            "description_width": ""
          }
        },
        "fba6472590f14e3b9badf56e44726597": {
          "model_module": "@jupyter-widgets/controls",
          "model_module_version": "1.5.0",
          "model_name": "HTMLModel",
          "state": {
            "_dom_classes": [],
            "_model_module": "@jupyter-widgets/controls",
            "_model_module_version": "1.5.0",
            "_model_name": "HTMLModel",
            "_view_count": null,
            "_view_module": "@jupyter-widgets/controls",
            "_view_module_version": "1.5.0",
            "_view_name": "HTMLView",
            "description": "",
            "description_tooltip": null,
            "layout": "IPY_MODEL_c631c4cf9fd84293b2b5994d688d0300",
            "placeholder": "​",
            "style": "IPY_MODEL_dc9302b6c66d427ca3e46d79ea9689b4",
            "value": " 599M/599M [00:02&lt;00:00, 214MB/s]"
          }
        }
      }
    }
  },
  "nbformat": 4,
  "nbformat_minor": 0
}
